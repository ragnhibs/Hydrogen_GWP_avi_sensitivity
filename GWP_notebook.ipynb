{
 "cells": [
  {
   "cell_type": "markdown",
   "metadata": {},
   "source": [
    "# Calculate GWP and create tables"
   ]
  },
  {
   "cell_type": "markdown",
   "metadata": {},
   "source": [
    "The script calculates the GWP of hydrogen and methane using a steady-state perturbation approach. This build on Sand et al. 2023, and use the same method to calculate GWP for different sensitivity tests using the OsloCTM3 model.\n",
    "\n",
    "**Sensitivity tests**:\n",
    "- **Size of perturbation**\n",
    "- **Location of pertubation**\n",
    "- **Sensitivity of chemical background**\n",
    "\n",
    "\n",
    "For all tests, a set of three simulations are used:\n",
    "- **CTRL**: fixed emission of hydrogen and surface concentration of methane\n",
    "- **pertH2**: as CTRL, but with surface H2 increased. Run to steady state.\n",
    "- **10CH4**: as CTRL, but with surface CH4 increased by 10%. Run to steady state.\n",
    "\n",
    "For 10CH4 a separate control simulations for the two first set of sensitivity tests are used.\n",
    "\n",
    "GWP is the ratio of the absolute global warming potential (AGWP) for hydrogen to that for CO2. AGWP is defined as the time-integrated radiative forcing to a 1 kg pulse emission of that gas over a given time horizon, here 100 years. \n",
    "\n",
    "AGWP is equal to the steady-state radiative forcing (W m-2) divided by the delta flux (Tg-H2 yr-1) for a perturbed vs control. This delta flux between the perturbed (10H2 or 10CH4) and the control simulation (CTRL) includes chemical feedbacks. \n",
    "\n",
    "Based on the three set of simulations, we calculate the radiative forcing in the perturbed relative to the control. As the model is run with fixed surface concentration of methane, we need to have a separate perturbed methane run. We calculate the radiative forcing per Tg-CH4 (including the feedbacks, as feedbacks are included in the delta flux) for the methane perturbed run, and map the changes in the methane loss in the hydrogen perturbation with the results from the methane perturbed run. \n"
   ]
  },
  {
   "cell_type": "markdown",
   "metadata": {},
   "source": [
    "#### OUTLINE:\n",
    "**PART I: Read model results**\n",
    "\n",
    "**PART II: GWP calculations**\n",
    "\n",
    "**PART III: Main results and tabels**\n",
    "\n",
    "**Appendix with additional results**\n",
    "\n",
    "\n",
    "This is the main notebook for the GWP calculations. Plotting are done in separate notebooks. "
   ]
  },
  {
   "cell_type": "code",
   "execution_count": 1,
   "metadata": {},
   "outputs": [],
   "source": [
    "import numpy as np\n",
    "import pandas as pd\n",
    "pd.set_option('display.float_format', lambda x: '{:,.4f}'.format(x) if abs(x)<0 else ('{:,.2f}'.format(x) if abs(x)<10 else ('{:,.1f}'.format(x) if abs(x)<100 else '{:,.0f}'.format(x))))"
   ]
  },
  {
   "cell_type": "markdown",
   "metadata": {},
   "source": [
    "Input and output path:"
   ]
  },
  {
   "cell_type": "code",
   "execution_count": 2,
   "metadata": {},
   "outputs": [],
   "source": [
    "path = r\"./input/\"\n",
    "pathssp = r\"./input_ssp/\"\n",
    "outputpath= r\"./output/\""
   ]
  },
  {
   "cell_type": "markdown",
   "metadata": {},
   "source": [
    "Constants:"
   ]
  },
  {
   "cell_type": "code",
   "execution_count": 3,
   "metadata": {},
   "outputs": [
    {
     "data": {
      "text/plain": [
       "0.38528"
      ]
     },
     "execution_count": 3,
     "metadata": {},
     "output_type": "execute_result"
    }
   ],
   "source": [
    "#AGWP100_CO2 [mW yr m-2 Tg-1] Source: Table 7.SM.6 in IPCC AR6: 0.0895 pW m-2 yr kg-1 (p=10^-12) \n",
    "agwp100_CO2 = 0.0895\n",
    "\n",
    "#CH4 tau_strat[yr] \n",
    "tau_strat = 120.0*2.0 #Multiplied by two for not double counting OH loss in stratosphere. \n",
    "\n",
    "#CH4 tau_soil [yr] \n",
    "tau_soil = 160.0\n",
    "\n",
    "#Specific RF for CH4 [mW m-2 ppb-1] Etminan et al., 2016\n",
    "spec_rf_ch4 = 0.44800\n",
    "\n",
    "#The adjustment is –14% ± 15% IPCC AR6\n",
    "spec_rf_ch4 = spec_rf_ch4*(1.0-0.14)\n",
    "spec_rf_ch4"
   ]
  },
  {
   "cell_type": "markdown",
   "metadata": {},
   "source": [
    "# Part I: Read model results"
   ]
  },
  {
   "cell_type": "markdown",
   "metadata": {},
   "source": [
    "In this part, model results are read from the input files."
   ]
  },
  {
   "cell_type": "markdown",
   "metadata": {},
   "source": [
    "## 1. Hydrogen budget"
   ]
  },
  {
   "cell_type": "markdown",
   "metadata": {},
   "source": [
    "### 1.1 H2 burden [Tg]:"
   ]
  },
  {
   "cell_type": "code",
   "execution_count": 4,
   "metadata": {},
   "outputs": [
    {
     "data": {
      "text/plain": [
       "Scenario\n",
       "CTRL    195\n",
       "10H2    NaN\n",
       "10CH4   196\n",
       "Name: OSLOCTM3, dtype: float64"
      ]
     },
     "execution_count": 4,
     "metadata": {},
     "output_type": "execute_result"
    }
   ],
   "source": [
    "file = 'H2_burden.txt'\n",
    "df_h2_burden = pd.read_csv(path + file, sep=';',index_col=0,header=0)\n",
    "#delta = df_h2_burden.loc['10H2']-df_h2_burden.loc['CTRL']\n",
    "#delta.name = 'deltaH2'\n",
    "#df_h2_burden_conc = df_h2_burden.append(delta)\n",
    "df_h2_burden_conc = df_h2_burden['OSLOCTM3']\n",
    "df_h2_burden_conc"
   ]
  },
  {
   "cell_type": "code",
   "execution_count": 5,
   "metadata": {},
   "outputs": [
    {
     "data": {
      "text/html": [
       "<div>\n",
       "<style scoped>\n",
       "    .dataframe tbody tr th:only-of-type {\n",
       "        vertical-align: middle;\n",
       "    }\n",
       "\n",
       "    .dataframe tbody tr th {\n",
       "        vertical-align: top;\n",
       "    }\n",
       "\n",
       "    .dataframe thead th {\n",
       "        text-align: right;\n",
       "    }\n",
       "</style>\n",
       "<table border=\"1\" class=\"dataframe\">\n",
       "  <thead>\n",
       "    <tr style=\"text-align: right;\">\n",
       "      <th></th>\n",
       "      <th>CNTR</th>\n",
       "      <th>antro1</th>\n",
       "      <th>H2_avi</th>\n",
       "    </tr>\n",
       "    <tr>\n",
       "      <th>Scenario</th>\n",
       "      <th></th>\n",
       "      <th></th>\n",
       "      <th></th>\n",
       "    </tr>\n",
       "  </thead>\n",
       "  <tbody>\n",
       "    <tr>\n",
       "      <th>YR4</th>\n",
       "      <td>205</td>\n",
       "      <td>207</td>\n",
       "      <td>206</td>\n",
       "    </tr>\n",
       "    <tr>\n",
       "      <th>deltaH2</th>\n",
       "      <td>0.00</td>\n",
       "      <td>2.02</td>\n",
       "      <td>1.61</td>\n",
       "    </tr>\n",
       "  </tbody>\n",
       "</table>\n",
       "</div>"
      ],
      "text/plain": [
       "          CNTR  antro1  H2_avi\n",
       "Scenario                      \n",
       "YR4        205     207     206\n",
       "deltaH2   0.00    2.02    1.61"
      ]
     },
     "execution_count": 5,
     "metadata": {},
     "output_type": "execute_result"
    }
   ],
   "source": [
    "file = 'OSLOCTM3-emi_burden-H2.csv'\n",
    "df_h2_burden = pd.read_csv(path + file, sep=',',index_col=0,header=0)\n",
    "#delta = df_h2_burden.loc['10H2']-df_h2_burden.loc['CTRL']\n",
    "#delta.name = 'deltaH2'\n",
    "df_h2_burden.loc['deltaH2'] = df_h2_burden.iloc[0]-df_h2_burden['CNTR'].iloc[0]\n",
    "df_h2_burden\n",
    " "
   ]
  },
  {
   "cell_type": "code",
   "execution_count": 6,
   "metadata": {},
   "outputs": [
    {
     "name": "stderr",
     "output_type": "stream",
     "text": [
      "/tmp/ipykernel_2927/3946670128.py:8: FutureWarning: ChainedAssignmentError: behaviour will change in pandas 3.0!\n",
      "You are setting values through chained assignment. Currently this works in certain cases, but when using Copy-on-Write (which will become the default behaviour in pandas 3.0) this will never work to update the original DataFrame or Series, because the intermediate object on which we are setting values will behave as a copy.\n",
      "A typical example is when you are setting values in a column of a DataFrame, like:\n",
      "\n",
      "df[\"col\"][row_indexer] = value\n",
      "\n",
      "Use `df.loc[row_indexer, \"col\"] = values` instead, to perform the assignment in a single step and ensure this keeps updating the original `df`.\n",
      "\n",
      "See the caveats in the documentation: https://pandas.pydata.org/pandas-docs/stable/user_guide/indexing.html#returning-a-view-versus-a-copy\n",
      "\n",
      "  df_h2_burden_ssp[name].loc['deltaH2'] = df_h2_burden_ssp[name].iloc[0]-df_h2_burden_ssp['CNTR_'+ssp].iloc[0]\n",
      "/tmp/ipykernel_2927/3946670128.py:10: FutureWarning: ChainedAssignmentError: behaviour will change in pandas 3.0!\n",
      "You are setting values through chained assignment. Currently this works in certain cases, but when using Copy-on-Write (which will become the default behaviour in pandas 3.0) this will never work to update the original DataFrame or Series, because the intermediate object on which we are setting values will behave as a copy.\n",
      "A typical example is when you are setting values in a column of a DataFrame, like:\n",
      "\n",
      "df[\"col\"][row_indexer] = value\n",
      "\n",
      "Use `df.loc[row_indexer, \"col\"] = values` instead, to perform the assignment in a single step and ensure this keeps updating the original `df`.\n",
      "\n",
      "See the caveats in the documentation: https://pandas.pydata.org/pandas-docs/stable/user_guide/indexing.html#returning-a-view-versus-a-copy\n",
      "\n",
      "  df_h2_burden_ssp[name].loc['deltaH2'] = df_h2_burden_ssp[name].iloc[0]-df_h2_burden_ssp['CNTR_'+ssp].iloc[0]\n",
      "/tmp/ipykernel_2927/3946670128.py:12: FutureWarning: ChainedAssignmentError: behaviour will change in pandas 3.0!\n",
      "You are setting values through chained assignment. Currently this works in certain cases, but when using Copy-on-Write (which will become the default behaviour in pandas 3.0) this will never work to update the original DataFrame or Series, because the intermediate object on which we are setting values will behave as a copy.\n",
      "A typical example is when you are setting values in a column of a DataFrame, like:\n",
      "\n",
      "df[\"col\"][row_indexer] = value\n",
      "\n",
      "Use `df.loc[row_indexer, \"col\"] = values` instead, to perform the assignment in a single step and ensure this keeps updating the original `df`.\n",
      "\n",
      "See the caveats in the documentation: https://pandas.pydata.org/pandas-docs/stable/user_guide/indexing.html#returning-a-view-versus-a-copy\n",
      "\n",
      "  df_h2_burden_ssp[name].loc['deltaH2'] = df_h2_burden_ssp[name].iloc[0]-df_h2_burden_ssp['CNTR_'+ssp].iloc[0]\n"
     ]
    },
    {
     "data": {
      "text/html": [
       "<div>\n",
       "<style scoped>\n",
       "    .dataframe tbody tr th:only-of-type {\n",
       "        vertical-align: middle;\n",
       "    }\n",
       "\n",
       "    .dataframe tbody tr th {\n",
       "        vertical-align: top;\n",
       "    }\n",
       "\n",
       "    .dataframe thead th {\n",
       "        text-align: right;\n",
       "    }\n",
       "</style>\n",
       "<table border=\"1\" class=\"dataframe\">\n",
       "  <thead>\n",
       "    <tr style=\"text-align: right;\">\n",
       "      <th></th>\n",
       "      <th>10CH4_SSP119</th>\n",
       "      <th>10CH4_SSP434</th>\n",
       "      <th>10CH4_SSP585</th>\n",
       "      <th>CNTR_SSP119</th>\n",
       "      <th>CNTR_SSP434</th>\n",
       "      <th>CNTR_SSP585</th>\n",
       "      <th>antro10_SSP119</th>\n",
       "      <th>antro10_SSP434</th>\n",
       "      <th>antro10_SSP585</th>\n",
       "    </tr>\n",
       "    <tr>\n",
       "      <th>Scenario</th>\n",
       "      <th></th>\n",
       "      <th></th>\n",
       "      <th></th>\n",
       "      <th></th>\n",
       "      <th></th>\n",
       "      <th></th>\n",
       "      <th></th>\n",
       "      <th></th>\n",
       "      <th></th>\n",
       "    </tr>\n",
       "  </thead>\n",
       "  <tbody>\n",
       "    <tr>\n",
       "      <th>YR13</th>\n",
       "      <td>188</td>\n",
       "      <td>235</td>\n",
       "      <td>245</td>\n",
       "      <td>181</td>\n",
       "      <td>225</td>\n",
       "      <td>234</td>\n",
       "      <td>203</td>\n",
       "      <td>247</td>\n",
       "      <td>256</td>\n",
       "    </tr>\n",
       "    <tr>\n",
       "      <th>deltaH2</th>\n",
       "      <td>7.15</td>\n",
       "      <td>9.96</td>\n",
       "      <td>11.1</td>\n",
       "      <td>0.00</td>\n",
       "      <td>0.00</td>\n",
       "      <td>0.00</td>\n",
       "      <td>21.8</td>\n",
       "      <td>22.4</td>\n",
       "      <td>22.0</td>\n",
       "    </tr>\n",
       "  </tbody>\n",
       "</table>\n",
       "</div>"
      ],
      "text/plain": [
       "          10CH4_SSP119  10CH4_SSP434  10CH4_SSP585  CNTR_SSP119  CNTR_SSP434  \\\n",
       "Scenario                                                                       \n",
       "YR13               188           235           245          181          225   \n",
       "deltaH2           7.15          9.96          11.1         0.00         0.00   \n",
       "\n",
       "          CNTR_SSP585  antro10_SSP119  antro10_SSP434  antro10_SSP585  \n",
       "Scenario                                                               \n",
       "YR13              234             203             247             256  \n",
       "deltaH2          0.00            21.8            22.4            22.0  "
      ]
     },
     "execution_count": 6,
     "metadata": {},
     "output_type": "execute_result"
    }
   ],
   "source": [
    "file = 'OSLOCTM3-emi_burden-H2.csv'\n",
    "df_h2_burden_ssp = pd.read_csv(pathssp + file, sep=',',index_col=0,header=0)\n",
    "\n",
    "ssps = ['SSP119','SSP434','SSP585']\n",
    "df_h2_burden_ssp.loc['deltaH2'] = np.nan\n",
    "for ssp in ssps:\n",
    "    name = '10CH4_'+ssp\n",
    "    df_h2_burden_ssp[name].loc['deltaH2'] = df_h2_burden_ssp[name].iloc[0]-df_h2_burden_ssp['CNTR_'+ssp].iloc[0]\n",
    "    name = 'antro10_'+ssp\n",
    "    df_h2_burden_ssp[name].loc['deltaH2'] = df_h2_burden_ssp[name].iloc[0]-df_h2_burden_ssp['CNTR_'+ssp].iloc[0]\n",
    "    name = 'CNTR_'+ssp\n",
    "    df_h2_burden_ssp[name].loc['deltaH2'] = df_h2_burden_ssp[name].iloc[0]-df_h2_burden_ssp['CNTR_'+ssp].iloc[0]\n",
    "\n",
    "df_h2_burden_ssp\n",
    " \n"
   ]
  },
  {
   "cell_type": "markdown",
   "metadata": {},
   "source": [
    "### 1.2 H2 loss\n",
    "Hydrogen loss happens through two main processes. The largest loss is through soil sink. Remaining hydrogen is lost through reactions with OH as it ascends through the atmosphere. "
   ]
  },
  {
   "cell_type": "markdown",
   "metadata": {},
   "source": [
    "#### H2 soil sink [Tg/yr]"
   ]
  },
  {
   "cell_type": "code",
   "execution_count": 7,
   "metadata": {},
   "outputs": [
    {
     "data": {
      "text/plain": [
       "Scenario\n",
       "CTRL    59.5\n",
       "10H2    0.00\n",
       "10CH4   59.5\n",
       "Name: OSLOCTM3, dtype: float64"
      ]
     },
     "execution_count": 7,
     "metadata": {},
     "output_type": "execute_result"
    }
   ],
   "source": [
    "file = 'H2_drydep.txt'\n",
    "df_h2_drydep_conc = pd.read_csv(path + file, sep=';',index_col=0,header=0)\n",
    "df_h2_drydep_conc = df_h2_drydep_conc['OSLOCTM3']\n",
    "df_h2_drydep_conc"
   ]
  },
  {
   "cell_type": "code",
   "execution_count": 8,
   "metadata": {},
   "outputs": [
    {
     "data": {
      "text/plain": [
       "CNTR     58.0\n",
       "antro1   58.7\n",
       "H2_avi   58.5\n",
       "Name: Drydeposition, dtype: float64"
      ]
     },
     "execution_count": 8,
     "metadata": {},
     "output_type": "execute_result"
    }
   ],
   "source": [
    "file = 'OSLOCTM3-emi_prod-loss-H2_all_YR4.csv'\n",
    "df_h2_prodloss = pd.read_csv(path + file, sep=',',index_col=0,header=0)\n",
    "df_h2_drydep = df_h2_prodloss.loc['Drydeposition']\n",
    "df_h2_drydep"
   ]
  },
  {
   "cell_type": "code",
   "execution_count": 9,
   "metadata": {},
   "outputs": [
    {
     "data": {
      "text/plain": [
       "10CH4_SSP119     53.4\n",
       "10CH4_SSP434     66.1\n",
       "10CH4_SSP585     68.9\n",
       "CNTR_SSP119      51.5\n",
       "CNTR_SSP434      63.5\n",
       "CNTR_SSP585      66.0\n",
       "antro10_SSP119   58.5\n",
       "antro10_SSP434   70.7\n",
       "antro10_SSP585   73.0\n",
       "Name: Drydeposition, dtype: float64"
      ]
     },
     "execution_count": 9,
     "metadata": {},
     "output_type": "execute_result"
    }
   ],
   "source": [
    "file = 'OSLOCTM3-emi_prod-loss-H2_all_YR13.csv'\n",
    "df_h2_prodloss_ssp = pd.read_csv(pathssp + file, sep=',',index_col=0,header=0)\n",
    "df_h2_drydep_ssp = df_h2_prodloss_ssp.loc['Drydeposition']\n",
    "df_h2_drydep_ssp"
   ]
  },
  {
   "cell_type": "markdown",
   "metadata": {},
   "source": [
    "#### H2 atmospheric loss [Tg/yr]"
   ]
  },
  {
   "cell_type": "code",
   "execution_count": 10,
   "metadata": {},
   "outputs": [
    {
     "data": {
      "text/plain": [
       "Scenario\n",
       "CTRL    27.9\n",
       "10H2    0.00\n",
       "10CH4   27.2\n",
       "Name: OSLOCTM3, dtype: float64"
      ]
     },
     "execution_count": 10,
     "metadata": {},
     "output_type": "execute_result"
    }
   ],
   "source": [
    "file = 'H2_atm_loss.txt'\n",
    "df_h2_atmloss_conc = pd.read_csv(path + file, sep=';',index_col=0,header=0)\n",
    "df_h2_atmloss_conc = df_h2_atmloss_conc['OSLOCTM3']\n",
    "df_h2_atmloss_conc\n"
   ]
  },
  {
   "cell_type": "code",
   "execution_count": 11,
   "metadata": {},
   "outputs": [
    {
     "data": {
      "text/plain": [
       "CNTR     29.2\n",
       "antro1   29.4\n",
       "H2_avi   29.4\n",
       "dtype: float64"
      ]
     },
     "execution_count": 11,
     "metadata": {},
     "output_type": "execute_result"
    }
   ],
   "source": [
    "df_h2_atmloss = df_h2_prodloss.loc['Total loss'] - df_h2_prodloss.loc['Drydeposition']\n",
    "df_h2_atmloss"
   ]
  },
  {
   "cell_type": "code",
   "execution_count": 12,
   "metadata": {},
   "outputs": [
    {
     "data": {
      "text/plain": [
       "10CH4_SSP119     25.2\n",
       "10CH4_SSP434     28.6\n",
       "10CH4_SSP585     31.4\n",
       "CNTR_SSP119      24.9\n",
       "CNTR_SSP434      28.3\n",
       "CNTR_SSP585      31.0\n",
       "antro10_SSP119   27.8\n",
       "antro10_SSP434   31.0\n",
       "antro10_SSP585   33.8\n",
       "dtype: float64"
      ]
     },
     "execution_count": 12,
     "metadata": {},
     "output_type": "execute_result"
    }
   ],
   "source": [
    "df_h2_atmloss_ssp = df_h2_prodloss_ssp.loc['Total loss'] - df_h2_prodloss_ssp.loc['Drydeposition']\n",
    "df_h2_atmloss_ssp"
   ]
  },
  {
   "cell_type": "markdown",
   "metadata": {},
   "source": [
    "#### H2 total loss [Tg/yr]:"
   ]
  },
  {
   "cell_type": "code",
   "execution_count": 13,
   "metadata": {},
   "outputs": [
    {
     "data": {
      "text/plain": [
       "Scenario\n",
       "CTRL    87.4\n",
       "10H2    0.00\n",
       "10CH4   86.7\n",
       "Name: OSLOCTM3, dtype: float64"
      ]
     },
     "execution_count": 13,
     "metadata": {},
     "output_type": "execute_result"
    }
   ],
   "source": [
    "df_h2_loss_conc = df_h2_atmloss_conc + df_h2_drydep_conc\n",
    "df_h2_loss_conc"
   ]
  },
  {
   "cell_type": "code",
   "execution_count": 14,
   "metadata": {},
   "outputs": [
    {
     "data": {
      "text/plain": [
       "CNTR     87.2\n",
       "antro1   88.1\n",
       "H2_avi   87.9\n",
       "dtype: float64"
      ]
     },
     "execution_count": 14,
     "metadata": {},
     "output_type": "execute_result"
    }
   ],
   "source": [
    "df_h2_loss = df_h2_atmloss+ df_h2_drydep\n",
    "df_h2_loss"
   ]
  },
  {
   "cell_type": "code",
   "execution_count": 15,
   "metadata": {},
   "outputs": [
    {
     "data": {
      "text/plain": [
       "10CH4_SSP119     78.6\n",
       "10CH4_SSP434     94.8\n",
       "10CH4_SSP585      100\n",
       "CNTR_SSP119      76.4\n",
       "CNTR_SSP434      91.8\n",
       "CNTR_SSP585      97.0\n",
       "antro10_SSP119   86.4\n",
       "antro10_SSP434    102\n",
       "antro10_SSP585    107\n",
       "dtype: float64"
      ]
     },
     "execution_count": 15,
     "metadata": {},
     "output_type": "execute_result"
    }
   ],
   "source": [
    "df_h2_loss_ssp = df_h2_atmloss_ssp+ df_h2_drydep_ssp\n",
    "df_h2_loss_ssp"
   ]
  },
  {
   "cell_type": "markdown",
   "metadata": {},
   "source": [
    "### 1.3 H2 production"
   ]
  },
  {
   "cell_type": "markdown",
   "metadata": {},
   "source": [
    "#### H2 atm. prod [Tg/yr]"
   ]
  },
  {
   "cell_type": "code",
   "execution_count": 16,
   "metadata": {},
   "outputs": [
    {
     "data": {
      "text/plain": [
       "Scenario\n",
       "CTRL    55.9\n",
       "10H2    0.00\n",
       "10CH4   58.7\n",
       "Name: OSLOCTM3, dtype: float64"
      ]
     },
     "execution_count": 16,
     "metadata": {},
     "output_type": "execute_result"
    }
   ],
   "source": [
    "file = 'H2_atm_prod.txt'\n",
    "df_h2_atmprod_conc = pd.read_csv(path + file, sep=';',index_col=0,header=0)\n",
    "df_h2_atmprod_conc = df_h2_atmprod_conc['OSLOCTM3']\n",
    "df_h2_atmprod_conc"
   ]
  },
  {
   "cell_type": "code",
   "execution_count": 17,
   "metadata": {},
   "outputs": [
    {
     "data": {
      "text/html": [
       "<div>\n",
       "<style scoped>\n",
       "    .dataframe tbody tr th:only-of-type {\n",
       "        vertical-align: middle;\n",
       "    }\n",
       "\n",
       "    .dataframe tbody tr th {\n",
       "        vertical-align: top;\n",
       "    }\n",
       "\n",
       "    .dataframe thead th {\n",
       "        text-align: right;\n",
       "    }\n",
       "</style>\n",
       "<table border=\"1\" class=\"dataframe\">\n",
       "  <thead>\n",
       "    <tr style=\"text-align: right;\">\n",
       "      <th></th>\n",
       "      <th>CNTR</th>\n",
       "      <th>antro1</th>\n",
       "      <th>H2_avi</th>\n",
       "    </tr>\n",
       "  </thead>\n",
       "  <tbody>\n",
       "    <tr>\n",
       "      <th>Total emission [Tg]</th>\n",
       "      <td>32.2</td>\n",
       "      <td>33.2</td>\n",
       "      <td>33.2</td>\n",
       "    </tr>\n",
       "  </tbody>\n",
       "</table>\n",
       "</div>"
      ],
      "text/plain": [
       "                     CNTR  antro1  H2_avi\n",
       "Total emission [Tg]  32.2    33.2    33.2"
      ]
     },
     "execution_count": 17,
     "metadata": {},
     "output_type": "execute_result"
    }
   ],
   "source": [
    "file = 'OSLOCTM3-emi_emissions_H2.csv'\n",
    "df_h2_emis = pd.read_csv(path + file, sep=',',index_col=0,header=0)\n",
    "df_h2_emis"
   ]
  },
  {
   "cell_type": "code",
   "execution_count": 18,
   "metadata": {},
   "outputs": [
    {
     "data": {
      "text/html": [
       "<div>\n",
       "<style scoped>\n",
       "    .dataframe tbody tr th:only-of-type {\n",
       "        vertical-align: middle;\n",
       "    }\n",
       "\n",
       "    .dataframe tbody tr th {\n",
       "        vertical-align: top;\n",
       "    }\n",
       "\n",
       "    .dataframe thead th {\n",
       "        text-align: right;\n",
       "    }\n",
       "</style>\n",
       "<table border=\"1\" class=\"dataframe\">\n",
       "  <thead>\n",
       "    <tr style=\"text-align: right;\">\n",
       "      <th></th>\n",
       "      <th>10CH4_SSP119</th>\n",
       "      <th>10CH4_SSP434</th>\n",
       "      <th>10CH4_SSP585</th>\n",
       "      <th>CNTR_SSP119</th>\n",
       "      <th>CNTR_SSP434</th>\n",
       "      <th>CNTR_SSP585</th>\n",
       "      <th>antro10_SSP119</th>\n",
       "      <th>antro10_SSP434</th>\n",
       "      <th>antro10_SSP585</th>\n",
       "    </tr>\n",
       "  </thead>\n",
       "  <tbody>\n",
       "    <tr>\n",
       "      <th>Total emission [Tg]</th>\n",
       "      <td>32.2</td>\n",
       "      <td>32.2</td>\n",
       "      <td>32.2</td>\n",
       "      <td>32.2</td>\n",
       "      <td>32.2</td>\n",
       "      <td>32.2</td>\n",
       "      <td>42.3</td>\n",
       "      <td>42.3</td>\n",
       "      <td>42.3</td>\n",
       "    </tr>\n",
       "  </tbody>\n",
       "</table>\n",
       "</div>"
      ],
      "text/plain": [
       "                     10CH4_SSP119  10CH4_SSP434  10CH4_SSP585  CNTR_SSP119  \\\n",
       "Total emission [Tg]          32.2          32.2          32.2         32.2   \n",
       "\n",
       "                     CNTR_SSP434  CNTR_SSP585  antro10_SSP119  antro10_SSP434  \\\n",
       "Total emission [Tg]         32.2         32.2            42.3            42.3   \n",
       "\n",
       "                     antro10_SSP585  \n",
       "Total emission [Tg]            42.3  "
      ]
     },
     "execution_count": 18,
     "metadata": {},
     "output_type": "execute_result"
    }
   ],
   "source": [
    "file = 'OSLOCTM3-emi_emissions_H2.csv'\n",
    "df_h2_emis_ssp = pd.read_csv(pathssp + file, sep=',',index_col=0,header=0)\n",
    "df_h2_emis_ssp"
   ]
  },
  {
   "cell_type": "code",
   "execution_count": 19,
   "metadata": {},
   "outputs": [
    {
     "data": {
      "text/plain": [
       "CNTR     55.8\n",
       "antro1   55.8\n",
       "H2_avi   55.6\n",
       "dtype: float64"
      ]
     },
     "execution_count": 19,
     "metadata": {},
     "output_type": "execute_result"
    }
   ],
   "source": [
    "df_h2_atmprod = df_h2_prodloss.loc['Total production'] - df_h2_emis.iloc[0]\n",
    "df_h2_atmprod"
   ]
  },
  {
   "cell_type": "code",
   "execution_count": 20,
   "metadata": {},
   "outputs": [
    {
     "data": {
      "text/plain": [
       "10CH4_SSP119     47.2\n",
       "10CH4_SSP434     63.4\n",
       "10CH4_SSP585     69.0\n",
       "CNTR_SSP119      45.0\n",
       "CNTR_SSP434      60.4\n",
       "CNTR_SSP585      65.6\n",
       "antro10_SSP119   44.9\n",
       "antro10_SSP434   60.3\n",
       "antro10_SSP585   65.5\n",
       "dtype: float64"
      ]
     },
     "execution_count": 20,
     "metadata": {},
     "output_type": "execute_result"
    }
   ],
   "source": [
    "df_h2_atmprod_ssp = df_h2_prodloss_ssp.loc['Total production'] - df_h2_emis_ssp.iloc[0]\n",
    "df_h2_atmprod_ssp"
   ]
  },
  {
   "cell_type": "markdown",
   "metadata": {},
   "source": [
    "### 1.4 Estimated H2 emissions (Total loss = Total prod + emission)"
   ]
  },
  {
   "cell_type": "code",
   "execution_count": 21,
   "metadata": {},
   "outputs": [
    {
     "data": {
      "text/plain": [
       "Scenario\n",
       "CTRL    31.5\n",
       "10H2    0.00\n",
       "10CH4   28.0\n",
       "Name: OSLOCTM3, dtype: float64"
      ]
     },
     "execution_count": 21,
     "metadata": {},
     "output_type": "execute_result"
    }
   ],
   "source": [
    "df_h2_estemis_conc = df_h2_atmloss_conc + df_h2_drydep_conc - df_h2_atmprod_conc\n",
    "df_h2_estemis_conc"
   ]
  },
  {
   "cell_type": "code",
   "execution_count": 22,
   "metadata": {},
   "outputs": [
    {
     "data": {
      "text/plain": [
       "CNTR     31.4\n",
       "antro1   32.3\n",
       "H2_avi   32.3\n",
       "dtype: float64"
      ]
     },
     "execution_count": 22,
     "metadata": {},
     "output_type": "execute_result"
    }
   ],
   "source": [
    "df_h2_estemis = df_h2_atmloss + df_h2_drydep - df_h2_atmprod\n",
    "df_h2_estemis"
   ]
  },
  {
   "cell_type": "code",
   "execution_count": 23,
   "metadata": {},
   "outputs": [
    {
     "data": {
      "text/plain": [
       "10CH4_SSP119     31.4\n",
       "10CH4_SSP434     31.3\n",
       "10CH4_SSP585     31.3\n",
       "CNTR_SSP119      31.4\n",
       "CNTR_SSP434      31.3\n",
       "CNTR_SSP585      31.3\n",
       "antro10_SSP119   41.4\n",
       "antro10_SSP434   41.3\n",
       "antro10_SSP585   41.3\n",
       "dtype: float64"
      ]
     },
     "execution_count": 23,
     "metadata": {},
     "output_type": "execute_result"
    }
   ],
   "source": [
    "df_h2_estemis_ssp = df_h2_atmloss_ssp + df_h2_drydep_ssp - df_h2_atmprod_ssp\n",
    "df_h2_estemis_ssp"
   ]
  },
  {
   "cell_type": "markdown",
   "metadata": {},
   "source": [
    "### 1.5 H2 surface concentration [ppb]"
   ]
  },
  {
   "cell_type": "code",
   "execution_count": 24,
   "metadata": {},
   "outputs": [
    {
     "data": {
      "text/plain": [
       "Scenario\n",
       "CTRL      532\n",
       "10H2      NaN\n",
       "deltaH2   NaN\n",
       "Name: OSLOCTM3, dtype: float64"
      ]
     },
     "execution_count": 24,
     "metadata": {},
     "output_type": "execute_result"
    }
   ],
   "source": [
    "file = 'H2_surfconc.txt'\n",
    "df_h2_surfconc_conc = pd.read_csv(path + file, sep=';',index_col=0,header=0)\n",
    "#delta = df_h2_surfconc_conc.loc['10H2']-df_h2_surfconc_conc.loc['CTRL']\n",
    "#delta.name = 'deltaH2'\n",
    "df_h2_surfconc_conc.loc['deltaH2'] = df_h2_surfconc_conc.loc['10H2']-df_h2_surfconc_conc.loc['CTRL']\n",
    "#df_h2_surfconc_conc\n",
    "#df_h2_surfconc_conc = df_h2_surfconc_conc.append(delta)\n",
    "#df_h2_surfconc_conc = pd.concat([df_h2_surfconc_conc, delta])\n",
    "df_h2_surfconc_conc = df_h2_surfconc_conc['OSLOCTM3']\n",
    "df_h2_surfconc_conc"
   ]
  },
  {
   "cell_type": "code",
   "execution_count": 25,
   "metadata": {},
   "outputs": [
    {
     "data": {
      "text/html": [
       "<div>\n",
       "<style scoped>\n",
       "    .dataframe tbody tr th:only-of-type {\n",
       "        vertical-align: middle;\n",
       "    }\n",
       "\n",
       "    .dataframe tbody tr th {\n",
       "        vertical-align: top;\n",
       "    }\n",
       "\n",
       "    .dataframe thead th {\n",
       "        text-align: right;\n",
       "    }\n",
       "</style>\n",
       "<table border=\"1\" class=\"dataframe\">\n",
       "  <thead>\n",
       "    <tr style=\"text-align: right;\">\n",
       "      <th></th>\n",
       "      <th>CNTR</th>\n",
       "      <th>antro1</th>\n",
       "      <th>H2_avi</th>\n",
       "    </tr>\n",
       "  </thead>\n",
       "  <tbody>\n",
       "    <tr>\n",
       "      <th>YR4</th>\n",
       "      <td>559</td>\n",
       "      <td>565</td>\n",
       "      <td>564</td>\n",
       "    </tr>\n",
       "    <tr>\n",
       "      <th>delta</th>\n",
       "      <td>0.00</td>\n",
       "      <td>5.92</td>\n",
       "      <td>4.56</td>\n",
       "    </tr>\n",
       "  </tbody>\n",
       "</table>\n",
       "</div>"
      ],
      "text/plain": [
       "       CNTR  antro1  H2_avi\n",
       "YR4     559     565     564\n",
       "delta  0.00    5.92    4.56"
      ]
     },
     "execution_count": 25,
     "metadata": {},
     "output_type": "execute_result"
    }
   ],
   "source": [
    "file = 'OSLOCTM3-emi_surfconc-H2.csv'\n",
    "df_h2_surfconc = pd.read_csv(path + file, sep=',',index_col=0,header=0)\n",
    "df_h2_surfconc.loc['delta'] = df_h2_surfconc.iloc[0]-df_h2_surfconc['CNTR'].iloc[0]\n",
    "df_h2_surfconc"
   ]
  },
  {
   "cell_type": "code",
   "execution_count": 26,
   "metadata": {},
   "outputs": [
    {
     "name": "stderr",
     "output_type": "stream",
     "text": [
      "/tmp/ipykernel_2927/698958631.py:9: FutureWarning: ChainedAssignmentError: behaviour will change in pandas 3.0!\n",
      "You are setting values through chained assignment. Currently this works in certain cases, but when using Copy-on-Write (which will become the default behaviour in pandas 3.0) this will never work to update the original DataFrame or Series, because the intermediate object on which we are setting values will behave as a copy.\n",
      "A typical example is when you are setting values in a column of a DataFrame, like:\n",
      "\n",
      "df[\"col\"][row_indexer] = value\n",
      "\n",
      "Use `df.loc[row_indexer, \"col\"] = values` instead, to perform the assignment in a single step and ensure this keeps updating the original `df`.\n",
      "\n",
      "See the caveats in the documentation: https://pandas.pydata.org/pandas-docs/stable/user_guide/indexing.html#returning-a-view-versus-a-copy\n",
      "\n",
      "  df_h2_surfconc_ssp[name].loc['delta'] = df_h2_surfconc_ssp[name].iloc[0]-df_h2_surfconc_ssp['CNTR_'+ssp].iloc[0]\n",
      "/tmp/ipykernel_2927/698958631.py:11: FutureWarning: ChainedAssignmentError: behaviour will change in pandas 3.0!\n",
      "You are setting values through chained assignment. Currently this works in certain cases, but when using Copy-on-Write (which will become the default behaviour in pandas 3.0) this will never work to update the original DataFrame or Series, because the intermediate object on which we are setting values will behave as a copy.\n",
      "A typical example is when you are setting values in a column of a DataFrame, like:\n",
      "\n",
      "df[\"col\"][row_indexer] = value\n",
      "\n",
      "Use `df.loc[row_indexer, \"col\"] = values` instead, to perform the assignment in a single step and ensure this keeps updating the original `df`.\n",
      "\n",
      "See the caveats in the documentation: https://pandas.pydata.org/pandas-docs/stable/user_guide/indexing.html#returning-a-view-versus-a-copy\n",
      "\n",
      "  df_h2_surfconc_ssp[name].loc['delta'] = df_h2_surfconc_ssp[name].iloc[0]-df_h2_surfconc_ssp['CNTR_'+ssp].iloc[0]\n",
      "/tmp/ipykernel_2927/698958631.py:13: FutureWarning: ChainedAssignmentError: behaviour will change in pandas 3.0!\n",
      "You are setting values through chained assignment. Currently this works in certain cases, but when using Copy-on-Write (which will become the default behaviour in pandas 3.0) this will never work to update the original DataFrame or Series, because the intermediate object on which we are setting values will behave as a copy.\n",
      "A typical example is when you are setting values in a column of a DataFrame, like:\n",
      "\n",
      "df[\"col\"][row_indexer] = value\n",
      "\n",
      "Use `df.loc[row_indexer, \"col\"] = values` instead, to perform the assignment in a single step and ensure this keeps updating the original `df`.\n",
      "\n",
      "See the caveats in the documentation: https://pandas.pydata.org/pandas-docs/stable/user_guide/indexing.html#returning-a-view-versus-a-copy\n",
      "\n",
      "  df_h2_surfconc_ssp[name].loc['delta'] = df_h2_surfconc_ssp[name].iloc[0]-df_h2_surfconc_ssp['CNTR_'+ssp].iloc[0]\n"
     ]
    },
    {
     "data": {
      "text/html": [
       "<div>\n",
       "<style scoped>\n",
       "    .dataframe tbody tr th:only-of-type {\n",
       "        vertical-align: middle;\n",
       "    }\n",
       "\n",
       "    .dataframe tbody tr th {\n",
       "        vertical-align: top;\n",
       "    }\n",
       "\n",
       "    .dataframe thead th {\n",
       "        text-align: right;\n",
       "    }\n",
       "</style>\n",
       "<table border=\"1\" class=\"dataframe\">\n",
       "  <thead>\n",
       "    <tr style=\"text-align: right;\">\n",
       "      <th></th>\n",
       "      <th>10CH4_SSP119</th>\n",
       "      <th>10CH4_SSP434</th>\n",
       "      <th>10CH4_SSP585</th>\n",
       "      <th>CNTR_SSP119</th>\n",
       "      <th>CNTR_SSP434</th>\n",
       "      <th>CNTR_SSP585</th>\n",
       "      <th>antro10_SSP119</th>\n",
       "      <th>antro10_SSP434</th>\n",
       "      <th>antro10_SSP585</th>\n",
       "    </tr>\n",
       "  </thead>\n",
       "  <tbody>\n",
       "    <tr>\n",
       "      <th>YR13</th>\n",
       "      <td>514</td>\n",
       "      <td>640</td>\n",
       "      <td>668</td>\n",
       "      <td>495</td>\n",
       "      <td>613</td>\n",
       "      <td>638</td>\n",
       "      <td>558</td>\n",
       "      <td>678</td>\n",
       "      <td>702</td>\n",
       "    </tr>\n",
       "    <tr>\n",
       "      <th>delta</th>\n",
       "      <td>19.1</td>\n",
       "      <td>26.5</td>\n",
       "      <td>29.5</td>\n",
       "      <td>0.00</td>\n",
       "      <td>0.00</td>\n",
       "      <td>0.00</td>\n",
       "      <td>63.0</td>\n",
       "      <td>64.6</td>\n",
       "      <td>63.5</td>\n",
       "    </tr>\n",
       "  </tbody>\n",
       "</table>\n",
       "</div>"
      ],
      "text/plain": [
       "       10CH4_SSP119  10CH4_SSP434  10CH4_SSP585  CNTR_SSP119  CNTR_SSP434  \\\n",
       "YR13            514           640           668          495          613   \n",
       "delta          19.1          26.5          29.5         0.00         0.00   \n",
       "\n",
       "       CNTR_SSP585  antro10_SSP119  antro10_SSP434  antro10_SSP585  \n",
       "YR13           638             558             678             702  \n",
       "delta         0.00            63.0            64.6            63.5  "
      ]
     },
     "execution_count": 26,
     "metadata": {},
     "output_type": "execute_result"
    }
   ],
   "source": [
    "file = 'OSLOCTM3-emi_surfconc-H2.csv'\n",
    "df_h2_surfconc_ssp = pd.read_csv(pathssp + file, sep=',',index_col=0,header=0)\n",
    "\n",
    "ssps = ['SSP119','SSP434','SSP585']\n",
    "df_h2_surfconc_ssp.loc['delta'] = np.nan\n",
    "df_h2_surfconc_ssp\n",
    "for ssp in ssps:\n",
    "    name = '10CH4_'+ssp\n",
    "    df_h2_surfconc_ssp[name].loc['delta'] = df_h2_surfconc_ssp[name].iloc[0]-df_h2_surfconc_ssp['CNTR_'+ssp].iloc[0]\n",
    "    name = 'antro10_'+ssp\n",
    "    df_h2_surfconc_ssp[name].loc['delta'] = df_h2_surfconc_ssp[name].iloc[0]-df_h2_surfconc_ssp['CNTR_'+ssp].iloc[0]\n",
    "    name = 'CNTR_'+ssp\n",
    "    df_h2_surfconc_ssp[name].loc['delta'] = df_h2_surfconc_ssp[name].iloc[0]-df_h2_surfconc_ssp['CNTR_'+ssp].iloc[0]\n",
    "\n",
    "df_h2_surfconc_ssp"
   ]
  },
  {
   "cell_type": "markdown",
   "metadata": {},
   "source": [
    "### 1.6 H2 lifetime [yr]\n",
    "We calculate the lifetime as burden divided by loss."
   ]
  },
  {
   "cell_type": "markdown",
   "metadata": {},
   "source": [
    "#### H2 total lifetime [yr]"
   ]
  },
  {
   "cell_type": "code",
   "execution_count": 27,
   "metadata": {},
   "outputs": [
    {
     "data": {
      "text/plain": [
       "Scenario\n",
       "CTRL    2.23\n",
       "10H2     NaN\n",
       "10CH4   2.26\n",
       "Name: OSLOCTM3, dtype: float64"
      ]
     },
     "execution_count": 27,
     "metadata": {},
     "output_type": "execute_result"
    }
   ],
   "source": [
    "df_h2_lifetime_conc = df_h2_burden_conc/df_h2_loss_conc\n",
    "df_h2_lifetime_conc\n"
   ]
  },
  {
   "cell_type": "code",
   "execution_count": 28,
   "metadata": {},
   "outputs": [
    {
     "data": {
      "text/plain": [
       "CNTR     2.35\n",
       "antro1   2.34\n",
       "H2_avi   2.35\n",
       "dtype: float64"
      ]
     },
     "execution_count": 28,
     "metadata": {},
     "output_type": "execute_result"
    }
   ],
   "source": [
    "df_h2_lifetime = df_h2_burden.iloc[0]/df_h2_loss\n",
    "df_h2_lifetime"
   ]
  },
  {
   "cell_type": "code",
   "execution_count": 29,
   "metadata": {},
   "outputs": [
    {
     "data": {
      "text/plain": [
       "10CH4_SSP119     2.39\n",
       "10CH4_SSP434     2.48\n",
       "10CH4_SSP585     2.44\n",
       "CNTR_SSP119      2.37\n",
       "CNTR_SSP434      2.45\n",
       "CNTR_SSP585      2.41\n",
       "antro10_SSP119   2.35\n",
       "antro10_SSP434   2.43\n",
       "antro10_SSP585   2.40\n",
       "dtype: float64"
      ]
     },
     "execution_count": 29,
     "metadata": {},
     "output_type": "execute_result"
    }
   ],
   "source": [
    "df_h2_lifetime_ssp = df_h2_burden_ssp.iloc[0]/df_h2_loss_ssp\n",
    "df_h2_lifetime_ssp"
   ]
  },
  {
   "cell_type": "markdown",
   "metadata": {},
   "source": [
    "#### H2 atmospheric lifetime [yr]\n",
    "The atmospheric lifetime is the burden divided by only the atmospheric loss. This is the lifetime of the fraction of hydrogen which is not dry deposited."
   ]
  },
  {
   "cell_type": "code",
   "execution_count": 30,
   "metadata": {},
   "outputs": [
    {
     "data": {
      "text/plain": [
       "Scenario\n",
       "CTRL    6.99\n",
       "10H2     NaN\n",
       "10CH4   7.20\n",
       "Name: OSLOCTM3, dtype: float64"
      ]
     },
     "execution_count": 30,
     "metadata": {},
     "output_type": "execute_result"
    }
   ],
   "source": [
    "df_h2_atm_lifetime_conc = df_h2_burden_conc/df_h2_atmloss_conc\n",
    "df_h2_atm_lifetime_conc"
   ]
  },
  {
   "cell_type": "code",
   "execution_count": 31,
   "metadata": {},
   "outputs": [
    {
     "data": {
      "text/plain": [
       "CNTR     7.02\n",
       "antro1   7.02\n",
       "H2_avi   7.02\n",
       "dtype: float64"
      ]
     },
     "execution_count": 31,
     "metadata": {},
     "output_type": "execute_result"
    }
   ],
   "source": [
    "df_h2_atm_lifetime = df_h2_burden.iloc[0]/df_h2_atmloss\n",
    "df_h2_atm_lifetime"
   ]
  },
  {
   "cell_type": "code",
   "execution_count": 32,
   "metadata": {},
   "outputs": [
    {
     "data": {
      "text/plain": [
       "10CH4_SSP119     7.48\n",
       "10CH4_SSP434     8.21\n",
       "10CH4_SSP585     7.81\n",
       "CNTR_SSP119      7.26\n",
       "CNTR_SSP434      7.95\n",
       "CNTR_SSP585      7.55\n",
       "antro10_SSP119   7.29\n",
       "antro10_SSP434   7.98\n",
       "antro10_SSP585   7.57\n",
       "dtype: float64"
      ]
     },
     "execution_count": 32,
     "metadata": {},
     "output_type": "execute_result"
    }
   ],
   "source": [
    "df_h2_atm_lifetime_ssp = df_h2_burden_ssp.iloc[0]/df_h2_atmloss_ssp\n",
    "df_h2_atm_lifetime_ssp"
   ]
  },
  {
   "cell_type": "markdown",
   "metadata": {},
   "source": [
    "#### H2 soil sink lifetime [yr]"
   ]
  },
  {
   "cell_type": "code",
   "execution_count": 33,
   "metadata": {},
   "outputs": [
    {
     "data": {
      "text/plain": [
       "Scenario\n",
       "CTRL    3.28\n",
       "10H2     NaN\n",
       "10CH4   3.29\n",
       "Name: OSLOCTM3, dtype: float64"
      ]
     },
     "execution_count": 33,
     "metadata": {},
     "output_type": "execute_result"
    }
   ],
   "source": [
    "df_h2_soil_sink_lifetime_conc = df_h2_burden_conc/df_h2_drydep_conc\n",
    "df_h2_soil_sink_lifetime_conc"
   ]
  },
  {
   "cell_type": "code",
   "execution_count": 34,
   "metadata": {},
   "outputs": [
    {
     "data": {
      "text/plain": [
       "CNTR     3.53\n",
       "antro1   3.52\n",
       "H2_avi   3.52\n",
       "dtype: float64"
      ]
     },
     "execution_count": 34,
     "metadata": {},
     "output_type": "execute_result"
    }
   ],
   "source": [
    "df_h2_soil_sink_lifetime = df_h2_burden.iloc[0]/df_h2_drydep\n",
    "df_h2_soil_sink_lifetime"
   ]
  },
  {
   "cell_type": "code",
   "execution_count": 35,
   "metadata": {},
   "outputs": [
    {
     "data": {
      "text/plain": [
       "10CH4_SSP119     3.52\n",
       "10CH4_SSP434     3.55\n",
       "10CH4_SSP585     3.56\n",
       "CNTR_SSP119      3.51\n",
       "CNTR_SSP434      3.54\n",
       "CNTR_SSP585      3.55\n",
       "antro10_SSP119   3.46\n",
       "antro10_SSP434   3.50\n",
       "antro10_SSP585   3.51\n",
       "dtype: float64"
      ]
     },
     "execution_count": 35,
     "metadata": {},
     "output_type": "execute_result"
    }
   ],
   "source": [
    "df_h2_soil_sink_lifetime_ssp = df_h2_burden_ssp.iloc[0]/df_h2_drydep_ssp\n",
    "df_h2_soil_sink_lifetime_ssp"
   ]
  },
  {
   "cell_type": "markdown",
   "metadata": {},
   "source": [
    "### 1.7 H2 flux  [Tg/yr]"
   ]
  },
  {
   "cell_type": "markdown",
   "metadata": {},
   "source": [
    "The hydrogen flux is calculated as the burden divided by the total hydrogen lifetime. \n",
    "\n",
    "The hydrogen lifetime is calculated as burden divided by the total loss (soil sink + atm.loss). \n",
    "\n",
    "The difference in calculated flux in the perturbed and control run is calculated. These numbers include feedbacks. \n",
    "\n",
    "For the GWP calculations, the radiative forcing in the steady state simulations are divided by these flux numbers."
   ]
  },
  {
   "cell_type": "code",
   "execution_count": 36,
   "metadata": {},
   "outputs": [
    {
     "data": {
      "text/plain": [
       "Scenario\n",
       "CTRL        87.4\n",
       "10H2         NaN\n",
       "10CH4       86.7\n",
       "deltaH2      NaN\n",
       "deltaCH4   -0.75\n",
       "Name: OSLOCTM3, dtype: float64"
      ]
     },
     "execution_count": 36,
     "metadata": {},
     "output_type": "execute_result"
    }
   ],
   "source": [
    "df_h2_flux_conc = df_h2_burden_conc/df_h2_lifetime_conc\n",
    "#Add delta flux 10H2:\n",
    "delta = df_h2_flux_conc.loc['10H2']-df_h2_flux_conc.loc['CTRL']\n",
    "#delta.name = 'deltaH2'\n",
    "#df_h2_flux_conc = df_h2_flux_conc.append(delta)\n",
    "df_h2_flux_conc['deltaH2'] = delta\n",
    "\n",
    "#Add delta flux 10CH4:\n",
    "delta = df_h2_flux_conc.loc['10CH4']-df_h2_flux_conc.loc['CTRL']\n",
    "#delta.name = 'deltaCH4'\n",
    "#df_h2_flux_conc = df_h2_flux_conc.append(delta)\n",
    "df_h2_flux_conc['deltaCH4'] = delta\n",
    "df_h2_flux_conc\n"
   ]
  },
  {
   "cell_type": "code",
   "execution_count": 37,
   "metadata": {},
   "outputs": [
    {
     "data": {
      "text/html": [
       "<div>\n",
       "<style scoped>\n",
       "    .dataframe tbody tr th:only-of-type {\n",
       "        vertical-align: middle;\n",
       "    }\n",
       "\n",
       "    .dataframe tbody tr th {\n",
       "        vertical-align: top;\n",
       "    }\n",
       "\n",
       "    .dataframe thead th {\n",
       "        text-align: right;\n",
       "    }\n",
       "</style>\n",
       "<table border=\"1\" class=\"dataframe\">\n",
       "  <thead>\n",
       "    <tr style=\"text-align: right;\">\n",
       "      <th></th>\n",
       "      <th>h2_flux</th>\n",
       "      <th>deltaH2</th>\n",
       "      <th>deltaCH4</th>\n",
       "    </tr>\n",
       "  </thead>\n",
       "  <tbody>\n",
       "    <tr>\n",
       "      <th>CNTR</th>\n",
       "      <td>87.2</td>\n",
       "      <td>0.00</td>\n",
       "      <td>-0.75</td>\n",
       "    </tr>\n",
       "    <tr>\n",
       "      <th>antro1</th>\n",
       "      <td>88.1</td>\n",
       "      <td>0.95</td>\n",
       "      <td>-0.75</td>\n",
       "    </tr>\n",
       "    <tr>\n",
       "      <th>H2_avi</th>\n",
       "      <td>87.9</td>\n",
       "      <td>0.71</td>\n",
       "      <td>-0.75</td>\n",
       "    </tr>\n",
       "  </tbody>\n",
       "</table>\n",
       "</div>"
      ],
      "text/plain": [
       "        h2_flux  deltaH2  deltaCH4\n",
       "CNTR       87.2     0.00     -0.75\n",
       "antro1     88.1     0.95     -0.75\n",
       "H2_avi     87.9     0.71     -0.75"
      ]
     },
     "execution_count": 37,
     "metadata": {},
     "output_type": "execute_result"
    }
   ],
   "source": [
    "df_h2_flux = df_h2_burden.iloc[0]/df_h2_lifetime\n",
    "df_h2_flux.name = 'h2_flux'\n",
    "\n",
    "delta = df_h2_flux-df_h2_flux['CNTR']\n",
    "delta.name = 'deltaH2'\n",
    "\n",
    "df_h2_flux =pd.concat([df_h2_flux,delta],axis=1)\n",
    "\n",
    "df_h2_flux['deltaCH4'] = df_h2_flux_conc['deltaCH4']\n",
    "df_h2_flux"
   ]
  },
  {
   "cell_type": "code",
   "execution_count": 38,
   "metadata": {},
   "outputs": [
    {
     "name": "stderr",
     "output_type": "stream",
     "text": [
      "/tmp/ipykernel_2927/2795338316.py:13: FutureWarning: ChainedAssignmentError: behaviour will change in pandas 3.0!\n",
      "You are setting values through chained assignment. Currently this works in certain cases, but when using Copy-on-Write (which will become the default behaviour in pandas 3.0) this will never work to update the original DataFrame or Series, because the intermediate object on which we are setting values will behave as a copy.\n",
      "A typical example is when you are setting values in a column of a DataFrame, like:\n",
      "\n",
      "df[\"col\"][row_indexer] = value\n",
      "\n",
      "Use `df.loc[row_indexer, \"col\"] = values` instead, to perform the assignment in a single step and ensure this keeps updating the original `df`.\n",
      "\n",
      "See the caveats in the documentation: https://pandas.pydata.org/pandas-docs/stable/user_guide/indexing.html#returning-a-view-versus-a-copy\n",
      "\n",
      "  df_h2_flux_ssp['deltaH2'].loc[name] = df_h2_flux_ssp['h2_flux'].loc[name]-df_h2_flux_ssp['h2_flux'].loc['CNTR_'+ssp]\n",
      "/tmp/ipykernel_2927/2795338316.py:15: FutureWarning: ChainedAssignmentError: behaviour will change in pandas 3.0!\n",
      "You are setting values through chained assignment. Currently this works in certain cases, but when using Copy-on-Write (which will become the default behaviour in pandas 3.0) this will never work to update the original DataFrame or Series, because the intermediate object on which we are setting values will behave as a copy.\n",
      "A typical example is when you are setting values in a column of a DataFrame, like:\n",
      "\n",
      "df[\"col\"][row_indexer] = value\n",
      "\n",
      "Use `df.loc[row_indexer, \"col\"] = values` instead, to perform the assignment in a single step and ensure this keeps updating the original `df`.\n",
      "\n",
      "See the caveats in the documentation: https://pandas.pydata.org/pandas-docs/stable/user_guide/indexing.html#returning-a-view-versus-a-copy\n",
      "\n",
      "  df_h2_flux_ssp['deltaH2'].loc[name] = df_h2_flux_ssp['h2_flux'].loc[name]-df_h2_flux_ssp['h2_flux'].loc['CNTR_'+ssp]\n",
      "/tmp/ipykernel_2927/2795338316.py:17: FutureWarning: ChainedAssignmentError: behaviour will change in pandas 3.0!\n",
      "You are setting values through chained assignment. Currently this works in certain cases, but when using Copy-on-Write (which will become the default behaviour in pandas 3.0) this will never work to update the original DataFrame or Series, because the intermediate object on which we are setting values will behave as a copy.\n",
      "A typical example is when you are setting values in a column of a DataFrame, like:\n",
      "\n",
      "df[\"col\"][row_indexer] = value\n",
      "\n",
      "Use `df.loc[row_indexer, \"col\"] = values` instead, to perform the assignment in a single step and ensure this keeps updating the original `df`.\n",
      "\n",
      "See the caveats in the documentation: https://pandas.pydata.org/pandas-docs/stable/user_guide/indexing.html#returning-a-view-versus-a-copy\n",
      "\n",
      "  df_h2_flux_ssp['deltaH2'].loc[name] = df_h2_flux_ssp['h2_flux'].loc[name]-df_h2_flux_ssp['h2_flux'].loc['CNTR_'+ssp]\n",
      "/tmp/ipykernel_2927/2795338316.py:13: FutureWarning: ChainedAssignmentError: behaviour will change in pandas 3.0!\n",
      "You are setting values through chained assignment. Currently this works in certain cases, but when using Copy-on-Write (which will become the default behaviour in pandas 3.0) this will never work to update the original DataFrame or Series, because the intermediate object on which we are setting values will behave as a copy.\n",
      "A typical example is when you are setting values in a column of a DataFrame, like:\n",
      "\n",
      "df[\"col\"][row_indexer] = value\n",
      "\n",
      "Use `df.loc[row_indexer, \"col\"] = values` instead, to perform the assignment in a single step and ensure this keeps updating the original `df`.\n",
      "\n",
      "See the caveats in the documentation: https://pandas.pydata.org/pandas-docs/stable/user_guide/indexing.html#returning-a-view-versus-a-copy\n",
      "\n",
      "  df_h2_flux_ssp['deltaH2'].loc[name] = df_h2_flux_ssp['h2_flux'].loc[name]-df_h2_flux_ssp['h2_flux'].loc['CNTR_'+ssp]\n",
      "/tmp/ipykernel_2927/2795338316.py:15: FutureWarning: ChainedAssignmentError: behaviour will change in pandas 3.0!\n",
      "You are setting values through chained assignment. Currently this works in certain cases, but when using Copy-on-Write (which will become the default behaviour in pandas 3.0) this will never work to update the original DataFrame or Series, because the intermediate object on which we are setting values will behave as a copy.\n",
      "A typical example is when you are setting values in a column of a DataFrame, like:\n",
      "\n",
      "df[\"col\"][row_indexer] = value\n",
      "\n",
      "Use `df.loc[row_indexer, \"col\"] = values` instead, to perform the assignment in a single step and ensure this keeps updating the original `df`.\n",
      "\n",
      "See the caveats in the documentation: https://pandas.pydata.org/pandas-docs/stable/user_guide/indexing.html#returning-a-view-versus-a-copy\n",
      "\n",
      "  df_h2_flux_ssp['deltaH2'].loc[name] = df_h2_flux_ssp['h2_flux'].loc[name]-df_h2_flux_ssp['h2_flux'].loc['CNTR_'+ssp]\n",
      "/tmp/ipykernel_2927/2795338316.py:17: FutureWarning: ChainedAssignmentError: behaviour will change in pandas 3.0!\n",
      "You are setting values through chained assignment. Currently this works in certain cases, but when using Copy-on-Write (which will become the default behaviour in pandas 3.0) this will never work to update the original DataFrame or Series, because the intermediate object on which we are setting values will behave as a copy.\n",
      "A typical example is when you are setting values in a column of a DataFrame, like:\n",
      "\n",
      "df[\"col\"][row_indexer] = value\n",
      "\n",
      "Use `df.loc[row_indexer, \"col\"] = values` instead, to perform the assignment in a single step and ensure this keeps updating the original `df`.\n",
      "\n",
      "See the caveats in the documentation: https://pandas.pydata.org/pandas-docs/stable/user_guide/indexing.html#returning-a-view-versus-a-copy\n",
      "\n",
      "  df_h2_flux_ssp['deltaH2'].loc[name] = df_h2_flux_ssp['h2_flux'].loc[name]-df_h2_flux_ssp['h2_flux'].loc['CNTR_'+ssp]\n",
      "/tmp/ipykernel_2927/2795338316.py:13: FutureWarning: ChainedAssignmentError: behaviour will change in pandas 3.0!\n",
      "You are setting values through chained assignment. Currently this works in certain cases, but when using Copy-on-Write (which will become the default behaviour in pandas 3.0) this will never work to update the original DataFrame or Series, because the intermediate object on which we are setting values will behave as a copy.\n",
      "A typical example is when you are setting values in a column of a DataFrame, like:\n",
      "\n",
      "df[\"col\"][row_indexer] = value\n",
      "\n",
      "Use `df.loc[row_indexer, \"col\"] = values` instead, to perform the assignment in a single step and ensure this keeps updating the original `df`.\n",
      "\n",
      "See the caveats in the documentation: https://pandas.pydata.org/pandas-docs/stable/user_guide/indexing.html#returning-a-view-versus-a-copy\n",
      "\n",
      "  df_h2_flux_ssp['deltaH2'].loc[name] = df_h2_flux_ssp['h2_flux'].loc[name]-df_h2_flux_ssp['h2_flux'].loc['CNTR_'+ssp]\n",
      "/tmp/ipykernel_2927/2795338316.py:15: FutureWarning: ChainedAssignmentError: behaviour will change in pandas 3.0!\n",
      "You are setting values through chained assignment. Currently this works in certain cases, but when using Copy-on-Write (which will become the default behaviour in pandas 3.0) this will never work to update the original DataFrame or Series, because the intermediate object on which we are setting values will behave as a copy.\n",
      "A typical example is when you are setting values in a column of a DataFrame, like:\n",
      "\n",
      "df[\"col\"][row_indexer] = value\n",
      "\n",
      "Use `df.loc[row_indexer, \"col\"] = values` instead, to perform the assignment in a single step and ensure this keeps updating the original `df`.\n",
      "\n",
      "See the caveats in the documentation: https://pandas.pydata.org/pandas-docs/stable/user_guide/indexing.html#returning-a-view-versus-a-copy\n",
      "\n",
      "  df_h2_flux_ssp['deltaH2'].loc[name] = df_h2_flux_ssp['h2_flux'].loc[name]-df_h2_flux_ssp['h2_flux'].loc['CNTR_'+ssp]\n",
      "/tmp/ipykernel_2927/2795338316.py:17: FutureWarning: ChainedAssignmentError: behaviour will change in pandas 3.0!\n",
      "You are setting values through chained assignment. Currently this works in certain cases, but when using Copy-on-Write (which will become the default behaviour in pandas 3.0) this will never work to update the original DataFrame or Series, because the intermediate object on which we are setting values will behave as a copy.\n",
      "A typical example is when you are setting values in a column of a DataFrame, like:\n",
      "\n",
      "df[\"col\"][row_indexer] = value\n",
      "\n",
      "Use `df.loc[row_indexer, \"col\"] = values` instead, to perform the assignment in a single step and ensure this keeps updating the original `df`.\n",
      "\n",
      "See the caveats in the documentation: https://pandas.pydata.org/pandas-docs/stable/user_guide/indexing.html#returning-a-view-versus-a-copy\n",
      "\n",
      "  df_h2_flux_ssp['deltaH2'].loc[name] = df_h2_flux_ssp['h2_flux'].loc[name]-df_h2_flux_ssp['h2_flux'].loc['CNTR_'+ssp]\n"
     ]
    },
    {
     "data": {
      "text/html": [
       "<div>\n",
       "<style scoped>\n",
       "    .dataframe tbody tr th:only-of-type {\n",
       "        vertical-align: middle;\n",
       "    }\n",
       "\n",
       "    .dataframe tbody tr th {\n",
       "        vertical-align: top;\n",
       "    }\n",
       "\n",
       "    .dataframe thead th {\n",
       "        text-align: right;\n",
       "    }\n",
       "</style>\n",
       "<table border=\"1\" class=\"dataframe\">\n",
       "  <thead>\n",
       "    <tr style=\"text-align: right;\">\n",
       "      <th></th>\n",
       "      <th>h2_flux</th>\n",
       "      <th>deltaH2</th>\n",
       "      <th>deltaCH4</th>\n",
       "    </tr>\n",
       "  </thead>\n",
       "  <tbody>\n",
       "    <tr>\n",
       "      <th>10CH4_SSP119</th>\n",
       "      <td>78.6</td>\n",
       "      <td>2.13</td>\n",
       "      <td>NaN</td>\n",
       "    </tr>\n",
       "    <tr>\n",
       "      <th>10CH4_SSP434</th>\n",
       "      <td>94.8</td>\n",
       "      <td>2.98</td>\n",
       "      <td>NaN</td>\n",
       "    </tr>\n",
       "    <tr>\n",
       "      <th>10CH4_SSP585</th>\n",
       "      <td>100</td>\n",
       "      <td>3.36</td>\n",
       "      <td>NaN</td>\n",
       "    </tr>\n",
       "    <tr>\n",
       "      <th>CNTR_SSP119</th>\n",
       "      <td>76.4</td>\n",
       "      <td>0.00</td>\n",
       "      <td>NaN</td>\n",
       "    </tr>\n",
       "    <tr>\n",
       "      <th>CNTR_SSP434</th>\n",
       "      <td>91.8</td>\n",
       "      <td>0.00</td>\n",
       "      <td>NaN</td>\n",
       "    </tr>\n",
       "    <tr>\n",
       "      <th>CNTR_SSP585</th>\n",
       "      <td>97.0</td>\n",
       "      <td>0.00</td>\n",
       "      <td>NaN</td>\n",
       "    </tr>\n",
       "    <tr>\n",
       "      <th>antro10_SSP119</th>\n",
       "      <td>86.4</td>\n",
       "      <td>9.90</td>\n",
       "      <td>NaN</td>\n",
       "    </tr>\n",
       "    <tr>\n",
       "      <th>antro10_SSP434</th>\n",
       "      <td>102</td>\n",
       "      <td>9.90</td>\n",
       "      <td>NaN</td>\n",
       "    </tr>\n",
       "    <tr>\n",
       "      <th>antro10_SSP585</th>\n",
       "      <td>107</td>\n",
       "      <td>9.89</td>\n",
       "      <td>NaN</td>\n",
       "    </tr>\n",
       "  </tbody>\n",
       "</table>\n",
       "</div>"
      ],
      "text/plain": [
       "                h2_flux  deltaH2  deltaCH4\n",
       "10CH4_SSP119       78.6     2.13       NaN\n",
       "10CH4_SSP434       94.8     2.98       NaN\n",
       "10CH4_SSP585        100     3.36       NaN\n",
       "CNTR_SSP119        76.4     0.00       NaN\n",
       "CNTR_SSP434        91.8     0.00       NaN\n",
       "CNTR_SSP585        97.0     0.00       NaN\n",
       "antro10_SSP119     86.4     9.90       NaN\n",
       "antro10_SSP434      102     9.90       NaN\n",
       "antro10_SSP585      107     9.89       NaN"
      ]
     },
     "execution_count": 38,
     "metadata": {},
     "output_type": "execute_result"
    }
   ],
   "source": [
    "df_h2_flux_ssp = df_h2_burden_ssp.iloc[0]/df_h2_lifetime_ssp\n",
    "df_h2_flux_ssp.name = 'h2_flux'\n",
    "\n",
    "df_h2_flux_ssp = df_h2_flux_ssp.to_frame()\n",
    "\n",
    "df_h2_flux_ssp['deltaH2'] = np.nan\n",
    "df_h2_flux_ssp['deltaCH4'] = np.nan\n",
    "\n",
    "ssps = ['SSP119','SSP434','SSP585']\n",
    "\n",
    "for ssp in ssps:\n",
    "    name = '10CH4_'+ssp\n",
    "    df_h2_flux_ssp['deltaH2'].loc[name] = df_h2_flux_ssp['h2_flux'].loc[name]-df_h2_flux_ssp['h2_flux'].loc['CNTR_'+ssp]\n",
    "    name = 'antro10_'+ssp\n",
    "    df_h2_flux_ssp['deltaH2'].loc[name] = df_h2_flux_ssp['h2_flux'].loc[name]-df_h2_flux_ssp['h2_flux'].loc['CNTR_'+ssp]\n",
    "    name = 'CNTR_'+ssp\n",
    "    df_h2_flux_ssp['deltaH2'].loc[name] = df_h2_flux_ssp['h2_flux'].loc[name]-df_h2_flux_ssp['h2_flux'].loc['CNTR_'+ssp]\n",
    "\n",
    "df_h2_flux_ssp"
   ]
  },
  {
   "cell_type": "markdown",
   "metadata": {},
   "source": [
    "In the methane run, the hydrogen surface concentration is kept fixed. Enhancing methane would influence H2. The hydrogen concentration would have increased, but since we run with fixed concentration, there is a negative flux to compensate. So the increased flux in H2 due to methane is -1*deltaCH4.\n",
    "\n",
    "\n",
    "For the SSP's, the methane perturbation is done on emission driven simulations, and multilpying with -1 is not necessary."
   ]
  },
  {
   "cell_type": "code",
   "execution_count": 39,
   "metadata": {},
   "outputs": [
    {
     "data": {
      "text/plain": [
       "Scenario\n",
       "CTRL    87.4\n",
       "10H2    0.00\n",
       "10CH4   86.7\n",
       "Name: OSLOCTM3, dtype: float64"
      ]
     },
     "execution_count": 39,
     "metadata": {},
     "output_type": "execute_result"
    }
   ],
   "source": [
    "#Check Fluxes equal to the loss\n",
    "df_h2_loss_conc"
   ]
  },
  {
   "cell_type": "code",
   "execution_count": 40,
   "metadata": {},
   "outputs": [
    {
     "data": {
      "text/plain": [
       "CNTR     87.2\n",
       "antro1   88.1\n",
       "H2_avi   87.9\n",
       "dtype: float64"
      ]
     },
     "execution_count": 40,
     "metadata": {},
     "output_type": "execute_result"
    }
   ],
   "source": [
    "df_h2_loss"
   ]
  },
  {
   "cell_type": "code",
   "execution_count": 41,
   "metadata": {},
   "outputs": [
    {
     "data": {
      "text/plain": [
       "10CH4_SSP119     78.6\n",
       "10CH4_SSP434     94.8\n",
       "10CH4_SSP585      100\n",
       "CNTR_SSP119      76.4\n",
       "CNTR_SSP434      91.8\n",
       "CNTR_SSP585      97.0\n",
       "antro10_SSP119   86.4\n",
       "antro10_SSP434    102\n",
       "antro10_SSP585    107\n",
       "dtype: float64"
      ]
     },
     "execution_count": 41,
     "metadata": {},
     "output_type": "execute_result"
    }
   ],
   "source": [
    "df_h2_loss_ssp"
   ]
  },
  {
   "cell_type": "markdown",
   "metadata": {},
   "source": [
    "## 2. Methane results"
   ]
  },
  {
   "cell_type": "markdown",
   "metadata": {},
   "source": [
    "### 2.1 CH4 burden [Tg]"
   ]
  },
  {
   "cell_type": "code",
   "execution_count": 42,
   "metadata": {},
   "outputs": [
    {
     "data": {
      "text/plain": [
       "Scenario\n",
       "CTRL       4,975\n",
       "10H2         NaN\n",
       "10CH4      5,474\n",
       "deltaCH4     498\n",
       "Name: OSLOCTM3, dtype: float64"
      ]
     },
     "execution_count": 42,
     "metadata": {},
     "output_type": "execute_result"
    }
   ],
   "source": [
    "file = 'CH4_burden.txt'\n",
    "df_ch4_burden_conc = pd.read_csv(path + file, sep=';',index_col=0,header=0)\n",
    "#delta = df_ch4_burden_conc.loc['10CH4']-df_ch4_burden_conc.loc['CTRL']\n",
    "#delta.name = 'deltaCH4'\n",
    "#df_ch4_burden_conc = df_ch4_burden_conc.append(delta)\n",
    "\n",
    "df_ch4_burden_conc.loc['deltaCH4'] = df_ch4_burden_conc.loc['10CH4']-df_ch4_burden_conc.loc['CTRL']\n",
    "df_ch4_burden_conc = df_ch4_burden_conc['OSLOCTM3']\n",
    "df_ch4_burden_conc"
   ]
  },
  {
   "cell_type": "code",
   "execution_count": 43,
   "metadata": {},
   "outputs": [
    {
     "data": {
      "text/html": [
       "<div>\n",
       "<style scoped>\n",
       "    .dataframe tbody tr th:only-of-type {\n",
       "        vertical-align: middle;\n",
       "    }\n",
       "\n",
       "    .dataframe tbody tr th {\n",
       "        vertical-align: top;\n",
       "    }\n",
       "\n",
       "    .dataframe thead th {\n",
       "        text-align: right;\n",
       "    }\n",
       "</style>\n",
       "<table border=\"1\" class=\"dataframe\">\n",
       "  <thead>\n",
       "    <tr style=\"text-align: right;\">\n",
       "      <th></th>\n",
       "      <th>CNTR</th>\n",
       "      <th>antro1</th>\n",
       "      <th>H2_avi</th>\n",
       "    </tr>\n",
       "    <tr>\n",
       "      <th>Scenario</th>\n",
       "      <th></th>\n",
       "      <th></th>\n",
       "      <th></th>\n",
       "    </tr>\n",
       "  </thead>\n",
       "  <tbody>\n",
       "    <tr>\n",
       "      <th>YR4</th>\n",
       "      <td>4,975</td>\n",
       "      <td>4,975</td>\n",
       "      <td>4,975</td>\n",
       "    </tr>\n",
       "    <tr>\n",
       "      <th>deltaCH4</th>\n",
       "      <td>0.00</td>\n",
       "      <td>0.01</td>\n",
       "      <td>0.01</td>\n",
       "    </tr>\n",
       "  </tbody>\n",
       "</table>\n",
       "</div>"
      ],
      "text/plain": [
       "          CNTR  antro1  H2_avi\n",
       "Scenario                      \n",
       "YR4      4,975   4,975   4,975\n",
       "deltaCH4  0.00    0.01    0.01"
      ]
     },
     "execution_count": 43,
     "metadata": {},
     "output_type": "execute_result"
    }
   ],
   "source": [
    "file = 'OSLOCTM3-emi_burden-CH4.csv'\n",
    "df_ch4_burden = pd.read_csv(path + file, sep=',',index_col=0,header=0)\n",
    "df_ch4_burden.loc['deltaCH4'] = df_ch4_burden.iloc[0]-df_ch4_burden['CNTR'].iloc[0]\n",
    "df_ch4_burden"
   ]
  },
  {
   "cell_type": "code",
   "execution_count": 44,
   "metadata": {},
   "outputs": [
    {
     "name": "stderr",
     "output_type": "stream",
     "text": [
      "/tmp/ipykernel_2927/3875004381.py:7: FutureWarning: ChainedAssignmentError: behaviour will change in pandas 3.0!\n",
      "You are setting values through chained assignment. Currently this works in certain cases, but when using Copy-on-Write (which will become the default behaviour in pandas 3.0) this will never work to update the original DataFrame or Series, because the intermediate object on which we are setting values will behave as a copy.\n",
      "A typical example is when you are setting values in a column of a DataFrame, like:\n",
      "\n",
      "df[\"col\"][row_indexer] = value\n",
      "\n",
      "Use `df.loc[row_indexer, \"col\"] = values` instead, to perform the assignment in a single step and ensure this keeps updating the original `df`.\n",
      "\n",
      "See the caveats in the documentation: https://pandas.pydata.org/pandas-docs/stable/user_guide/indexing.html#returning-a-view-versus-a-copy\n",
      "\n",
      "  df_ch4_burden_ssp[name].loc['deltaCH4'] = df_ch4_burden_ssp[name].iloc[0]-df_ch4_burden_ssp['CNTR_'+ssp].iloc[0]\n",
      "/tmp/ipykernel_2927/3875004381.py:9: FutureWarning: ChainedAssignmentError: behaviour will change in pandas 3.0!\n",
      "You are setting values through chained assignment. Currently this works in certain cases, but when using Copy-on-Write (which will become the default behaviour in pandas 3.0) this will never work to update the original DataFrame or Series, because the intermediate object on which we are setting values will behave as a copy.\n",
      "A typical example is when you are setting values in a column of a DataFrame, like:\n",
      "\n",
      "df[\"col\"][row_indexer] = value\n",
      "\n",
      "Use `df.loc[row_indexer, \"col\"] = values` instead, to perform the assignment in a single step and ensure this keeps updating the original `df`.\n",
      "\n",
      "See the caveats in the documentation: https://pandas.pydata.org/pandas-docs/stable/user_guide/indexing.html#returning-a-view-versus-a-copy\n",
      "\n",
      "  df_ch4_burden_ssp[name].loc['deltaCH4'] = df_ch4_burden_ssp[name].iloc[0]-df_ch4_burden_ssp['CNTR_'+ssp].iloc[0]\n",
      "/tmp/ipykernel_2927/3875004381.py:11: FutureWarning: ChainedAssignmentError: behaviour will change in pandas 3.0!\n",
      "You are setting values through chained assignment. Currently this works in certain cases, but when using Copy-on-Write (which will become the default behaviour in pandas 3.0) this will never work to update the original DataFrame or Series, because the intermediate object on which we are setting values will behave as a copy.\n",
      "A typical example is when you are setting values in a column of a DataFrame, like:\n",
      "\n",
      "df[\"col\"][row_indexer] = value\n",
      "\n",
      "Use `df.loc[row_indexer, \"col\"] = values` instead, to perform the assignment in a single step and ensure this keeps updating the original `df`.\n",
      "\n",
      "See the caveats in the documentation: https://pandas.pydata.org/pandas-docs/stable/user_guide/indexing.html#returning-a-view-versus-a-copy\n",
      "\n",
      "  df_ch4_burden_ssp[name].loc['deltaCH4'] = df_ch4_burden_ssp[name].iloc[0]-df_ch4_burden_ssp['CNTR_'+ssp].iloc[0]\n"
     ]
    },
    {
     "data": {
      "text/html": [
       "<div>\n",
       "<style scoped>\n",
       "    .dataframe tbody tr th:only-of-type {\n",
       "        vertical-align: middle;\n",
       "    }\n",
       "\n",
       "    .dataframe tbody tr th {\n",
       "        vertical-align: top;\n",
       "    }\n",
       "\n",
       "    .dataframe thead th {\n",
       "        text-align: right;\n",
       "    }\n",
       "</style>\n",
       "<table border=\"1\" class=\"dataframe\">\n",
       "  <thead>\n",
       "    <tr style=\"text-align: right;\">\n",
       "      <th></th>\n",
       "      <th>10CH4_SSP119</th>\n",
       "      <th>10CH4_SSP434</th>\n",
       "      <th>10CH4_SSP585</th>\n",
       "      <th>CNTR_SSP119</th>\n",
       "      <th>CNTR_SSP434</th>\n",
       "      <th>CNTR_SSP585</th>\n",
       "      <th>antro10_SSP119</th>\n",
       "      <th>antro10_SSP434</th>\n",
       "      <th>antro10_SSP585</th>\n",
       "    </tr>\n",
       "    <tr>\n",
       "      <th>Scenario</th>\n",
       "      <th></th>\n",
       "      <th></th>\n",
       "      <th></th>\n",
       "      <th></th>\n",
       "      <th></th>\n",
       "      <th></th>\n",
       "      <th></th>\n",
       "      <th></th>\n",
       "      <th></th>\n",
       "    </tr>\n",
       "  </thead>\n",
       "  <tbody>\n",
       "    <tr>\n",
       "      <th>YR13</th>\n",
       "      <td>4,309</td>\n",
       "      <td>6,715</td>\n",
       "      <td>7,385</td>\n",
       "      <td>3,916</td>\n",
       "      <td>6,104</td>\n",
       "      <td>6,713</td>\n",
       "      <td>3,916</td>\n",
       "      <td>6,104</td>\n",
       "      <td>6,713</td>\n",
       "    </tr>\n",
       "    <tr>\n",
       "      <th>deltaCH4</th>\n",
       "      <td>392</td>\n",
       "      <td>611</td>\n",
       "      <td>672</td>\n",
       "      <td>0.00</td>\n",
       "      <td>0.00</td>\n",
       "      <td>0.00</td>\n",
       "      <td>0.06</td>\n",
       "      <td>0.02</td>\n",
       "      <td>0.02</td>\n",
       "    </tr>\n",
       "  </tbody>\n",
       "</table>\n",
       "</div>"
      ],
      "text/plain": [
       "          10CH4_SSP119  10CH4_SSP434  10CH4_SSP585  CNTR_SSP119  CNTR_SSP434  \\\n",
       "Scenario                                                                       \n",
       "YR13             4,309         6,715         7,385        3,916        6,104   \n",
       "deltaCH4           392           611           672         0.00         0.00   \n",
       "\n",
       "          CNTR_SSP585  antro10_SSP119  antro10_SSP434  antro10_SSP585  \n",
       "Scenario                                                               \n",
       "YR13            6,713           3,916           6,104           6,713  \n",
       "deltaCH4         0.00            0.06            0.02            0.02  "
      ]
     },
     "execution_count": 44,
     "metadata": {},
     "output_type": "execute_result"
    }
   ],
   "source": [
    "file = 'OSLOCTM3-emi_burden-CH4.csv'\n",
    "df_ch4_burden_ssp = pd.read_csv(pathssp + file, sep=',',index_col=0,header=0)\n",
    "ssps = ['SSP119','SSP434','SSP585']\n",
    "df_ch4_burden_ssp.loc['deltaCH4'] = np.nan\n",
    "for ssp in ssps:\n",
    "    name = '10CH4_'+ssp\n",
    "    df_ch4_burden_ssp[name].loc['deltaCH4'] = df_ch4_burden_ssp[name].iloc[0]-df_ch4_burden_ssp['CNTR_'+ssp].iloc[0]\n",
    "    name = 'antro10_'+ssp\n",
    "    df_ch4_burden_ssp[name].loc['deltaCH4'] = df_ch4_burden_ssp[name].iloc[0]-df_ch4_burden_ssp['CNTR_'+ssp].iloc[0]\n",
    "    name = 'CNTR_'+ssp\n",
    "    df_ch4_burden_ssp[name].loc['deltaCH4'] = df_ch4_burden_ssp[name].iloc[0]-df_ch4_burden_ssp['CNTR_'+ssp].iloc[0]\n",
    "\n",
    "\n",
    "df_ch4_burden_ssp"
   ]
  },
  {
   "cell_type": "markdown",
   "metadata": {},
   "source": [
    "### 2.2 CH4 atmospheric loss [Tg/yr]"
   ]
  },
  {
   "cell_type": "markdown",
   "metadata": {},
   "source": [
    "This is atmospheric loss due to OH."
   ]
  },
  {
   "cell_type": "code",
   "execution_count": 45,
   "metadata": {},
   "outputs": [
    {
     "data": {
      "text/plain": [
       "Scenario\n",
       "CTRL    674\n",
       "10H2    NaN\n",
       "10CH4   719\n",
       "Name: OSLOCTM3, dtype: float64"
      ]
     },
     "execution_count": 45,
     "metadata": {},
     "output_type": "execute_result"
    }
   ],
   "source": [
    "file = 'CH4_loss.txt'\n",
    "df_ch4_loss_conc = pd.read_csv(path + file, sep=';',index_col=0,header=0)\n",
    "df_ch4_loss_conc = df_ch4_loss_conc['OSLOCTM3']\n",
    "df_ch4_loss_conc"
   ]
  },
  {
   "cell_type": "code",
   "execution_count": 46,
   "metadata": {},
   "outputs": [
    {
     "data": {
      "text/plain": [
       "CNTR     673\n",
       "antro1   673\n",
       "H2_avi   673\n",
       "Name: CH4 + OH -> H2O + CH3, dtype: float64"
      ]
     },
     "execution_count": 46,
     "metadata": {},
     "output_type": "execute_result"
    }
   ],
   "source": [
    "file = 'OSLOCTM3-emi_prod-loss-CH4_all_YR4.csv'\n",
    "df_ch4_prodloss = pd.read_csv(path + file, sep=',',index_col=0,header=0)\n",
    "df_ch4_loss=df_ch4_prodloss.loc['CH4 + OH -> H2O + CH3']\n",
    "df_ch4_loss"
   ]
  },
  {
   "cell_type": "code",
   "execution_count": 47,
   "metadata": {},
   "outputs": [
    {
     "data": {
      "text/plain": [
       "10CH4_SSP119     545\n",
       "10CH4_SSP434     769\n",
       "10CH4_SSP585     892\n",
       "CNTR_SSP119      511\n",
       "CNTR_SSP434      724\n",
       "CNTR_SSP585      841\n",
       "antro10_SSP119   508\n",
       "antro10_SSP434   721\n",
       "antro10_SSP585   837\n",
       "Name: CH4 + OH -> H2O + CH3, dtype: float64"
      ]
     },
     "execution_count": 47,
     "metadata": {},
     "output_type": "execute_result"
    }
   ],
   "source": [
    "file = 'OSLOCTM3-emi_prod-loss-CH4_all_YR13.csv'\n",
    "df_ch4_prodloss_ssp = pd.read_csv(pathssp + file, sep=',',index_col=0,header=0)\n",
    "df_ch4_loss_ssp=df_ch4_prodloss_ssp.loc['CH4 + OH -> H2O + CH3']\n",
    "df_ch4_loss_ssp"
   ]
  },
  {
   "cell_type": "markdown",
   "metadata": {},
   "source": [
    "### 2.3 CH4 surface concentration [ppb]"
   ]
  },
  {
   "cell_type": "code",
   "execution_count": 48,
   "metadata": {},
   "outputs": [
    {
     "data": {
      "text/plain": [
       "Scenario\n",
       "CTRL       1,813\n",
       "10CH4      1,994\n",
       "deltaCH4     181\n",
       "Name: OSLOCTM3, dtype: float64"
      ]
     },
     "execution_count": 48,
     "metadata": {},
     "output_type": "execute_result"
    }
   ],
   "source": [
    "file = 'CH4_surfconc.txt'\n",
    "df_ch4_surfconc_conc = pd.read_csv(path + file, sep=';',index_col=0,header=0)\n",
    "#delta = df_ch4_surfconc_conc.loc['10CH4']-df_ch4_surfconc_conc.loc['CTRL']\n",
    "#delta.name = 'deltaCH4'\n",
    "#df_ch4_surfconc_conc = df_ch4_surfconc_conc.append(delta)\n",
    "df_ch4_surfconc_conc.loc['deltaCH4'] = df_ch4_surfconc_conc.loc['10CH4']-df_ch4_surfconc_conc.loc['CTRL']\n",
    "\n",
    "df_ch4_surfconc_conc = df_ch4_surfconc_conc['OSLOCTM3']\n",
    "df_ch4_surfconc_conc"
   ]
  },
  {
   "cell_type": "code",
   "execution_count": 49,
   "metadata": {},
   "outputs": [
    {
     "data": {
      "text/html": [
       "<div>\n",
       "<style scoped>\n",
       "    .dataframe tbody tr th:only-of-type {\n",
       "        vertical-align: middle;\n",
       "    }\n",
       "\n",
       "    .dataframe tbody tr th {\n",
       "        vertical-align: top;\n",
       "    }\n",
       "\n",
       "    .dataframe thead th {\n",
       "        text-align: right;\n",
       "    }\n",
       "</style>\n",
       "<table border=\"1\" class=\"dataframe\">\n",
       "  <thead>\n",
       "    <tr style=\"text-align: right;\">\n",
       "      <th></th>\n",
       "      <th>CNTR</th>\n",
       "      <th>antro1</th>\n",
       "      <th>H2_avi</th>\n",
       "    </tr>\n",
       "  </thead>\n",
       "  <tbody>\n",
       "    <tr>\n",
       "      <th>YR4</th>\n",
       "      <td>1,813</td>\n",
       "      <td>1,813</td>\n",
       "      <td>1,813</td>\n",
       "    </tr>\n",
       "    <tr>\n",
       "      <th>delta</th>\n",
       "      <td>181</td>\n",
       "      <td>181</td>\n",
       "      <td>181</td>\n",
       "    </tr>\n",
       "  </tbody>\n",
       "</table>\n",
       "</div>"
      ],
      "text/plain": [
       "       CNTR  antro1  H2_avi\n",
       "YR4   1,813   1,813   1,813\n",
       "delta   181     181     181"
      ]
     },
     "execution_count": 49,
     "metadata": {},
     "output_type": "execute_result"
    }
   ],
   "source": [
    "file = 'OSLOCTM3-emi_surfconc-CH4.csv'\n",
    "df_ch4_surfconc = pd.read_csv(path + file, sep=',',index_col=0,header=0)\n",
    "df_ch4_surfconc.loc['delta'] = df_ch4_surfconc.iloc[0]-df_ch4_surfconc['CNTR'].iloc[0]\n",
    "df_ch4_surfconc.loc['delta'] = df_ch4_surfconc_conc['deltaCH4']\n",
    "df_ch4_surfconc"
   ]
  },
  {
   "cell_type": "code",
   "execution_count": 50,
   "metadata": {},
   "outputs": [
    {
     "name": "stderr",
     "output_type": "stream",
     "text": [
      "/tmp/ipykernel_2927/2565989243.py:9: FutureWarning: ChainedAssignmentError: behaviour will change in pandas 3.0!\n",
      "You are setting values through chained assignment. Currently this works in certain cases, but when using Copy-on-Write (which will become the default behaviour in pandas 3.0) this will never work to update the original DataFrame or Series, because the intermediate object on which we are setting values will behave as a copy.\n",
      "A typical example is when you are setting values in a column of a DataFrame, like:\n",
      "\n",
      "df[\"col\"][row_indexer] = value\n",
      "\n",
      "Use `df.loc[row_indexer, \"col\"] = values` instead, to perform the assignment in a single step and ensure this keeps updating the original `df`.\n",
      "\n",
      "See the caveats in the documentation: https://pandas.pydata.org/pandas-docs/stable/user_guide/indexing.html#returning-a-view-versus-a-copy\n",
      "\n",
      "  df_ch4_surfconc_ssp[name].loc['delta'] = df_ch4_surfconc_ssp[name].iloc[0]-df_ch4_surfconc_ssp['CNTR_'+ssp].iloc[0]\n",
      "/tmp/ipykernel_2927/2565989243.py:11: FutureWarning: ChainedAssignmentError: behaviour will change in pandas 3.0!\n",
      "You are setting values through chained assignment. Currently this works in certain cases, but when using Copy-on-Write (which will become the default behaviour in pandas 3.0) this will never work to update the original DataFrame or Series, because the intermediate object on which we are setting values will behave as a copy.\n",
      "A typical example is when you are setting values in a column of a DataFrame, like:\n",
      "\n",
      "df[\"col\"][row_indexer] = value\n",
      "\n",
      "Use `df.loc[row_indexer, \"col\"] = values` instead, to perform the assignment in a single step and ensure this keeps updating the original `df`.\n",
      "\n",
      "See the caveats in the documentation: https://pandas.pydata.org/pandas-docs/stable/user_guide/indexing.html#returning-a-view-versus-a-copy\n",
      "\n",
      "  df_ch4_surfconc_ssp[name].loc['delta'] = df_ch4_surfconc_ssp[name].iloc[0]-df_ch4_surfconc_ssp['CNTR_'+ssp].iloc[0]\n",
      "/tmp/ipykernel_2927/2565989243.py:13: FutureWarning: ChainedAssignmentError: behaviour will change in pandas 3.0!\n",
      "You are setting values through chained assignment. Currently this works in certain cases, but when using Copy-on-Write (which will become the default behaviour in pandas 3.0) this will never work to update the original DataFrame or Series, because the intermediate object on which we are setting values will behave as a copy.\n",
      "A typical example is when you are setting values in a column of a DataFrame, like:\n",
      "\n",
      "df[\"col\"][row_indexer] = value\n",
      "\n",
      "Use `df.loc[row_indexer, \"col\"] = values` instead, to perform the assignment in a single step and ensure this keeps updating the original `df`.\n",
      "\n",
      "See the caveats in the documentation: https://pandas.pydata.org/pandas-docs/stable/user_guide/indexing.html#returning-a-view-versus-a-copy\n",
      "\n",
      "  df_ch4_surfconc_ssp[name].loc['delta'] = df_ch4_surfconc_ssp[name].iloc[0]-df_ch4_surfconc_ssp['CNTR_'+ssp].iloc[0]\n"
     ]
    },
    {
     "data": {
      "text/html": [
       "<div>\n",
       "<style scoped>\n",
       "    .dataframe tbody tr th:only-of-type {\n",
       "        vertical-align: middle;\n",
       "    }\n",
       "\n",
       "    .dataframe tbody tr th {\n",
       "        vertical-align: top;\n",
       "    }\n",
       "\n",
       "    .dataframe thead th {\n",
       "        text-align: right;\n",
       "    }\n",
       "</style>\n",
       "<table border=\"1\" class=\"dataframe\">\n",
       "  <thead>\n",
       "    <tr style=\"text-align: right;\">\n",
       "      <th></th>\n",
       "      <th>10CH4_SSP119</th>\n",
       "      <th>10CH4_SSP434</th>\n",
       "      <th>10CH4_SSP585</th>\n",
       "      <th>CNTR_SSP119</th>\n",
       "      <th>CNTR_SSP434</th>\n",
       "      <th>CNTR_SSP585</th>\n",
       "      <th>antro10_SSP119</th>\n",
       "      <th>antro10_SSP434</th>\n",
       "      <th>antro10_SSP585</th>\n",
       "    </tr>\n",
       "  </thead>\n",
       "  <tbody>\n",
       "    <tr>\n",
       "      <th>YR13</th>\n",
       "      <td>1,570</td>\n",
       "      <td>2,445</td>\n",
       "      <td>2,690</td>\n",
       "      <td>1,427</td>\n",
       "      <td>2,223</td>\n",
       "      <td>2,446</td>\n",
       "      <td>1,427</td>\n",
       "      <td>2,223</td>\n",
       "      <td>2,446</td>\n",
       "    </tr>\n",
       "    <tr>\n",
       "      <th>delta</th>\n",
       "      <td>143</td>\n",
       "      <td>222</td>\n",
       "      <td>245</td>\n",
       "      <td>0.00</td>\n",
       "      <td>0.00</td>\n",
       "      <td>0.00</td>\n",
       "      <td>0.00</td>\n",
       "      <td>0.00</td>\n",
       "      <td>0.00</td>\n",
       "    </tr>\n",
       "  </tbody>\n",
       "</table>\n",
       "</div>"
      ],
      "text/plain": [
       "       10CH4_SSP119  10CH4_SSP434  10CH4_SSP585  CNTR_SSP119  CNTR_SSP434  \\\n",
       "YR13          1,570         2,445         2,690        1,427        2,223   \n",
       "delta           143           222           245         0.00         0.00   \n",
       "\n",
       "       CNTR_SSP585  antro10_SSP119  antro10_SSP434  antro10_SSP585  \n",
       "YR13         2,446           1,427           2,223           2,446  \n",
       "delta         0.00            0.00            0.00            0.00  "
      ]
     },
     "execution_count": 50,
     "metadata": {},
     "output_type": "execute_result"
    }
   ],
   "source": [
    "file = 'OSLOCTM3-emi_surfconc-CH4.csv'\n",
    "df_ch4_surfconc_ssp = pd.read_csv(pathssp + file, sep=',',index_col=0,header=0)\n",
    "\n",
    "ssps = ['SSP119','SSP434','SSP585']\n",
    "df_ch4_surfconc_ssp.loc['delta'] = np.nan\n",
    "df_ch4_surfconc_ssp\n",
    "for ssp in ssps:\n",
    "    name = '10CH4_'+ssp\n",
    "    df_ch4_surfconc_ssp[name].loc['delta'] = df_ch4_surfconc_ssp[name].iloc[0]-df_ch4_surfconc_ssp['CNTR_'+ssp].iloc[0]\n",
    "    name = 'antro10_'+ssp\n",
    "    df_ch4_surfconc_ssp[name].loc['delta'] = df_ch4_surfconc_ssp[name].iloc[0]-df_ch4_surfconc_ssp['CNTR_'+ssp].iloc[0]\n",
    "    name = 'CNTR_'+ssp\n",
    "    df_ch4_surfconc_ssp[name].loc['delta'] = df_ch4_surfconc_ssp[name].iloc[0]-df_ch4_surfconc_ssp['CNTR_'+ssp].iloc[0]\n",
    "\n",
    "df_ch4_surfconc_ssp"
   ]
  },
  {
   "cell_type": "markdown",
   "metadata": {},
   "source": [
    "### 2.4 CH4 lifetime [yr]"
   ]
  },
  {
   "cell_type": "markdown",
   "metadata": {},
   "source": [
    "#### Lifetime due to OH [yr]"
   ]
  },
  {
   "cell_type": "code",
   "execution_count": 51,
   "metadata": {
    "scrolled": true
   },
   "outputs": [
    {
     "data": {
      "text/plain": [
       "Scenario\n",
       "CTRL    7.38\n",
       "10H2     NaN\n",
       "10CH4   7.62\n",
       "Name: OSLOCTM3, dtype: float64"
      ]
     },
     "execution_count": 51,
     "metadata": {},
     "output_type": "execute_result"
    }
   ],
   "source": [
    "df_ch4_lifetime_conc = df_ch4_burden_conc.drop('deltaCH4')/df_ch4_loss_conc\n",
    "df_ch4_lifetime_conc"
   ]
  },
  {
   "cell_type": "code",
   "execution_count": 52,
   "metadata": {},
   "outputs": [
    {
     "data": {
      "text/html": [
       "<div>\n",
       "<style scoped>\n",
       "    .dataframe tbody tr th:only-of-type {\n",
       "        vertical-align: middle;\n",
       "    }\n",
       "\n",
       "    .dataframe tbody tr th {\n",
       "        vertical-align: top;\n",
       "    }\n",
       "\n",
       "    .dataframe thead th {\n",
       "        text-align: right;\n",
       "    }\n",
       "</style>\n",
       "<table border=\"1\" class=\"dataframe\">\n",
       "  <thead>\n",
       "    <tr style=\"text-align: right;\">\n",
       "      <th></th>\n",
       "      <th>CNTR</th>\n",
       "      <th>antro1</th>\n",
       "      <th>H2_avi</th>\n",
       "    </tr>\n",
       "    <tr>\n",
       "      <th>Scenario</th>\n",
       "      <th></th>\n",
       "      <th></th>\n",
       "      <th></th>\n",
       "    </tr>\n",
       "  </thead>\n",
       "  <tbody>\n",
       "    <tr>\n",
       "      <th>YR4</th>\n",
       "      <td>7.39</td>\n",
       "      <td>7.40</td>\n",
       "      <td>7.40</td>\n",
       "    </tr>\n",
       "  </tbody>\n",
       "</table>\n",
       "</div>"
      ],
      "text/plain": [
       "          CNTR  antro1  H2_avi\n",
       "Scenario                      \n",
       "YR4       7.39    7.40    7.40"
      ]
     },
     "execution_count": 52,
     "metadata": {},
     "output_type": "execute_result"
    }
   ],
   "source": [
    "df_ch4_lifetime = df_ch4_burden.drop('deltaCH4')/df_ch4_loss\n",
    "df_ch4_lifetime"
   ]
  },
  {
   "cell_type": "code",
   "execution_count": 53,
   "metadata": {},
   "outputs": [
    {
     "data": {
      "text/html": [
       "<div>\n",
       "<style scoped>\n",
       "    .dataframe tbody tr th:only-of-type {\n",
       "        vertical-align: middle;\n",
       "    }\n",
       "\n",
       "    .dataframe tbody tr th {\n",
       "        vertical-align: top;\n",
       "    }\n",
       "\n",
       "    .dataframe thead th {\n",
       "        text-align: right;\n",
       "    }\n",
       "</style>\n",
       "<table border=\"1\" class=\"dataframe\">\n",
       "  <thead>\n",
       "    <tr style=\"text-align: right;\">\n",
       "      <th></th>\n",
       "      <th>10CH4_SSP119</th>\n",
       "      <th>10CH4_SSP434</th>\n",
       "      <th>10CH4_SSP585</th>\n",
       "      <th>CNTR_SSP119</th>\n",
       "      <th>CNTR_SSP434</th>\n",
       "      <th>CNTR_SSP585</th>\n",
       "      <th>antro10_SSP119</th>\n",
       "      <th>antro10_SSP434</th>\n",
       "      <th>antro10_SSP585</th>\n",
       "    </tr>\n",
       "    <tr>\n",
       "      <th>Scenario</th>\n",
       "      <th></th>\n",
       "      <th></th>\n",
       "      <th></th>\n",
       "      <th></th>\n",
       "      <th></th>\n",
       "      <th></th>\n",
       "      <th></th>\n",
       "      <th></th>\n",
       "      <th></th>\n",
       "    </tr>\n",
       "  </thead>\n",
       "  <tbody>\n",
       "    <tr>\n",
       "      <th>YR13</th>\n",
       "      <td>7.91</td>\n",
       "      <td>8.73</td>\n",
       "      <td>8.28</td>\n",
       "      <td>7.67</td>\n",
       "      <td>8.43</td>\n",
       "      <td>7.99</td>\n",
       "      <td>7.71</td>\n",
       "      <td>8.47</td>\n",
       "      <td>8.02</td>\n",
       "    </tr>\n",
       "  </tbody>\n",
       "</table>\n",
       "</div>"
      ],
      "text/plain": [
       "          10CH4_SSP119  10CH4_SSP434  10CH4_SSP585  CNTR_SSP119  CNTR_SSP434  \\\n",
       "Scenario                                                                       \n",
       "YR13              7.91          8.73          8.28         7.67         8.43   \n",
       "\n",
       "          CNTR_SSP585  antro10_SSP119  antro10_SSP434  antro10_SSP585  \n",
       "Scenario                                                               \n",
       "YR13             7.99            7.71            8.47            8.02  "
      ]
     },
     "execution_count": 53,
     "metadata": {},
     "output_type": "execute_result"
    }
   ],
   "source": [
    "df_ch4_lifetime_ssp = df_ch4_burden_ssp.drop('deltaCH4')/df_ch4_loss_ssp\n",
    "df_ch4_lifetime_ssp"
   ]
  },
  {
   "cell_type": "markdown",
   "metadata": {},
   "source": [
    "#### Total CH4 lifetime [yr]"
   ]
  },
  {
   "cell_type": "markdown",
   "metadata": {},
   "source": [
    "Inverse lifetimes (mean loss frequencies) are additive [Forster et al.,2007; Prather, 2007]. Added lifetime due to stratospheric chemistry in addion to OH and soil sink."
   ]
  },
  {
   "cell_type": "code",
   "execution_count": 54,
   "metadata": {},
   "outputs": [
    {
     "data": {
      "text/plain": [
       "Scenario\n",
       "CTRL    6.85\n",
       "10H2     NaN\n",
       "10CH4   7.06\n",
       "Name: OSLOCTM3, dtype: float64"
      ]
     },
     "execution_count": 54,
     "metadata": {},
     "output_type": "execute_result"
    }
   ],
   "source": [
    "df_ch4_tot_lifetime_conc = 1.0/(1.0/df_ch4_lifetime_conc + 1.0/tau_strat + 1.0/tau_soil)\n",
    "df_ch4_tot_lifetime_conc"
   ]
  },
  {
   "cell_type": "code",
   "execution_count": 55,
   "metadata": {},
   "outputs": [
    {
     "data": {
      "text/html": [
       "<div>\n",
       "<style scoped>\n",
       "    .dataframe tbody tr th:only-of-type {\n",
       "        vertical-align: middle;\n",
       "    }\n",
       "\n",
       "    .dataframe tbody tr th {\n",
       "        vertical-align: top;\n",
       "    }\n",
       "\n",
       "    .dataframe thead th {\n",
       "        text-align: right;\n",
       "    }\n",
       "</style>\n",
       "<table border=\"1\" class=\"dataframe\">\n",
       "  <thead>\n",
       "    <tr style=\"text-align: right;\">\n",
       "      <th></th>\n",
       "      <th>CNTR</th>\n",
       "      <th>antro1</th>\n",
       "      <th>H2_avi</th>\n",
       "    </tr>\n",
       "    <tr>\n",
       "      <th>Scenario</th>\n",
       "      <th></th>\n",
       "      <th></th>\n",
       "      <th></th>\n",
       "    </tr>\n",
       "  </thead>\n",
       "  <tbody>\n",
       "    <tr>\n",
       "      <th>YR4</th>\n",
       "      <td>6.87</td>\n",
       "      <td>6.87</td>\n",
       "      <td>6.87</td>\n",
       "    </tr>\n",
       "  </tbody>\n",
       "</table>\n",
       "</div>"
      ],
      "text/plain": [
       "          CNTR  antro1  H2_avi\n",
       "Scenario                      \n",
       "YR4       6.87    6.87    6.87"
      ]
     },
     "execution_count": 55,
     "metadata": {},
     "output_type": "execute_result"
    }
   ],
   "source": [
    "df_ch4_tot_lifetime = 1.0/(1.0/df_ch4_lifetime + 1.0/tau_strat + 1.0/tau_soil)\n",
    "df_ch4_tot_lifetime"
   ]
  },
  {
   "cell_type": "code",
   "execution_count": 56,
   "metadata": {},
   "outputs": [
    {
     "data": {
      "text/html": [
       "<div>\n",
       "<style scoped>\n",
       "    .dataframe tbody tr th:only-of-type {\n",
       "        vertical-align: middle;\n",
       "    }\n",
       "\n",
       "    .dataframe tbody tr th {\n",
       "        vertical-align: top;\n",
       "    }\n",
       "\n",
       "    .dataframe thead th {\n",
       "        text-align: right;\n",
       "    }\n",
       "</style>\n",
       "<table border=\"1\" class=\"dataframe\">\n",
       "  <thead>\n",
       "    <tr style=\"text-align: right;\">\n",
       "      <th></th>\n",
       "      <th>10CH4_SSP119</th>\n",
       "      <th>10CH4_SSP434</th>\n",
       "      <th>10CH4_SSP585</th>\n",
       "      <th>CNTR_SSP119</th>\n",
       "      <th>CNTR_SSP434</th>\n",
       "      <th>CNTR_SSP585</th>\n",
       "      <th>antro10_SSP119</th>\n",
       "      <th>antro10_SSP434</th>\n",
       "      <th>antro10_SSP585</th>\n",
       "    </tr>\n",
       "    <tr>\n",
       "      <th>Scenario</th>\n",
       "      <th></th>\n",
       "      <th></th>\n",
       "      <th></th>\n",
       "      <th></th>\n",
       "      <th></th>\n",
       "      <th></th>\n",
       "      <th></th>\n",
       "      <th></th>\n",
       "      <th></th>\n",
       "    </tr>\n",
       "  </thead>\n",
       "  <tbody>\n",
       "    <tr>\n",
       "      <th>YR13</th>\n",
       "      <td>7.31</td>\n",
       "      <td>8.00</td>\n",
       "      <td>7.62</td>\n",
       "      <td>7.10</td>\n",
       "      <td>7.75</td>\n",
       "      <td>7.37</td>\n",
       "      <td>7.14</td>\n",
       "      <td>7.78</td>\n",
       "      <td>7.40</td>\n",
       "    </tr>\n",
       "  </tbody>\n",
       "</table>\n",
       "</div>"
      ],
      "text/plain": [
       "          10CH4_SSP119  10CH4_SSP434  10CH4_SSP585  CNTR_SSP119  CNTR_SSP434  \\\n",
       "Scenario                                                                       \n",
       "YR13              7.31          8.00          7.62         7.10         7.75   \n",
       "\n",
       "          CNTR_SSP585  antro10_SSP119  antro10_SSP434  antro10_SSP585  \n",
       "Scenario                                                               \n",
       "YR13             7.37            7.14            7.78            7.40  "
      ]
     },
     "execution_count": 56,
     "metadata": {},
     "output_type": "execute_result"
    }
   ],
   "source": [
    "df_ch4_tot_lifetime_ssp = 1.0/(1.0/df_ch4_lifetime_ssp + 1.0/tau_strat + 1.0/tau_soil)\n",
    "df_ch4_tot_lifetime_ssp"
   ]
  },
  {
   "cell_type": "markdown",
   "metadata": {},
   "source": [
    "#### Other methane loss term, dervided based on the lifetime and burden."
   ]
  },
  {
   "cell_type": "code",
   "execution_count": 57,
   "metadata": {},
   "outputs": [
    {
     "data": {
      "text/plain": [
       "Scenario\n",
       "CTRL    31.1\n",
       "10H2     NaN\n",
       "10CH4   34.2\n",
       "Name: OSLOCTM3, dtype: float64"
      ]
     },
     "execution_count": 57,
     "metadata": {},
     "output_type": "execute_result"
    }
   ],
   "source": [
    "#Soil loss:\n",
    "df_ch4_loss_soil_conc = df_ch4_burden_conc.drop('deltaCH4')/tau_soil\n",
    "df_ch4_loss_soil_conc"
   ]
  },
  {
   "cell_type": "code",
   "execution_count": 58,
   "metadata": {},
   "outputs": [
    {
     "data": {
      "text/html": [
       "<div>\n",
       "<style scoped>\n",
       "    .dataframe tbody tr th:only-of-type {\n",
       "        vertical-align: middle;\n",
       "    }\n",
       "\n",
       "    .dataframe tbody tr th {\n",
       "        vertical-align: top;\n",
       "    }\n",
       "\n",
       "    .dataframe thead th {\n",
       "        text-align: right;\n",
       "    }\n",
       "</style>\n",
       "<table border=\"1\" class=\"dataframe\">\n",
       "  <thead>\n",
       "    <tr style=\"text-align: right;\">\n",
       "      <th></th>\n",
       "      <th>CNTR</th>\n",
       "      <th>antro1</th>\n",
       "      <th>H2_avi</th>\n",
       "    </tr>\n",
       "    <tr>\n",
       "      <th>Scenario</th>\n",
       "      <th></th>\n",
       "      <th></th>\n",
       "      <th></th>\n",
       "    </tr>\n",
       "  </thead>\n",
       "  <tbody>\n",
       "    <tr>\n",
       "      <th>YR4</th>\n",
       "      <td>31.1</td>\n",
       "      <td>31.1</td>\n",
       "      <td>31.1</td>\n",
       "    </tr>\n",
       "  </tbody>\n",
       "</table>\n",
       "</div>"
      ],
      "text/plain": [
       "          CNTR  antro1  H2_avi\n",
       "Scenario                      \n",
       "YR4       31.1    31.1    31.1"
      ]
     },
     "execution_count": 58,
     "metadata": {},
     "output_type": "execute_result"
    }
   ],
   "source": [
    "df_ch4_loss_soil = df_ch4_burden.drop('deltaCH4')/tau_soil\n",
    "df_ch4_loss_soil"
   ]
  },
  {
   "cell_type": "code",
   "execution_count": 59,
   "metadata": {},
   "outputs": [
    {
     "data": {
      "text/html": [
       "<div>\n",
       "<style scoped>\n",
       "    .dataframe tbody tr th:only-of-type {\n",
       "        vertical-align: middle;\n",
       "    }\n",
       "\n",
       "    .dataframe tbody tr th {\n",
       "        vertical-align: top;\n",
       "    }\n",
       "\n",
       "    .dataframe thead th {\n",
       "        text-align: right;\n",
       "    }\n",
       "</style>\n",
       "<table border=\"1\" class=\"dataframe\">\n",
       "  <thead>\n",
       "    <tr style=\"text-align: right;\">\n",
       "      <th></th>\n",
       "      <th>10CH4_SSP119</th>\n",
       "      <th>10CH4_SSP434</th>\n",
       "      <th>10CH4_SSP585</th>\n",
       "      <th>CNTR_SSP119</th>\n",
       "      <th>CNTR_SSP434</th>\n",
       "      <th>CNTR_SSP585</th>\n",
       "      <th>antro10_SSP119</th>\n",
       "      <th>antro10_SSP434</th>\n",
       "      <th>antro10_SSP585</th>\n",
       "    </tr>\n",
       "    <tr>\n",
       "      <th>Scenario</th>\n",
       "      <th></th>\n",
       "      <th></th>\n",
       "      <th></th>\n",
       "      <th></th>\n",
       "      <th></th>\n",
       "      <th></th>\n",
       "      <th></th>\n",
       "      <th></th>\n",
       "      <th></th>\n",
       "    </tr>\n",
       "  </thead>\n",
       "  <tbody>\n",
       "    <tr>\n",
       "      <th>YR13</th>\n",
       "      <td>26.9</td>\n",
       "      <td>42.0</td>\n",
       "      <td>46.2</td>\n",
       "      <td>24.5</td>\n",
       "      <td>38.2</td>\n",
       "      <td>42.0</td>\n",
       "      <td>24.5</td>\n",
       "      <td>38.2</td>\n",
       "      <td>42.0</td>\n",
       "    </tr>\n",
       "  </tbody>\n",
       "</table>\n",
       "</div>"
      ],
      "text/plain": [
       "          10CH4_SSP119  10CH4_SSP434  10CH4_SSP585  CNTR_SSP119  CNTR_SSP434  \\\n",
       "Scenario                                                                       \n",
       "YR13              26.9          42.0          46.2         24.5         38.2   \n",
       "\n",
       "          CNTR_SSP585  antro10_SSP119  antro10_SSP434  antro10_SSP585  \n",
       "Scenario                                                               \n",
       "YR13             42.0            24.5            38.2            42.0  "
      ]
     },
     "execution_count": 59,
     "metadata": {},
     "output_type": "execute_result"
    }
   ],
   "source": [
    "df_ch4_loss_soil_ssp = df_ch4_burden_ssp.drop('deltaCH4')/tau_soil\n",
    "df_ch4_loss_soil_ssp"
   ]
  },
  {
   "cell_type": "code",
   "execution_count": 60,
   "metadata": {},
   "outputs": [
    {
     "data": {
      "text/plain": [
       "Scenario\n",
       "CTRL    20.7\n",
       "10H2     NaN\n",
       "10CH4   22.8\n",
       "Name: OSLOCTM3, dtype: float64"
      ]
     },
     "execution_count": 60,
     "metadata": {},
     "output_type": "execute_result"
    }
   ],
   "source": [
    "#Strat chemistry loss (other than OH)\n",
    "df_ch4_loss_other_strat_conc = df_ch4_burden_conc.drop('deltaCH4')/(tau_strat)\n",
    "df_ch4_loss_other_strat_conc"
   ]
  },
  {
   "cell_type": "code",
   "execution_count": 61,
   "metadata": {},
   "outputs": [
    {
     "data": {
      "text/html": [
       "<div>\n",
       "<style scoped>\n",
       "    .dataframe tbody tr th:only-of-type {\n",
       "        vertical-align: middle;\n",
       "    }\n",
       "\n",
       "    .dataframe tbody tr th {\n",
       "        vertical-align: top;\n",
       "    }\n",
       "\n",
       "    .dataframe thead th {\n",
       "        text-align: right;\n",
       "    }\n",
       "</style>\n",
       "<table border=\"1\" class=\"dataframe\">\n",
       "  <thead>\n",
       "    <tr style=\"text-align: right;\">\n",
       "      <th></th>\n",
       "      <th>CNTR</th>\n",
       "      <th>antro1</th>\n",
       "      <th>H2_avi</th>\n",
       "    </tr>\n",
       "    <tr>\n",
       "      <th>Scenario</th>\n",
       "      <th></th>\n",
       "      <th></th>\n",
       "      <th></th>\n",
       "    </tr>\n",
       "  </thead>\n",
       "  <tbody>\n",
       "    <tr>\n",
       "      <th>YR4</th>\n",
       "      <td>20.7</td>\n",
       "      <td>20.7</td>\n",
       "      <td>20.7</td>\n",
       "    </tr>\n",
       "  </tbody>\n",
       "</table>\n",
       "</div>"
      ],
      "text/plain": [
       "          CNTR  antro1  H2_avi\n",
       "Scenario                      \n",
       "YR4       20.7    20.7    20.7"
      ]
     },
     "execution_count": 61,
     "metadata": {},
     "output_type": "execute_result"
    }
   ],
   "source": [
    "df_ch4_loss_other_strat = df_ch4_burden.drop('deltaCH4')/(tau_strat)\n",
    "df_ch4_loss_other_strat"
   ]
  },
  {
   "cell_type": "code",
   "execution_count": 62,
   "metadata": {},
   "outputs": [
    {
     "data": {
      "text/html": [
       "<div>\n",
       "<style scoped>\n",
       "    .dataframe tbody tr th:only-of-type {\n",
       "        vertical-align: middle;\n",
       "    }\n",
       "\n",
       "    .dataframe tbody tr th {\n",
       "        vertical-align: top;\n",
       "    }\n",
       "\n",
       "    .dataframe thead th {\n",
       "        text-align: right;\n",
       "    }\n",
       "</style>\n",
       "<table border=\"1\" class=\"dataframe\">\n",
       "  <thead>\n",
       "    <tr style=\"text-align: right;\">\n",
       "      <th></th>\n",
       "      <th>10CH4_SSP119</th>\n",
       "      <th>10CH4_SSP434</th>\n",
       "      <th>10CH4_SSP585</th>\n",
       "      <th>CNTR_SSP119</th>\n",
       "      <th>CNTR_SSP434</th>\n",
       "      <th>CNTR_SSP585</th>\n",
       "      <th>antro10_SSP119</th>\n",
       "      <th>antro10_SSP434</th>\n",
       "      <th>antro10_SSP585</th>\n",
       "    </tr>\n",
       "    <tr>\n",
       "      <th>Scenario</th>\n",
       "      <th></th>\n",
       "      <th></th>\n",
       "      <th></th>\n",
       "      <th></th>\n",
       "      <th></th>\n",
       "      <th></th>\n",
       "      <th></th>\n",
       "      <th></th>\n",
       "      <th></th>\n",
       "    </tr>\n",
       "  </thead>\n",
       "  <tbody>\n",
       "    <tr>\n",
       "      <th>YR13</th>\n",
       "      <td>18.0</td>\n",
       "      <td>28.0</td>\n",
       "      <td>30.8</td>\n",
       "      <td>16.3</td>\n",
       "      <td>25.4</td>\n",
       "      <td>28.0</td>\n",
       "      <td>16.3</td>\n",
       "      <td>25.4</td>\n",
       "      <td>28.0</td>\n",
       "    </tr>\n",
       "  </tbody>\n",
       "</table>\n",
       "</div>"
      ],
      "text/plain": [
       "          10CH4_SSP119  10CH4_SSP434  10CH4_SSP585  CNTR_SSP119  CNTR_SSP434  \\\n",
       "Scenario                                                                       \n",
       "YR13              18.0          28.0          30.8         16.3         25.4   \n",
       "\n",
       "          CNTR_SSP585  antro10_SSP119  antro10_SSP434  antro10_SSP585  \n",
       "Scenario                                                               \n",
       "YR13             28.0            16.3            25.4            28.0  "
      ]
     },
     "execution_count": 62,
     "metadata": {},
     "output_type": "execute_result"
    }
   ],
   "source": [
    "df_ch4_loss_other_strat_ssp = df_ch4_burden_ssp.drop('deltaCH4')/(tau_strat)\n",
    "df_ch4_loss_other_strat_ssp"
   ]
  },
  {
   "cell_type": "markdown",
   "metadata": {},
   "source": [
    "### 2.5 CH4 flux  [Tg/yr]"
   ]
  },
  {
   "cell_type": "markdown",
   "metadata": {},
   "source": [
    "The methane flux is calculated as the burden divided by the total methane lifetime.\n",
    "\n",
    "The difference in calculated flux in the perturbed and control run is calculated. These numbers include feedbacks."
   ]
  },
  {
   "cell_type": "code",
   "execution_count": 63,
   "metadata": {},
   "outputs": [
    {
     "data": {
      "text/plain": [
       "Scenario\n",
       "CTRL        726\n",
       "10H2        NaN\n",
       "10CH4       776\n",
       "deltaCH4   49.7\n",
       "Name: OSLOCTM3, dtype: float64"
      ]
     },
     "execution_count": 63,
     "metadata": {},
     "output_type": "execute_result"
    }
   ],
   "source": [
    "df_ch4_flux_conc = df_ch4_burden_conc.drop('deltaCH4')/df_ch4_tot_lifetime_conc\n",
    "\n",
    "df_ch4_flux_conc['deltaCH4'] = df_ch4_flux_conc.loc['10CH4']-df_ch4_flux_conc.loc['CTRL']\n",
    "df_ch4_flux_conc"
   ]
  },
  {
   "cell_type": "code",
   "execution_count": 64,
   "metadata": {},
   "outputs": [
    {
     "data": {
      "text/html": [
       "<div>\n",
       "<style scoped>\n",
       "    .dataframe tbody tr th:only-of-type {\n",
       "        vertical-align: middle;\n",
       "    }\n",
       "\n",
       "    .dataframe tbody tr th {\n",
       "        vertical-align: top;\n",
       "    }\n",
       "\n",
       "    .dataframe thead th {\n",
       "        text-align: right;\n",
       "    }\n",
       "</style>\n",
       "<table border=\"1\" class=\"dataframe\">\n",
       "  <thead>\n",
       "    <tr style=\"text-align: right;\">\n",
       "      <th></th>\n",
       "      <th>CNTR</th>\n",
       "      <th>antro1</th>\n",
       "      <th>H2_avi</th>\n",
       "    </tr>\n",
       "    <tr>\n",
       "      <th>Scenario</th>\n",
       "      <th></th>\n",
       "      <th></th>\n",
       "      <th></th>\n",
       "    </tr>\n",
       "  </thead>\n",
       "  <tbody>\n",
       "    <tr>\n",
       "      <th>YR4</th>\n",
       "      <td>725</td>\n",
       "      <td>724</td>\n",
       "      <td>724</td>\n",
       "    </tr>\n",
       "    <tr>\n",
       "      <th>deltaH2</th>\n",
       "      <td>0.00</td>\n",
       "      <td>-0.29</td>\n",
       "      <td>-0.23</td>\n",
       "    </tr>\n",
       "    <tr>\n",
       "      <th>deltaCH4</th>\n",
       "      <td>49.7</td>\n",
       "      <td>49.7</td>\n",
       "      <td>49.7</td>\n",
       "    </tr>\n",
       "  </tbody>\n",
       "</table>\n",
       "</div>"
      ],
      "text/plain": [
       "          CNTR  antro1  H2_avi\n",
       "Scenario                      \n",
       "YR4        725     724     724\n",
       "deltaH2   0.00   -0.29   -0.23\n",
       "deltaCH4  49.7    49.7    49.7"
      ]
     },
     "execution_count": 64,
     "metadata": {},
     "output_type": "execute_result"
    }
   ],
   "source": [
    "df_ch4_flux = df_ch4_burden.drop('deltaCH4')/df_ch4_tot_lifetime\n",
    "df_ch4_flux.loc['deltaH2'] = df_ch4_flux.iloc[0]-df_ch4_flux['CNTR'].iloc[0]\n",
    "\n",
    "#Add same ch4 flux in OsloCTM3 sensitivity tests as in OsloCTM3 conc\n",
    "df_ch4_flux.loc['deltaCH4'] =  df_ch4_flux_conc['deltaCH4']\n",
    "df_ch4_flux"
   ]
  },
  {
   "cell_type": "code",
   "execution_count": 65,
   "metadata": {},
   "outputs": [
    {
     "name": "stderr",
     "output_type": "stream",
     "text": [
      "/tmp/ipykernel_2927/20625344.py:9: FutureWarning: ChainedAssignmentError: behaviour will change in pandas 3.0!\n",
      "You are setting values through chained assignment. Currently this works in certain cases, but when using Copy-on-Write (which will become the default behaviour in pandas 3.0) this will never work to update the original DataFrame or Series, because the intermediate object on which we are setting values will behave as a copy.\n",
      "A typical example is when you are setting values in a column of a DataFrame, like:\n",
      "\n",
      "df[\"col\"][row_indexer] = value\n",
      "\n",
      "Use `df.loc[row_indexer, \"col\"] = values` instead, to perform the assignment in a single step and ensure this keeps updating the original `df`.\n",
      "\n",
      "See the caveats in the documentation: https://pandas.pydata.org/pandas-docs/stable/user_guide/indexing.html#returning-a-view-versus-a-copy\n",
      "\n",
      "  df_ch4_flux_ssp.loc['deltaCH4'][name] = df_ch4_flux_ssp.iloc[0][name]-df_ch4_flux_ssp.iloc[0]['CNTR_'+ssp]\n",
      "/tmp/ipykernel_2927/20625344.py:11: FutureWarning: ChainedAssignmentError: behaviour will change in pandas 3.0!\n",
      "You are setting values through chained assignment. Currently this works in certain cases, but when using Copy-on-Write (which will become the default behaviour in pandas 3.0) this will never work to update the original DataFrame or Series, because the intermediate object on which we are setting values will behave as a copy.\n",
      "A typical example is when you are setting values in a column of a DataFrame, like:\n",
      "\n",
      "df[\"col\"][row_indexer] = value\n",
      "\n",
      "Use `df.loc[row_indexer, \"col\"] = values` instead, to perform the assignment in a single step and ensure this keeps updating the original `df`.\n",
      "\n",
      "See the caveats in the documentation: https://pandas.pydata.org/pandas-docs/stable/user_guide/indexing.html#returning-a-view-versus-a-copy\n",
      "\n",
      "  df_ch4_flux_ssp.loc['deltaCH4'][name] = df_ch4_flux_ssp.iloc[0][name]-df_ch4_flux_ssp.iloc[0]['CNTR_'+ssp]\n",
      "/tmp/ipykernel_2927/20625344.py:13: FutureWarning: ChainedAssignmentError: behaviour will change in pandas 3.0!\n",
      "You are setting values through chained assignment. Currently this works in certain cases, but when using Copy-on-Write (which will become the default behaviour in pandas 3.0) this will never work to update the original DataFrame or Series, because the intermediate object on which we are setting values will behave as a copy.\n",
      "A typical example is when you are setting values in a column of a DataFrame, like:\n",
      "\n",
      "df[\"col\"][row_indexer] = value\n",
      "\n",
      "Use `df.loc[row_indexer, \"col\"] = values` instead, to perform the assignment in a single step and ensure this keeps updating the original `df`.\n",
      "\n",
      "See the caveats in the documentation: https://pandas.pydata.org/pandas-docs/stable/user_guide/indexing.html#returning-a-view-versus-a-copy\n",
      "\n",
      "  df_ch4_flux_ssp.loc['deltaCH4'][name] = df_ch4_flux_ssp.iloc[0][name]-df_ch4_flux_ssp.iloc[0]['CNTR_'+ssp]\n"
     ]
    },
    {
     "data": {
      "text/html": [
       "<div>\n",
       "<style scoped>\n",
       "    .dataframe tbody tr th:only-of-type {\n",
       "        vertical-align: middle;\n",
       "    }\n",
       "\n",
       "    .dataframe tbody tr th {\n",
       "        vertical-align: top;\n",
       "    }\n",
       "\n",
       "    .dataframe thead th {\n",
       "        text-align: right;\n",
       "    }\n",
       "</style>\n",
       "<table border=\"1\" class=\"dataframe\">\n",
       "  <thead>\n",
       "    <tr style=\"text-align: right;\">\n",
       "      <th></th>\n",
       "      <th>10CH4_SSP119</th>\n",
       "      <th>10CH4_SSP434</th>\n",
       "      <th>10CH4_SSP585</th>\n",
       "      <th>CNTR_SSP119</th>\n",
       "      <th>CNTR_SSP434</th>\n",
       "      <th>CNTR_SSP585</th>\n",
       "      <th>antro10_SSP119</th>\n",
       "      <th>antro10_SSP434</th>\n",
       "      <th>antro10_SSP585</th>\n",
       "    </tr>\n",
       "    <tr>\n",
       "      <th>Scenario</th>\n",
       "      <th></th>\n",
       "      <th></th>\n",
       "      <th></th>\n",
       "      <th></th>\n",
       "      <th></th>\n",
       "      <th></th>\n",
       "      <th></th>\n",
       "      <th></th>\n",
       "      <th></th>\n",
       "    </tr>\n",
       "  </thead>\n",
       "  <tbody>\n",
       "    <tr>\n",
       "      <th>YR13</th>\n",
       "      <td>589</td>\n",
       "      <td>839</td>\n",
       "      <td>969</td>\n",
       "      <td>552</td>\n",
       "      <td>787</td>\n",
       "      <td>910</td>\n",
       "      <td>549</td>\n",
       "      <td>784</td>\n",
       "      <td>907</td>\n",
       "    </tr>\n",
       "    <tr>\n",
       "      <th>deltaH2</th>\n",
       "      <td>NaN</td>\n",
       "      <td>NaN</td>\n",
       "      <td>NaN</td>\n",
       "      <td>NaN</td>\n",
       "      <td>NaN</td>\n",
       "      <td>NaN</td>\n",
       "      <td>NaN</td>\n",
       "      <td>NaN</td>\n",
       "      <td>NaN</td>\n",
       "    </tr>\n",
       "    <tr>\n",
       "      <th>deltaCH4</th>\n",
       "      <td>37.8</td>\n",
       "      <td>52.1</td>\n",
       "      <td>58.6</td>\n",
       "      <td>0.00</td>\n",
       "      <td>0.00</td>\n",
       "      <td>0.00</td>\n",
       "      <td>-2.93</td>\n",
       "      <td>-2.93</td>\n",
       "      <td>-3.16</td>\n",
       "    </tr>\n",
       "  </tbody>\n",
       "</table>\n",
       "</div>"
      ],
      "text/plain": [
       "          10CH4_SSP119  10CH4_SSP434  10CH4_SSP585  CNTR_SSP119  CNTR_SSP434  \\\n",
       "Scenario                                                                       \n",
       "YR13               589           839           969          552          787   \n",
       "deltaH2            NaN           NaN           NaN          NaN          NaN   \n",
       "deltaCH4          37.8          52.1          58.6         0.00         0.00   \n",
       "\n",
       "          CNTR_SSP585  antro10_SSP119  antro10_SSP434  antro10_SSP585  \n",
       "Scenario                                                               \n",
       "YR13              910             549             784             907  \n",
       "deltaH2           NaN             NaN             NaN             NaN  \n",
       "deltaCH4         0.00           -2.93           -2.93           -3.16  "
      ]
     },
     "execution_count": 65,
     "metadata": {},
     "output_type": "execute_result"
    }
   ],
   "source": [
    "df_ch4_flux_ssp = df_ch4_burden_ssp.drop('deltaCH4')/df_ch4_tot_lifetime_ssp\n",
    "\n",
    "df_ch4_flux_ssp.loc['deltaH2'] = np.nan\n",
    "df_ch4_flux_ssp.loc['deltaCH4'] = np.nan\n",
    "\n",
    "ssps = ['SSP119','SSP434','SSP585']\n",
    "for ssp in ssps:\n",
    "    name = '10CH4_'+ssp\n",
    "    df_ch4_flux_ssp.loc['deltaCH4'][name] = df_ch4_flux_ssp.iloc[0][name]-df_ch4_flux_ssp.iloc[0]['CNTR_'+ssp]\n",
    "    name = 'antro10_'+ssp\n",
    "    df_ch4_flux_ssp.loc['deltaCH4'][name] = df_ch4_flux_ssp.iloc[0][name]-df_ch4_flux_ssp.iloc[0]['CNTR_'+ssp]\n",
    "    name = 'CNTR_'+ssp\n",
    "    df_ch4_flux_ssp.loc['deltaCH4'][name] = df_ch4_flux_ssp.iloc[0][name]-df_ch4_flux_ssp.iloc[0]['CNTR_'+ssp]\n",
    "\n",
    "\n",
    "df_ch4_flux_ssp"
   ]
  },
  {
   "cell_type": "markdown",
   "metadata": {},
   "source": [
    "## 3. Ozone  RF"
   ]
  },
  {
   "cell_type": "markdown",
   "metadata": {},
   "source": [
    "Ozone RF is calculated using a radiative kernel (Skeie et al 2020) and the modelled changes in ozone. "
   ]
  },
  {
   "cell_type": "code",
   "execution_count": 66,
   "metadata": {},
   "outputs": [
    {
     "data": {
      "text/plain": [
       "Scenario\n",
       "10H2     NaN\n",
       "10CH4   40.8\n",
       "Name: OSLOCTM3, dtype: float64"
      ]
     },
     "execution_count": 66,
     "metadata": {},
     "output_type": "execute_result"
    }
   ],
   "source": [
    "file = 'ozone_rf.txt'\n",
    "df_ozone_rf_conc = pd.read_csv(path+file, sep=';',index_col=0,header=0)\n",
    "df_ozone_rf_conc = df_ozone_rf_conc['OSLOCTM3'] \n",
    "df_ozone_rf_conc "
   ]
  },
  {
   "cell_type": "code",
   "execution_count": 67,
   "metadata": {},
   "outputs": [
    {
     "data": {
      "text/html": [
       "<div>\n",
       "<style scoped>\n",
       "    .dataframe tbody tr th:only-of-type {\n",
       "        vertical-align: middle;\n",
       "    }\n",
       "\n",
       "    .dataframe tbody tr th {\n",
       "        vertical-align: top;\n",
       "    }\n",
       "\n",
       "    .dataframe thead th {\n",
       "        text-align: right;\n",
       "    }\n",
       "</style>\n",
       "<table border=\"1\" class=\"dataframe\">\n",
       "  <thead>\n",
       "    <tr style=\"text-align: right;\">\n",
       "      <th></th>\n",
       "      <th>CNTR</th>\n",
       "      <th>antro1</th>\n",
       "      <th>H2_avi</th>\n",
       "    </tr>\n",
       "    <tr>\n",
       "      <th>Scenario</th>\n",
       "      <th></th>\n",
       "      <th></th>\n",
       "      <th></th>\n",
       "    </tr>\n",
       "  </thead>\n",
       "  <tbody>\n",
       "    <tr>\n",
       "      <th>10H2</th>\n",
       "      <td>NaN</td>\n",
       "      <td>NaN</td>\n",
       "      <td>NaN</td>\n",
       "    </tr>\n",
       "    <tr>\n",
       "      <th>10CH4</th>\n",
       "      <td>NaN</td>\n",
       "      <td>NaN</td>\n",
       "      <td>NaN</td>\n",
       "    </tr>\n",
       "  </tbody>\n",
       "</table>\n",
       "</div>"
      ],
      "text/plain": [
       "         CNTR antro1 H2_avi\n",
       "Scenario                   \n",
       "10H2      NaN    NaN    NaN\n",
       "10CH4     NaN    NaN    NaN"
      ]
     },
     "execution_count": 67,
     "metadata": {},
     "output_type": "execute_result"
    }
   ],
   "source": [
    "#ADD here for senstest\n",
    "df_ozone_rf = pd.DataFrame(data=[],columns=df_ch4_flux.columns,index=df_ozone_rf_conc.index)\n",
    "df_ozone_rf"
   ]
  },
  {
   "cell_type": "code",
   "execution_count": 68,
   "metadata": {},
   "outputs": [
    {
     "data": {
      "text/plain": [
       "CNTR (mW m-2)           NaN\n",
       "antro1-CNTR (mW m-2)   0.20\n",
       "H2_avi-CNTR (mW m-2)   0.16\n",
       "Name: NET adj., dtype: float64"
      ]
     },
     "execution_count": 68,
     "metadata": {},
     "output_type": "execute_result"
    }
   ],
   "source": [
    "file = 'RF_NRFmethod_OsloCTM3_senstest_yr8_net_yearly.csv'\n",
    "ozone_rf_orig = pd.read_csv(path+file,sep=';',index_col=0,header=0,skiprows=3)\n",
    "ozone_rf_orig['NET adj.']\n"
   ]
  },
  {
   "cell_type": "code",
   "execution_count": 69,
   "metadata": {},
   "outputs": [
    {
     "name": "stderr",
     "output_type": "stream",
     "text": [
      "/tmp/ipykernel_2927/1928313599.py:2: FutureWarning: ChainedAssignmentError: behaviour will change in pandas 3.0!\n",
      "You are setting values through chained assignment. Currently this works in certain cases, but when using Copy-on-Write (which will become the default behaviour in pandas 3.0) this will never work to update the original DataFrame or Series, because the intermediate object on which we are setting values will behave as a copy.\n",
      "A typical example is when you are setting values in a column of a DataFrame, like:\n",
      "\n",
      "df[\"col\"][row_indexer] = value\n",
      "\n",
      "Use `df.loc[row_indexer, \"col\"] = values` instead, to perform the assignment in a single step and ensure this keeps updating the original `df`.\n",
      "\n",
      "See the caveats in the documentation: https://pandas.pydata.org/pandas-docs/stable/user_guide/indexing.html#returning-a-view-versus-a-copy\n",
      "\n",
      "  df_ozone_rf.loc['10H2'][scen] = ozone_rf_orig['NET adj.'].loc[scen+'-CNTR (mW m-2)']\n"
     ]
    },
    {
     "data": {
      "text/html": [
       "<div>\n",
       "<style scoped>\n",
       "    .dataframe tbody tr th:only-of-type {\n",
       "        vertical-align: middle;\n",
       "    }\n",
       "\n",
       "    .dataframe tbody tr th {\n",
       "        vertical-align: top;\n",
       "    }\n",
       "\n",
       "    .dataframe thead th {\n",
       "        text-align: right;\n",
       "    }\n",
       "</style>\n",
       "<table border=\"1\" class=\"dataframe\">\n",
       "  <thead>\n",
       "    <tr style=\"text-align: right;\">\n",
       "      <th></th>\n",
       "      <th>CNTR</th>\n",
       "      <th>antro1</th>\n",
       "      <th>H2_avi</th>\n",
       "    </tr>\n",
       "    <tr>\n",
       "      <th>Scenario</th>\n",
       "      <th></th>\n",
       "      <th></th>\n",
       "      <th></th>\n",
       "    </tr>\n",
       "  </thead>\n",
       "  <tbody>\n",
       "    <tr>\n",
       "      <th>10H2</th>\n",
       "      <td>NaN</td>\n",
       "      <td>0.20</td>\n",
       "      <td>0.16</td>\n",
       "    </tr>\n",
       "    <tr>\n",
       "      <th>10CH4</th>\n",
       "      <td>NaN</td>\n",
       "      <td>NaN</td>\n",
       "      <td>NaN</td>\n",
       "    </tr>\n",
       "  </tbody>\n",
       "</table>\n",
       "</div>"
      ],
      "text/plain": [
       "         CNTR antro1 H2_avi\n",
       "Scenario                   \n",
       "10H2      NaN   0.20   0.16\n",
       "10CH4     NaN    NaN    NaN"
      ]
     },
     "execution_count": 69,
     "metadata": {},
     "output_type": "execute_result"
    }
   ],
   "source": [
    "for scen in df_ozone_rf.columns[1:]:\n",
    "    df_ozone_rf.loc['10H2'][scen] = ozone_rf_orig['NET adj.'].loc[scen+'-CNTR (mW m-2)']\n",
    "df_ozone_rf\n",
    "    \n"
   ]
  },
  {
   "cell_type": "code",
   "execution_count": 70,
   "metadata": {},
   "outputs": [
    {
     "data": {
      "text/html": [
       "<div>\n",
       "<style scoped>\n",
       "    .dataframe tbody tr th:only-of-type {\n",
       "        vertical-align: middle;\n",
       "    }\n",
       "\n",
       "    .dataframe tbody tr th {\n",
       "        vertical-align: top;\n",
       "    }\n",
       "\n",
       "    .dataframe thead th {\n",
       "        text-align: right;\n",
       "    }\n",
       "</style>\n",
       "<table border=\"1\" class=\"dataframe\">\n",
       "  <thead>\n",
       "    <tr style=\"text-align: right;\">\n",
       "      <th></th>\n",
       "      <th>CNTR</th>\n",
       "      <th>antro1</th>\n",
       "      <th>H2_avi</th>\n",
       "    </tr>\n",
       "    <tr>\n",
       "      <th>Scenario</th>\n",
       "      <th></th>\n",
       "      <th></th>\n",
       "      <th></th>\n",
       "    </tr>\n",
       "  </thead>\n",
       "  <tbody>\n",
       "    <tr>\n",
       "      <th>10H2</th>\n",
       "      <td>NaN</td>\n",
       "      <td>0.20</td>\n",
       "      <td>0.16</td>\n",
       "    </tr>\n",
       "    <tr>\n",
       "      <th>10CH4</th>\n",
       "      <td>40.8</td>\n",
       "      <td>40.8</td>\n",
       "      <td>40.8</td>\n",
       "    </tr>\n",
       "  </tbody>\n",
       "</table>\n",
       "</div>"
      ],
      "text/plain": [
       "         CNTR antro1 H2_avi\n",
       "Scenario                   \n",
       "10H2      NaN   0.20   0.16\n",
       "10CH4    40.8   40.8   40.8"
      ]
     },
     "execution_count": 70,
     "metadata": {},
     "output_type": "execute_result"
    }
   ],
   "source": [
    "#In OsloCTM-emi use the same RF in the methane pertubation as in OsloCTM3\n",
    "df_ozone_rf.loc['10CH4'] = df_ozone_rf_conc.loc['10CH4'] \n",
    "df_ozone_rf"
   ]
  },
  {
   "cell_type": "markdown",
   "metadata": {},
   "source": [
    "Read the ozone RF from SSP sensitivity tests"
   ]
  },
  {
   "cell_type": "code",
   "execution_count": 71,
   "metadata": {},
   "outputs": [
    {
     "name": "stderr",
     "output_type": "stream",
     "text": [
      "/tmp/ipykernel_2927/1442894704.py:9: FutureWarning: ChainedAssignmentError: behaviour will change in pandas 3.0!\n",
      "You are setting values through chained assignment. Currently this works in certain cases, but when using Copy-on-Write (which will become the default behaviour in pandas 3.0) this will never work to update the original DataFrame or Series, because the intermediate object on which we are setting values will behave as a copy.\n",
      "A typical example is when you are setting values in a column of a DataFrame, like:\n",
      "\n",
      "df[\"col\"][row_indexer] = value\n",
      "\n",
      "Use `df.loc[row_indexer, \"col\"] = values` instead, to perform the assignment in a single step and ensure this keeps updating the original `df`.\n",
      "\n",
      "See the caveats in the documentation: https://pandas.pydata.org/pandas-docs/stable/user_guide/indexing.html#returning-a-view-versus-a-copy\n",
      "\n",
      "  df_ozone_rf_ssp[ssp].loc['pertH2'] = ozone_rf_orig['NET adj.'].loc['antro10_'+ssp+'-CNTR_'+ssp+' (mW m-2)']\n",
      "/tmp/ipykernel_2927/1442894704.py:10: FutureWarning: ChainedAssignmentError: behaviour will change in pandas 3.0!\n",
      "You are setting values through chained assignment. Currently this works in certain cases, but when using Copy-on-Write (which will become the default behaviour in pandas 3.0) this will never work to update the original DataFrame or Series, because the intermediate object on which we are setting values will behave as a copy.\n",
      "A typical example is when you are setting values in a column of a DataFrame, like:\n",
      "\n",
      "df[\"col\"][row_indexer] = value\n",
      "\n",
      "Use `df.loc[row_indexer, \"col\"] = values` instead, to perform the assignment in a single step and ensure this keeps updating the original `df`.\n",
      "\n",
      "See the caveats in the documentation: https://pandas.pydata.org/pandas-docs/stable/user_guide/indexing.html#returning-a-view-versus-a-copy\n",
      "\n",
      "  df_ozone_rf_ssp[ssp].loc['10CH4'] = ozone_rf_orig['NET adj.'].loc['10CH4_'+ssp+'-CNTR_'+ssp+' (mW m-2)']\n",
      "/tmp/ipykernel_2927/1442894704.py:9: FutureWarning: ChainedAssignmentError: behaviour will change in pandas 3.0!\n",
      "You are setting values through chained assignment. Currently this works in certain cases, but when using Copy-on-Write (which will become the default behaviour in pandas 3.0) this will never work to update the original DataFrame or Series, because the intermediate object on which we are setting values will behave as a copy.\n",
      "A typical example is when you are setting values in a column of a DataFrame, like:\n",
      "\n",
      "df[\"col\"][row_indexer] = value\n",
      "\n",
      "Use `df.loc[row_indexer, \"col\"] = values` instead, to perform the assignment in a single step and ensure this keeps updating the original `df`.\n",
      "\n",
      "See the caveats in the documentation: https://pandas.pydata.org/pandas-docs/stable/user_guide/indexing.html#returning-a-view-versus-a-copy\n",
      "\n",
      "  df_ozone_rf_ssp[ssp].loc['pertH2'] = ozone_rf_orig['NET adj.'].loc['antro10_'+ssp+'-CNTR_'+ssp+' (mW m-2)']\n",
      "/tmp/ipykernel_2927/1442894704.py:10: FutureWarning: ChainedAssignmentError: behaviour will change in pandas 3.0!\n",
      "You are setting values through chained assignment. Currently this works in certain cases, but when using Copy-on-Write (which will become the default behaviour in pandas 3.0) this will never work to update the original DataFrame or Series, because the intermediate object on which we are setting values will behave as a copy.\n",
      "A typical example is when you are setting values in a column of a DataFrame, like:\n",
      "\n",
      "df[\"col\"][row_indexer] = value\n",
      "\n",
      "Use `df.loc[row_indexer, \"col\"] = values` instead, to perform the assignment in a single step and ensure this keeps updating the original `df`.\n",
      "\n",
      "See the caveats in the documentation: https://pandas.pydata.org/pandas-docs/stable/user_guide/indexing.html#returning-a-view-versus-a-copy\n",
      "\n",
      "  df_ozone_rf_ssp[ssp].loc['10CH4'] = ozone_rf_orig['NET adj.'].loc['10CH4_'+ssp+'-CNTR_'+ssp+' (mW m-2)']\n",
      "/tmp/ipykernel_2927/1442894704.py:9: FutureWarning: ChainedAssignmentError: behaviour will change in pandas 3.0!\n",
      "You are setting values through chained assignment. Currently this works in certain cases, but when using Copy-on-Write (which will become the default behaviour in pandas 3.0) this will never work to update the original DataFrame or Series, because the intermediate object on which we are setting values will behave as a copy.\n",
      "A typical example is when you are setting values in a column of a DataFrame, like:\n",
      "\n",
      "df[\"col\"][row_indexer] = value\n",
      "\n",
      "Use `df.loc[row_indexer, \"col\"] = values` instead, to perform the assignment in a single step and ensure this keeps updating the original `df`.\n",
      "\n",
      "See the caveats in the documentation: https://pandas.pydata.org/pandas-docs/stable/user_guide/indexing.html#returning-a-view-versus-a-copy\n",
      "\n",
      "  df_ozone_rf_ssp[ssp].loc['pertH2'] = ozone_rf_orig['NET adj.'].loc['antro10_'+ssp+'-CNTR_'+ssp+' (mW m-2)']\n",
      "/tmp/ipykernel_2927/1442894704.py:10: FutureWarning: ChainedAssignmentError: behaviour will change in pandas 3.0!\n",
      "You are setting values through chained assignment. Currently this works in certain cases, but when using Copy-on-Write (which will become the default behaviour in pandas 3.0) this will never work to update the original DataFrame or Series, because the intermediate object on which we are setting values will behave as a copy.\n",
      "A typical example is when you are setting values in a column of a DataFrame, like:\n",
      "\n",
      "df[\"col\"][row_indexer] = value\n",
      "\n",
      "Use `df.loc[row_indexer, \"col\"] = values` instead, to perform the assignment in a single step and ensure this keeps updating the original `df`.\n",
      "\n",
      "See the caveats in the documentation: https://pandas.pydata.org/pandas-docs/stable/user_guide/indexing.html#returning-a-view-versus-a-copy\n",
      "\n",
      "  df_ozone_rf_ssp[ssp].loc['10CH4'] = ozone_rf_orig['NET adj.'].loc['10CH4_'+ssp+'-CNTR_'+ssp+' (mW m-2)']\n"
     ]
    },
    {
     "data": {
      "text/html": [
       "<div>\n",
       "<style scoped>\n",
       "    .dataframe tbody tr th:only-of-type {\n",
       "        vertical-align: middle;\n",
       "    }\n",
       "\n",
       "    .dataframe tbody tr th {\n",
       "        vertical-align: top;\n",
       "    }\n",
       "\n",
       "    .dataframe thead th {\n",
       "        text-align: right;\n",
       "    }\n",
       "</style>\n",
       "<table border=\"1\" class=\"dataframe\">\n",
       "  <thead>\n",
       "    <tr style=\"text-align: right;\">\n",
       "      <th></th>\n",
       "      <th>SSP119</th>\n",
       "      <th>SSP434</th>\n",
       "      <th>SSP585</th>\n",
       "    </tr>\n",
       "  </thead>\n",
       "  <tbody>\n",
       "    <tr>\n",
       "      <th>pertH2</th>\n",
       "      <td>2.20</td>\n",
       "      <td>1.81</td>\n",
       "      <td>1.78</td>\n",
       "    </tr>\n",
       "    <tr>\n",
       "      <th>10CH4</th>\n",
       "      <td>33.5</td>\n",
       "      <td>43.9</td>\n",
       "      <td>49.7</td>\n",
       "    </tr>\n",
       "  </tbody>\n",
       "</table>\n",
       "</div>"
      ],
      "text/plain": [
       "       SSP119 SSP434 SSP585\n",
       "pertH2   2.20   1.81   1.78\n",
       "10CH4    33.5   43.9   49.7"
      ]
     },
     "execution_count": 71,
     "metadata": {},
     "output_type": "execute_result"
    }
   ],
   "source": [
    "ssps = ['SSP119','SSP434','SSP585']\n",
    "\n",
    "df_ozone_rf_ssp = pd.DataFrame(data=[],columns=ssps,index=['pertH2','10CH4'])\n",
    "\n",
    "for ssp in ssps:\n",
    "    file = 'RF_NRFmethod_OsloCTM3_ssp_senstest_yr26_'+ssp+'_net_yearly.csv'\n",
    "    ozone_rf_orig = pd.read_csv(pathssp+file,sep=';',index_col=0,header=0,skiprows=3)\n",
    "    ozone_rf_orig['NET adj.']\n",
    "    df_ozone_rf_ssp[ssp].loc['pertH2'] = ozone_rf_orig['NET adj.'].loc['antro10_'+ssp+'-CNTR_'+ssp+' (mW m-2)']\n",
    "    df_ozone_rf_ssp[ssp].loc['10CH4'] = ozone_rf_orig['NET adj.'].loc['10CH4_'+ssp+'-CNTR_'+ssp+' (mW m-2)']\n",
    "df_ozone_rf_ssp"
   ]
  },
  {
   "cell_type": "markdown",
   "metadata": {},
   "source": [
    "## 4. Stratospheric H2O RF [mW m-2]"
   ]
  },
  {
   "cell_type": "markdown",
   "metadata": {},
   "source": [
    "Stratospheric H2O RF calculated offline."
   ]
  },
  {
   "cell_type": "code",
   "execution_count": 72,
   "metadata": {},
   "outputs": [
    {
     "data": {
      "text/plain": [
       "Scenario\n",
       "10H2     NaN\n",
       "10CH4   9.53\n",
       "Name: OSLOCTM3, dtype: float64"
      ]
     },
     "execution_count": 72,
     "metadata": {},
     "output_type": "execute_result"
    }
   ],
   "source": [
    "file = 'H2O_rf.txt'\n",
    "df_h2o_rf_conc = pd.read_csv(path+file, sep=';',index_col=0,header=0)\n",
    "df_h2o_rf_conc = df_h2o_rf_conc['OSLOCTM3']\n",
    "df_h2o_rf_conc"
   ]
  },
  {
   "cell_type": "code",
   "execution_count": 73,
   "metadata": {},
   "outputs": [],
   "source": [
    "#ADD here for senstest\n",
    "df_h2o_rf = pd.DataFrame(data=[],columns=df_ch4_flux.columns,index=df_h2o_rf_conc.index)"
   ]
  },
  {
   "cell_type": "code",
   "execution_count": 74,
   "metadata": {},
   "outputs": [
    {
     "data": {
      "text/html": [
       "<div>\n",
       "<style scoped>\n",
       "    .dataframe tbody tr th:only-of-type {\n",
       "        vertical-align: middle;\n",
       "    }\n",
       "\n",
       "    .dataframe tbody tr th {\n",
       "        vertical-align: top;\n",
       "    }\n",
       "\n",
       "    .dataframe thead th {\n",
       "        text-align: right;\n",
       "    }\n",
       "</style>\n",
       "<table border=\"1\" class=\"dataframe\">\n",
       "  <thead>\n",
       "    <tr style=\"text-align: right;\">\n",
       "      <th></th>\n",
       "      <th>an01</th>\n",
       "      <th>ant1</th>\n",
       "      <th>an10</th>\n",
       "      <th>a100</th>\n",
       "      <th>zepl</th>\n",
       "      <th>maud</th>\n",
       "      <th>nemo</th>\n",
       "      <th>epia</th>\n",
       "      <th>munc</th>\n",
       "      <th>usdd</th>\n",
       "      <th>maxd</th>\n",
       "    </tr>\n",
       "  </thead>\n",
       "  <tbody>\n",
       "    <tr>\n",
       "      <th>NET</th>\n",
       "      <td>0.02</td>\n",
       "      <td>0.17</td>\n",
       "      <td>1.67</td>\n",
       "      <td>16.8</td>\n",
       "      <td>0.15</td>\n",
       "      <td>0.18</td>\n",
       "      <td>0.18</td>\n",
       "      <td>0.14</td>\n",
       "      <td>0.15</td>\n",
       "      <td>0.13</td>\n",
       "      <td>0.16</td>\n",
       "    </tr>\n",
       "  </tbody>\n",
       "</table>\n",
       "</div>"
      ],
      "text/plain": [
       "     an01  ant1  an10  a100  zepl  maud  nemo  epia  munc  usdd  maxd\n",
       "NET  0.02  0.17  1.67  16.8  0.15  0.18  0.18  0.14  0.15  0.13  0.16"
      ]
     },
     "execution_count": 74,
     "metadata": {},
     "output_type": "execute_result"
    }
   ],
   "source": [
    "file = 'strat_h2o_h2.csv'\n",
    "df_h2o_rf_orig = pd.read_csv(path+file,sep='\\t',index_col=0,header=0)\n",
    "df_h2o_rf_orig"
   ]
  },
  {
   "cell_type": "code",
   "execution_count": 75,
   "metadata": {},
   "outputs": [
    {
     "data": {
      "text/html": [
       "<div>\n",
       "<style scoped>\n",
       "    .dataframe tbody tr th:only-of-type {\n",
       "        vertical-align: middle;\n",
       "    }\n",
       "\n",
       "    .dataframe tbody tr th {\n",
       "        vertical-align: top;\n",
       "    }\n",
       "\n",
       "    .dataframe thead th {\n",
       "        text-align: right;\n",
       "    }\n",
       "</style>\n",
       "<table border=\"1\" class=\"dataframe\">\n",
       "  <thead>\n",
       "    <tr style=\"text-align: right;\">\n",
       "      <th></th>\n",
       "      <th>CNTR</th>\n",
       "      <th>antro1</th>\n",
       "      <th>H2_avi</th>\n",
       "    </tr>\n",
       "    <tr>\n",
       "      <th>Scenario</th>\n",
       "      <th></th>\n",
       "      <th></th>\n",
       "      <th></th>\n",
       "    </tr>\n",
       "  </thead>\n",
       "  <tbody>\n",
       "    <tr>\n",
       "      <th>10H2</th>\n",
       "      <td>NaN</td>\n",
       "      <td>NaN</td>\n",
       "      <td>NaN</td>\n",
       "    </tr>\n",
       "    <tr>\n",
       "      <th>10CH4</th>\n",
       "      <td>NaN</td>\n",
       "      <td>NaN</td>\n",
       "      <td>NaN</td>\n",
       "    </tr>\n",
       "  </tbody>\n",
       "</table>\n",
       "</div>"
      ],
      "text/plain": [
       "         CNTR antro1 H2_avi\n",
       "Scenario                   \n",
       "10H2      NaN    NaN    NaN\n",
       "10CH4     NaN    NaN    NaN"
      ]
     },
     "execution_count": 75,
     "metadata": {},
     "output_type": "execute_result"
    }
   ],
   "source": [
    "scen_dict_strat_h2o = {'an01':'antro01',\n",
    "                       'ant1':'antro1',\n",
    "                       'an10':'antro10',\n",
    "                       'a100':'antro100',\n",
    "                       'zepl':'zep',\n",
    "                       'maud':'maud',\n",
    "                       'nemo':'nemo',\n",
    "                       'epia':'epia',\n",
    "                       'munc':'munich',\n",
    "                       'usdd':'usdrydep',\n",
    "                       'maxd':'maxdep'}\n",
    "#for scen in scen_dict_strat_h2o:\n",
    "#    df_h2o_rf[scen_dict_strat_h2o[scen]].loc['10H2'] = df_h2o_rf_orig[scen].loc['NET']\n",
    "df_h2o_rf"
   ]
  },
  {
   "cell_type": "code",
   "execution_count": 76,
   "metadata": {},
   "outputs": [
    {
     "data": {
      "text/html": [
       "<div>\n",
       "<style scoped>\n",
       "    .dataframe tbody tr th:only-of-type {\n",
       "        vertical-align: middle;\n",
       "    }\n",
       "\n",
       "    .dataframe tbody tr th {\n",
       "        vertical-align: top;\n",
       "    }\n",
       "\n",
       "    .dataframe thead th {\n",
       "        text-align: right;\n",
       "    }\n",
       "</style>\n",
       "<table border=\"1\" class=\"dataframe\">\n",
       "  <thead>\n",
       "    <tr style=\"text-align: right;\">\n",
       "      <th></th>\n",
       "      <th>CNTR</th>\n",
       "      <th>antro1</th>\n",
       "      <th>H2_avi</th>\n",
       "    </tr>\n",
       "    <tr>\n",
       "      <th>Scenario</th>\n",
       "      <th></th>\n",
       "      <th></th>\n",
       "      <th></th>\n",
       "    </tr>\n",
       "  </thead>\n",
       "  <tbody>\n",
       "    <tr>\n",
       "      <th>10H2</th>\n",
       "      <td>NaN</td>\n",
       "      <td>NaN</td>\n",
       "      <td>NaN</td>\n",
       "    </tr>\n",
       "    <tr>\n",
       "      <th>10CH4</th>\n",
       "      <td>9.53</td>\n",
       "      <td>9.53</td>\n",
       "      <td>9.53</td>\n",
       "    </tr>\n",
       "  </tbody>\n",
       "</table>\n",
       "</div>"
      ],
      "text/plain": [
       "         CNTR antro1 H2_avi\n",
       "Scenario                   \n",
       "10H2      NaN    NaN    NaN\n",
       "10CH4    9.53   9.53   9.53"
      ]
     },
     "execution_count": 76,
     "metadata": {},
     "output_type": "execute_result"
    }
   ],
   "source": [
    "#In OsloCTM-emi use the same RF in the methane pertubation as in OsloCTM3\n",
    "df_h2o_rf.loc['10CH4'] = df_h2o_rf_conc.loc['10CH4'] \n",
    "df_h2o_rf"
   ]
  },
  {
   "cell_type": "code",
   "execution_count": 77,
   "metadata": {
    "scrolled": true
   },
   "outputs": [
    {
     "data": {
      "text/html": [
       "<div>\n",
       "<style scoped>\n",
       "    .dataframe tbody tr th:only-of-type {\n",
       "        vertical-align: middle;\n",
       "    }\n",
       "\n",
       "    .dataframe tbody tr th {\n",
       "        vertical-align: top;\n",
       "    }\n",
       "\n",
       "    .dataframe thead th {\n",
       "        text-align: right;\n",
       "    }\n",
       "</style>\n",
       "<table border=\"1\" class=\"dataframe\">\n",
       "  <thead>\n",
       "    <tr style=\"text-align: right;\">\n",
       "      <th></th>\n",
       "      <th>SSP119</th>\n",
       "      <th>SSP434</th>\n",
       "      <th>SSP585</th>\n",
       "    </tr>\n",
       "  </thead>\n",
       "  <tbody>\n",
       "    <tr>\n",
       "      <th>pertH2</th>\n",
       "      <td>1.73</td>\n",
       "      <td>1.74</td>\n",
       "      <td>1.70</td>\n",
       "    </tr>\n",
       "    <tr>\n",
       "      <th>10CH4</th>\n",
       "      <td>8.33</td>\n",
       "      <td>12.4</td>\n",
       "      <td>13.6</td>\n",
       "    </tr>\n",
       "  </tbody>\n",
       "</table>\n",
       "</div>"
      ],
      "text/plain": [
       "        SSP119  SSP434  SSP585\n",
       "pertH2    1.73    1.74    1.70\n",
       "10CH4     8.33    12.4    13.6"
      ]
     },
     "execution_count": 77,
     "metadata": {},
     "output_type": "execute_result"
    }
   ],
   "source": [
    "ssps = ['SSP119','SSP434','SSP585']\n",
    "\n",
    "df_h2o_rf_ssp = pd.read_csv(pathssp+'strat_h2o_ssp.csv',sep=',',index_col=0,header=0) \n",
    "df_h2o_rf_ssp"
   ]
  },
  {
   "cell_type": "markdown",
   "metadata": {},
   "source": [
    "\n",
    "# Part II: GWP calculations:"
   ]
  },
  {
   "cell_type": "markdown",
   "metadata": {},
   "source": [
    "The pulse integrated to infinity of the effects of a short lived climate forcer is equal to the change respones of its effects at steady state multiplied by the steady state lifetime of the short lived forcer(:cite:p:`Prather2002a` and :cite:p:`Prather2007a`). \n",
    "\n",
    "Prather 2002: prove that: (a) the steadystate pattern of impacts caused by specified emissions, multiplied by (b) the steady-state lifetime of the source gas for that emission pattern, is exactly equal to (c) the integral of all impacts - independent of the number and atmospheric residence times of secondary impacts. Therefore, the AGWP for hydrogen is identical whether calculating by integrating a pulse or by using the steady state changes per flux, given that the perturbation reaches steady state before 100 years. The longest-lived chemical mode here is keyed to methane, which has an e-folding lifetime of about 12 years. Our perturbed experiments are run to steate-state.\n"
   ]
  },
  {
   "cell_type": "markdown",
   "metadata": {},
   "source": [
    "### Change in H2 surface conc. caused by 1 Tg H2/yr [ppb yr Tg-1]"
   ]
  },
  {
   "cell_type": "markdown",
   "metadata": {},
   "source": [
    "This is not used for the GWP calculation. Only for the per flux table and for the feedback factor calulations."
   ]
  },
  {
   "cell_type": "code",
   "execution_count": 78,
   "metadata": {},
   "outputs": [
    {
     "data": {
      "text/html": [
       "<div>\n",
       "<style scoped>\n",
       "    .dataframe tbody tr th:only-of-type {\n",
       "        vertical-align: middle;\n",
       "    }\n",
       "\n",
       "    .dataframe tbody tr th {\n",
       "        vertical-align: top;\n",
       "    }\n",
       "\n",
       "    .dataframe thead th {\n",
       "        text-align: right;\n",
       "    }\n",
       "</style>\n",
       "<table border=\"1\" class=\"dataframe\">\n",
       "  <thead>\n",
       "    <tr style=\"text-align: right;\">\n",
       "      <th></th>\n",
       "      <th>CNTR</th>\n",
       "      <th>antro1</th>\n",
       "      <th>H2_avi</th>\n",
       "    </tr>\n",
       "    <tr>\n",
       "      <th>Scenario</th>\n",
       "      <th></th>\n",
       "      <th></th>\n",
       "      <th></th>\n",
       "    </tr>\n",
       "  </thead>\n",
       "  <tbody>\n",
       "    <tr>\n",
       "      <th>YR4</th>\n",
       "      <td>725</td>\n",
       "      <td>724</td>\n",
       "      <td>724</td>\n",
       "    </tr>\n",
       "    <tr>\n",
       "      <th>deltaH2</th>\n",
       "      <td>0.00</td>\n",
       "      <td>-0.29</td>\n",
       "      <td>-0.23</td>\n",
       "    </tr>\n",
       "    <tr>\n",
       "      <th>deltaCH4</th>\n",
       "      <td>49.7</td>\n",
       "      <td>49.7</td>\n",
       "      <td>49.7</td>\n",
       "    </tr>\n",
       "  </tbody>\n",
       "</table>\n",
       "</div>"
      ],
      "text/plain": [
       "          CNTR  antro1  H2_avi\n",
       "Scenario                      \n",
       "YR4        725     724     724\n",
       "deltaH2   0.00   -0.29   -0.23\n",
       "deltaCH4  49.7    49.7    49.7"
      ]
     },
     "execution_count": 78,
     "metadata": {},
     "output_type": "execute_result"
    }
   ],
   "source": [
    "df_ch4_flux"
   ]
  },
  {
   "cell_type": "code",
   "execution_count": 79,
   "metadata": {},
   "outputs": [
    {
     "data": {
      "text/html": [
       "<div>\n",
       "<style scoped>\n",
       "    .dataframe tbody tr th:only-of-type {\n",
       "        vertical-align: middle;\n",
       "    }\n",
       "\n",
       "    .dataframe tbody tr th {\n",
       "        vertical-align: top;\n",
       "    }\n",
       "\n",
       "    .dataframe thead th {\n",
       "        text-align: right;\n",
       "    }\n",
       "</style>\n",
       "<table border=\"1\" class=\"dataframe\">\n",
       "  <thead>\n",
       "    <tr style=\"text-align: right;\">\n",
       "      <th></th>\n",
       "      <th>10CH4_SSP119</th>\n",
       "      <th>10CH4_SSP434</th>\n",
       "      <th>10CH4_SSP585</th>\n",
       "      <th>CNTR_SSP119</th>\n",
       "      <th>CNTR_SSP434</th>\n",
       "      <th>CNTR_SSP585</th>\n",
       "      <th>antro10_SSP119</th>\n",
       "      <th>antro10_SSP434</th>\n",
       "      <th>antro10_SSP585</th>\n",
       "    </tr>\n",
       "    <tr>\n",
       "      <th>Scenario</th>\n",
       "      <th></th>\n",
       "      <th></th>\n",
       "      <th></th>\n",
       "      <th></th>\n",
       "      <th></th>\n",
       "      <th></th>\n",
       "      <th></th>\n",
       "      <th></th>\n",
       "      <th></th>\n",
       "    </tr>\n",
       "  </thead>\n",
       "  <tbody>\n",
       "    <tr>\n",
       "      <th>YR13</th>\n",
       "      <td>589</td>\n",
       "      <td>839</td>\n",
       "      <td>969</td>\n",
       "      <td>552</td>\n",
       "      <td>787</td>\n",
       "      <td>910</td>\n",
       "      <td>549</td>\n",
       "      <td>784</td>\n",
       "      <td>907</td>\n",
       "    </tr>\n",
       "    <tr>\n",
       "      <th>deltaH2</th>\n",
       "      <td>NaN</td>\n",
       "      <td>NaN</td>\n",
       "      <td>NaN</td>\n",
       "      <td>NaN</td>\n",
       "      <td>NaN</td>\n",
       "      <td>NaN</td>\n",
       "      <td>NaN</td>\n",
       "      <td>NaN</td>\n",
       "      <td>NaN</td>\n",
       "    </tr>\n",
       "    <tr>\n",
       "      <th>deltaCH4</th>\n",
       "      <td>37.8</td>\n",
       "      <td>52.1</td>\n",
       "      <td>58.6</td>\n",
       "      <td>0.00</td>\n",
       "      <td>0.00</td>\n",
       "      <td>0.00</td>\n",
       "      <td>-2.93</td>\n",
       "      <td>-2.93</td>\n",
       "      <td>-3.16</td>\n",
       "    </tr>\n",
       "  </tbody>\n",
       "</table>\n",
       "</div>"
      ],
      "text/plain": [
       "          10CH4_SSP119  10CH4_SSP434  10CH4_SSP585  CNTR_SSP119  CNTR_SSP434  \\\n",
       "Scenario                                                                       \n",
       "YR13               589           839           969          552          787   \n",
       "deltaH2            NaN           NaN           NaN          NaN          NaN   \n",
       "deltaCH4          37.8          52.1          58.6         0.00         0.00   \n",
       "\n",
       "          CNTR_SSP585  antro10_SSP119  antro10_SSP434  antro10_SSP585  \n",
       "Scenario                                                               \n",
       "YR13              910             549             784             907  \n",
       "deltaH2           NaN             NaN             NaN             NaN  \n",
       "deltaCH4         0.00           -2.93           -2.93           -3.16  "
      ]
     },
     "execution_count": 79,
     "metadata": {},
     "output_type": "execute_result"
    }
   ],
   "source": [
    "df_ch4_flux_ssp"
   ]
  },
  {
   "cell_type": "code",
   "execution_count": 80,
   "metadata": {},
   "outputs": [
    {
     "data": {
      "text/plain": [
       "CNTR      NaN\n",
       "antro1   6.26\n",
       "H2_avi   6.38\n",
       "Name: surf_h2_per_h2_flux, dtype: float64"
      ]
     },
     "execution_count": 80,
     "metadata": {},
     "output_type": "execute_result"
    }
   ],
   "source": [
    "df_surf_h2_per_h2_flux = df_h2_surfconc.loc['delta']/df_h2_flux['deltaH2']\n",
    "df_surf_h2_per_h2_flux.name = 'surf_h2_per_h2_flux'\n",
    "df_surf_h2_per_h2_flux"
   ]
  },
  {
   "cell_type": "code",
   "execution_count": 81,
   "metadata": {},
   "outputs": [
    {
     "data": {
      "text/html": [
       "<div>\n",
       "<style scoped>\n",
       "    .dataframe tbody tr th:only-of-type {\n",
       "        vertical-align: middle;\n",
       "    }\n",
       "\n",
       "    .dataframe tbody tr th {\n",
       "        vertical-align: top;\n",
       "    }\n",
       "\n",
       "    .dataframe thead th {\n",
       "        text-align: right;\n",
       "    }\n",
       "</style>\n",
       "<table border=\"1\" class=\"dataframe\">\n",
       "  <thead>\n",
       "    <tr style=\"text-align: right;\">\n",
       "      <th></th>\n",
       "      <th>10CH4_SSP119</th>\n",
       "      <th>10CH4_SSP434</th>\n",
       "      <th>10CH4_SSP585</th>\n",
       "      <th>CNTR_SSP119</th>\n",
       "      <th>CNTR_SSP434</th>\n",
       "      <th>CNTR_SSP585</th>\n",
       "      <th>antro10_SSP119</th>\n",
       "      <th>antro10_SSP434</th>\n",
       "      <th>antro10_SSP585</th>\n",
       "    </tr>\n",
       "  </thead>\n",
       "  <tbody>\n",
       "    <tr>\n",
       "      <th>YR13</th>\n",
       "      <td>514</td>\n",
       "      <td>640</td>\n",
       "      <td>668</td>\n",
       "      <td>495</td>\n",
       "      <td>613</td>\n",
       "      <td>638</td>\n",
       "      <td>558</td>\n",
       "      <td>678</td>\n",
       "      <td>702</td>\n",
       "    </tr>\n",
       "    <tr>\n",
       "      <th>delta</th>\n",
       "      <td>19.1</td>\n",
       "      <td>26.5</td>\n",
       "      <td>29.5</td>\n",
       "      <td>0.00</td>\n",
       "      <td>0.00</td>\n",
       "      <td>0.00</td>\n",
       "      <td>63.0</td>\n",
       "      <td>64.6</td>\n",
       "      <td>63.5</td>\n",
       "    </tr>\n",
       "  </tbody>\n",
       "</table>\n",
       "</div>"
      ],
      "text/plain": [
       "       10CH4_SSP119  10CH4_SSP434  10CH4_SSP585  CNTR_SSP119  CNTR_SSP434  \\\n",
       "YR13            514           640           668          495          613   \n",
       "delta          19.1          26.5          29.5         0.00         0.00   \n",
       "\n",
       "       CNTR_SSP585  antro10_SSP119  antro10_SSP434  antro10_SSP585  \n",
       "YR13           638             558             678             702  \n",
       "delta         0.00            63.0            64.6            63.5  "
      ]
     },
     "execution_count": 81,
     "metadata": {},
     "output_type": "execute_result"
    }
   ],
   "source": [
    "df_h2_surfconc_ssp"
   ]
  },
  {
   "cell_type": "code",
   "execution_count": 82,
   "metadata": {},
   "outputs": [
    {
     "data": {
      "text/html": [
       "<div>\n",
       "<style scoped>\n",
       "    .dataframe tbody tr th:only-of-type {\n",
       "        vertical-align: middle;\n",
       "    }\n",
       "\n",
       "    .dataframe tbody tr th {\n",
       "        vertical-align: top;\n",
       "    }\n",
       "\n",
       "    .dataframe thead th {\n",
       "        text-align: right;\n",
       "    }\n",
       "</style>\n",
       "<table border=\"1\" class=\"dataframe\">\n",
       "  <thead>\n",
       "    <tr style=\"text-align: right;\">\n",
       "      <th></th>\n",
       "      <th>h2_flux</th>\n",
       "      <th>deltaH2</th>\n",
       "      <th>deltaCH4</th>\n",
       "    </tr>\n",
       "  </thead>\n",
       "  <tbody>\n",
       "    <tr>\n",
       "      <th>10CH4_SSP119</th>\n",
       "      <td>78.6</td>\n",
       "      <td>2.13</td>\n",
       "      <td>NaN</td>\n",
       "    </tr>\n",
       "    <tr>\n",
       "      <th>10CH4_SSP434</th>\n",
       "      <td>94.8</td>\n",
       "      <td>2.98</td>\n",
       "      <td>NaN</td>\n",
       "    </tr>\n",
       "    <tr>\n",
       "      <th>10CH4_SSP585</th>\n",
       "      <td>100</td>\n",
       "      <td>3.36</td>\n",
       "      <td>NaN</td>\n",
       "    </tr>\n",
       "    <tr>\n",
       "      <th>CNTR_SSP119</th>\n",
       "      <td>76.4</td>\n",
       "      <td>0.00</td>\n",
       "      <td>NaN</td>\n",
       "    </tr>\n",
       "    <tr>\n",
       "      <th>CNTR_SSP434</th>\n",
       "      <td>91.8</td>\n",
       "      <td>0.00</td>\n",
       "      <td>NaN</td>\n",
       "    </tr>\n",
       "    <tr>\n",
       "      <th>CNTR_SSP585</th>\n",
       "      <td>97.0</td>\n",
       "      <td>0.00</td>\n",
       "      <td>NaN</td>\n",
       "    </tr>\n",
       "    <tr>\n",
       "      <th>antro10_SSP119</th>\n",
       "      <td>86.4</td>\n",
       "      <td>9.90</td>\n",
       "      <td>NaN</td>\n",
       "    </tr>\n",
       "    <tr>\n",
       "      <th>antro10_SSP434</th>\n",
       "      <td>102</td>\n",
       "      <td>9.90</td>\n",
       "      <td>NaN</td>\n",
       "    </tr>\n",
       "    <tr>\n",
       "      <th>antro10_SSP585</th>\n",
       "      <td>107</td>\n",
       "      <td>9.89</td>\n",
       "      <td>NaN</td>\n",
       "    </tr>\n",
       "  </tbody>\n",
       "</table>\n",
       "</div>"
      ],
      "text/plain": [
       "                h2_flux  deltaH2  deltaCH4\n",
       "10CH4_SSP119       78.6     2.13       NaN\n",
       "10CH4_SSP434       94.8     2.98       NaN\n",
       "10CH4_SSP585        100     3.36       NaN\n",
       "CNTR_SSP119        76.4     0.00       NaN\n",
       "CNTR_SSP434        91.8     0.00       NaN\n",
       "CNTR_SSP585        97.0     0.00       NaN\n",
       "antro10_SSP119     86.4     9.90       NaN\n",
       "antro10_SSP434      102     9.90       NaN\n",
       "antro10_SSP585      107     9.89       NaN"
      ]
     },
     "execution_count": 82,
     "metadata": {},
     "output_type": "execute_result"
    }
   ],
   "source": [
    "df_h2_flux_ssp"
   ]
  },
  {
   "cell_type": "code",
   "execution_count": 83,
   "metadata": {},
   "outputs": [
    {
     "data": {
      "text/plain": [
       "10CH4_SSP119     8.95\n",
       "10CH4_SSP434     8.89\n",
       "10CH4_SSP585     8.79\n",
       "CNTR_SSP119       NaN\n",
       "CNTR_SSP434       NaN\n",
       "CNTR_SSP585       NaN\n",
       "antro10_SSP119   6.36\n",
       "antro10_SSP434   6.53\n",
       "antro10_SSP585   6.42\n",
       "Name: surf_h2_per_h2_flux, dtype: float64"
      ]
     },
     "execution_count": 83,
     "metadata": {},
     "output_type": "execute_result"
    }
   ],
   "source": [
    "df_surf_h2_per_h2_flux_ssp = df_h2_surfconc_ssp.loc['delta']/df_h2_flux_ssp['deltaH2']\n",
    "df_surf_h2_per_h2_flux_ssp.name = 'surf_h2_per_h2_flux'\n",
    "df_surf_h2_per_h2_flux_ssp"
   ]
  },
  {
   "cell_type": "markdown",
   "metadata": {},
   "source": [
    "### Change in CH4 flux caused by 1 TgH2 /yr (includes H2 feedback) [Tg CH4/Tg H2]:"
   ]
  },
  {
   "cell_type": "markdown",
   "metadata": {},
   "source": [
    "The ch4_flux is multiplied by -1 (see above)."
   ]
  },
  {
   "cell_type": "code",
   "execution_count": 84,
   "metadata": {},
   "outputs": [
    {
     "data": {
      "text/plain": [
       "CNTR      NaN\n",
       "antro1   0.31\n",
       "H2_avi   0.32\n",
       "Name: ch4_flux_per_h2_flux, dtype: float64"
      ]
     },
     "execution_count": 84,
     "metadata": {},
     "output_type": "execute_result"
    }
   ],
   "source": [
    "df_ch4_flux_per_h2_flux = -1.0*df_ch4_flux.loc['deltaH2']/df_h2_flux['deltaH2']\n",
    "df_ch4_flux_per_h2_flux.name = 'ch4_flux_per_h2_flux'\n",
    "df_ch4_flux_per_h2_flux"
   ]
  },
  {
   "cell_type": "code",
   "execution_count": 85,
   "metadata": {},
   "outputs": [
    {
     "data": {
      "text/html": [
       "<div>\n",
       "<style scoped>\n",
       "    .dataframe tbody tr th:only-of-type {\n",
       "        vertical-align: middle;\n",
       "    }\n",
       "\n",
       "    .dataframe tbody tr th {\n",
       "        vertical-align: top;\n",
       "    }\n",
       "\n",
       "    .dataframe thead th {\n",
       "        text-align: right;\n",
       "    }\n",
       "</style>\n",
       "<table border=\"1\" class=\"dataframe\">\n",
       "  <thead>\n",
       "    <tr style=\"text-align: right;\">\n",
       "      <th></th>\n",
       "      <th>10CH4_SSP119</th>\n",
       "      <th>10CH4_SSP434</th>\n",
       "      <th>10CH4_SSP585</th>\n",
       "      <th>CNTR_SSP119</th>\n",
       "      <th>CNTR_SSP434</th>\n",
       "      <th>CNTR_SSP585</th>\n",
       "      <th>antro10_SSP119</th>\n",
       "      <th>antro10_SSP434</th>\n",
       "      <th>antro10_SSP585</th>\n",
       "    </tr>\n",
       "    <tr>\n",
       "      <th>Scenario</th>\n",
       "      <th></th>\n",
       "      <th></th>\n",
       "      <th></th>\n",
       "      <th></th>\n",
       "      <th></th>\n",
       "      <th></th>\n",
       "      <th></th>\n",
       "      <th></th>\n",
       "      <th></th>\n",
       "    </tr>\n",
       "  </thead>\n",
       "  <tbody>\n",
       "    <tr>\n",
       "      <th>YR13</th>\n",
       "      <td>589</td>\n",
       "      <td>839</td>\n",
       "      <td>969</td>\n",
       "      <td>552</td>\n",
       "      <td>787</td>\n",
       "      <td>910</td>\n",
       "      <td>549</td>\n",
       "      <td>784</td>\n",
       "      <td>907</td>\n",
       "    </tr>\n",
       "    <tr>\n",
       "      <th>deltaH2</th>\n",
       "      <td>NaN</td>\n",
       "      <td>NaN</td>\n",
       "      <td>NaN</td>\n",
       "      <td>NaN</td>\n",
       "      <td>NaN</td>\n",
       "      <td>NaN</td>\n",
       "      <td>NaN</td>\n",
       "      <td>NaN</td>\n",
       "      <td>NaN</td>\n",
       "    </tr>\n",
       "    <tr>\n",
       "      <th>deltaCH4</th>\n",
       "      <td>37.8</td>\n",
       "      <td>52.1</td>\n",
       "      <td>58.6</td>\n",
       "      <td>0.00</td>\n",
       "      <td>0.00</td>\n",
       "      <td>0.00</td>\n",
       "      <td>-2.93</td>\n",
       "      <td>-2.93</td>\n",
       "      <td>-3.16</td>\n",
       "    </tr>\n",
       "  </tbody>\n",
       "</table>\n",
       "</div>"
      ],
      "text/plain": [
       "          10CH4_SSP119  10CH4_SSP434  10CH4_SSP585  CNTR_SSP119  CNTR_SSP434  \\\n",
       "Scenario                                                                       \n",
       "YR13               589           839           969          552          787   \n",
       "deltaH2            NaN           NaN           NaN          NaN          NaN   \n",
       "deltaCH4          37.8          52.1          58.6         0.00         0.00   \n",
       "\n",
       "          CNTR_SSP585  antro10_SSP119  antro10_SSP434  antro10_SSP585  \n",
       "Scenario                                                               \n",
       "YR13              910             549             784             907  \n",
       "deltaH2           NaN             NaN             NaN             NaN  \n",
       "deltaCH4         0.00           -2.93           -2.93           -3.16  "
      ]
     },
     "execution_count": 85,
     "metadata": {},
     "output_type": "execute_result"
    }
   ],
   "source": [
    "df_ch4_flux_ssp"
   ]
  },
  {
   "cell_type": "code",
   "execution_count": 86,
   "metadata": {},
   "outputs": [
    {
     "name": "stderr",
     "output_type": "stream",
     "text": [
      "/tmp/ipykernel_2927/1045193769.py:4: FutureWarning: ChainedAssignmentError: behaviour will change in pandas 3.0!\n",
      "You are setting values through chained assignment. Currently this works in certain cases, but when using Copy-on-Write (which will become the default behaviour in pandas 3.0) this will never work to update the original DataFrame or Series, because the intermediate object on which we are setting values will behave as a copy.\n",
      "A typical example is when you are setting values in a column of a DataFrame, like:\n",
      "\n",
      "df[\"col\"][row_indexer] = value\n",
      "\n",
      "Use `df.loc[row_indexer, \"col\"] = values` instead, to perform the assignment in a single step and ensure this keeps updating the original `df`.\n",
      "\n",
      "See the caveats in the documentation: https://pandas.pydata.org/pandas-docs/stable/user_guide/indexing.html#returning-a-view-versus-a-copy\n",
      "\n",
      "  df_ch4_flux_ssp_v2[scen].loc['deltaH2'] = df_ch4_flux_ssp.loc['deltaCH4']['antro10_'+scen]\n",
      "/tmp/ipykernel_2927/1045193769.py:5: FutureWarning: ChainedAssignmentError: behaviour will change in pandas 3.0!\n",
      "You are setting values through chained assignment. Currently this works in certain cases, but when using Copy-on-Write (which will become the default behaviour in pandas 3.0) this will never work to update the original DataFrame or Series, because the intermediate object on which we are setting values will behave as a copy.\n",
      "A typical example is when you are setting values in a column of a DataFrame, like:\n",
      "\n",
      "df[\"col\"][row_indexer] = value\n",
      "\n",
      "Use `df.loc[row_indexer, \"col\"] = values` instead, to perform the assignment in a single step and ensure this keeps updating the original `df`.\n",
      "\n",
      "See the caveats in the documentation: https://pandas.pydata.org/pandas-docs/stable/user_guide/indexing.html#returning-a-view-versus-a-copy\n",
      "\n",
      "  df_ch4_flux_ssp_v2[scen].loc['deltaCH4'] = df_ch4_flux_ssp.loc['deltaCH4']['10CH4_'+scen]\n"
     ]
    },
    {
     "data": {
      "text/html": [
       "<div>\n",
       "<style scoped>\n",
       "    .dataframe tbody tr th:only-of-type {\n",
       "        vertical-align: middle;\n",
       "    }\n",
       "\n",
       "    .dataframe tbody tr th {\n",
       "        vertical-align: top;\n",
       "    }\n",
       "\n",
       "    .dataframe thead th {\n",
       "        text-align: right;\n",
       "    }\n",
       "</style>\n",
       "<table border=\"1\" class=\"dataframe\">\n",
       "  <thead>\n",
       "    <tr style=\"text-align: right;\">\n",
       "      <th></th>\n",
       "      <th>SSP119</th>\n",
       "      <th>SSP434</th>\n",
       "      <th>SSP585</th>\n",
       "    </tr>\n",
       "  </thead>\n",
       "  <tbody>\n",
       "    <tr>\n",
       "      <th>deltaH2</th>\n",
       "      <td>-2.93</td>\n",
       "      <td>-2.93</td>\n",
       "      <td>-3.16</td>\n",
       "    </tr>\n",
       "    <tr>\n",
       "      <th>deltaCH4</th>\n",
       "      <td>37.8</td>\n",
       "      <td>52.1</td>\n",
       "      <td>58.6</td>\n",
       "    </tr>\n",
       "  </tbody>\n",
       "</table>\n",
       "</div>"
      ],
      "text/plain": [
       "         SSP119 SSP434 SSP585\n",
       "deltaH2   -2.93  -2.93  -3.16\n",
       "deltaCH4   37.8   52.1   58.6"
      ]
     },
     "execution_count": 86,
     "metadata": {},
     "output_type": "execute_result"
    }
   ],
   "source": [
    "df_ch4_flux_ssp_v2 = pd.DataFrame(data=[],columns=['SSP119','SSP434','SSP585'],index=['deltaH2','deltaCH4'])\n",
    "\n",
    "for scen in df_ch4_flux_ssp_v2:\n",
    "        df_ch4_flux_ssp_v2[scen].loc['deltaH2'] = df_ch4_flux_ssp.loc['deltaCH4']['antro10_'+scen]\n",
    "        df_ch4_flux_ssp_v2[scen].loc['deltaCH4'] = df_ch4_flux_ssp.loc['deltaCH4']['10CH4_'+scen]\n",
    "df_ch4_flux_ssp_v2"
   ]
  },
  {
   "cell_type": "code",
   "execution_count": 87,
   "metadata": {},
   "outputs": [
    {
     "name": "stderr",
     "output_type": "stream",
     "text": [
      "/tmp/ipykernel_2927/1255993474.py:4: FutureWarning: ChainedAssignmentError: behaviour will change in pandas 3.0!\n",
      "You are setting values through chained assignment. Currently this works in certain cases, but when using Copy-on-Write (which will become the default behaviour in pandas 3.0) this will never work to update the original DataFrame or Series, because the intermediate object on which we are setting values will behave as a copy.\n",
      "A typical example is when you are setting values in a column of a DataFrame, like:\n",
      "\n",
      "df[\"col\"][row_indexer] = value\n",
      "\n",
      "Use `df.loc[row_indexer, \"col\"] = values` instead, to perform the assignment in a single step and ensure this keeps updating the original `df`.\n",
      "\n",
      "See the caveats in the documentation: https://pandas.pydata.org/pandas-docs/stable/user_guide/indexing.html#returning-a-view-versus-a-copy\n",
      "\n",
      "  df_h2_flux_ssp_v2[scen].loc['deltaH2'] = df_h2_flux_ssp['deltaH2'].loc['antro10_'+scen]\n",
      "/tmp/ipykernel_2927/1255993474.py:5: FutureWarning: ChainedAssignmentError: behaviour will change in pandas 3.0!\n",
      "You are setting values through chained assignment. Currently this works in certain cases, but when using Copy-on-Write (which will become the default behaviour in pandas 3.0) this will never work to update the original DataFrame or Series, because the intermediate object on which we are setting values will behave as a copy.\n",
      "A typical example is when you are setting values in a column of a DataFrame, like:\n",
      "\n",
      "df[\"col\"][row_indexer] = value\n",
      "\n",
      "Use `df.loc[row_indexer, \"col\"] = values` instead, to perform the assignment in a single step and ensure this keeps updating the original `df`.\n",
      "\n",
      "See the caveats in the documentation: https://pandas.pydata.org/pandas-docs/stable/user_guide/indexing.html#returning-a-view-versus-a-copy\n",
      "\n",
      "  df_h2_flux_ssp_v2[scen].loc['deltaCH4'] = df_h2_flux_ssp['deltaH2'].loc['10CH4_'+scen]\n"
     ]
    },
    {
     "data": {
      "text/html": [
       "<div>\n",
       "<style scoped>\n",
       "    .dataframe tbody tr th:only-of-type {\n",
       "        vertical-align: middle;\n",
       "    }\n",
       "\n",
       "    .dataframe tbody tr th {\n",
       "        vertical-align: top;\n",
       "    }\n",
       "\n",
       "    .dataframe thead th {\n",
       "        text-align: right;\n",
       "    }\n",
       "</style>\n",
       "<table border=\"1\" class=\"dataframe\">\n",
       "  <thead>\n",
       "    <tr style=\"text-align: right;\">\n",
       "      <th></th>\n",
       "      <th>SSP119</th>\n",
       "      <th>SSP434</th>\n",
       "      <th>SSP585</th>\n",
       "    </tr>\n",
       "  </thead>\n",
       "  <tbody>\n",
       "    <tr>\n",
       "      <th>deltaH2</th>\n",
       "      <td>9.90</td>\n",
       "      <td>9.90</td>\n",
       "      <td>9.89</td>\n",
       "    </tr>\n",
       "    <tr>\n",
       "      <th>deltaCH4</th>\n",
       "      <td>2.13</td>\n",
       "      <td>2.98</td>\n",
       "      <td>3.36</td>\n",
       "    </tr>\n",
       "  </tbody>\n",
       "</table>\n",
       "</div>"
      ],
      "text/plain": [
       "         SSP119 SSP434 SSP585\n",
       "deltaH2    9.90   9.90   9.89\n",
       "deltaCH4   2.13   2.98   3.36"
      ]
     },
     "execution_count": 87,
     "metadata": {},
     "output_type": "execute_result"
    }
   ],
   "source": [
    "df_h2_flux_ssp_v2 = pd.DataFrame(data=[],columns=['SSP119','SSP434','SSP585'],index=['deltaH2','deltaCH4'])\n",
    "\n",
    "for scen in df_h2_flux_ssp_v2:\n",
    "        df_h2_flux_ssp_v2[scen].loc['deltaH2'] = df_h2_flux_ssp['deltaH2'].loc['antro10_'+scen]\n",
    "        df_h2_flux_ssp_v2[scen].loc['deltaCH4'] = df_h2_flux_ssp['deltaH2'].loc['10CH4_'+scen]\n",
    "df_h2_flux_ssp_v2"
   ]
  },
  {
   "cell_type": "code",
   "execution_count": 88,
   "metadata": {},
   "outputs": [
    {
     "data": {
      "text/plain": [
       "SSP119   0.30\n",
       "SSP434   0.30\n",
       "SSP585   0.32\n",
       "Name: ch4_flux_per_h2_flux_ssp, dtype: object"
      ]
     },
     "execution_count": 88,
     "metadata": {},
     "output_type": "execute_result"
    }
   ],
   "source": [
    "df_ch4_flux_per_h2_flux_ssp = -1.0*df_ch4_flux_ssp_v2.loc['deltaH2']/df_h2_flux_ssp_v2.loc['deltaH2']\n",
    "df_ch4_flux_per_h2_flux_ssp.name = 'ch4_flux_per_h2_flux_ssp'\n",
    "df_ch4_flux_per_h2_flux_ssp"
   ]
  },
  {
   "cell_type": "markdown",
   "metadata": {},
   "source": [
    "### Change in CH4 surface conc. caused by 1 Tg/yr CH4 [ppb yr/Tg CH4]"
   ]
  },
  {
   "cell_type": "code",
   "execution_count": 89,
   "metadata": {},
   "outputs": [
    {
     "data": {
      "text/plain": [
       "np.float64(3.6503026966623184)"
      ]
     },
     "execution_count": 89,
     "metadata": {},
     "output_type": "execute_result"
    }
   ],
   "source": [
    "df_surf_ch4_per_ch4_flux_conc =  df_ch4_surfconc_conc.loc['deltaCH4']/df_ch4_flux_conc.loc['deltaCH4']\n",
    "df_surf_ch4_per_ch4_flux_conc\n"
   ]
  },
  {
   "cell_type": "code",
   "execution_count": 90,
   "metadata": {},
   "outputs": [
    {
     "data": {
      "text/plain": [
       "CNTR     3.65\n",
       "antro1   3.65\n",
       "H2_avi   3.65\n",
       "Name: surf_ch4_per_ch4_flux, dtype: float64"
      ]
     },
     "execution_count": 90,
     "metadata": {},
     "output_type": "execute_result"
    }
   ],
   "source": [
    "df_surf_ch4_per_ch4_flux =  df_ch4_surfconc.loc['delta']/df_ch4_flux.loc['deltaCH4']\n",
    "df_surf_ch4_per_ch4_flux.name = 'surf_ch4_per_ch4_flux'\n",
    "df_surf_ch4_per_ch4_flux"
   ]
  },
  {
   "cell_type": "markdown",
   "metadata": {},
   "source": [
    "OsloCTM3-emi set equal to OsloCTM3 concentration driven."
   ]
  },
  {
   "cell_type": "code",
   "execution_count": 91,
   "metadata": {},
   "outputs": [
    {
     "data": {
      "text/plain": [
       "CNTR     3.65\n",
       "antro1   3.65\n",
       "H2_avi   3.65\n",
       "Name: surf_ch4_per_ch4_flux, dtype: float64"
      ]
     },
     "execution_count": 91,
     "metadata": {},
     "output_type": "execute_result"
    }
   ],
   "source": [
    "df_surf_ch4_per_ch4_flux[:] = df_surf_ch4_per_ch4_flux_conc\n",
    "df_surf_ch4_per_ch4_flux"
   ]
  },
  {
   "cell_type": "code",
   "execution_count": 92,
   "metadata": {},
   "outputs": [
    {
     "name": "stderr",
     "output_type": "stream",
     "text": [
      "/tmp/ipykernel_2927/934454039.py:3: FutureWarning: ChainedAssignmentError: behaviour will change in pandas 3.0!\n",
      "You are setting values through chained assignment. Currently this works in certain cases, but when using Copy-on-Write (which will become the default behaviour in pandas 3.0) this will never work to update the original DataFrame or Series, because the intermediate object on which we are setting values will behave as a copy.\n",
      "A typical example is when you are setting values in a column of a DataFrame, like:\n",
      "\n",
      "df[\"col\"][row_indexer] = value\n",
      "\n",
      "Use `df.loc[row_indexer, \"col\"] = values` instead, to perform the assignment in a single step and ensure this keeps updating the original `df`.\n",
      "\n",
      "See the caveats in the documentation: https://pandas.pydata.org/pandas-docs/stable/user_guide/indexing.html#returning-a-view-versus-a-copy\n",
      "\n",
      "  df_ch4_surfconc_ssp_v2[scen].loc['delta'] = df_ch4_surfconc_ssp.loc['delta']['10CH4_'+scen]\n"
     ]
    },
    {
     "data": {
      "text/html": [
       "<div>\n",
       "<style scoped>\n",
       "    .dataframe tbody tr th:only-of-type {\n",
       "        vertical-align: middle;\n",
       "    }\n",
       "\n",
       "    .dataframe tbody tr th {\n",
       "        vertical-align: top;\n",
       "    }\n",
       "\n",
       "    .dataframe thead th {\n",
       "        text-align: right;\n",
       "    }\n",
       "</style>\n",
       "<table border=\"1\" class=\"dataframe\">\n",
       "  <thead>\n",
       "    <tr style=\"text-align: right;\">\n",
       "      <th></th>\n",
       "      <th>SSP119</th>\n",
       "      <th>SSP434</th>\n",
       "      <th>SSP585</th>\n",
       "    </tr>\n",
       "  </thead>\n",
       "  <tbody>\n",
       "    <tr>\n",
       "      <th>delta</th>\n",
       "      <td>143</td>\n",
       "      <td>222</td>\n",
       "      <td>245</td>\n",
       "    </tr>\n",
       "  </tbody>\n",
       "</table>\n",
       "</div>"
      ],
      "text/plain": [
       "      SSP119 SSP434 SSP585\n",
       "delta    143    222    245"
      ]
     },
     "execution_count": 92,
     "metadata": {},
     "output_type": "execute_result"
    }
   ],
   "source": [
    "df_ch4_surfconc_ssp_v2 = pd.DataFrame(data=[],columns=['SSP119','SSP434','SSP585'],index=['delta'])\n",
    "for scen in df_ch4_surfconc_ssp_v2.columns:\n",
    "        df_ch4_surfconc_ssp_v2[scen].loc['delta'] = df_ch4_surfconc_ssp.loc['delta']['10CH4_'+scen]\n",
    "\n",
    "df_ch4_surfconc_ssp_v2"
   ]
  },
  {
   "cell_type": "code",
   "execution_count": 93,
   "metadata": {},
   "outputs": [
    {
     "data": {
      "text/plain": [
       "SSP119   3.78\n",
       "SSP434   4.27\n",
       "SSP585   4.17\n",
       "Name: surf_ch4_per_ch4_flux, dtype: object"
      ]
     },
     "execution_count": 93,
     "metadata": {},
     "output_type": "execute_result"
    }
   ],
   "source": [
    "df_surf_ch4_per_ch4_flux_ssp =  df_ch4_surfconc_ssp_v2.loc['delta']/df_ch4_flux_ssp_v2.loc['deltaCH4']\n",
    "df_surf_ch4_per_ch4_flux_ssp.name = 'surf_ch4_per_ch4_flux'\n",
    "df_surf_ch4_per_ch4_flux_ssp"
   ]
  },
  {
   "cell_type": "markdown",
   "metadata": {},
   "source": [
    "### Change in CH4 surface concentration per emission H2 [ppb yr /Tg H2]"
   ]
  },
  {
   "cell_type": "code",
   "execution_count": 94,
   "metadata": {},
   "outputs": [
    {
     "data": {
      "text/plain": [
       "CNTR      NaN\n",
       "antro1   1.12\n",
       "H2_avi   1.18\n",
       "Name: surf_ch4_per_h2_flux, dtype: float64"
      ]
     },
     "execution_count": 94,
     "metadata": {},
     "output_type": "execute_result"
    }
   ],
   "source": [
    "df_surf_ch4_per_h2_flux = df_surf_ch4_per_ch4_flux*df_ch4_flux_per_h2_flux\n",
    "df_surf_ch4_per_h2_flux.name = 'surf_ch4_per_h2_flux'\n",
    "df_surf_ch4_per_h2_flux"
   ]
  },
  {
   "cell_type": "code",
   "execution_count": 95,
   "metadata": {},
   "outputs": [
    {
     "data": {
      "text/plain": [
       "SSP119   1.12\n",
       "SSP434   1.26\n",
       "SSP585   1.33\n",
       "Name: surf_ch4_per_h2_flux, dtype: object"
      ]
     },
     "execution_count": 95,
     "metadata": {},
     "output_type": "execute_result"
    }
   ],
   "source": [
    "df_surf_ch4_per_h2_flux_ssp = df_surf_ch4_per_ch4_flux_ssp*df_ch4_flux_per_h2_flux_ssp\n",
    "df_surf_ch4_per_h2_flux_ssp.name = 'surf_ch4_per_h2_flux'\n",
    "df_surf_ch4_per_h2_flux_ssp"
   ]
  },
  {
   "cell_type": "code",
   "execution_count": 96,
   "metadata": {},
   "outputs": [
    {
     "data": {
      "text/html": [
       "<div>\n",
       "<style scoped>\n",
       "    .dataframe tbody tr th:only-of-type {\n",
       "        vertical-align: middle;\n",
       "    }\n",
       "\n",
       "    .dataframe tbody tr th {\n",
       "        vertical-align: top;\n",
       "    }\n",
       "\n",
       "    .dataframe thead th {\n",
       "        text-align: right;\n",
       "    }\n",
       "</style>\n",
       "<table border=\"1\" class=\"dataframe\">\n",
       "  <thead>\n",
       "    <tr style=\"text-align: right;\">\n",
       "      <th></th>\n",
       "      <th>h2_flux</th>\n",
       "      <th>deltaH2</th>\n",
       "      <th>deltaCH4</th>\n",
       "    </tr>\n",
       "  </thead>\n",
       "  <tbody>\n",
       "    <tr>\n",
       "      <th>CNTR</th>\n",
       "      <td>87.2</td>\n",
       "      <td>0.00</td>\n",
       "      <td>-0.75</td>\n",
       "    </tr>\n",
       "    <tr>\n",
       "      <th>antro1</th>\n",
       "      <td>88.1</td>\n",
       "      <td>0.95</td>\n",
       "      <td>-0.75</td>\n",
       "    </tr>\n",
       "    <tr>\n",
       "      <th>H2_avi</th>\n",
       "      <td>87.9</td>\n",
       "      <td>0.71</td>\n",
       "      <td>-0.75</td>\n",
       "    </tr>\n",
       "  </tbody>\n",
       "</table>\n",
       "</div>"
      ],
      "text/plain": [
       "        h2_flux  deltaH2  deltaCH4\n",
       "CNTR       87.2     0.00     -0.75\n",
       "antro1     88.1     0.95     -0.75\n",
       "H2_avi     87.9     0.71     -0.75"
      ]
     },
     "execution_count": 96,
     "metadata": {},
     "output_type": "execute_result"
    }
   ],
   "source": [
    "df_h2_flux"
   ]
  },
  {
   "cell_type": "markdown",
   "metadata": {},
   "source": [
    "### Change in H2 flux caused by 1 TgCH4/yr [Tg H2/Tg CH4]"
   ]
  },
  {
   "cell_type": "markdown",
   "metadata": {},
   "source": [
    "We multiply by -1 (see above)"
   ]
  },
  {
   "cell_type": "code",
   "execution_count": 97,
   "metadata": {},
   "outputs": [
    {
     "data": {
      "text/plain": [
       "CNTR     0.02\n",
       "antro1   0.02\n",
       "H2_avi   0.02\n",
       "Name: h2_flux_per_ch4_flux, dtype: float64"
      ]
     },
     "execution_count": 97,
     "metadata": {},
     "output_type": "execute_result"
    }
   ],
   "source": [
    "df_h2_flux_per_ch4_flux = -1.0*df_h2_flux['deltaCH4']/df_ch4_flux.loc['deltaCH4']\n",
    "df_h2_flux_per_ch4_flux.name = 'h2_flux_per_ch4_flux'\n",
    "df_h2_flux_per_ch4_flux"
   ]
  },
  {
   "cell_type": "code",
   "execution_count": 98,
   "metadata": {},
   "outputs": [
    {
     "name": "stderr",
     "output_type": "stream",
     "text": [
      "/tmp/ipykernel_2927/3000563033.py:4: FutureWarning: ChainedAssignmentError: behaviour will change in pandas 3.0!\n",
      "You are setting values through chained assignment. Currently this works in certain cases, but when using Copy-on-Write (which will become the default behaviour in pandas 3.0) this will never work to update the original DataFrame or Series, because the intermediate object on which we are setting values will behave as a copy.\n",
      "A typical example is when you are setting values in a column of a DataFrame, like:\n",
      "\n",
      "df[\"col\"][row_indexer] = value\n",
      "\n",
      "Use `df.loc[row_indexer, \"col\"] = values` instead, to perform the assignment in a single step and ensure this keeps updating the original `df`.\n",
      "\n",
      "See the caveats in the documentation: https://pandas.pydata.org/pandas-docs/stable/user_guide/indexing.html#returning-a-view-versus-a-copy\n",
      "\n",
      "  df_h2_flux_ssp_v2[scen].loc['deltaH2'] = df_h2_flux_ssp['deltaH2'].loc['antro10_'+scen]\n",
      "/tmp/ipykernel_2927/3000563033.py:5: FutureWarning: ChainedAssignmentError: behaviour will change in pandas 3.0!\n",
      "You are setting values through chained assignment. Currently this works in certain cases, but when using Copy-on-Write (which will become the default behaviour in pandas 3.0) this will never work to update the original DataFrame or Series, because the intermediate object on which we are setting values will behave as a copy.\n",
      "A typical example is when you are setting values in a column of a DataFrame, like:\n",
      "\n",
      "df[\"col\"][row_indexer] = value\n",
      "\n",
      "Use `df.loc[row_indexer, \"col\"] = values` instead, to perform the assignment in a single step and ensure this keeps updating the original `df`.\n",
      "\n",
      "See the caveats in the documentation: https://pandas.pydata.org/pandas-docs/stable/user_guide/indexing.html#returning-a-view-versus-a-copy\n",
      "\n",
      "  df_h2_flux_ssp_v2[scen].loc['deltaCH4'] = df_h2_flux_ssp['deltaH2'].loc['10CH4_'+scen]\n"
     ]
    },
    {
     "data": {
      "text/html": [
       "<div>\n",
       "<style scoped>\n",
       "    .dataframe tbody tr th:only-of-type {\n",
       "        vertical-align: middle;\n",
       "    }\n",
       "\n",
       "    .dataframe tbody tr th {\n",
       "        vertical-align: top;\n",
       "    }\n",
       "\n",
       "    .dataframe thead th {\n",
       "        text-align: right;\n",
       "    }\n",
       "</style>\n",
       "<table border=\"1\" class=\"dataframe\">\n",
       "  <thead>\n",
       "    <tr style=\"text-align: right;\">\n",
       "      <th></th>\n",
       "      <th>SSP119</th>\n",
       "      <th>SSP434</th>\n",
       "      <th>SSP585</th>\n",
       "    </tr>\n",
       "  </thead>\n",
       "  <tbody>\n",
       "    <tr>\n",
       "      <th>deltaH2</th>\n",
       "      <td>9.90</td>\n",
       "      <td>9.90</td>\n",
       "      <td>9.89</td>\n",
       "    </tr>\n",
       "    <tr>\n",
       "      <th>deltaCH4</th>\n",
       "      <td>2.13</td>\n",
       "      <td>2.98</td>\n",
       "      <td>3.36</td>\n",
       "    </tr>\n",
       "  </tbody>\n",
       "</table>\n",
       "</div>"
      ],
      "text/plain": [
       "         SSP119 SSP434 SSP585\n",
       "deltaH2    9.90   9.90   9.89\n",
       "deltaCH4   2.13   2.98   3.36"
      ]
     },
     "execution_count": 98,
     "metadata": {},
     "output_type": "execute_result"
    }
   ],
   "source": [
    "df_h2_flux_ssp_v2 = pd.DataFrame(data=[],columns=['SSP119','SSP434','SSP585'],index=['deltaH2','deltaCH4'])\n",
    "\n",
    "for scen in df_h2_flux_ssp_v2.columns:\n",
    "        df_h2_flux_ssp_v2[scen].loc['deltaH2'] = df_h2_flux_ssp['deltaH2'].loc['antro10_'+scen]\n",
    "        df_h2_flux_ssp_v2[scen].loc['deltaCH4'] = df_h2_flux_ssp['deltaH2'].loc['10CH4_'+scen]\n",
    "df_h2_flux_ssp_v2"
   ]
  },
  {
   "cell_type": "markdown",
   "metadata": {},
   "source": [
    "Here, we do not multiply by -1.0 as the methane perturbation is done on emission driven hydrogen simulations."
   ]
  },
  {
   "cell_type": "code",
   "execution_count": 99,
   "metadata": {},
   "outputs": [
    {
     "data": {
      "text/plain": [
       "SSP119   0.06\n",
       "SSP434   0.06\n",
       "SSP585   0.06\n",
       "Name: h2_flux_per_ch4_flux, dtype: object"
      ]
     },
     "execution_count": 99,
     "metadata": {},
     "output_type": "execute_result"
    }
   ],
   "source": [
    "df_h2_flux_per_ch4_flux_ssp = df_h2_flux_ssp_v2.loc['deltaCH4']/df_ch4_flux_ssp_v2.loc['deltaCH4']\n",
    "df_h2_flux_per_ch4_flux_ssp.name = 'h2_flux_per_ch4_flux'\n",
    "df_h2_flux_per_ch4_flux_ssp"
   ]
  },
  {
   "cell_type": "markdown",
   "metadata": {},
   "source": [
    "### HYDROGEN AGWP100 CH4 [mW m-2 yr Tg-1]"
   ]
  },
  {
   "cell_type": "markdown",
   "metadata": {},
   "source": [
    "agwp_ch4 = RF per flux H2"
   ]
  },
  {
   "cell_type": "code",
   "execution_count": 100,
   "metadata": {},
   "outputs": [
    {
     "data": {
      "text/plain": [
       "CNTR      NaN\n",
       "antro1   0.43\n",
       "H2_avi   0.46\n",
       "Name: h2_agwp_ch4, dtype: float64"
      ]
     },
     "execution_count": 100,
     "metadata": {},
     "output_type": "execute_result"
    }
   ],
   "source": [
    "df_h2_agwp_ch4 = df_surf_ch4_per_h2_flux*spec_rf_ch4\n",
    "df_h2_agwp_ch4.name = 'h2_agwp_ch4'\n",
    "df_h2_agwp_ch4"
   ]
  },
  {
   "cell_type": "code",
   "execution_count": 101,
   "metadata": {},
   "outputs": [
    {
     "data": {
      "text/plain": [
       "CNTR      NaN\n",
       "antro1   0.43\n",
       "H2_avi   0.46\n",
       "Name: ch4_rf_per_h2_flux, dtype: float64"
      ]
     },
     "execution_count": 101,
     "metadata": {},
     "output_type": "execute_result"
    }
   ],
   "source": [
    "#agwp_ch4 = RF per flux H2 (For the per flux table)\n",
    "df_ch4_rf_per_h2_flux = df_surf_ch4_per_h2_flux*spec_rf_ch4\n",
    "df_ch4_rf_per_h2_flux.name = 'ch4_rf_per_h2_flux'\n",
    "\n",
    "df_ch4_rf_per_h2_flux"
   ]
  },
  {
   "cell_type": "code",
   "execution_count": 102,
   "metadata": {},
   "outputs": [
    {
     "data": {
      "text/plain": [
       "SSP119   0.43\n",
       "SSP434   0.49\n",
       "SSP585   0.51\n",
       "Name: h2_agwp_ch4, dtype: object"
      ]
     },
     "execution_count": 102,
     "metadata": {},
     "output_type": "execute_result"
    }
   ],
   "source": [
    "df_h2_agwp_ch4_ssp = df_surf_ch4_per_h2_flux_ssp*spec_rf_ch4\n",
    "df_h2_agwp_ch4_ssp.name = 'h2_agwp_ch4'\n",
    "df_h2_agwp_ch4_ssp"
   ]
  },
  {
   "cell_type": "code",
   "execution_count": 103,
   "metadata": {},
   "outputs": [
    {
     "data": {
      "text/plain": [
       "SSP119   0.43\n",
       "SSP434   0.49\n",
       "SSP585   0.51\n",
       "Name: ch4_rf_per_h2_flux, dtype: object"
      ]
     },
     "execution_count": 103,
     "metadata": {},
     "output_type": "execute_result"
    }
   ],
   "source": [
    "#agwp_ch4 = RF per flux H2 (For the per flux table)\n",
    "df_ch4_rf_per_h2_flux_ssp = df_surf_ch4_per_h2_flux_ssp*spec_rf_ch4\n",
    "df_ch4_rf_per_h2_flux_ssp.name = 'ch4_rf_per_h2_flux'\n",
    "\n",
    "df_ch4_rf_per_h2_flux_ssp"
   ]
  },
  {
   "cell_type": "markdown",
   "metadata": {},
   "source": [
    "### Initialize H2 GWP table"
   ]
  },
  {
   "cell_type": "code",
   "execution_count": 104,
   "metadata": {},
   "outputs": [
    {
     "data": {
      "text/html": [
       "<div>\n",
       "<style scoped>\n",
       "    .dataframe tbody tr th:only-of-type {\n",
       "        vertical-align: middle;\n",
       "    }\n",
       "\n",
       "    .dataframe tbody tr th {\n",
       "        vertical-align: top;\n",
       "    }\n",
       "\n",
       "    .dataframe thead th {\n",
       "        text-align: right;\n",
       "    }\n",
       "</style>\n",
       "<table border=\"1\" class=\"dataframe\">\n",
       "  <thead>\n",
       "    <tr style=\"text-align: right;\">\n",
       "      <th></th>\n",
       "      <th>CNTR</th>\n",
       "      <th>antro1</th>\n",
       "      <th>H2_avi</th>\n",
       "    </tr>\n",
       "  </thead>\n",
       "  <tbody>\n",
       "    <tr>\n",
       "      <th>O3</th>\n",
       "      <td>NaN</td>\n",
       "      <td>NaN</td>\n",
       "      <td>NaN</td>\n",
       "    </tr>\n",
       "    <tr>\n",
       "      <th>CH4</th>\n",
       "      <td>NaN</td>\n",
       "      <td>NaN</td>\n",
       "      <td>NaN</td>\n",
       "    </tr>\n",
       "    <tr>\n",
       "      <th>strat H2O</th>\n",
       "      <td>NaN</td>\n",
       "      <td>NaN</td>\n",
       "      <td>NaN</td>\n",
       "    </tr>\n",
       "    <tr>\n",
       "      <th>O3 CH4ind</th>\n",
       "      <td>NaN</td>\n",
       "      <td>NaN</td>\n",
       "      <td>NaN</td>\n",
       "    </tr>\n",
       "    <tr>\n",
       "      <th>strat H2O CH4ind</th>\n",
       "      <td>NaN</td>\n",
       "      <td>NaN</td>\n",
       "      <td>NaN</td>\n",
       "    </tr>\n",
       "  </tbody>\n",
       "</table>\n",
       "</div>"
      ],
      "text/plain": [
       "                  CNTR  antro1  H2_avi\n",
       "O3                 NaN     NaN     NaN\n",
       "CH4                NaN     NaN     NaN\n",
       "strat H2O          NaN     NaN     NaN\n",
       "O3 CH4ind          NaN     NaN     NaN\n",
       "strat H2O CH4ind   NaN     NaN     NaN"
      ]
     },
     "execution_count": 104,
     "metadata": {},
     "output_type": "execute_result"
    }
   ],
   "source": [
    "antmod = len(df_h2_agwp_ch4.index)\n",
    "df_h2_gwp = pd.DataFrame(np.empty([5,antmod])*np.nan,columns=df_h2_agwp_ch4.index,\n",
    "                         index=['O3','CH4','strat H2O','O3 CH4ind','strat H2O CH4ind'])\n",
    "df_h2_gwp"
   ]
  },
  {
   "cell_type": "code",
   "execution_count": 105,
   "metadata": {},
   "outputs": [
    {
     "data": {
      "text/html": [
       "<div>\n",
       "<style scoped>\n",
       "    .dataframe tbody tr th:only-of-type {\n",
       "        vertical-align: middle;\n",
       "    }\n",
       "\n",
       "    .dataframe tbody tr th {\n",
       "        vertical-align: top;\n",
       "    }\n",
       "\n",
       "    .dataframe thead th {\n",
       "        text-align: right;\n",
       "    }\n",
       "</style>\n",
       "<table border=\"1\" class=\"dataframe\">\n",
       "  <thead>\n",
       "    <tr style=\"text-align: right;\">\n",
       "      <th></th>\n",
       "      <th>SSP119</th>\n",
       "      <th>SSP434</th>\n",
       "      <th>SSP585</th>\n",
       "    </tr>\n",
       "  </thead>\n",
       "  <tbody>\n",
       "    <tr>\n",
       "      <th>O3</th>\n",
       "      <td>NaN</td>\n",
       "      <td>NaN</td>\n",
       "      <td>NaN</td>\n",
       "    </tr>\n",
       "    <tr>\n",
       "      <th>CH4</th>\n",
       "      <td>NaN</td>\n",
       "      <td>NaN</td>\n",
       "      <td>NaN</td>\n",
       "    </tr>\n",
       "    <tr>\n",
       "      <th>strat H2O</th>\n",
       "      <td>NaN</td>\n",
       "      <td>NaN</td>\n",
       "      <td>NaN</td>\n",
       "    </tr>\n",
       "    <tr>\n",
       "      <th>O3 CH4ind</th>\n",
       "      <td>NaN</td>\n",
       "      <td>NaN</td>\n",
       "      <td>NaN</td>\n",
       "    </tr>\n",
       "    <tr>\n",
       "      <th>strat H2O CH4ind</th>\n",
       "      <td>NaN</td>\n",
       "      <td>NaN</td>\n",
       "      <td>NaN</td>\n",
       "    </tr>\n",
       "  </tbody>\n",
       "</table>\n",
       "</div>"
      ],
      "text/plain": [
       "                  SSP119  SSP434  SSP585\n",
       "O3                   NaN     NaN     NaN\n",
       "CH4                  NaN     NaN     NaN\n",
       "strat H2O            NaN     NaN     NaN\n",
       "O3 CH4ind            NaN     NaN     NaN\n",
       "strat H2O CH4ind     NaN     NaN     NaN"
      ]
     },
     "execution_count": 105,
     "metadata": {},
     "output_type": "execute_result"
    }
   ],
   "source": [
    "antmod = len(df_h2_agwp_ch4_ssp.index)\n",
    "df_h2_gwp_ssp = pd.DataFrame(np.empty([5,antmod])*np.nan,columns=df_h2_agwp_ch4_ssp.index,\n",
    "                         index=['O3','CH4','strat H2O','O3 CH4ind','strat H2O CH4ind'])\n",
    "df_h2_gwp_ssp"
   ]
  },
  {
   "cell_type": "markdown",
   "metadata": {},
   "source": [
    "### Add methane GWP"
   ]
  },
  {
   "cell_type": "code",
   "execution_count": 106,
   "metadata": {},
   "outputs": [
    {
     "data": {
      "text/html": [
       "<div>\n",
       "<style scoped>\n",
       "    .dataframe tbody tr th:only-of-type {\n",
       "        vertical-align: middle;\n",
       "    }\n",
       "\n",
       "    .dataframe tbody tr th {\n",
       "        vertical-align: top;\n",
       "    }\n",
       "\n",
       "    .dataframe thead th {\n",
       "        text-align: right;\n",
       "    }\n",
       "</style>\n",
       "<table border=\"1\" class=\"dataframe\">\n",
       "  <thead>\n",
       "    <tr style=\"text-align: right;\">\n",
       "      <th></th>\n",
       "      <th>CNTR</th>\n",
       "      <th>antro1</th>\n",
       "      <th>H2_avi</th>\n",
       "    </tr>\n",
       "  </thead>\n",
       "  <tbody>\n",
       "    <tr>\n",
       "      <th>O3</th>\n",
       "      <td>NaN</td>\n",
       "      <td>NaN</td>\n",
       "      <td>NaN</td>\n",
       "    </tr>\n",
       "    <tr>\n",
       "      <th>CH4</th>\n",
       "      <td>NaN</td>\n",
       "      <td>4.83</td>\n",
       "      <td>5.10</td>\n",
       "    </tr>\n",
       "    <tr>\n",
       "      <th>strat H2O</th>\n",
       "      <td>NaN</td>\n",
       "      <td>NaN</td>\n",
       "      <td>NaN</td>\n",
       "    </tr>\n",
       "    <tr>\n",
       "      <th>O3 CH4ind</th>\n",
       "      <td>NaN</td>\n",
       "      <td>NaN</td>\n",
       "      <td>NaN</td>\n",
       "    </tr>\n",
       "    <tr>\n",
       "      <th>strat H2O CH4ind</th>\n",
       "      <td>NaN</td>\n",
       "      <td>NaN</td>\n",
       "      <td>NaN</td>\n",
       "    </tr>\n",
       "  </tbody>\n",
       "</table>\n",
       "</div>"
      ],
      "text/plain": [
       "                  CNTR  antro1  H2_avi\n",
       "O3                 NaN     NaN     NaN\n",
       "CH4                NaN    4.83    5.10\n",
       "strat H2O          NaN     NaN     NaN\n",
       "O3 CH4ind          NaN     NaN     NaN\n",
       "strat H2O CH4ind   NaN     NaN     NaN"
      ]
     },
     "execution_count": 106,
     "metadata": {},
     "output_type": "execute_result"
    }
   ],
   "source": [
    "df_h2_gwp.loc['CH4'] = df_h2_agwp_ch4/agwp100_CO2\n",
    "df_h2_gwp"
   ]
  },
  {
   "cell_type": "code",
   "execution_count": 107,
   "metadata": {},
   "outputs": [
    {
     "data": {
      "text/html": [
       "<div>\n",
       "<style scoped>\n",
       "    .dataframe tbody tr th:only-of-type {\n",
       "        vertical-align: middle;\n",
       "    }\n",
       "\n",
       "    .dataframe tbody tr th {\n",
       "        vertical-align: top;\n",
       "    }\n",
       "\n",
       "    .dataframe thead th {\n",
       "        text-align: right;\n",
       "    }\n",
       "</style>\n",
       "<table border=\"1\" class=\"dataframe\">\n",
       "  <thead>\n",
       "    <tr style=\"text-align: right;\">\n",
       "      <th></th>\n",
       "      <th>SSP119</th>\n",
       "      <th>SSP434</th>\n",
       "      <th>SSP585</th>\n",
       "    </tr>\n",
       "  </thead>\n",
       "  <tbody>\n",
       "    <tr>\n",
       "      <th>O3</th>\n",
       "      <td>NaN</td>\n",
       "      <td>NaN</td>\n",
       "      <td>NaN</td>\n",
       "    </tr>\n",
       "    <tr>\n",
       "      <th>CH4</th>\n",
       "      <td>4.82</td>\n",
       "      <td>5.44</td>\n",
       "      <td>5.74</td>\n",
       "    </tr>\n",
       "    <tr>\n",
       "      <th>strat H2O</th>\n",
       "      <td>NaN</td>\n",
       "      <td>NaN</td>\n",
       "      <td>NaN</td>\n",
       "    </tr>\n",
       "    <tr>\n",
       "      <th>O3 CH4ind</th>\n",
       "      <td>NaN</td>\n",
       "      <td>NaN</td>\n",
       "      <td>NaN</td>\n",
       "    </tr>\n",
       "    <tr>\n",
       "      <th>strat H2O CH4ind</th>\n",
       "      <td>NaN</td>\n",
       "      <td>NaN</td>\n",
       "      <td>NaN</td>\n",
       "    </tr>\n",
       "  </tbody>\n",
       "</table>\n",
       "</div>"
      ],
      "text/plain": [
       "                  SSP119  SSP434  SSP585\n",
       "O3                   NaN     NaN     NaN\n",
       "CH4                 4.82    5.44    5.74\n",
       "strat H2O            NaN     NaN     NaN\n",
       "O3 CH4ind            NaN     NaN     NaN\n",
       "strat H2O CH4ind     NaN     NaN     NaN"
      ]
     },
     "execution_count": 107,
     "metadata": {},
     "output_type": "execute_result"
    }
   ],
   "source": [
    "df_h2_gwp_ssp.loc['CH4'] = df_h2_agwp_ch4_ssp/agwp100_CO2\n",
    "df_h2_gwp_ssp"
   ]
  },
  {
   "cell_type": "markdown",
   "metadata": {},
   "source": [
    "### HYDROGEN AGWP100 strat H2O [mW m-2 yr Tg-1]"
   ]
  },
  {
   "cell_type": "code",
   "execution_count": 108,
   "metadata": {},
   "outputs": [
    {
     "data": {
      "text/plain": [
       "CNTR     NaN\n",
       "antro1   NaN\n",
       "H2_avi   NaN\n",
       "dtype: float64"
      ]
     },
     "execution_count": 108,
     "metadata": {},
     "output_type": "execute_result"
    }
   ],
   "source": [
    "df_h2_agwp_h2o = df_h2o_rf.loc['10H2'].astype(float)/df_h2_flux['deltaH2']\n",
    "df_h2_agwp_h2o"
   ]
  },
  {
   "cell_type": "code",
   "execution_count": 109,
   "metadata": {},
   "outputs": [],
   "source": [
    "#Add to the flux table\n",
    "df_h2o_rf_per_h2_flux = df_h2o_rf.loc['10H2'].astype(float)/df_h2_flux['deltaH2']\n",
    "df_h2o_rf_per_h2_flux.name= 'h2o_rf_per_h2_flux'\n",
    "\n",
    "\n",
    "#Strat H2O RF per methane flux \n",
    "df_h2o_rf_per_ch4_flux = df_h2o_rf.loc['10CH4']/df_ch4_flux.loc['deltaCH4']\n",
    "df_h2o_rf_per_ch4_flux.name = 'h2o_rf_per_ch4_flux'\n"
   ]
  },
  {
   "cell_type": "code",
   "execution_count": 110,
   "metadata": {},
   "outputs": [
    {
     "data": {
      "text/html": [
       "<div>\n",
       "<style scoped>\n",
       "    .dataframe tbody tr th:only-of-type {\n",
       "        vertical-align: middle;\n",
       "    }\n",
       "\n",
       "    .dataframe tbody tr th {\n",
       "        vertical-align: top;\n",
       "    }\n",
       "\n",
       "    .dataframe thead th {\n",
       "        text-align: right;\n",
       "    }\n",
       "</style>\n",
       "<table border=\"1\" class=\"dataframe\">\n",
       "  <thead>\n",
       "    <tr style=\"text-align: right;\">\n",
       "      <th></th>\n",
       "      <th>SSP119</th>\n",
       "      <th>SSP434</th>\n",
       "      <th>SSP585</th>\n",
       "    </tr>\n",
       "  </thead>\n",
       "  <tbody>\n",
       "    <tr>\n",
       "      <th>deltaH2</th>\n",
       "      <td>9.90</td>\n",
       "      <td>9.90</td>\n",
       "      <td>9.89</td>\n",
       "    </tr>\n",
       "    <tr>\n",
       "      <th>deltaCH4</th>\n",
       "      <td>2.13</td>\n",
       "      <td>2.98</td>\n",
       "      <td>3.36</td>\n",
       "    </tr>\n",
       "  </tbody>\n",
       "</table>\n",
       "</div>"
      ],
      "text/plain": [
       "         SSP119 SSP434 SSP585\n",
       "deltaH2    9.90   9.90   9.89\n",
       "deltaCH4   2.13   2.98   3.36"
      ]
     },
     "execution_count": 110,
     "metadata": {},
     "output_type": "execute_result"
    }
   ],
   "source": [
    "df_h2_flux_ssp_v2"
   ]
  },
  {
   "cell_type": "code",
   "execution_count": 111,
   "metadata": {},
   "outputs": [
    {
     "data": {
      "text/plain": [
       "SSP119   0.17\n",
       "SSP434   0.18\n",
       "SSP585   0.17\n",
       "dtype: object"
      ]
     },
     "execution_count": 111,
     "metadata": {},
     "output_type": "execute_result"
    }
   ],
   "source": [
    "df_h2_agwp_h2o_ssp = df_h2o_rf_ssp.loc['pertH2'].astype(float)/df_h2_flux_ssp_v2.loc['deltaH2']\n",
    "df_h2_agwp_h2o_ssp = df_h2_agwp_h2o_ssp\n",
    "#df_h2o_rf_ssp.loc['pertH2']\n",
    "#df_h2_flux['deltaH2']\n",
    "df_h2_agwp_h2o_ssp"
   ]
  },
  {
   "cell_type": "code",
   "execution_count": 112,
   "metadata": {},
   "outputs": [],
   "source": [
    "#Add to the flux table\n",
    "df_h2o_rf_per_h2_flux_ssp = df_h2o_rf_ssp.loc['pertH2'].astype(float)/df_h2_flux_ssp_v2.loc['deltaH2']\n",
    "df_h2o_rf_per_h2_flux_ssp.name= 'h2o_rf_per_h2_flux'\n",
    "\n",
    "\n",
    "#Strat H2O RF per methane flux \n",
    "df_h2o_rf_per_ch4_flux_ssp = df_h2o_rf_ssp.loc['10CH4']/df_ch4_flux_ssp_v2.loc['deltaCH4']\n",
    "df_h2o_rf_per_ch4_flux_ssp.name = 'h2o_rf_per_ch4_flux'\n"
   ]
  },
  {
   "cell_type": "markdown",
   "metadata": {},
   "source": [
    "### Add stratospheric H2O GWP"
   ]
  },
  {
   "cell_type": "code",
   "execution_count": 113,
   "metadata": {},
   "outputs": [
    {
     "data": {
      "text/html": [
       "<div>\n",
       "<style scoped>\n",
       "    .dataframe tbody tr th:only-of-type {\n",
       "        vertical-align: middle;\n",
       "    }\n",
       "\n",
       "    .dataframe tbody tr th {\n",
       "        vertical-align: top;\n",
       "    }\n",
       "\n",
       "    .dataframe thead th {\n",
       "        text-align: right;\n",
       "    }\n",
       "</style>\n",
       "<table border=\"1\" class=\"dataframe\">\n",
       "  <thead>\n",
       "    <tr style=\"text-align: right;\">\n",
       "      <th></th>\n",
       "      <th>CNTR</th>\n",
       "      <th>antro1</th>\n",
       "      <th>H2_avi</th>\n",
       "    </tr>\n",
       "  </thead>\n",
       "  <tbody>\n",
       "    <tr>\n",
       "      <th>O3</th>\n",
       "      <td>NaN</td>\n",
       "      <td>NaN</td>\n",
       "      <td>NaN</td>\n",
       "    </tr>\n",
       "    <tr>\n",
       "      <th>CH4</th>\n",
       "      <td>NaN</td>\n",
       "      <td>4.83</td>\n",
       "      <td>5.10</td>\n",
       "    </tr>\n",
       "    <tr>\n",
       "      <th>strat H2O</th>\n",
       "      <td>NaN</td>\n",
       "      <td>NaN</td>\n",
       "      <td>NaN</td>\n",
       "    </tr>\n",
       "    <tr>\n",
       "      <th>O3 CH4ind</th>\n",
       "      <td>NaN</td>\n",
       "      <td>NaN</td>\n",
       "      <td>NaN</td>\n",
       "    </tr>\n",
       "    <tr>\n",
       "      <th>strat H2O CH4ind</th>\n",
       "      <td>NaN</td>\n",
       "      <td>NaN</td>\n",
       "      <td>NaN</td>\n",
       "    </tr>\n",
       "  </tbody>\n",
       "</table>\n",
       "</div>"
      ],
      "text/plain": [
       "                  CNTR  antro1  H2_avi\n",
       "O3                 NaN     NaN     NaN\n",
       "CH4                NaN    4.83    5.10\n",
       "strat H2O          NaN     NaN     NaN\n",
       "O3 CH4ind          NaN     NaN     NaN\n",
       "strat H2O CH4ind   NaN     NaN     NaN"
      ]
     },
     "execution_count": 113,
     "metadata": {},
     "output_type": "execute_result"
    }
   ],
   "source": [
    "df_h2_gwp.loc['strat H2O'] = df_h2_agwp_h2o/agwp100_CO2\n",
    "df_h2_gwp"
   ]
  },
  {
   "cell_type": "code",
   "execution_count": 114,
   "metadata": {},
   "outputs": [
    {
     "data": {
      "text/html": [
       "<div>\n",
       "<style scoped>\n",
       "    .dataframe tbody tr th:only-of-type {\n",
       "        vertical-align: middle;\n",
       "    }\n",
       "\n",
       "    .dataframe tbody tr th {\n",
       "        vertical-align: top;\n",
       "    }\n",
       "\n",
       "    .dataframe thead th {\n",
       "        text-align: right;\n",
       "    }\n",
       "</style>\n",
       "<table border=\"1\" class=\"dataframe\">\n",
       "  <thead>\n",
       "    <tr style=\"text-align: right;\">\n",
       "      <th></th>\n",
       "      <th>SSP119</th>\n",
       "      <th>SSP434</th>\n",
       "      <th>SSP585</th>\n",
       "    </tr>\n",
       "  </thead>\n",
       "  <tbody>\n",
       "    <tr>\n",
       "      <th>O3</th>\n",
       "      <td>NaN</td>\n",
       "      <td>NaN</td>\n",
       "      <td>NaN</td>\n",
       "    </tr>\n",
       "    <tr>\n",
       "      <th>CH4</th>\n",
       "      <td>4.82</td>\n",
       "      <td>5.44</td>\n",
       "      <td>5.74</td>\n",
       "    </tr>\n",
       "    <tr>\n",
       "      <th>strat H2O</th>\n",
       "      <td>1.95</td>\n",
       "      <td>1.96</td>\n",
       "      <td>1.92</td>\n",
       "    </tr>\n",
       "    <tr>\n",
       "      <th>O3 CH4ind</th>\n",
       "      <td>NaN</td>\n",
       "      <td>NaN</td>\n",
       "      <td>NaN</td>\n",
       "    </tr>\n",
       "    <tr>\n",
       "      <th>strat H2O CH4ind</th>\n",
       "      <td>NaN</td>\n",
       "      <td>NaN</td>\n",
       "      <td>NaN</td>\n",
       "    </tr>\n",
       "  </tbody>\n",
       "</table>\n",
       "</div>"
      ],
      "text/plain": [
       "                  SSP119  SSP434  SSP585\n",
       "O3                   NaN     NaN     NaN\n",
       "CH4                 4.82    5.44    5.74\n",
       "strat H2O           1.95    1.96    1.92\n",
       "O3 CH4ind            NaN     NaN     NaN\n",
       "strat H2O CH4ind     NaN     NaN     NaN"
      ]
     },
     "execution_count": 114,
     "metadata": {},
     "output_type": "execute_result"
    }
   ],
   "source": [
    "df_h2_gwp_ssp.loc['strat H2O'] = df_h2_agwp_h2o_ssp/agwp100_CO2\n",
    "df_h2_gwp_ssp"
   ]
  },
  {
   "cell_type": "markdown",
   "metadata": {},
   "source": [
    "### HYDROGEN AGWP100 O3 [mW m-2 yr Tg-1]"
   ]
  },
  {
   "cell_type": "code",
   "execution_count": 115,
   "metadata": {},
   "outputs": [
    {
     "data": {
      "text/plain": [
       "CNTR      NaN\n",
       "antro1   0.22\n",
       "H2_avi   0.22\n",
       "Name: h2_agwp_o3, dtype: float64"
      ]
     },
     "execution_count": 115,
     "metadata": {},
     "output_type": "execute_result"
    }
   ],
   "source": [
    "df_h2_agwp_o3 = df_ozone_rf.loc['10H2'].astype(float)/df_h2_flux['deltaH2']\n",
    "df_h2_agwp_o3.name = 'h2_agwp_o3'\n",
    "\n",
    "df_h2_agwp_o3"
   ]
  },
  {
   "cell_type": "code",
   "execution_count": 116,
   "metadata": {},
   "outputs": [
    {
     "data": {
      "text/plain": [
       "SSP119   0.22\n",
       "SSP434   0.18\n",
       "SSP585   0.18\n",
       "Name: h2_agwp_o3, dtype: object"
      ]
     },
     "execution_count": 116,
     "metadata": {},
     "output_type": "execute_result"
    }
   ],
   "source": [
    "df_h2_agwp_o3_ssp = df_ozone_rf_ssp.loc['pertH2'].astype(float)/df_h2_flux_ssp_v2.loc['deltaH2']\n",
    "df_h2_agwp_o3_ssp.name = 'h2_agwp_o3'\n",
    "\n",
    "df_h2_agwp_o3_ssp"
   ]
  },
  {
   "cell_type": "code",
   "execution_count": 117,
   "metadata": {},
   "outputs": [
    {
     "data": {
      "text/plain": [
       "CNTR      NaN\n",
       "antro1   0.22\n",
       "H2_avi   0.22\n",
       "Name: ozone_rf_per_h2_flux, dtype: float64"
      ]
     },
     "execution_count": 117,
     "metadata": {},
     "output_type": "execute_result"
    }
   ],
   "source": [
    "#Similar. To be used in the table:\n",
    "df_ozone_rf_per_h2_flux = df_ozone_rf.loc['10H2'].astype(float)/df_h2_flux['deltaH2']\n",
    "df_ozone_rf_per_h2_flux.name= 'ozone_rf_per_h2_flux'\n",
    "\n",
    "df_ozone_rf_per_h2_flux\n"
   ]
  },
  {
   "cell_type": "code",
   "execution_count": 118,
   "metadata": {},
   "outputs": [
    {
     "data": {
      "text/plain": [
       "SSP119   0.22\n",
       "SSP434   0.18\n",
       "SSP585   0.18\n",
       "Name: ozone_rf_per_h2_flux, dtype: object"
      ]
     },
     "execution_count": 118,
     "metadata": {},
     "output_type": "execute_result"
    }
   ],
   "source": [
    "#Similar. To be used in the table:\n",
    "df_ozone_rf_per_h2_flux_ssp = df_ozone_rf_ssp.loc['pertH2'].astype(float)/df_h2_flux_ssp_v2.loc['deltaH2']\n",
    "df_ozone_rf_per_h2_flux_ssp.name= 'ozone_rf_per_h2_flux'\n",
    "\n",
    "df_ozone_rf_per_h2_flux_ssp"
   ]
  },
  {
   "cell_type": "code",
   "execution_count": 119,
   "metadata": {},
   "outputs": [
    {
     "data": {
      "text/plain": [
       "CNTR     0.82\n",
       "antro1   0.82\n",
       "H2_avi   0.82\n",
       "Name: ozone_rf_per_ch4_flux, dtype: object"
      ]
     },
     "execution_count": 119,
     "metadata": {},
     "output_type": "execute_result"
    }
   ],
   "source": [
    "#Ozone RF per methane flux (move to the methane part?)\n",
    "df_ozone_rf_per_ch4_flux = df_ozone_rf.loc['10CH4']/df_ch4_flux.loc['deltaCH4']\n",
    "df_ozone_rf_per_ch4_flux.name = 'ozone_rf_per_ch4_flux'\n",
    "df_ozone_rf_per_ch4_flux"
   ]
  },
  {
   "cell_type": "code",
   "execution_count": 120,
   "metadata": {},
   "outputs": [
    {
     "data": {
      "text/plain": [
       "SSP119   0.89\n",
       "SSP434   0.84\n",
       "SSP585   0.85\n",
       "Name: ozone_rf_per_ch4_flux, dtype: object"
      ]
     },
     "execution_count": 120,
     "metadata": {},
     "output_type": "execute_result"
    }
   ],
   "source": [
    "#Ozone RF per methane flux (move to the methane part?)\n",
    "df_ozone_rf_per_ch4_flux_ssp = df_ozone_rf_ssp.loc['10CH4']/df_ch4_flux_ssp_v2.loc['deltaCH4']\n",
    "df_ozone_rf_per_ch4_flux_ssp.name = 'ozone_rf_per_ch4_flux'\n",
    "df_ozone_rf_per_ch4_flux_ssp"
   ]
  },
  {
   "cell_type": "markdown",
   "metadata": {},
   "source": [
    "### Add Ozone GWP"
   ]
  },
  {
   "cell_type": "code",
   "execution_count": 121,
   "metadata": {},
   "outputs": [
    {
     "data": {
      "text/html": [
       "<div>\n",
       "<style scoped>\n",
       "    .dataframe tbody tr th:only-of-type {\n",
       "        vertical-align: middle;\n",
       "    }\n",
       "\n",
       "    .dataframe tbody tr th {\n",
       "        vertical-align: top;\n",
       "    }\n",
       "\n",
       "    .dataframe thead th {\n",
       "        text-align: right;\n",
       "    }\n",
       "</style>\n",
       "<table border=\"1\" class=\"dataframe\">\n",
       "  <thead>\n",
       "    <tr style=\"text-align: right;\">\n",
       "      <th></th>\n",
       "      <th>CNTR</th>\n",
       "      <th>antro1</th>\n",
       "      <th>H2_avi</th>\n",
       "    </tr>\n",
       "  </thead>\n",
       "  <tbody>\n",
       "    <tr>\n",
       "      <th>O3</th>\n",
       "      <td>NaN</td>\n",
       "      <td>2.41</td>\n",
       "      <td>2.51</td>\n",
       "    </tr>\n",
       "    <tr>\n",
       "      <th>CH4</th>\n",
       "      <td>NaN</td>\n",
       "      <td>4.83</td>\n",
       "      <td>5.10</td>\n",
       "    </tr>\n",
       "    <tr>\n",
       "      <th>strat H2O</th>\n",
       "      <td>NaN</td>\n",
       "      <td>NaN</td>\n",
       "      <td>NaN</td>\n",
       "    </tr>\n",
       "    <tr>\n",
       "      <th>O3 CH4ind</th>\n",
       "      <td>NaN</td>\n",
       "      <td>NaN</td>\n",
       "      <td>NaN</td>\n",
       "    </tr>\n",
       "    <tr>\n",
       "      <th>strat H2O CH4ind</th>\n",
       "      <td>NaN</td>\n",
       "      <td>NaN</td>\n",
       "      <td>NaN</td>\n",
       "    </tr>\n",
       "  </tbody>\n",
       "</table>\n",
       "</div>"
      ],
      "text/plain": [
       "                  CNTR  antro1  H2_avi\n",
       "O3                 NaN    2.41    2.51\n",
       "CH4                NaN    4.83    5.10\n",
       "strat H2O          NaN     NaN     NaN\n",
       "O3 CH4ind          NaN     NaN     NaN\n",
       "strat H2O CH4ind   NaN     NaN     NaN"
      ]
     },
     "execution_count": 121,
     "metadata": {},
     "output_type": "execute_result"
    }
   ],
   "source": [
    "df_h2_gwp.loc['O3'] = df_h2_agwp_o3/agwp100_CO2\n",
    "df_h2_gwp"
   ]
  },
  {
   "cell_type": "code",
   "execution_count": 122,
   "metadata": {},
   "outputs": [
    {
     "data": {
      "text/html": [
       "<div>\n",
       "<style scoped>\n",
       "    .dataframe tbody tr th:only-of-type {\n",
       "        vertical-align: middle;\n",
       "    }\n",
       "\n",
       "    .dataframe tbody tr th {\n",
       "        vertical-align: top;\n",
       "    }\n",
       "\n",
       "    .dataframe thead th {\n",
       "        text-align: right;\n",
       "    }\n",
       "</style>\n",
       "<table border=\"1\" class=\"dataframe\">\n",
       "  <thead>\n",
       "    <tr style=\"text-align: right;\">\n",
       "      <th></th>\n",
       "      <th>SSP119</th>\n",
       "      <th>SSP434</th>\n",
       "      <th>SSP585</th>\n",
       "    </tr>\n",
       "  </thead>\n",
       "  <tbody>\n",
       "    <tr>\n",
       "      <th>O3</th>\n",
       "      <td>2.48</td>\n",
       "      <td>2.05</td>\n",
       "      <td>2.01</td>\n",
       "    </tr>\n",
       "    <tr>\n",
       "      <th>CH4</th>\n",
       "      <td>4.82</td>\n",
       "      <td>5.44</td>\n",
       "      <td>5.74</td>\n",
       "    </tr>\n",
       "    <tr>\n",
       "      <th>strat H2O</th>\n",
       "      <td>1.95</td>\n",
       "      <td>1.96</td>\n",
       "      <td>1.92</td>\n",
       "    </tr>\n",
       "    <tr>\n",
       "      <th>O3 CH4ind</th>\n",
       "      <td>NaN</td>\n",
       "      <td>NaN</td>\n",
       "      <td>NaN</td>\n",
       "    </tr>\n",
       "    <tr>\n",
       "      <th>strat H2O CH4ind</th>\n",
       "      <td>NaN</td>\n",
       "      <td>NaN</td>\n",
       "      <td>NaN</td>\n",
       "    </tr>\n",
       "  </tbody>\n",
       "</table>\n",
       "</div>"
      ],
      "text/plain": [
       "                  SSP119  SSP434  SSP585\n",
       "O3                  2.48    2.05    2.01\n",
       "CH4                 4.82    5.44    5.74\n",
       "strat H2O           1.95    1.96    1.92\n",
       "O3 CH4ind            NaN     NaN     NaN\n",
       "strat H2O CH4ind     NaN     NaN     NaN"
      ]
     },
     "execution_count": 122,
     "metadata": {},
     "output_type": "execute_result"
    }
   ],
   "source": [
    "df_h2_gwp_ssp.loc['O3'] = df_h2_agwp_o3_ssp/agwp100_CO2\n",
    "df_h2_gwp_ssp"
   ]
  },
  {
   "cell_type": "markdown",
   "metadata": {},
   "source": [
    "### For the per flux table"
   ]
  },
  {
   "cell_type": "code",
   "execution_count": 123,
   "metadata": {},
   "outputs": [
    {
     "data": {
      "text/html": [
       "<div>\n",
       "<style scoped>\n",
       "    .dataframe tbody tr th:only-of-type {\n",
       "        vertical-align: middle;\n",
       "    }\n",
       "\n",
       "    .dataframe tbody tr th {\n",
       "        vertical-align: top;\n",
       "    }\n",
       "\n",
       "    .dataframe thead th {\n",
       "        text-align: right;\n",
       "    }\n",
       "</style>\n",
       "<table border=\"1\" class=\"dataframe\">\n",
       "  <thead>\n",
       "    <tr style=\"text-align: right;\">\n",
       "      <th></th>\n",
       "      <th>CNTR</th>\n",
       "      <th>antro1</th>\n",
       "      <th>H2_avi</th>\n",
       "    </tr>\n",
       "    <tr>\n",
       "      <th>Scenario</th>\n",
       "      <th></th>\n",
       "      <th></th>\n",
       "      <th></th>\n",
       "    </tr>\n",
       "  </thead>\n",
       "  <tbody>\n",
       "    <tr>\n",
       "      <th>YR4</th>\n",
       "      <td>725</td>\n",
       "      <td>724</td>\n",
       "      <td>724</td>\n",
       "    </tr>\n",
       "    <tr>\n",
       "      <th>deltaH2</th>\n",
       "      <td>0.00</td>\n",
       "      <td>-0.29</td>\n",
       "      <td>-0.23</td>\n",
       "    </tr>\n",
       "    <tr>\n",
       "      <th>deltaCH4</th>\n",
       "      <td>49.7</td>\n",
       "      <td>49.7</td>\n",
       "      <td>49.7</td>\n",
       "    </tr>\n",
       "  </tbody>\n",
       "</table>\n",
       "</div>"
      ],
      "text/plain": [
       "          CNTR  antro1  H2_avi\n",
       "Scenario                      \n",
       "YR4        725     724     724\n",
       "deltaH2   0.00   -0.29   -0.23\n",
       "deltaCH4  49.7    49.7    49.7"
      ]
     },
     "execution_count": 123,
     "metadata": {},
     "output_type": "execute_result"
    }
   ],
   "source": [
    "df_ch4_flux\n"
   ]
  },
  {
   "cell_type": "markdown",
   "metadata": {},
   "source": [
    "## Methane induced GWP:"
   ]
  },
  {
   "cell_type": "markdown",
   "metadata": {},
   "source": [
    "### HYDROGEN AGWP100 methane induced O3 [mW m-2 yr Tg-1]"
   ]
  },
  {
   "cell_type": "code",
   "execution_count": 124,
   "metadata": {},
   "outputs": [
    {
     "data": {
      "text/plain": [
       "CNTR      NaN\n",
       "antro1   1.12\n",
       "H2_avi   1.18\n",
       "Name: surf_ch4_per_h2_flux, dtype: float64"
      ]
     },
     "execution_count": 124,
     "metadata": {},
     "output_type": "execute_result"
    }
   ],
   "source": [
    "df_surf_ch4_per_h2_flux"
   ]
  },
  {
   "cell_type": "code",
   "execution_count": 125,
   "metadata": {},
   "outputs": [
    {
     "data": {
      "text/plain": [
       "SSP119   1.12\n",
       "SSP434   1.26\n",
       "SSP585   1.33\n",
       "Name: surf_ch4_per_h2_flux, dtype: object"
      ]
     },
     "execution_count": 125,
     "metadata": {},
     "output_type": "execute_result"
    }
   ],
   "source": [
    "df_surf_ch4_per_h2_flux_ssp"
   ]
  },
  {
   "cell_type": "code",
   "execution_count": 126,
   "metadata": {},
   "outputs": [
    {
     "data": {
      "text/plain": [
       "CNTR      NaN\n",
       "antro1   0.25\n",
       "H2_avi   0.27\n",
       "Name: h2_agwp_ch4ind_o3, dtype: float64"
      ]
     },
     "execution_count": 126,
     "metadata": {},
     "output_type": "execute_result"
    }
   ],
   "source": [
    "#Wm-2/ppbCH4*ppbCH4/TgH2yr-1 -> Wm-2/TgH2yr-1\n",
    "df_h2_agwp_ch4ind_o3 = df_ozone_rf.loc['10CH4'].astype(float)/df_ch4_surfconc.loc['delta']*df_surf_ch4_per_h2_flux\n",
    "df_h2_agwp_ch4ind_o3.name = 'h2_agwp_ch4ind_o3'\n",
    "df_h2_agwp_ch4ind_o3"
   ]
  },
  {
   "cell_type": "code",
   "execution_count": 127,
   "metadata": {},
   "outputs": [
    {
     "data": {
      "text/plain": [
       "SSP119   1.12\n",
       "SSP434   1.26\n",
       "SSP585   1.33\n",
       "Name: surf_ch4_per_h2_flux, dtype: object"
      ]
     },
     "execution_count": 127,
     "metadata": {},
     "output_type": "execute_result"
    }
   ],
   "source": [
    "df_surf_ch4_per_h2_flux_ssp"
   ]
  },
  {
   "cell_type": "code",
   "execution_count": 128,
   "metadata": {},
   "outputs": [
    {
     "data": {
      "text/plain": [
       "SSP119   0.26\n",
       "SSP434   0.25\n",
       "SSP585   0.27\n",
       "Name: h2_agwp_ch4ind_o3, dtype: object"
      ]
     },
     "execution_count": 128,
     "metadata": {},
     "output_type": "execute_result"
    }
   ],
   "source": [
    "#Wm-2/ppbCH4*ppbCH4/TgH2yr-1 -> Wm-2/TgH2yr-1\n",
    "df_h2_agwp_ch4ind_o3_ssp = df_ozone_rf_ssp.loc['10CH4'].astype(float)/df_ch4_surfconc_ssp_v2.loc['delta']*df_surf_ch4_per_h2_flux_ssp\n",
    "df_h2_agwp_ch4ind_o3_ssp.name = 'h2_agwp_ch4ind_o3'\n",
    "df_h2_agwp_ch4ind_o3_ssp"
   ]
  },
  {
   "cell_type": "markdown",
   "metadata": {},
   "source": [
    "### Add methane induced O3 GWP"
   ]
  },
  {
   "cell_type": "code",
   "execution_count": 129,
   "metadata": {},
   "outputs": [
    {
     "data": {
      "text/html": [
       "<div>\n",
       "<style scoped>\n",
       "    .dataframe tbody tr th:only-of-type {\n",
       "        vertical-align: middle;\n",
       "    }\n",
       "\n",
       "    .dataframe tbody tr th {\n",
       "        vertical-align: top;\n",
       "    }\n",
       "\n",
       "    .dataframe thead th {\n",
       "        text-align: right;\n",
       "    }\n",
       "</style>\n",
       "<table border=\"1\" class=\"dataframe\">\n",
       "  <thead>\n",
       "    <tr style=\"text-align: right;\">\n",
       "      <th></th>\n",
       "      <th>CNTR</th>\n",
       "      <th>antro1</th>\n",
       "      <th>H2_avi</th>\n",
       "    </tr>\n",
       "  </thead>\n",
       "  <tbody>\n",
       "    <tr>\n",
       "      <th>O3</th>\n",
       "      <td>NaN</td>\n",
       "      <td>2.41</td>\n",
       "      <td>2.51</td>\n",
       "    </tr>\n",
       "    <tr>\n",
       "      <th>CH4</th>\n",
       "      <td>NaN</td>\n",
       "      <td>4.83</td>\n",
       "      <td>5.10</td>\n",
       "    </tr>\n",
       "    <tr>\n",
       "      <th>strat H2O</th>\n",
       "      <td>NaN</td>\n",
       "      <td>NaN</td>\n",
       "      <td>NaN</td>\n",
       "    </tr>\n",
       "    <tr>\n",
       "      <th>O3 CH4ind</th>\n",
       "      <td>NaN</td>\n",
       "      <td>2.82</td>\n",
       "      <td>2.98</td>\n",
       "    </tr>\n",
       "    <tr>\n",
       "      <th>strat H2O CH4ind</th>\n",
       "      <td>NaN</td>\n",
       "      <td>NaN</td>\n",
       "      <td>NaN</td>\n",
       "    </tr>\n",
       "  </tbody>\n",
       "</table>\n",
       "</div>"
      ],
      "text/plain": [
       "                  CNTR  antro1  H2_avi\n",
       "O3                 NaN    2.41    2.51\n",
       "CH4                NaN    4.83    5.10\n",
       "strat H2O          NaN     NaN     NaN\n",
       "O3 CH4ind          NaN    2.82    2.98\n",
       "strat H2O CH4ind   NaN     NaN     NaN"
      ]
     },
     "execution_count": 129,
     "metadata": {},
     "output_type": "execute_result"
    }
   ],
   "source": [
    "df_h2_gwp.loc['O3 CH4ind'] = df_h2_agwp_ch4ind_o3/agwp100_CO2\n",
    "df_h2_gwp"
   ]
  },
  {
   "cell_type": "code",
   "execution_count": 130,
   "metadata": {},
   "outputs": [
    {
     "data": {
      "text/html": [
       "<div>\n",
       "<style scoped>\n",
       "    .dataframe tbody tr th:only-of-type {\n",
       "        vertical-align: middle;\n",
       "    }\n",
       "\n",
       "    .dataframe tbody tr th {\n",
       "        vertical-align: top;\n",
       "    }\n",
       "\n",
       "    .dataframe thead th {\n",
       "        text-align: right;\n",
       "    }\n",
       "</style>\n",
       "<table border=\"1\" class=\"dataframe\">\n",
       "  <thead>\n",
       "    <tr style=\"text-align: right;\">\n",
       "      <th></th>\n",
       "      <th>SSP119</th>\n",
       "      <th>SSP434</th>\n",
       "      <th>SSP585</th>\n",
       "    </tr>\n",
       "  </thead>\n",
       "  <tbody>\n",
       "    <tr>\n",
       "      <th>O3</th>\n",
       "      <td>2.48</td>\n",
       "      <td>2.05</td>\n",
       "      <td>2.01</td>\n",
       "    </tr>\n",
       "    <tr>\n",
       "      <th>CH4</th>\n",
       "      <td>4.82</td>\n",
       "      <td>5.44</td>\n",
       "      <td>5.74</td>\n",
       "    </tr>\n",
       "    <tr>\n",
       "      <th>strat H2O</th>\n",
       "      <td>1.95</td>\n",
       "      <td>1.96</td>\n",
       "      <td>1.92</td>\n",
       "    </tr>\n",
       "    <tr>\n",
       "      <th>O3 CH4ind</th>\n",
       "      <td>2.94</td>\n",
       "      <td>2.79</td>\n",
       "      <td>3.03</td>\n",
       "    </tr>\n",
       "    <tr>\n",
       "      <th>strat H2O CH4ind</th>\n",
       "      <td>NaN</td>\n",
       "      <td>NaN</td>\n",
       "      <td>NaN</td>\n",
       "    </tr>\n",
       "  </tbody>\n",
       "</table>\n",
       "</div>"
      ],
      "text/plain": [
       "                  SSP119  SSP434  SSP585\n",
       "O3                  2.48    2.05    2.01\n",
       "CH4                 4.82    5.44    5.74\n",
       "strat H2O           1.95    1.96    1.92\n",
       "O3 CH4ind           2.94    2.79    3.03\n",
       "strat H2O CH4ind     NaN     NaN     NaN"
      ]
     },
     "execution_count": 130,
     "metadata": {},
     "output_type": "execute_result"
    }
   ],
   "source": [
    "df_h2_gwp_ssp.loc['O3 CH4ind'] = df_h2_agwp_ch4ind_o3_ssp/agwp100_CO2\n",
    "df_h2_gwp_ssp"
   ]
  },
  {
   "cell_type": "markdown",
   "metadata": {},
   "source": [
    "### HYDROGEN AGWP100 methane induced strat H2O [mW m-2 yr Tg-1]"
   ]
  },
  {
   "cell_type": "code",
   "execution_count": 131,
   "metadata": {},
   "outputs": [
    {
     "data": {
      "text/plain": [
       "CNTR      NaN\n",
       "antro1   0.06\n",
       "H2_avi   0.06\n",
       "Name: h2_agwp_ch4ind_h2o, dtype: object"
      ]
     },
     "execution_count": 131,
     "metadata": {},
     "output_type": "execute_result"
    }
   ],
   "source": [
    "df_h2_agwp_ch4ind_h2o = df_h2o_rf.loc['10CH4']/df_ch4_surfconc.loc['delta']*df_surf_ch4_per_h2_flux\n",
    "df_h2_agwp_ch4ind_h2o.name = 'h2_agwp_ch4ind_h2o'\n",
    "df_h2_agwp_ch4ind_h2o"
   ]
  },
  {
   "cell_type": "code",
   "execution_count": 132,
   "metadata": {},
   "outputs": [
    {
     "data": {
      "text/plain": [
       "SSP119   0.07\n",
       "SSP434   0.07\n",
       "SSP585   0.07\n",
       "dtype: object"
      ]
     },
     "execution_count": 132,
     "metadata": {},
     "output_type": "execute_result"
    }
   ],
   "source": [
    "df_h2_agwp_ch4ind_h2o_ssp = df_h2o_rf_ssp.loc['10CH4']/df_ch4_surfconc_ssp_v2.loc['delta']*df_surf_ch4_per_h2_flux_ssp\n",
    "df_h2_agwp_ch4ind_h2o_ssp"
   ]
  },
  {
   "cell_type": "markdown",
   "metadata": {},
   "source": [
    "### Add methane induced strat H2O GWP"
   ]
  },
  {
   "cell_type": "code",
   "execution_count": 133,
   "metadata": {},
   "outputs": [
    {
     "data": {
      "text/html": [
       "<div>\n",
       "<style scoped>\n",
       "    .dataframe tbody tr th:only-of-type {\n",
       "        vertical-align: middle;\n",
       "    }\n",
       "\n",
       "    .dataframe tbody tr th {\n",
       "        vertical-align: top;\n",
       "    }\n",
       "\n",
       "    .dataframe thead th {\n",
       "        text-align: right;\n",
       "    }\n",
       "</style>\n",
       "<table border=\"1\" class=\"dataframe\">\n",
       "  <thead>\n",
       "    <tr style=\"text-align: right;\">\n",
       "      <th></th>\n",
       "      <th>CNTR</th>\n",
       "      <th>antro1</th>\n",
       "      <th>H2_avi</th>\n",
       "    </tr>\n",
       "  </thead>\n",
       "  <tbody>\n",
       "    <tr>\n",
       "      <th>O3</th>\n",
       "      <td>NaN</td>\n",
       "      <td>2.41</td>\n",
       "      <td>2.51</td>\n",
       "    </tr>\n",
       "    <tr>\n",
       "      <th>CH4</th>\n",
       "      <td>NaN</td>\n",
       "      <td>4.83</td>\n",
       "      <td>5.10</td>\n",
       "    </tr>\n",
       "    <tr>\n",
       "      <th>strat H2O</th>\n",
       "      <td>NaN</td>\n",
       "      <td>NaN</td>\n",
       "      <td>NaN</td>\n",
       "    </tr>\n",
       "    <tr>\n",
       "      <th>O3 CH4ind</th>\n",
       "      <td>NaN</td>\n",
       "      <td>2.82</td>\n",
       "      <td>2.98</td>\n",
       "    </tr>\n",
       "    <tr>\n",
       "      <th>strat H2O CH4ind</th>\n",
       "      <td>NaN</td>\n",
       "      <td>0.66</td>\n",
       "      <td>0.70</td>\n",
       "    </tr>\n",
       "  </tbody>\n",
       "</table>\n",
       "</div>"
      ],
      "text/plain": [
       "                  CNTR  antro1  H2_avi\n",
       "O3                 NaN    2.41    2.51\n",
       "CH4                NaN    4.83    5.10\n",
       "strat H2O          NaN     NaN     NaN\n",
       "O3 CH4ind          NaN    2.82    2.98\n",
       "strat H2O CH4ind   NaN    0.66    0.70"
      ]
     },
     "execution_count": 133,
     "metadata": {},
     "output_type": "execute_result"
    }
   ],
   "source": [
    "df_h2_gwp.loc['strat H2O CH4ind'] = df_h2_agwp_ch4ind_h2o/agwp100_CO2\n",
    "df_h2_gwp"
   ]
  },
  {
   "cell_type": "code",
   "execution_count": 134,
   "metadata": {},
   "outputs": [
    {
     "data": {
      "text/html": [
       "<div>\n",
       "<style scoped>\n",
       "    .dataframe tbody tr th:only-of-type {\n",
       "        vertical-align: middle;\n",
       "    }\n",
       "\n",
       "    .dataframe tbody tr th {\n",
       "        vertical-align: top;\n",
       "    }\n",
       "\n",
       "    .dataframe thead th {\n",
       "        text-align: right;\n",
       "    }\n",
       "</style>\n",
       "<table border=\"1\" class=\"dataframe\">\n",
       "  <thead>\n",
       "    <tr style=\"text-align: right;\">\n",
       "      <th></th>\n",
       "      <th>SSP119</th>\n",
       "      <th>SSP434</th>\n",
       "      <th>SSP585</th>\n",
       "    </tr>\n",
       "  </thead>\n",
       "  <tbody>\n",
       "    <tr>\n",
       "      <th>O3</th>\n",
       "      <td>2.48</td>\n",
       "      <td>2.05</td>\n",
       "      <td>2.01</td>\n",
       "    </tr>\n",
       "    <tr>\n",
       "      <th>CH4</th>\n",
       "      <td>4.82</td>\n",
       "      <td>5.44</td>\n",
       "      <td>5.74</td>\n",
       "    </tr>\n",
       "    <tr>\n",
       "      <th>strat H2O</th>\n",
       "      <td>1.95</td>\n",
       "      <td>1.96</td>\n",
       "      <td>1.92</td>\n",
       "    </tr>\n",
       "    <tr>\n",
       "      <th>O3 CH4ind</th>\n",
       "      <td>2.94</td>\n",
       "      <td>2.79</td>\n",
       "      <td>3.03</td>\n",
       "    </tr>\n",
       "    <tr>\n",
       "      <th>strat H2O CH4ind</th>\n",
       "      <td>0.73</td>\n",
       "      <td>0.79</td>\n",
       "      <td>0.83</td>\n",
       "    </tr>\n",
       "  </tbody>\n",
       "</table>\n",
       "</div>"
      ],
      "text/plain": [
       "                  SSP119  SSP434  SSP585\n",
       "O3                  2.48    2.05    2.01\n",
       "CH4                 4.82    5.44    5.74\n",
       "strat H2O           1.95    1.96    1.92\n",
       "O3 CH4ind           2.94    2.79    3.03\n",
       "strat H2O CH4ind    0.73    0.79    0.83"
      ]
     },
     "execution_count": 134,
     "metadata": {},
     "output_type": "execute_result"
    }
   ],
   "source": [
    "df_h2_gwp_ssp.loc['strat H2O CH4ind'] = df_h2_agwp_ch4ind_h2o_ssp/agwp100_CO2\n",
    "df_h2_gwp_ssp"
   ]
  },
  {
   "cell_type": "markdown",
   "metadata": {},
   "source": [
    "# Methane GWP"
   ]
  },
  {
   "cell_type": "markdown",
   "metadata": {},
   "source": [
    "Initialize CH4 GWP"
   ]
  },
  {
   "cell_type": "code",
   "execution_count": 135,
   "metadata": {},
   "outputs": [
    {
     "data": {
      "text/html": [
       "<div>\n",
       "<style scoped>\n",
       "    .dataframe tbody tr th:only-of-type {\n",
       "        vertical-align: middle;\n",
       "    }\n",
       "\n",
       "    .dataframe tbody tr th {\n",
       "        vertical-align: top;\n",
       "    }\n",
       "\n",
       "    .dataframe thead th {\n",
       "        text-align: right;\n",
       "    }\n",
       "</style>\n",
       "<table border=\"1\" class=\"dataframe\">\n",
       "  <thead>\n",
       "    <tr style=\"text-align: right;\">\n",
       "      <th></th>\n",
       "      <th>CNTR</th>\n",
       "      <th>antro1</th>\n",
       "      <th>H2_avi</th>\n",
       "    </tr>\n",
       "  </thead>\n",
       "  <tbody>\n",
       "    <tr>\n",
       "      <th>O3</th>\n",
       "      <td>NaN</td>\n",
       "      <td>NaN</td>\n",
       "      <td>NaN</td>\n",
       "    </tr>\n",
       "    <tr>\n",
       "      <th>CH4</th>\n",
       "      <td>NaN</td>\n",
       "      <td>NaN</td>\n",
       "      <td>NaN</td>\n",
       "    </tr>\n",
       "    <tr>\n",
       "      <th>strat H2O</th>\n",
       "      <td>NaN</td>\n",
       "      <td>NaN</td>\n",
       "      <td>NaN</td>\n",
       "    </tr>\n",
       "  </tbody>\n",
       "</table>\n",
       "</div>"
      ],
      "text/plain": [
       "           CNTR  antro1  H2_avi\n",
       "O3          NaN     NaN     NaN\n",
       "CH4         NaN     NaN     NaN\n",
       "strat H2O   NaN     NaN     NaN"
      ]
     },
     "execution_count": 135,
     "metadata": {},
     "output_type": "execute_result"
    }
   ],
   "source": [
    "antmod = len(df_h2_agwp_ch4.index)\n",
    "df_ch4_gwp = pd.DataFrame(np.empty([3,antmod])*np.nan,columns=df_h2_agwp_ch4.index,\n",
    "                         index=['O3','CH4','strat H2O'])\n",
    "df_ch4_gwp"
   ]
  },
  {
   "cell_type": "code",
   "execution_count": 136,
   "metadata": {},
   "outputs": [
    {
     "data": {
      "text/html": [
       "<div>\n",
       "<style scoped>\n",
       "    .dataframe tbody tr th:only-of-type {\n",
       "        vertical-align: middle;\n",
       "    }\n",
       "\n",
       "    .dataframe tbody tr th {\n",
       "        vertical-align: top;\n",
       "    }\n",
       "\n",
       "    .dataframe thead th {\n",
       "        text-align: right;\n",
       "    }\n",
       "</style>\n",
       "<table border=\"1\" class=\"dataframe\">\n",
       "  <thead>\n",
       "    <tr style=\"text-align: right;\">\n",
       "      <th></th>\n",
       "      <th>SSP119</th>\n",
       "      <th>SSP434</th>\n",
       "      <th>SSP585</th>\n",
       "    </tr>\n",
       "  </thead>\n",
       "  <tbody>\n",
       "    <tr>\n",
       "      <th>O3</th>\n",
       "      <td>NaN</td>\n",
       "      <td>NaN</td>\n",
       "      <td>NaN</td>\n",
       "    </tr>\n",
       "    <tr>\n",
       "      <th>CH4</th>\n",
       "      <td>NaN</td>\n",
       "      <td>NaN</td>\n",
       "      <td>NaN</td>\n",
       "    </tr>\n",
       "    <tr>\n",
       "      <th>strat H2O</th>\n",
       "      <td>NaN</td>\n",
       "      <td>NaN</td>\n",
       "      <td>NaN</td>\n",
       "    </tr>\n",
       "  </tbody>\n",
       "</table>\n",
       "</div>"
      ],
      "text/plain": [
       "           SSP119  SSP434  SSP585\n",
       "O3            NaN     NaN     NaN\n",
       "CH4           NaN     NaN     NaN\n",
       "strat H2O     NaN     NaN     NaN"
      ]
     },
     "execution_count": 136,
     "metadata": {},
     "output_type": "execute_result"
    }
   ],
   "source": [
    "antmod = len(df_h2_agwp_ch4_ssp.index)\n",
    "df_ch4_gwp_ssp = pd.DataFrame(np.empty([3,antmod])*np.nan,columns=df_h2_agwp_ch4_ssp.index,\n",
    "                         index=['O3','CH4','strat H2O'])\n",
    "df_ch4_gwp_ssp"
   ]
  },
  {
   "cell_type": "markdown",
   "metadata": {},
   "source": [
    "### Methane AGWP100 O3 [mW m-2 yr Tg-1]"
   ]
  },
  {
   "cell_type": "code",
   "execution_count": 137,
   "metadata": {},
   "outputs": [
    {
     "data": {
      "text/plain": [
       "CNTR     0.82\n",
       "antro1   0.82\n",
       "H2_avi   0.82\n",
       "Name: ch4_agwp_o3, dtype: object"
      ]
     },
     "execution_count": 137,
     "metadata": {},
     "output_type": "execute_result"
    }
   ],
   "source": [
    "df_ch4_agwp_o3 = df_ozone_rf.loc['10CH4']/df_ch4_surfconc.loc['delta']*df_surf_ch4_per_ch4_flux\n",
    "df_ch4_agwp_o3.name = 'ch4_agwp_o3'\n",
    "df_ch4_agwp_o3"
   ]
  },
  {
   "cell_type": "code",
   "execution_count": 138,
   "metadata": {},
   "outputs": [
    {
     "data": {
      "text/plain": [
       "SSP119   0.89\n",
       "SSP434   0.84\n",
       "SSP585   0.85\n",
       "Name: ch4_agwp_o3, dtype: object"
      ]
     },
     "execution_count": 138,
     "metadata": {},
     "output_type": "execute_result"
    }
   ],
   "source": [
    "df_ch4_agwp_o3_ssp = df_ozone_rf_ssp.loc['10CH4']/df_ch4_surfconc_ssp_v2.loc['delta']*df_surf_ch4_per_ch4_flux_ssp\n",
    "df_ch4_agwp_o3_ssp.name = 'ch4_agwp_o3'\n",
    "df_ch4_agwp_o3_ssp"
   ]
  },
  {
   "cell_type": "code",
   "execution_count": 139,
   "metadata": {},
   "outputs": [
    {
     "data": {
      "text/plain": [
       "CNTR     0.82\n",
       "antro1   0.82\n",
       "H2_avi   0.82\n",
       "dtype: object"
      ]
     },
     "execution_count": 139,
     "metadata": {},
     "output_type": "execute_result"
    }
   ],
   "source": [
    "test = df_ozone_rf.loc['10CH4']/df_ch4_surfconc.loc['delta']*df_surf_ch4_per_ch4_flux\n",
    "test"
   ]
  },
  {
   "cell_type": "code",
   "execution_count": 140,
   "metadata": {},
   "outputs": [
    {
     "data": {
      "text/plain": [
       "CNTR     0.82\n",
       "antro1   0.82\n",
       "H2_avi   0.82\n",
       "dtype: object"
      ]
     },
     "execution_count": 140,
     "metadata": {},
     "output_type": "execute_result"
    }
   ],
   "source": [
    "test2 = df_ozone_rf.loc['10CH4']/df_ch4_flux.loc['deltaCH4']\n",
    "#test2 is equal test\n",
    "test2"
   ]
  },
  {
   "cell_type": "code",
   "execution_count": 141,
   "metadata": {},
   "outputs": [
    {
     "data": {
      "text/plain": [
       "SSP119   0.89\n",
       "SSP434   0.84\n",
       "SSP585   0.85\n",
       "dtype: object"
      ]
     },
     "execution_count": 141,
     "metadata": {},
     "output_type": "execute_result"
    }
   ],
   "source": [
    "test2 = df_ozone_rf_ssp.loc['10CH4']/df_ch4_flux_ssp_v2.loc['deltaCH4']\n",
    "#test2 is equal test\n",
    "test2"
   ]
  },
  {
   "cell_type": "markdown",
   "metadata": {},
   "source": [
    "### Add ozone GWP"
   ]
  },
  {
   "cell_type": "code",
   "execution_count": 142,
   "metadata": {},
   "outputs": [],
   "source": [
    "df_ch4_gwp.loc['O3'] =df_ch4_agwp_o3/agwp100_CO2 "
   ]
  },
  {
   "cell_type": "code",
   "execution_count": 143,
   "metadata": {},
   "outputs": [],
   "source": [
    "df_ch4_gwp_ssp.loc['O3'] =df_ch4_agwp_o3_ssp/agwp100_CO2 "
   ]
  },
  {
   "cell_type": "markdown",
   "metadata": {},
   "source": [
    "### Methane AGWP100 Methane [mW m-2 yr Tg-1]"
   ]
  },
  {
   "cell_type": "code",
   "execution_count": 144,
   "metadata": {
    "scrolled": true
   },
   "outputs": [],
   "source": [
    "df_ch4_agwp =df_surf_ch4_per_ch4_flux*spec_rf_ch4\n",
    "df_ch4_agwp.name = 'ch4_agwp'\n"
   ]
  },
  {
   "cell_type": "code",
   "execution_count": 145,
   "metadata": {},
   "outputs": [],
   "source": [
    "df_ch4_agwp_ssp =df_surf_ch4_per_ch4_flux_ssp*spec_rf_ch4\n",
    "df_ch4_agwp_ssp.name = 'ch4_agwp'"
   ]
  },
  {
   "cell_type": "markdown",
   "metadata": {},
   "source": [
    "### Add methane GWP"
   ]
  },
  {
   "cell_type": "code",
   "execution_count": 146,
   "metadata": {},
   "outputs": [],
   "source": [
    "#Add Methane GWP:\n",
    "df_ch4_gwp.loc['CH4'] =df_ch4_agwp/agwp100_CO2 "
   ]
  },
  {
   "cell_type": "code",
   "execution_count": 147,
   "metadata": {},
   "outputs": [],
   "source": [
    "df_ch4_gwp_ssp.loc['CH4'] =df_ch4_agwp_ssp/agwp100_CO2 "
   ]
  },
  {
   "cell_type": "markdown",
   "metadata": {},
   "source": [
    "### Methane AGWP100 strat H2O [mW m-2 yr Tg-1]"
   ]
  },
  {
   "cell_type": "code",
   "execution_count": 148,
   "metadata": {},
   "outputs": [],
   "source": [
    "df_ch4_agwp_h2o = df_h2o_rf.loc['10CH4']/df_ch4_surfconc.loc['delta']*df_surf_ch4_per_ch4_flux\n",
    "df_ch4_agwp_h2o.name = 'ch4_agwp_h2o'"
   ]
  },
  {
   "cell_type": "code",
   "execution_count": 149,
   "metadata": {},
   "outputs": [
    {
     "data": {
      "text/plain": [
       "SSP119   0.22\n",
       "SSP434   0.24\n",
       "SSP585   0.23\n",
       "dtype: object"
      ]
     },
     "execution_count": 149,
     "metadata": {},
     "output_type": "execute_result"
    }
   ],
   "source": [
    "df_ch4_agwp_h2o_ssp = df_h2o_rf_ssp.loc['10CH4']/df_ch4_surfconc_ssp_v2.loc['delta']*df_surf_ch4_per_ch4_flux_ssp\n",
    "df_ch4_agwp_h2o_ssp "
   ]
  },
  {
   "cell_type": "markdown",
   "metadata": {},
   "source": [
    "### Add Strat H2O GWP:"
   ]
  },
  {
   "cell_type": "code",
   "execution_count": 150,
   "metadata": {},
   "outputs": [],
   "source": [
    "df_ch4_gwp.loc['strat H2O'] = df_ch4_agwp_h2o/agwp100_CO2"
   ]
  },
  {
   "cell_type": "code",
   "execution_count": 151,
   "metadata": {},
   "outputs": [],
   "source": [
    "df_ch4_gwp_ssp.loc['strat H2O'] = df_ch4_agwp_h2o_ssp/agwp100_CO2"
   ]
  },
  {
   "cell_type": "markdown",
   "metadata": {},
   "source": [
    "# Part III: Main results and tables"
   ]
  },
  {
   "cell_type": "markdown",
   "metadata": {},
   "source": [
    "## H2 GWP 100"
   ]
  },
  {
   "cell_type": "code",
   "execution_count": 152,
   "metadata": {},
   "outputs": [
    {
     "data": {
      "text/html": [
       "<div>\n",
       "<style scoped>\n",
       "    .dataframe tbody tr th:only-of-type {\n",
       "        vertical-align: middle;\n",
       "    }\n",
       "\n",
       "    .dataframe tbody tr th {\n",
       "        vertical-align: top;\n",
       "    }\n",
       "\n",
       "    .dataframe thead th {\n",
       "        text-align: right;\n",
       "    }\n",
       "</style>\n",
       "<table border=\"1\" class=\"dataframe\">\n",
       "  <thead>\n",
       "    <tr style=\"text-align: right;\">\n",
       "      <th></th>\n",
       "      <th>CNTR</th>\n",
       "      <th>antro1</th>\n",
       "      <th>H2_avi</th>\n",
       "      <th>SSP119</th>\n",
       "      <th>SSP434</th>\n",
       "      <th>SSP585</th>\n",
       "    </tr>\n",
       "  </thead>\n",
       "  <tbody>\n",
       "    <tr>\n",
       "      <th>O3</th>\n",
       "      <td>NaN</td>\n",
       "      <td>2.41</td>\n",
       "      <td>2.51</td>\n",
       "      <td>2.48</td>\n",
       "      <td>2.05</td>\n",
       "      <td>2.01</td>\n",
       "    </tr>\n",
       "    <tr>\n",
       "      <th>CH4</th>\n",
       "      <td>NaN</td>\n",
       "      <td>4.83</td>\n",
       "      <td>5.10</td>\n",
       "      <td>4.82</td>\n",
       "      <td>5.44</td>\n",
       "      <td>5.74</td>\n",
       "    </tr>\n",
       "    <tr>\n",
       "      <th>strat H2O</th>\n",
       "      <td>NaN</td>\n",
       "      <td>NaN</td>\n",
       "      <td>NaN</td>\n",
       "      <td>1.95</td>\n",
       "      <td>1.96</td>\n",
       "      <td>1.92</td>\n",
       "    </tr>\n",
       "    <tr>\n",
       "      <th>O3 CH4ind</th>\n",
       "      <td>NaN</td>\n",
       "      <td>2.82</td>\n",
       "      <td>2.98</td>\n",
       "      <td>2.94</td>\n",
       "      <td>2.79</td>\n",
       "      <td>3.03</td>\n",
       "    </tr>\n",
       "    <tr>\n",
       "      <th>strat H2O CH4ind</th>\n",
       "      <td>NaN</td>\n",
       "      <td>0.66</td>\n",
       "      <td>0.70</td>\n",
       "      <td>0.73</td>\n",
       "      <td>0.79</td>\n",
       "      <td>0.83</td>\n",
       "    </tr>\n",
       "  </tbody>\n",
       "</table>\n",
       "</div>"
      ],
      "text/plain": [
       "                  CNTR  antro1  H2_avi  SSP119  SSP434  SSP585\n",
       "O3                 NaN    2.41    2.51    2.48    2.05    2.01\n",
       "CH4                NaN    4.83    5.10    4.82    5.44    5.74\n",
       "strat H2O          NaN     NaN     NaN    1.95    1.96    1.92\n",
       "O3 CH4ind          NaN    2.82    2.98    2.94    2.79    3.03\n",
       "strat H2O CH4ind   NaN    0.66    0.70    0.73    0.79    0.83"
      ]
     },
     "execution_count": 152,
     "metadata": {},
     "output_type": "execute_result"
    }
   ],
   "source": [
    "df_h2_gwp = pd.concat([df_h2_gwp,df_h2_gwp_ssp],axis=1, join='inner',sort=False)\n",
    "df_h2_gwp                  "
   ]
  },
  {
   "cell_type": "code",
   "execution_count": 153,
   "metadata": {},
   "outputs": [
    {
     "data": {
      "text/html": [
       "<div>\n",
       "<style scoped>\n",
       "    .dataframe tbody tr th:only-of-type {\n",
       "        vertical-align: middle;\n",
       "    }\n",
       "\n",
       "    .dataframe tbody tr th {\n",
       "        vertical-align: top;\n",
       "    }\n",
       "\n",
       "    .dataframe thead th {\n",
       "        text-align: right;\n",
       "    }\n",
       "</style>\n",
       "<table border=\"1\" class=\"dataframe\">\n",
       "  <thead>\n",
       "    <tr style=\"text-align: right;\">\n",
       "      <th></th>\n",
       "      <th>O3</th>\n",
       "      <th>CH4</th>\n",
       "      <th>strat H2O</th>\n",
       "      <th>O3 CH4ind</th>\n",
       "      <th>strat H2O CH4ind</th>\n",
       "      <th>total</th>\n",
       "    </tr>\n",
       "  </thead>\n",
       "  <tbody>\n",
       "    <tr>\n",
       "      <th>antro1</th>\n",
       "      <td>2.41</td>\n",
       "      <td>4.83</td>\n",
       "      <td>NaN</td>\n",
       "      <td>2.82</td>\n",
       "      <td>0.66</td>\n",
       "      <td>10.7</td>\n",
       "    </tr>\n",
       "    <tr>\n",
       "      <th>H2_avi</th>\n",
       "      <td>2.51</td>\n",
       "      <td>5.10</td>\n",
       "      <td>NaN</td>\n",
       "      <td>2.98</td>\n",
       "      <td>0.70</td>\n",
       "      <td>11.3</td>\n",
       "    </tr>\n",
       "    <tr>\n",
       "      <th>SSP119</th>\n",
       "      <td>2.48</td>\n",
       "      <td>4.82</td>\n",
       "      <td>1.95</td>\n",
       "      <td>2.94</td>\n",
       "      <td>0.73</td>\n",
       "      <td>12.9</td>\n",
       "    </tr>\n",
       "    <tr>\n",
       "      <th>SSP434</th>\n",
       "      <td>2.05</td>\n",
       "      <td>5.44</td>\n",
       "      <td>1.96</td>\n",
       "      <td>2.79</td>\n",
       "      <td>0.79</td>\n",
       "      <td>13.0</td>\n",
       "    </tr>\n",
       "    <tr>\n",
       "      <th>SSP585</th>\n",
       "      <td>2.01</td>\n",
       "      <td>5.74</td>\n",
       "      <td>1.92</td>\n",
       "      <td>3.03</td>\n",
       "      <td>0.83</td>\n",
       "      <td>13.5</td>\n",
       "    </tr>\n",
       "  </tbody>\n",
       "</table>\n",
       "</div>"
      ],
      "text/plain": [
       "         O3  CH4  strat H2O  O3 CH4ind  strat H2O CH4ind  total\n",
       "antro1 2.41 4.83        NaN       2.82              0.66   10.7\n",
       "H2_avi 2.51 5.10        NaN       2.98              0.70   11.3\n",
       "SSP119 2.48 4.82       1.95       2.94              0.73   12.9\n",
       "SSP434 2.05 5.44       1.96       2.79              0.79   13.0\n",
       "SSP585 2.01 5.74       1.92       3.03              0.83   13.5"
      ]
     },
     "execution_count": 153,
     "metadata": {},
     "output_type": "execute_result"
    }
   ],
   "source": [
    "df_h2_gwp = df_h2_gwp.drop('CNTR',axis=1)\n",
    "df_h2_gwp.loc['total']=df_h2_gwp.sum()\n",
    "\n",
    "df_h2_gwp_table = df_h2_gwp.copy()\n",
    "\n",
    "df_h2_gwp_table.T\n"
   ]
  },
  {
   "cell_type": "markdown",
   "metadata": {},
   "source": [
    "## CH4 GWP 100"
   ]
  },
  {
   "cell_type": "code",
   "execution_count": 154,
   "metadata": {},
   "outputs": [
    {
     "data": {
      "text/html": [
       "<div>\n",
       "<style scoped>\n",
       "    .dataframe tbody tr th:only-of-type {\n",
       "        vertical-align: middle;\n",
       "    }\n",
       "\n",
       "    .dataframe tbody tr th {\n",
       "        vertical-align: top;\n",
       "    }\n",
       "\n",
       "    .dataframe thead th {\n",
       "        text-align: right;\n",
       "    }\n",
       "</style>\n",
       "<table border=\"1\" class=\"dataframe\">\n",
       "  <thead>\n",
       "    <tr style=\"text-align: right;\">\n",
       "      <th></th>\n",
       "      <th>CNTR</th>\n",
       "      <th>antro1</th>\n",
       "      <th>H2_avi</th>\n",
       "      <th>SSP119</th>\n",
       "      <th>SSP434</th>\n",
       "      <th>SSP585</th>\n",
       "    </tr>\n",
       "  </thead>\n",
       "  <tbody>\n",
       "    <tr>\n",
       "      <th>O3</th>\n",
       "      <td>9.17</td>\n",
       "      <td>9.17</td>\n",
       "      <td>9.17</td>\n",
       "      <td>9.92</td>\n",
       "      <td>9.42</td>\n",
       "      <td>9.48</td>\n",
       "    </tr>\n",
       "    <tr>\n",
       "      <th>CH4</th>\n",
       "      <td>15.7</td>\n",
       "      <td>15.7</td>\n",
       "      <td>15.7</td>\n",
       "      <td>16.3</td>\n",
       "      <td>18.4</td>\n",
       "      <td>18.0</td>\n",
       "    </tr>\n",
       "    <tr>\n",
       "      <th>strat H2O</th>\n",
       "      <td>2.14</td>\n",
       "      <td>2.14</td>\n",
       "      <td>2.14</td>\n",
       "      <td>2.46</td>\n",
       "      <td>2.66</td>\n",
       "      <td>2.59</td>\n",
       "    </tr>\n",
       "  </tbody>\n",
       "</table>\n",
       "</div>"
      ],
      "text/plain": [
       "           CNTR  antro1  H2_avi  SSP119  SSP434  SSP585\n",
       "O3         9.17    9.17    9.17    9.92    9.42    9.48\n",
       "CH4        15.7    15.7    15.7    16.3    18.4    18.0\n",
       "strat H2O  2.14    2.14    2.14    2.46    2.66    2.59"
      ]
     },
     "execution_count": 154,
     "metadata": {},
     "output_type": "execute_result"
    }
   ],
   "source": [
    "df_ch4_gwp = pd.concat([df_ch4_gwp,df_ch4_gwp_ssp],axis=1, join='inner',sort=False)\n",
    "df_ch4_gwp"
   ]
  },
  {
   "cell_type": "code",
   "execution_count": 155,
   "metadata": {},
   "outputs": [
    {
     "data": {
      "text/html": [
       "<div>\n",
       "<style scoped>\n",
       "    .dataframe tbody tr th:only-of-type {\n",
       "        vertical-align: middle;\n",
       "    }\n",
       "\n",
       "    .dataframe tbody tr th {\n",
       "        vertical-align: top;\n",
       "    }\n",
       "\n",
       "    .dataframe thead th {\n",
       "        text-align: right;\n",
       "    }\n",
       "</style>\n",
       "<table border=\"1\" class=\"dataframe\">\n",
       "  <thead>\n",
       "    <tr style=\"text-align: right;\">\n",
       "      <th></th>\n",
       "      <th>O3</th>\n",
       "      <th>CH4</th>\n",
       "      <th>strat H2O</th>\n",
       "      <th>total</th>\n",
       "    </tr>\n",
       "  </thead>\n",
       "  <tbody>\n",
       "    <tr>\n",
       "      <th>antro1</th>\n",
       "      <td>9.17</td>\n",
       "      <td>15.7</td>\n",
       "      <td>2.14</td>\n",
       "      <td>27.0</td>\n",
       "    </tr>\n",
       "    <tr>\n",
       "      <th>H2_avi</th>\n",
       "      <td>9.17</td>\n",
       "      <td>15.7</td>\n",
       "      <td>2.14</td>\n",
       "      <td>27.0</td>\n",
       "    </tr>\n",
       "    <tr>\n",
       "      <th>SSP119</th>\n",
       "      <td>9.92</td>\n",
       "      <td>16.3</td>\n",
       "      <td>2.46</td>\n",
       "      <td>28.6</td>\n",
       "    </tr>\n",
       "    <tr>\n",
       "      <th>SSP434</th>\n",
       "      <td>9.42</td>\n",
       "      <td>18.4</td>\n",
       "      <td>2.66</td>\n",
       "      <td>30.5</td>\n",
       "    </tr>\n",
       "    <tr>\n",
       "      <th>SSP585</th>\n",
       "      <td>9.48</td>\n",
       "      <td>18.0</td>\n",
       "      <td>2.59</td>\n",
       "      <td>30.0</td>\n",
       "    </tr>\n",
       "  </tbody>\n",
       "</table>\n",
       "</div>"
      ],
      "text/plain": [
       "         O3  CH4  strat H2O  total\n",
       "antro1 9.17 15.7       2.14   27.0\n",
       "H2_avi 9.17 15.7       2.14   27.0\n",
       "SSP119 9.92 16.3       2.46   28.6\n",
       "SSP434 9.42 18.4       2.66   30.5\n",
       "SSP585 9.48 18.0       2.59   30.0"
      ]
     },
     "execution_count": 155,
     "metadata": {},
     "output_type": "execute_result"
    }
   ],
   "source": [
    "df_ch4_gwp = df_ch4_gwp.drop('CNTR',axis=1)\n",
    "df_ch4_gwp.to_csv(outputpath + 'table_ch4_gwp.csv')\n",
    "df_ch4_gwp.loc['total']=df_ch4_gwp.sum()\n",
    "df_ch4_gwp.T"
   ]
  },
  {
   "cell_type": "markdown",
   "metadata": {},
   "source": [
    "## Table per flux H2"
   ]
  },
  {
   "cell_type": "code",
   "execution_count": 156,
   "metadata": {},
   "outputs": [
    {
     "data": {
      "text/html": [
       "<div>\n",
       "<style scoped>\n",
       "    .dataframe tbody tr th:only-of-type {\n",
       "        vertical-align: middle;\n",
       "    }\n",
       "\n",
       "    .dataframe tbody tr th {\n",
       "        vertical-align: top;\n",
       "    }\n",
       "\n",
       "    .dataframe thead th {\n",
       "        text-align: right;\n",
       "    }\n",
       "</style>\n",
       "<table border=\"1\" class=\"dataframe\">\n",
       "  <thead>\n",
       "    <tr style=\"text-align: right;\">\n",
       "      <th></th>\n",
       "      <th>deltaH2</th>\n",
       "      <th>surf_h2_per_h2_flux</th>\n",
       "      <th>surf_ch4_per_h2_flux</th>\n",
       "      <th>ch4_flux_per_h2_flux</th>\n",
       "      <th>ch4_rf_per_h2_flux</th>\n",
       "      <th>ozone_rf_per_h2_flux</th>\n",
       "      <th>h2o_rf_per_h2_flux</th>\n",
       "    </tr>\n",
       "  </thead>\n",
       "  <tbody>\n",
       "    <tr>\n",
       "      <th>CNTR</th>\n",
       "      <td>0.00</td>\n",
       "      <td>NaN</td>\n",
       "      <td>NaN</td>\n",
       "      <td>NaN</td>\n",
       "      <td>NaN</td>\n",
       "      <td>NaN</td>\n",
       "      <td>NaN</td>\n",
       "    </tr>\n",
       "    <tr>\n",
       "      <th>antro1</th>\n",
       "      <td>0.95</td>\n",
       "      <td>6.26</td>\n",
       "      <td>1.12</td>\n",
       "      <td>0.31</td>\n",
       "      <td>0.43</td>\n",
       "      <td>0.22</td>\n",
       "      <td>NaN</td>\n",
       "    </tr>\n",
       "    <tr>\n",
       "      <th>H2_avi</th>\n",
       "      <td>0.71</td>\n",
       "      <td>6.38</td>\n",
       "      <td>1.18</td>\n",
       "      <td>0.32</td>\n",
       "      <td>0.46</td>\n",
       "      <td>0.22</td>\n",
       "      <td>NaN</td>\n",
       "    </tr>\n",
       "  </tbody>\n",
       "</table>\n",
       "</div>"
      ],
      "text/plain": [
       "        deltaH2  surf_h2_per_h2_flux  surf_ch4_per_h2_flux  \\\n",
       "CNTR       0.00                  NaN                   NaN   \n",
       "antro1     0.95                 6.26                  1.12   \n",
       "H2_avi     0.71                 6.38                  1.18   \n",
       "\n",
       "        ch4_flux_per_h2_flux  ch4_rf_per_h2_flux  ozone_rf_per_h2_flux  \\\n",
       "CNTR                     NaN                 NaN                   NaN   \n",
       "antro1                  0.31                0.43                  0.22   \n",
       "H2_avi                  0.32                0.46                  0.22   \n",
       "\n",
       "        h2o_rf_per_h2_flux  \n",
       "CNTR                   NaN  \n",
       "antro1                 NaN  \n",
       "H2_avi                 NaN  "
      ]
     },
     "execution_count": 156,
     "metadata": {},
     "output_type": "execute_result"
    }
   ],
   "source": [
    "df_per_flux_h2 = pd.concat([df_h2_flux['deltaH2'],\n",
    "                            df_surf_h2_per_h2_flux,\n",
    "                            df_surf_ch4_per_h2_flux,\n",
    "                            df_ch4_flux_per_h2_flux,\n",
    "                            df_ch4_rf_per_h2_flux,\n",
    "                            #df_trop_du_ozone_per_h2_flux*1000.,\n",
    "                            #df_strat_du_ozone_per_h2_flux*1000.,\n",
    "                            df_ozone_rf_per_h2_flux,\n",
    "                            df_h2o_rf_per_h2_flux \n",
    "                            #df_aerosol_rf_per_h2_flux\n",
    "                           ],axis=1, sort=False)\n",
    "\n",
    "df_per_flux_h2"
   ]
  },
  {
   "cell_type": "code",
   "execution_count": 157,
   "metadata": {},
   "outputs": [
    {
     "data": {
      "text/plain": [
       "CNTR     0.02\n",
       "antro1   0.02\n",
       "H2_avi   0.02\n",
       "Name: h2_flux_per_ch4_flux, dtype: float64"
      ]
     },
     "execution_count": 157,
     "metadata": {},
     "output_type": "execute_result"
    }
   ],
   "source": [
    "df_h2_flux_per_ch4_flux"
   ]
  },
  {
   "cell_type": "code",
   "execution_count": 158,
   "metadata": {},
   "outputs": [
    {
     "name": "stderr",
     "output_type": "stream",
     "text": [
      "/tmp/ipykernel_2927/3254411175.py:8: FutureWarning: ChainedAssignmentError: behaviour will change in pandas 3.0!\n",
      "You are setting values through chained assignment. Currently this works in certain cases, but when using Copy-on-Write (which will become the default behaviour in pandas 3.0) this will never work to update the original DataFrame or Series, because the intermediate object on which we are setting values will behave as a copy.\n",
      "A typical example is when you are setting values in a column of a DataFrame, like:\n",
      "\n",
      "df[\"col\"][row_indexer] = value\n",
      "\n",
      "Use `df.loc[row_indexer, \"col\"] = values` instead, to perform the assignment in a single step and ensure this keeps updating the original `df`.\n",
      "\n",
      "See the caveats in the documentation: https://pandas.pydata.org/pandas-docs/stable/user_guide/indexing.html#returning-a-view-versus-a-copy\n",
      "\n",
      "  df_per_flux_h2['deltaH2'].loc[scen] = df_h2_flux_ssp_v2.loc['deltaH2'][scen]\n",
      "/tmp/ipykernel_2927/3254411175.py:9: FutureWarning: ChainedAssignmentError: behaviour will change in pandas 3.0!\n",
      "You are setting values through chained assignment. Currently this works in certain cases, but when using Copy-on-Write (which will become the default behaviour in pandas 3.0) this will never work to update the original DataFrame or Series, because the intermediate object on which we are setting values will behave as a copy.\n",
      "A typical example is when you are setting values in a column of a DataFrame, like:\n",
      "\n",
      "df[\"col\"][row_indexer] = value\n",
      "\n",
      "Use `df.loc[row_indexer, \"col\"] = values` instead, to perform the assignment in a single step and ensure this keeps updating the original `df`.\n",
      "\n",
      "See the caveats in the documentation: https://pandas.pydata.org/pandas-docs/stable/user_guide/indexing.html#returning-a-view-versus-a-copy\n",
      "\n",
      "  df_per_flux_h2['surf_h2_per_h2_flux'].loc[scen] = df_surf_h2_per_h2_flux_ssp['antro10_'+scen]\n",
      "/tmp/ipykernel_2927/3254411175.py:10: FutureWarning: ChainedAssignmentError: behaviour will change in pandas 3.0!\n",
      "You are setting values through chained assignment. Currently this works in certain cases, but when using Copy-on-Write (which will become the default behaviour in pandas 3.0) this will never work to update the original DataFrame or Series, because the intermediate object on which we are setting values will behave as a copy.\n",
      "A typical example is when you are setting values in a column of a DataFrame, like:\n",
      "\n",
      "df[\"col\"][row_indexer] = value\n",
      "\n",
      "Use `df.loc[row_indexer, \"col\"] = values` instead, to perform the assignment in a single step and ensure this keeps updating the original `df`.\n",
      "\n",
      "See the caveats in the documentation: https://pandas.pydata.org/pandas-docs/stable/user_guide/indexing.html#returning-a-view-versus-a-copy\n",
      "\n",
      "  df_per_flux_h2['surf_ch4_per_h2_flux'].loc[scen] = df_surf_ch4_per_h2_flux_ssp[scen]\n",
      "/tmp/ipykernel_2927/3254411175.py:11: FutureWarning: ChainedAssignmentError: behaviour will change in pandas 3.0!\n",
      "You are setting values through chained assignment. Currently this works in certain cases, but when using Copy-on-Write (which will become the default behaviour in pandas 3.0) this will never work to update the original DataFrame or Series, because the intermediate object on which we are setting values will behave as a copy.\n",
      "A typical example is when you are setting values in a column of a DataFrame, like:\n",
      "\n",
      "df[\"col\"][row_indexer] = value\n",
      "\n",
      "Use `df.loc[row_indexer, \"col\"] = values` instead, to perform the assignment in a single step and ensure this keeps updating the original `df`.\n",
      "\n",
      "See the caveats in the documentation: https://pandas.pydata.org/pandas-docs/stable/user_guide/indexing.html#returning-a-view-versus-a-copy\n",
      "\n",
      "  df_per_flux_h2['ch4_flux_per_h2_flux'].loc[scen] = df_ch4_flux_per_h2_flux_ssp[scen]\n",
      "/tmp/ipykernel_2927/3254411175.py:12: FutureWarning: ChainedAssignmentError: behaviour will change in pandas 3.0!\n",
      "You are setting values through chained assignment. Currently this works in certain cases, but when using Copy-on-Write (which will become the default behaviour in pandas 3.0) this will never work to update the original DataFrame or Series, because the intermediate object on which we are setting values will behave as a copy.\n",
      "A typical example is when you are setting values in a column of a DataFrame, like:\n",
      "\n",
      "df[\"col\"][row_indexer] = value\n",
      "\n",
      "Use `df.loc[row_indexer, \"col\"] = values` instead, to perform the assignment in a single step and ensure this keeps updating the original `df`.\n",
      "\n",
      "See the caveats in the documentation: https://pandas.pydata.org/pandas-docs/stable/user_guide/indexing.html#returning-a-view-versus-a-copy\n",
      "\n",
      "  df_per_flux_h2['ch4_rf_per_h2_flux'].loc[scen] = df_ch4_rf_per_h2_flux_ssp[scen]\n",
      "/tmp/ipykernel_2927/3254411175.py:13: FutureWarning: ChainedAssignmentError: behaviour will change in pandas 3.0!\n",
      "You are setting values through chained assignment. Currently this works in certain cases, but when using Copy-on-Write (which will become the default behaviour in pandas 3.0) this will never work to update the original DataFrame or Series, because the intermediate object on which we are setting values will behave as a copy.\n",
      "A typical example is when you are setting values in a column of a DataFrame, like:\n",
      "\n",
      "df[\"col\"][row_indexer] = value\n",
      "\n",
      "Use `df.loc[row_indexer, \"col\"] = values` instead, to perform the assignment in a single step and ensure this keeps updating the original `df`.\n",
      "\n",
      "See the caveats in the documentation: https://pandas.pydata.org/pandas-docs/stable/user_guide/indexing.html#returning-a-view-versus-a-copy\n",
      "\n",
      "  df_per_flux_h2['ozone_rf_per_h2_flux'].loc[scen] = df_ozone_rf_per_h2_flux_ssp[scen]\n",
      "/tmp/ipykernel_2927/3254411175.py:14: FutureWarning: ChainedAssignmentError: behaviour will change in pandas 3.0!\n",
      "You are setting values through chained assignment. Currently this works in certain cases, but when using Copy-on-Write (which will become the default behaviour in pandas 3.0) this will never work to update the original DataFrame or Series, because the intermediate object on which we are setting values will behave as a copy.\n",
      "A typical example is when you are setting values in a column of a DataFrame, like:\n",
      "\n",
      "df[\"col\"][row_indexer] = value\n",
      "\n",
      "Use `df.loc[row_indexer, \"col\"] = values` instead, to perform the assignment in a single step and ensure this keeps updating the original `df`.\n",
      "\n",
      "See the caveats in the documentation: https://pandas.pydata.org/pandas-docs/stable/user_guide/indexing.html#returning-a-view-versus-a-copy\n",
      "\n",
      "  df_per_flux_h2['h2o_rf_per_h2_flux'].loc[scen] = df_h2o_rf_per_h2_flux_ssp[scen]\n"
     ]
    },
    {
     "data": {
      "text/html": [
       "<div>\n",
       "<style scoped>\n",
       "    .dataframe tbody tr th:only-of-type {\n",
       "        vertical-align: middle;\n",
       "    }\n",
       "\n",
       "    .dataframe tbody tr th {\n",
       "        vertical-align: top;\n",
       "    }\n",
       "\n",
       "    .dataframe thead th {\n",
       "        text-align: right;\n",
       "    }\n",
       "</style>\n",
       "<table border=\"1\" class=\"dataframe\">\n",
       "  <thead>\n",
       "    <tr style=\"text-align: right;\">\n",
       "      <th></th>\n",
       "      <th>deltaH2</th>\n",
       "      <th>surf_h2_per_h2_flux</th>\n",
       "      <th>surf_ch4_per_h2_flux</th>\n",
       "      <th>ch4_flux_per_h2_flux</th>\n",
       "      <th>ch4_rf_per_h2_flux</th>\n",
       "      <th>ozone_rf_per_h2_flux</th>\n",
       "      <th>h2o_rf_per_h2_flux</th>\n",
       "    </tr>\n",
       "  </thead>\n",
       "  <tbody>\n",
       "    <tr>\n",
       "      <th>CNTR</th>\n",
       "      <td>0.00</td>\n",
       "      <td>NaN</td>\n",
       "      <td>NaN</td>\n",
       "      <td>NaN</td>\n",
       "      <td>NaN</td>\n",
       "      <td>NaN</td>\n",
       "      <td>NaN</td>\n",
       "    </tr>\n",
       "    <tr>\n",
       "      <th>antro1</th>\n",
       "      <td>0.95</td>\n",
       "      <td>6.26</td>\n",
       "      <td>1.12</td>\n",
       "      <td>0.31</td>\n",
       "      <td>0.43</td>\n",
       "      <td>0.22</td>\n",
       "      <td>NaN</td>\n",
       "    </tr>\n",
       "    <tr>\n",
       "      <th>H2_avi</th>\n",
       "      <td>0.71</td>\n",
       "      <td>6.38</td>\n",
       "      <td>1.18</td>\n",
       "      <td>0.32</td>\n",
       "      <td>0.46</td>\n",
       "      <td>0.22</td>\n",
       "      <td>NaN</td>\n",
       "    </tr>\n",
       "    <tr>\n",
       "      <th>SSP119</th>\n",
       "      <td>9.90</td>\n",
       "      <td>6.36</td>\n",
       "      <td>1.12</td>\n",
       "      <td>0.30</td>\n",
       "      <td>0.43</td>\n",
       "      <td>0.22</td>\n",
       "      <td>0.17</td>\n",
       "    </tr>\n",
       "    <tr>\n",
       "      <th>SSP434</th>\n",
       "      <td>9.90</td>\n",
       "      <td>6.53</td>\n",
       "      <td>1.26</td>\n",
       "      <td>0.30</td>\n",
       "      <td>0.49</td>\n",
       "      <td>0.18</td>\n",
       "      <td>0.18</td>\n",
       "    </tr>\n",
       "    <tr>\n",
       "      <th>SSP585</th>\n",
       "      <td>9.89</td>\n",
       "      <td>6.42</td>\n",
       "      <td>1.33</td>\n",
       "      <td>0.32</td>\n",
       "      <td>0.51</td>\n",
       "      <td>0.18</td>\n",
       "      <td>0.17</td>\n",
       "    </tr>\n",
       "  </tbody>\n",
       "</table>\n",
       "</div>"
      ],
      "text/plain": [
       "        deltaH2  surf_h2_per_h2_flux  surf_ch4_per_h2_flux  \\\n",
       "CNTR       0.00                  NaN                   NaN   \n",
       "antro1     0.95                 6.26                  1.12   \n",
       "H2_avi     0.71                 6.38                  1.18   \n",
       "SSP119     9.90                 6.36                  1.12   \n",
       "SSP434     9.90                 6.53                  1.26   \n",
       "SSP585     9.89                 6.42                  1.33   \n",
       "\n",
       "        ch4_flux_per_h2_flux  ch4_rf_per_h2_flux  ozone_rf_per_h2_flux  \\\n",
       "CNTR                     NaN                 NaN                   NaN   \n",
       "antro1                  0.31                0.43                  0.22   \n",
       "H2_avi                  0.32                0.46                  0.22   \n",
       "SSP119                  0.30                0.43                  0.22   \n",
       "SSP434                  0.30                0.49                  0.18   \n",
       "SSP585                  0.32                0.51                  0.18   \n",
       "\n",
       "        h2o_rf_per_h2_flux  \n",
       "CNTR                   NaN  \n",
       "antro1                 NaN  \n",
       "H2_avi                 NaN  \n",
       "SSP119                0.17  \n",
       "SSP434                0.18  \n",
       "SSP585                0.17  "
      ]
     },
     "execution_count": 158,
     "metadata": {},
     "output_type": "execute_result"
    }
   ],
   "source": [
    "df_per_flux_h2.loc['SSP119'] = None\n",
    "df_per_flux_h2.loc['SSP434'] = None\n",
    "df_per_flux_h2.loc['SSP585'] = None\n",
    "\n",
    "scen_list = ['SSP119','SSP434','SSP585']\n",
    "df_h2_flux_ssp_v2\n",
    "for scen in scen_list:\n",
    "    df_per_flux_h2['deltaH2'].loc[scen] = df_h2_flux_ssp_v2.loc['deltaH2'][scen]\n",
    "    df_per_flux_h2['surf_h2_per_h2_flux'].loc[scen] = df_surf_h2_per_h2_flux_ssp['antro10_'+scen]\n",
    "    df_per_flux_h2['surf_ch4_per_h2_flux'].loc[scen] = df_surf_ch4_per_h2_flux_ssp[scen]\n",
    "    df_per_flux_h2['ch4_flux_per_h2_flux'].loc[scen] = df_ch4_flux_per_h2_flux_ssp[scen]\n",
    "    df_per_flux_h2['ch4_rf_per_h2_flux'].loc[scen] = df_ch4_rf_per_h2_flux_ssp[scen]\n",
    "    df_per_flux_h2['ozone_rf_per_h2_flux'].loc[scen] = df_ozone_rf_per_h2_flux_ssp[scen]\n",
    "    df_per_flux_h2['h2o_rf_per_h2_flux'].loc[scen] = df_h2o_rf_per_h2_flux_ssp[scen]\n",
    "df_per_flux_h2"
   ]
  },
  {
   "cell_type": "code",
   "execution_count": 159,
   "metadata": {},
   "outputs": [
    {
     "data": {
      "text/html": [
       "<div>\n",
       "<style scoped>\n",
       "    .dataframe tbody tr th:only-of-type {\n",
       "        vertical-align: middle;\n",
       "    }\n",
       "\n",
       "    .dataframe tbody tr th {\n",
       "        vertical-align: top;\n",
       "    }\n",
       "\n",
       "    .dataframe thead th {\n",
       "        text-align: right;\n",
       "    }\n",
       "</style>\n",
       "<table border=\"1\" class=\"dataframe\">\n",
       "  <thead>\n",
       "    <tr style=\"text-align: right;\">\n",
       "      <th></th>\n",
       "      <th>Flux H2 [Tg/yr]</th>\n",
       "      <th>Surf. conc. H2 per flux [ppb yr/Tg]</th>\n",
       "      <th>Surf. conc. CH4 per flux [ppb yr/Tg]</th>\n",
       "      <th>Flux CH4/Flux H2 [Tg CH4/Tg H2]</th>\n",
       "      <th>CH4 RF per flux [mW m-2 yr/ Tg]</th>\n",
       "      <th>ozone RF per flux [mW m-2 yr/ Tg]</th>\n",
       "      <th>Strat. H2O RF per flux [mW m-2 yr/ Tg]</th>\n",
       "    </tr>\n",
       "  </thead>\n",
       "  <tbody>\n",
       "    <tr>\n",
       "      <th>anthro1</th>\n",
       "      <td>0.95</td>\n",
       "      <td>6.26</td>\n",
       "      <td>1.12</td>\n",
       "      <td>0.31</td>\n",
       "      <td>0.43</td>\n",
       "      <td>0.22</td>\n",
       "      <td>NaN</td>\n",
       "    </tr>\n",
       "    <tr>\n",
       "      <th>H2_avi</th>\n",
       "      <td>0.71</td>\n",
       "      <td>6.38</td>\n",
       "      <td>1.18</td>\n",
       "      <td>0.32</td>\n",
       "      <td>0.46</td>\n",
       "      <td>0.22</td>\n",
       "      <td>NaN</td>\n",
       "    </tr>\n",
       "    <tr>\n",
       "      <th>SSP119</th>\n",
       "      <td>9.90</td>\n",
       "      <td>6.36</td>\n",
       "      <td>1.12</td>\n",
       "      <td>0.30</td>\n",
       "      <td>0.43</td>\n",
       "      <td>0.22</td>\n",
       "      <td>0.17</td>\n",
       "    </tr>\n",
       "    <tr>\n",
       "      <th>SSP434</th>\n",
       "      <td>9.90</td>\n",
       "      <td>6.53</td>\n",
       "      <td>1.26</td>\n",
       "      <td>0.30</td>\n",
       "      <td>0.49</td>\n",
       "      <td>0.18</td>\n",
       "      <td>0.18</td>\n",
       "    </tr>\n",
       "    <tr>\n",
       "      <th>SSP585</th>\n",
       "      <td>9.89</td>\n",
       "      <td>6.42</td>\n",
       "      <td>1.33</td>\n",
       "      <td>0.32</td>\n",
       "      <td>0.51</td>\n",
       "      <td>0.18</td>\n",
       "      <td>0.17</td>\n",
       "    </tr>\n",
       "  </tbody>\n",
       "</table>\n",
       "</div>"
      ],
      "text/plain": [
       "         Flux H2 [Tg/yr]  Surf. conc. H2 per flux [ppb yr/Tg]  \\\n",
       "anthro1             0.95                                 6.26   \n",
       "H2_avi              0.71                                 6.38   \n",
       "SSP119              9.90                                 6.36   \n",
       "SSP434              9.90                                 6.53   \n",
       "SSP585              9.89                                 6.42   \n",
       "\n",
       "         Surf. conc. CH4 per flux [ppb yr/Tg]  \\\n",
       "anthro1                                  1.12   \n",
       "H2_avi                                   1.18   \n",
       "SSP119                                   1.12   \n",
       "SSP434                                   1.26   \n",
       "SSP585                                   1.33   \n",
       "\n",
       "         Flux CH4/Flux H2 [Tg CH4/Tg H2]  CH4 RF per flux [mW m-2 yr/ Tg]  \\\n",
       "anthro1                             0.31                             0.43   \n",
       "H2_avi                              0.32                             0.46   \n",
       "SSP119                              0.30                             0.43   \n",
       "SSP434                              0.30                             0.49   \n",
       "SSP585                              0.32                             0.51   \n",
       "\n",
       "         ozone RF per flux [mW m-2 yr/ Tg]  \\\n",
       "anthro1                               0.22   \n",
       "H2_avi                                0.22   \n",
       "SSP119                                0.22   \n",
       "SSP434                                0.18   \n",
       "SSP585                                0.18   \n",
       "\n",
       "         Strat. H2O RF per flux [mW m-2 yr/ Tg]  \n",
       "anthro1                                     NaN  \n",
       "H2_avi                                      NaN  \n",
       "SSP119                                     0.17  \n",
       "SSP434                                     0.18  \n",
       "SSP585                                     0.17  "
      ]
     },
     "execution_count": 159,
     "metadata": {},
     "output_type": "execute_result"
    }
   ],
   "source": [
    "#Save to file:\n",
    "df_per_flux_h2 = df_per_flux_h2.sort_index()\n",
    "df_per_flux_h2.to_csv(outputpath + 'table_per_flux_h2.csv')\n",
    "\n",
    "#Rename the columns:\n",
    "columns_names={'deltaH2':'Flux H2 [Tg/yr]',\n",
    "               'surf_h2_per_h2_flux': 'Surf. conc. H2 per flux [ppb yr/Tg]',\n",
    "               'surf_ch4_per_h2_flux':'Surf. conc. CH4 per flux [ppb yr/Tg]',\n",
    "               'ch4_flux_per_h2_flux':'Flux CH4/Flux H2 [Tg CH4/Tg H2]',\n",
    "               'ch4_rf_per_h2_flux':'CH4 RF per flux [mW m-2 yr/ Tg]',\n",
    "               'trop_du_ozone_per_h2_flux':'Trop. ozone per flux [10$^{-3}$ DU yr/Tg]',\n",
    "               'strat_du_ozone_per_h2_flux':'Strat. ozone per flux [10$^{-3}$ DU yr/Tg]',\n",
    "               'ozone_rf_per_h2_flux':'ozone RF per flux [mW m-2 yr/ Tg]',\n",
    "               'h2o_rf_per_h2_flux':'Strat. H2O RF per flux [mW m-2 yr/ Tg]',\n",
    "               'aerosol_rf_per_h2_flux':'Aerosol RF per flux [mW m-2 yr/ Tg]'}\n",
    "\n",
    "#Rename column names:\n",
    "df_per_flux_h2.rename(columns=dict(columns_names),inplace=True) #[df_per_flux_h2.columns])\n",
    "\n",
    "df_per_flux_h2 = df_per_flux_h2.drop('CNTR')\n",
    "\n",
    "sorted_list = ['antro1', \n",
    "               'H2_avi',\n",
    "               'SSP119', \n",
    "               'SSP434', \n",
    "               'SSP585'] \n",
    "senslist = sorted_list\n",
    "senslist = [sub.replace('antro', 'anthro') for sub in senslist]\n",
    "df_per_flux_h2 = df_per_flux_h2.reindex(sorted_list)\n",
    "df_per_flux_h2.index = [sub.replace('antro', 'anthro') for sub in df_per_flux_h2.index]\n",
    "\n",
    "\n",
    "df_per_flux_h2.to_csv(outputpath + 'table_per_flux_h2_to_manuscript.csv')\n",
    "df_per_flux_h2"
   ]
  },
  {
   "cell_type": "markdown",
   "metadata": {},
   "source": [
    "## Table per flux CH4"
   ]
  },
  {
   "cell_type": "code",
   "execution_count": 160,
   "metadata": {
    "scrolled": true
   },
   "outputs": [
    {
     "data": {
      "text/html": [
       "<div>\n",
       "<style scoped>\n",
       "    .dataframe tbody tr th:only-of-type {\n",
       "        vertical-align: middle;\n",
       "    }\n",
       "\n",
       "    .dataframe tbody tr th {\n",
       "        vertical-align: top;\n",
       "    }\n",
       "\n",
       "    .dataframe thead th {\n",
       "        text-align: right;\n",
       "    }\n",
       "</style>\n",
       "<table border=\"1\" class=\"dataframe\">\n",
       "  <thead>\n",
       "    <tr style=\"text-align: right;\">\n",
       "      <th></th>\n",
       "      <th>deltaCH4</th>\n",
       "      <th>surf_ch4_per_ch4_flux</th>\n",
       "      <th>h2_flux_per_ch4_flux</th>\n",
       "      <th>ozone_rf_per_ch4_flux</th>\n",
       "      <th>h2o_rf_per_ch4_flux</th>\n",
       "    </tr>\n",
       "  </thead>\n",
       "  <tbody>\n",
       "    <tr>\n",
       "      <th>CNTR</th>\n",
       "      <td>49.7</td>\n",
       "      <td>3.65</td>\n",
       "      <td>0.02</td>\n",
       "      <td>0.82</td>\n",
       "      <td>0.19</td>\n",
       "    </tr>\n",
       "    <tr>\n",
       "      <th>antro1</th>\n",
       "      <td>49.7</td>\n",
       "      <td>3.65</td>\n",
       "      <td>0.02</td>\n",
       "      <td>0.82</td>\n",
       "      <td>0.19</td>\n",
       "    </tr>\n",
       "    <tr>\n",
       "      <th>H2_avi</th>\n",
       "      <td>49.7</td>\n",
       "      <td>3.65</td>\n",
       "      <td>0.02</td>\n",
       "      <td>0.82</td>\n",
       "      <td>0.19</td>\n",
       "    </tr>\n",
       "  </tbody>\n",
       "</table>\n",
       "</div>"
      ],
      "text/plain": [
       "        deltaCH4  surf_ch4_per_ch4_flux  h2_flux_per_ch4_flux  \\\n",
       "CNTR        49.7                   3.65                  0.02   \n",
       "antro1      49.7                   3.65                  0.02   \n",
       "H2_avi      49.7                   3.65                  0.02   \n",
       "\n",
       "       ozone_rf_per_ch4_flux h2o_rf_per_ch4_flux  \n",
       "CNTR                    0.82                0.19  \n",
       "antro1                  0.82                0.19  \n",
       "H2_avi                  0.82                0.19  "
      ]
     },
     "execution_count": 160,
     "metadata": {},
     "output_type": "execute_result"
    }
   ],
   "source": [
    "df_per_flux_ch4 = pd.concat([df_ch4_flux.loc['deltaCH4'],\n",
    "                            df_surf_ch4_per_ch4_flux,\n",
    "                            df_h2_flux_per_ch4_flux,\n",
    "                            #df_trop_du_ozone_per_ch4_flux*1000.,\n",
    "                            #df_strat_du_ozone_per_ch4_flux*1000.,\n",
    "                            df_ozone_rf_per_ch4_flux,\n",
    "                            df_h2o_rf_per_ch4_flux\n",
    "                            #df_aerosol_rf_per_ch4_flux\n",
    "                            ],axis=1,sort=False)\n",
    "\n",
    "\n",
    "df_per_flux_ch4        "
   ]
  },
  {
   "cell_type": "code",
   "execution_count": 161,
   "metadata": {},
   "outputs": [],
   "source": [
    "df_per_flux_ch4.loc['SSP119'] = None\n",
    "df_per_flux_ch4.loc['SSP434'] = None\n",
    "df_per_flux_ch4.loc['SSP585'] = None"
   ]
  },
  {
   "cell_type": "code",
   "execution_count": 162,
   "metadata": {},
   "outputs": [
    {
     "data": {
      "text/plain": [
       "SSP119   0.22\n",
       "SSP434   0.24\n",
       "SSP585   0.23\n",
       "Name: h2o_rf_per_ch4_flux, dtype: object"
      ]
     },
     "execution_count": 162,
     "metadata": {},
     "output_type": "execute_result"
    }
   ],
   "source": [
    "df_h2o_rf_per_ch4_flux_ssp"
   ]
  },
  {
   "cell_type": "code",
   "execution_count": 163,
   "metadata": {},
   "outputs": [
    {
     "name": "stderr",
     "output_type": "stream",
     "text": [
      "/tmp/ipykernel_2927/113259963.py:4: FutureWarning: ChainedAssignmentError: behaviour will change in pandas 3.0!\n",
      "You are setting values through chained assignment. Currently this works in certain cases, but when using Copy-on-Write (which will become the default behaviour in pandas 3.0) this will never work to update the original DataFrame or Series, because the intermediate object on which we are setting values will behave as a copy.\n",
      "A typical example is when you are setting values in a column of a DataFrame, like:\n",
      "\n",
      "df[\"col\"][row_indexer] = value\n",
      "\n",
      "Use `df.loc[row_indexer, \"col\"] = values` instead, to perform the assignment in a single step and ensure this keeps updating the original `df`.\n",
      "\n",
      "See the caveats in the documentation: https://pandas.pydata.org/pandas-docs/stable/user_guide/indexing.html#returning-a-view-versus-a-copy\n",
      "\n",
      "  df_per_flux_ch4['deltaCH4'].loc[scen] = df_ch4_flux_ssp_v2.loc['deltaCH4'][scen]\n",
      "/tmp/ipykernel_2927/113259963.py:4: SettingWithCopyWarning: \n",
      "A value is trying to be set on a copy of a slice from a DataFrame\n",
      "\n",
      "See the caveats in the documentation: https://pandas.pydata.org/pandas-docs/stable/user_guide/indexing.html#returning-a-view-versus-a-copy\n",
      "  df_per_flux_ch4['deltaCH4'].loc[scen] = df_ch4_flux_ssp_v2.loc['deltaCH4'][scen]\n",
      "/tmp/ipykernel_2927/113259963.py:5: FutureWarning: ChainedAssignmentError: behaviour will change in pandas 3.0!\n",
      "You are setting values through chained assignment. Currently this works in certain cases, but when using Copy-on-Write (which will become the default behaviour in pandas 3.0) this will never work to update the original DataFrame or Series, because the intermediate object on which we are setting values will behave as a copy.\n",
      "A typical example is when you are setting values in a column of a DataFrame, like:\n",
      "\n",
      "df[\"col\"][row_indexer] = value\n",
      "\n",
      "Use `df.loc[row_indexer, \"col\"] = values` instead, to perform the assignment in a single step and ensure this keeps updating the original `df`.\n",
      "\n",
      "See the caveats in the documentation: https://pandas.pydata.org/pandas-docs/stable/user_guide/indexing.html#returning-a-view-versus-a-copy\n",
      "\n",
      "  df_per_flux_ch4['surf_ch4_per_ch4_flux'].loc[scen] = df_surf_ch4_per_ch4_flux_ssp[scen]\n",
      "/tmp/ipykernel_2927/113259963.py:5: SettingWithCopyWarning: \n",
      "A value is trying to be set on a copy of a slice from a DataFrame\n",
      "\n",
      "See the caveats in the documentation: https://pandas.pydata.org/pandas-docs/stable/user_guide/indexing.html#returning-a-view-versus-a-copy\n",
      "  df_per_flux_ch4['surf_ch4_per_ch4_flux'].loc[scen] = df_surf_ch4_per_ch4_flux_ssp[scen]\n",
      "/tmp/ipykernel_2927/113259963.py:6: FutureWarning: ChainedAssignmentError: behaviour will change in pandas 3.0!\n",
      "You are setting values through chained assignment. Currently this works in certain cases, but when using Copy-on-Write (which will become the default behaviour in pandas 3.0) this will never work to update the original DataFrame or Series, because the intermediate object on which we are setting values will behave as a copy.\n",
      "A typical example is when you are setting values in a column of a DataFrame, like:\n",
      "\n",
      "df[\"col\"][row_indexer] = value\n",
      "\n",
      "Use `df.loc[row_indexer, \"col\"] = values` instead, to perform the assignment in a single step and ensure this keeps updating the original `df`.\n",
      "\n",
      "See the caveats in the documentation: https://pandas.pydata.org/pandas-docs/stable/user_guide/indexing.html#returning-a-view-versus-a-copy\n",
      "\n",
      "  df_per_flux_ch4['h2_flux_per_ch4_flux'].loc[scen] =df_h2_flux_per_ch4_flux_ssp[scen]\n",
      "/tmp/ipykernel_2927/113259963.py:6: SettingWithCopyWarning: \n",
      "A value is trying to be set on a copy of a slice from a DataFrame\n",
      "\n",
      "See the caveats in the documentation: https://pandas.pydata.org/pandas-docs/stable/user_guide/indexing.html#returning-a-view-versus-a-copy\n",
      "  df_per_flux_ch4['h2_flux_per_ch4_flux'].loc[scen] =df_h2_flux_per_ch4_flux_ssp[scen]\n",
      "/tmp/ipykernel_2927/113259963.py:7: FutureWarning: ChainedAssignmentError: behaviour will change in pandas 3.0!\n",
      "You are setting values through chained assignment. Currently this works in certain cases, but when using Copy-on-Write (which will become the default behaviour in pandas 3.0) this will never work to update the original DataFrame or Series, because the intermediate object on which we are setting values will behave as a copy.\n",
      "A typical example is when you are setting values in a column of a DataFrame, like:\n",
      "\n",
      "df[\"col\"][row_indexer] = value\n",
      "\n",
      "Use `df.loc[row_indexer, \"col\"] = values` instead, to perform the assignment in a single step and ensure this keeps updating the original `df`.\n",
      "\n",
      "See the caveats in the documentation: https://pandas.pydata.org/pandas-docs/stable/user_guide/indexing.html#returning-a-view-versus-a-copy\n",
      "\n",
      "  df_per_flux_ch4['ozone_rf_per_ch4_flux'].loc[scen] = df_ozone_rf_per_ch4_flux_ssp[scen]\n",
      "/tmp/ipykernel_2927/113259963.py:7: SettingWithCopyWarning: \n",
      "A value is trying to be set on a copy of a slice from a DataFrame\n",
      "\n",
      "See the caveats in the documentation: https://pandas.pydata.org/pandas-docs/stable/user_guide/indexing.html#returning-a-view-versus-a-copy\n",
      "  df_per_flux_ch4['ozone_rf_per_ch4_flux'].loc[scen] = df_ozone_rf_per_ch4_flux_ssp[scen]\n",
      "/tmp/ipykernel_2927/113259963.py:8: FutureWarning: ChainedAssignmentError: behaviour will change in pandas 3.0!\n",
      "You are setting values through chained assignment. Currently this works in certain cases, but when using Copy-on-Write (which will become the default behaviour in pandas 3.0) this will never work to update the original DataFrame or Series, because the intermediate object on which we are setting values will behave as a copy.\n",
      "A typical example is when you are setting values in a column of a DataFrame, like:\n",
      "\n",
      "df[\"col\"][row_indexer] = value\n",
      "\n",
      "Use `df.loc[row_indexer, \"col\"] = values` instead, to perform the assignment in a single step and ensure this keeps updating the original `df`.\n",
      "\n",
      "See the caveats in the documentation: https://pandas.pydata.org/pandas-docs/stable/user_guide/indexing.html#returning-a-view-versus-a-copy\n",
      "\n",
      "  df_per_flux_ch4['h2o_rf_per_ch4_flux'].loc[scen] = df_h2o_rf_per_ch4_flux_ssp[scen]\n",
      "/tmp/ipykernel_2927/113259963.py:8: SettingWithCopyWarning: \n",
      "A value is trying to be set on a copy of a slice from a DataFrame\n",
      "\n",
      "See the caveats in the documentation: https://pandas.pydata.org/pandas-docs/stable/user_guide/indexing.html#returning-a-view-versus-a-copy\n",
      "  df_per_flux_ch4['h2o_rf_per_ch4_flux'].loc[scen] = df_h2o_rf_per_ch4_flux_ssp[scen]\n",
      "/tmp/ipykernel_2927/113259963.py:4: FutureWarning: ChainedAssignmentError: behaviour will change in pandas 3.0!\n",
      "You are setting values through chained assignment. Currently this works in certain cases, but when using Copy-on-Write (which will become the default behaviour in pandas 3.0) this will never work to update the original DataFrame or Series, because the intermediate object on which we are setting values will behave as a copy.\n",
      "A typical example is when you are setting values in a column of a DataFrame, like:\n",
      "\n",
      "df[\"col\"][row_indexer] = value\n",
      "\n",
      "Use `df.loc[row_indexer, \"col\"] = values` instead, to perform the assignment in a single step and ensure this keeps updating the original `df`.\n",
      "\n",
      "See the caveats in the documentation: https://pandas.pydata.org/pandas-docs/stable/user_guide/indexing.html#returning-a-view-versus-a-copy\n",
      "\n",
      "  df_per_flux_ch4['deltaCH4'].loc[scen] = df_ch4_flux_ssp_v2.loc['deltaCH4'][scen]\n",
      "/tmp/ipykernel_2927/113259963.py:4: SettingWithCopyWarning: \n",
      "A value is trying to be set on a copy of a slice from a DataFrame\n",
      "\n",
      "See the caveats in the documentation: https://pandas.pydata.org/pandas-docs/stable/user_guide/indexing.html#returning-a-view-versus-a-copy\n",
      "  df_per_flux_ch4['deltaCH4'].loc[scen] = df_ch4_flux_ssp_v2.loc['deltaCH4'][scen]\n",
      "/tmp/ipykernel_2927/113259963.py:5: FutureWarning: ChainedAssignmentError: behaviour will change in pandas 3.0!\n",
      "You are setting values through chained assignment. Currently this works in certain cases, but when using Copy-on-Write (which will become the default behaviour in pandas 3.0) this will never work to update the original DataFrame or Series, because the intermediate object on which we are setting values will behave as a copy.\n",
      "A typical example is when you are setting values in a column of a DataFrame, like:\n",
      "\n",
      "df[\"col\"][row_indexer] = value\n",
      "\n",
      "Use `df.loc[row_indexer, \"col\"] = values` instead, to perform the assignment in a single step and ensure this keeps updating the original `df`.\n",
      "\n",
      "See the caveats in the documentation: https://pandas.pydata.org/pandas-docs/stable/user_guide/indexing.html#returning-a-view-versus-a-copy\n",
      "\n",
      "  df_per_flux_ch4['surf_ch4_per_ch4_flux'].loc[scen] = df_surf_ch4_per_ch4_flux_ssp[scen]\n",
      "/tmp/ipykernel_2927/113259963.py:5: SettingWithCopyWarning: \n",
      "A value is trying to be set on a copy of a slice from a DataFrame\n",
      "\n",
      "See the caveats in the documentation: https://pandas.pydata.org/pandas-docs/stable/user_guide/indexing.html#returning-a-view-versus-a-copy\n",
      "  df_per_flux_ch4['surf_ch4_per_ch4_flux'].loc[scen] = df_surf_ch4_per_ch4_flux_ssp[scen]\n",
      "/tmp/ipykernel_2927/113259963.py:6: FutureWarning: ChainedAssignmentError: behaviour will change in pandas 3.0!\n",
      "You are setting values through chained assignment. Currently this works in certain cases, but when using Copy-on-Write (which will become the default behaviour in pandas 3.0) this will never work to update the original DataFrame or Series, because the intermediate object on which we are setting values will behave as a copy.\n",
      "A typical example is when you are setting values in a column of a DataFrame, like:\n",
      "\n",
      "df[\"col\"][row_indexer] = value\n",
      "\n",
      "Use `df.loc[row_indexer, \"col\"] = values` instead, to perform the assignment in a single step and ensure this keeps updating the original `df`.\n",
      "\n",
      "See the caveats in the documentation: https://pandas.pydata.org/pandas-docs/stable/user_guide/indexing.html#returning-a-view-versus-a-copy\n",
      "\n",
      "  df_per_flux_ch4['h2_flux_per_ch4_flux'].loc[scen] =df_h2_flux_per_ch4_flux_ssp[scen]\n",
      "/tmp/ipykernel_2927/113259963.py:6: SettingWithCopyWarning: \n",
      "A value is trying to be set on a copy of a slice from a DataFrame\n",
      "\n",
      "See the caveats in the documentation: https://pandas.pydata.org/pandas-docs/stable/user_guide/indexing.html#returning-a-view-versus-a-copy\n",
      "  df_per_flux_ch4['h2_flux_per_ch4_flux'].loc[scen] =df_h2_flux_per_ch4_flux_ssp[scen]\n",
      "/tmp/ipykernel_2927/113259963.py:7: FutureWarning: ChainedAssignmentError: behaviour will change in pandas 3.0!\n",
      "You are setting values through chained assignment. Currently this works in certain cases, but when using Copy-on-Write (which will become the default behaviour in pandas 3.0) this will never work to update the original DataFrame or Series, because the intermediate object on which we are setting values will behave as a copy.\n",
      "A typical example is when you are setting values in a column of a DataFrame, like:\n",
      "\n",
      "df[\"col\"][row_indexer] = value\n",
      "\n",
      "Use `df.loc[row_indexer, \"col\"] = values` instead, to perform the assignment in a single step and ensure this keeps updating the original `df`.\n",
      "\n",
      "See the caveats in the documentation: https://pandas.pydata.org/pandas-docs/stable/user_guide/indexing.html#returning-a-view-versus-a-copy\n",
      "\n",
      "  df_per_flux_ch4['ozone_rf_per_ch4_flux'].loc[scen] = df_ozone_rf_per_ch4_flux_ssp[scen]\n",
      "/tmp/ipykernel_2927/113259963.py:7: SettingWithCopyWarning: \n",
      "A value is trying to be set on a copy of a slice from a DataFrame\n",
      "\n",
      "See the caveats in the documentation: https://pandas.pydata.org/pandas-docs/stable/user_guide/indexing.html#returning-a-view-versus-a-copy\n",
      "  df_per_flux_ch4['ozone_rf_per_ch4_flux'].loc[scen] = df_ozone_rf_per_ch4_flux_ssp[scen]\n",
      "/tmp/ipykernel_2927/113259963.py:8: FutureWarning: ChainedAssignmentError: behaviour will change in pandas 3.0!\n",
      "You are setting values through chained assignment. Currently this works in certain cases, but when using Copy-on-Write (which will become the default behaviour in pandas 3.0) this will never work to update the original DataFrame or Series, because the intermediate object on which we are setting values will behave as a copy.\n",
      "A typical example is when you are setting values in a column of a DataFrame, like:\n",
      "\n",
      "df[\"col\"][row_indexer] = value\n",
      "\n",
      "Use `df.loc[row_indexer, \"col\"] = values` instead, to perform the assignment in a single step and ensure this keeps updating the original `df`.\n",
      "\n",
      "See the caveats in the documentation: https://pandas.pydata.org/pandas-docs/stable/user_guide/indexing.html#returning-a-view-versus-a-copy\n",
      "\n",
      "  df_per_flux_ch4['h2o_rf_per_ch4_flux'].loc[scen] = df_h2o_rf_per_ch4_flux_ssp[scen]\n",
      "/tmp/ipykernel_2927/113259963.py:8: SettingWithCopyWarning: \n",
      "A value is trying to be set on a copy of a slice from a DataFrame\n",
      "\n",
      "See the caveats in the documentation: https://pandas.pydata.org/pandas-docs/stable/user_guide/indexing.html#returning-a-view-versus-a-copy\n",
      "  df_per_flux_ch4['h2o_rf_per_ch4_flux'].loc[scen] = df_h2o_rf_per_ch4_flux_ssp[scen]\n",
      "/tmp/ipykernel_2927/113259963.py:4: FutureWarning: ChainedAssignmentError: behaviour will change in pandas 3.0!\n",
      "You are setting values through chained assignment. Currently this works in certain cases, but when using Copy-on-Write (which will become the default behaviour in pandas 3.0) this will never work to update the original DataFrame or Series, because the intermediate object on which we are setting values will behave as a copy.\n",
      "A typical example is when you are setting values in a column of a DataFrame, like:\n",
      "\n",
      "df[\"col\"][row_indexer] = value\n",
      "\n",
      "Use `df.loc[row_indexer, \"col\"] = values` instead, to perform the assignment in a single step and ensure this keeps updating the original `df`.\n",
      "\n",
      "See the caveats in the documentation: https://pandas.pydata.org/pandas-docs/stable/user_guide/indexing.html#returning-a-view-versus-a-copy\n",
      "\n",
      "  df_per_flux_ch4['deltaCH4'].loc[scen] = df_ch4_flux_ssp_v2.loc['deltaCH4'][scen]\n",
      "/tmp/ipykernel_2927/113259963.py:4: SettingWithCopyWarning: \n",
      "A value is trying to be set on a copy of a slice from a DataFrame\n",
      "\n",
      "See the caveats in the documentation: https://pandas.pydata.org/pandas-docs/stable/user_guide/indexing.html#returning-a-view-versus-a-copy\n",
      "  df_per_flux_ch4['deltaCH4'].loc[scen] = df_ch4_flux_ssp_v2.loc['deltaCH4'][scen]\n",
      "/tmp/ipykernel_2927/113259963.py:5: FutureWarning: ChainedAssignmentError: behaviour will change in pandas 3.0!\n",
      "You are setting values through chained assignment. Currently this works in certain cases, but when using Copy-on-Write (which will become the default behaviour in pandas 3.0) this will never work to update the original DataFrame or Series, because the intermediate object on which we are setting values will behave as a copy.\n",
      "A typical example is when you are setting values in a column of a DataFrame, like:\n",
      "\n",
      "df[\"col\"][row_indexer] = value\n",
      "\n",
      "Use `df.loc[row_indexer, \"col\"] = values` instead, to perform the assignment in a single step and ensure this keeps updating the original `df`.\n",
      "\n",
      "See the caveats in the documentation: https://pandas.pydata.org/pandas-docs/stable/user_guide/indexing.html#returning-a-view-versus-a-copy\n",
      "\n",
      "  df_per_flux_ch4['surf_ch4_per_ch4_flux'].loc[scen] = df_surf_ch4_per_ch4_flux_ssp[scen]\n",
      "/tmp/ipykernel_2927/113259963.py:5: SettingWithCopyWarning: \n",
      "A value is trying to be set on a copy of a slice from a DataFrame\n",
      "\n",
      "See the caveats in the documentation: https://pandas.pydata.org/pandas-docs/stable/user_guide/indexing.html#returning-a-view-versus-a-copy\n",
      "  df_per_flux_ch4['surf_ch4_per_ch4_flux'].loc[scen] = df_surf_ch4_per_ch4_flux_ssp[scen]\n",
      "/tmp/ipykernel_2927/113259963.py:6: FutureWarning: ChainedAssignmentError: behaviour will change in pandas 3.0!\n",
      "You are setting values through chained assignment. Currently this works in certain cases, but when using Copy-on-Write (which will become the default behaviour in pandas 3.0) this will never work to update the original DataFrame or Series, because the intermediate object on which we are setting values will behave as a copy.\n",
      "A typical example is when you are setting values in a column of a DataFrame, like:\n",
      "\n",
      "df[\"col\"][row_indexer] = value\n",
      "\n",
      "Use `df.loc[row_indexer, \"col\"] = values` instead, to perform the assignment in a single step and ensure this keeps updating the original `df`.\n",
      "\n",
      "See the caveats in the documentation: https://pandas.pydata.org/pandas-docs/stable/user_guide/indexing.html#returning-a-view-versus-a-copy\n",
      "\n",
      "  df_per_flux_ch4['h2_flux_per_ch4_flux'].loc[scen] =df_h2_flux_per_ch4_flux_ssp[scen]\n",
      "/tmp/ipykernel_2927/113259963.py:6: SettingWithCopyWarning: \n",
      "A value is trying to be set on a copy of a slice from a DataFrame\n",
      "\n",
      "See the caveats in the documentation: https://pandas.pydata.org/pandas-docs/stable/user_guide/indexing.html#returning-a-view-versus-a-copy\n",
      "  df_per_flux_ch4['h2_flux_per_ch4_flux'].loc[scen] =df_h2_flux_per_ch4_flux_ssp[scen]\n",
      "/tmp/ipykernel_2927/113259963.py:7: FutureWarning: ChainedAssignmentError: behaviour will change in pandas 3.0!\n",
      "You are setting values through chained assignment. Currently this works in certain cases, but when using Copy-on-Write (which will become the default behaviour in pandas 3.0) this will never work to update the original DataFrame or Series, because the intermediate object on which we are setting values will behave as a copy.\n",
      "A typical example is when you are setting values in a column of a DataFrame, like:\n",
      "\n",
      "df[\"col\"][row_indexer] = value\n",
      "\n",
      "Use `df.loc[row_indexer, \"col\"] = values` instead, to perform the assignment in a single step and ensure this keeps updating the original `df`.\n",
      "\n",
      "See the caveats in the documentation: https://pandas.pydata.org/pandas-docs/stable/user_guide/indexing.html#returning-a-view-versus-a-copy\n",
      "\n",
      "  df_per_flux_ch4['ozone_rf_per_ch4_flux'].loc[scen] = df_ozone_rf_per_ch4_flux_ssp[scen]\n",
      "/tmp/ipykernel_2927/113259963.py:7: SettingWithCopyWarning: \n",
      "A value is trying to be set on a copy of a slice from a DataFrame\n",
      "\n",
      "See the caveats in the documentation: https://pandas.pydata.org/pandas-docs/stable/user_guide/indexing.html#returning-a-view-versus-a-copy\n",
      "  df_per_flux_ch4['ozone_rf_per_ch4_flux'].loc[scen] = df_ozone_rf_per_ch4_flux_ssp[scen]\n",
      "/tmp/ipykernel_2927/113259963.py:8: FutureWarning: ChainedAssignmentError: behaviour will change in pandas 3.0!\n",
      "You are setting values through chained assignment. Currently this works in certain cases, but when using Copy-on-Write (which will become the default behaviour in pandas 3.0) this will never work to update the original DataFrame or Series, because the intermediate object on which we are setting values will behave as a copy.\n",
      "A typical example is when you are setting values in a column of a DataFrame, like:\n",
      "\n",
      "df[\"col\"][row_indexer] = value\n",
      "\n",
      "Use `df.loc[row_indexer, \"col\"] = values` instead, to perform the assignment in a single step and ensure this keeps updating the original `df`.\n",
      "\n",
      "See the caveats in the documentation: https://pandas.pydata.org/pandas-docs/stable/user_guide/indexing.html#returning-a-view-versus-a-copy\n",
      "\n",
      "  df_per_flux_ch4['h2o_rf_per_ch4_flux'].loc[scen] = df_h2o_rf_per_ch4_flux_ssp[scen]\n",
      "/tmp/ipykernel_2927/113259963.py:8: SettingWithCopyWarning: \n",
      "A value is trying to be set on a copy of a slice from a DataFrame\n",
      "\n",
      "See the caveats in the documentation: https://pandas.pydata.org/pandas-docs/stable/user_guide/indexing.html#returning-a-view-versus-a-copy\n",
      "  df_per_flux_ch4['h2o_rf_per_ch4_flux'].loc[scen] = df_h2o_rf_per_ch4_flux_ssp[scen]\n"
     ]
    },
    {
     "data": {
      "text/html": [
       "<div>\n",
       "<style scoped>\n",
       "    .dataframe tbody tr th:only-of-type {\n",
       "        vertical-align: middle;\n",
       "    }\n",
       "\n",
       "    .dataframe tbody tr th {\n",
       "        vertical-align: top;\n",
       "    }\n",
       "\n",
       "    .dataframe thead th {\n",
       "        text-align: right;\n",
       "    }\n",
       "</style>\n",
       "<table border=\"1\" class=\"dataframe\">\n",
       "  <thead>\n",
       "    <tr style=\"text-align: right;\">\n",
       "      <th></th>\n",
       "      <th>deltaCH4</th>\n",
       "      <th>surf_ch4_per_ch4_flux</th>\n",
       "      <th>h2_flux_per_ch4_flux</th>\n",
       "      <th>ozone_rf_per_ch4_flux</th>\n",
       "      <th>h2o_rf_per_ch4_flux</th>\n",
       "    </tr>\n",
       "  </thead>\n",
       "  <tbody>\n",
       "    <tr>\n",
       "      <th>CNTR</th>\n",
       "      <td>49.7</td>\n",
       "      <td>3.65</td>\n",
       "      <td>0.02</td>\n",
       "      <td>0.82</td>\n",
       "      <td>0.19</td>\n",
       "    </tr>\n",
       "    <tr>\n",
       "      <th>antro1</th>\n",
       "      <td>49.7</td>\n",
       "      <td>3.65</td>\n",
       "      <td>0.02</td>\n",
       "      <td>0.82</td>\n",
       "      <td>0.19</td>\n",
       "    </tr>\n",
       "    <tr>\n",
       "      <th>H2_avi</th>\n",
       "      <td>49.7</td>\n",
       "      <td>3.65</td>\n",
       "      <td>0.02</td>\n",
       "      <td>0.82</td>\n",
       "      <td>0.19</td>\n",
       "    </tr>\n",
       "    <tr>\n",
       "      <th>SSP119</th>\n",
       "      <td>37.8</td>\n",
       "      <td>3.78</td>\n",
       "      <td>0.06</td>\n",
       "      <td>0.89</td>\n",
       "      <td>0.22</td>\n",
       "    </tr>\n",
       "    <tr>\n",
       "      <th>SSP434</th>\n",
       "      <td>52.1</td>\n",
       "      <td>4.27</td>\n",
       "      <td>0.06</td>\n",
       "      <td>0.84</td>\n",
       "      <td>0.24</td>\n",
       "    </tr>\n",
       "    <tr>\n",
       "      <th>SSP585</th>\n",
       "      <td>58.6</td>\n",
       "      <td>4.17</td>\n",
       "      <td>0.06</td>\n",
       "      <td>0.85</td>\n",
       "      <td>0.23</td>\n",
       "    </tr>\n",
       "  </tbody>\n",
       "</table>\n",
       "</div>"
      ],
      "text/plain": [
       "        deltaCH4  surf_ch4_per_ch4_flux  h2_flux_per_ch4_flux  \\\n",
       "CNTR        49.7                   3.65                  0.02   \n",
       "antro1      49.7                   3.65                  0.02   \n",
       "H2_avi      49.7                   3.65                  0.02   \n",
       "SSP119      37.8                   3.78                  0.06   \n",
       "SSP434      52.1                   4.27                  0.06   \n",
       "SSP585      58.6                   4.17                  0.06   \n",
       "\n",
       "       ozone_rf_per_ch4_flux h2o_rf_per_ch4_flux  \n",
       "CNTR                    0.82                0.19  \n",
       "antro1                  0.82                0.19  \n",
       "H2_avi                  0.82                0.19  \n",
       "SSP119                  0.89                0.22  \n",
       "SSP434                  0.84                0.24  \n",
       "SSP585                  0.85                0.23  "
      ]
     },
     "execution_count": 163,
     "metadata": {},
     "output_type": "execute_result"
    }
   ],
   "source": [
    "scen_list = ['SSP119','SSP434','SSP585']\n",
    "\n",
    "for scen in scen_list:\n",
    "    df_per_flux_ch4['deltaCH4'].loc[scen] = df_ch4_flux_ssp_v2.loc['deltaCH4'][scen]\n",
    "    df_per_flux_ch4['surf_ch4_per_ch4_flux'].loc[scen] = df_surf_ch4_per_ch4_flux_ssp[scen]\n",
    "    df_per_flux_ch4['h2_flux_per_ch4_flux'].loc[scen] =df_h2_flux_per_ch4_flux_ssp[scen]\n",
    "    df_per_flux_ch4['ozone_rf_per_ch4_flux'].loc[scen] = df_ozone_rf_per_ch4_flux_ssp[scen]\n",
    "    df_per_flux_ch4['h2o_rf_per_ch4_flux'].loc[scen] = df_h2o_rf_per_ch4_flux_ssp[scen]\n",
    "df_per_flux_ch4"
   ]
  },
  {
   "cell_type": "code",
   "execution_count": null,
   "metadata": {},
   "outputs": [],
   "source": []
  },
  {
   "cell_type": "code",
   "execution_count": 164,
   "metadata": {},
   "outputs": [
    {
     "data": {
      "text/html": [
       "<div>\n",
       "<style scoped>\n",
       "    .dataframe tbody tr th:only-of-type {\n",
       "        vertical-align: middle;\n",
       "    }\n",
       "\n",
       "    .dataframe tbody tr th {\n",
       "        vertical-align: top;\n",
       "    }\n",
       "\n",
       "    .dataframe thead th {\n",
       "        text-align: right;\n",
       "    }\n",
       "</style>\n",
       "<table border=\"1\" class=\"dataframe\">\n",
       "  <thead>\n",
       "    <tr style=\"text-align: right;\">\n",
       "      <th></th>\n",
       "      <th>Flux CH4 [Tg/yr]</th>\n",
       "      <th>Surf. conc. CH4 per flux [ppb yr/Tg]</th>\n",
       "      <th>Flux H2/Flux CH4 [Tg H2/Tg CH4]</th>\n",
       "      <th>ozone RF per flux [mW m-2 yr/ Tg]</th>\n",
       "      <th>Strat H2O RF per flux [mW m-2 yr/ Tg]</th>\n",
       "    </tr>\n",
       "  </thead>\n",
       "  <tbody>\n",
       "    <tr>\n",
       "      <th>anthro1</th>\n",
       "      <td>49.7</td>\n",
       "      <td>3.65</td>\n",
       "      <td>0.02</td>\n",
       "      <td>0.82</td>\n",
       "      <td>0.19</td>\n",
       "    </tr>\n",
       "    <tr>\n",
       "      <th>H2_avi</th>\n",
       "      <td>49.7</td>\n",
       "      <td>3.65</td>\n",
       "      <td>0.02</td>\n",
       "      <td>0.82</td>\n",
       "      <td>0.19</td>\n",
       "    </tr>\n",
       "    <tr>\n",
       "      <th>SSP119</th>\n",
       "      <td>37.8</td>\n",
       "      <td>3.78</td>\n",
       "      <td>0.06</td>\n",
       "      <td>0.89</td>\n",
       "      <td>0.22</td>\n",
       "    </tr>\n",
       "    <tr>\n",
       "      <th>SSP434</th>\n",
       "      <td>52.1</td>\n",
       "      <td>4.27</td>\n",
       "      <td>0.06</td>\n",
       "      <td>0.84</td>\n",
       "      <td>0.24</td>\n",
       "    </tr>\n",
       "    <tr>\n",
       "      <th>SSP585</th>\n",
       "      <td>58.6</td>\n",
       "      <td>4.17</td>\n",
       "      <td>0.06</td>\n",
       "      <td>0.85</td>\n",
       "      <td>0.23</td>\n",
       "    </tr>\n",
       "  </tbody>\n",
       "</table>\n",
       "</div>"
      ],
      "text/plain": [
       "         Flux CH4 [Tg/yr]  Surf. conc. CH4 per flux [ppb yr/Tg]  \\\n",
       "anthro1              49.7                                  3.65   \n",
       "H2_avi               49.7                                  3.65   \n",
       "SSP119               37.8                                  3.78   \n",
       "SSP434               52.1                                  4.27   \n",
       "SSP585               58.6                                  4.17   \n",
       "\n",
       "         Flux H2/Flux CH4 [Tg H2/Tg CH4] ozone RF per flux [mW m-2 yr/ Tg]  \\\n",
       "anthro1                             0.02                              0.82   \n",
       "H2_avi                              0.02                              0.82   \n",
       "SSP119                              0.06                              0.89   \n",
       "SSP434                              0.06                              0.84   \n",
       "SSP585                              0.06                              0.85   \n",
       "\n",
       "        Strat H2O RF per flux [mW m-2 yr/ Tg]  \n",
       "anthro1                                  0.19  \n",
       "H2_avi                                   0.19  \n",
       "SSP119                                   0.22  \n",
       "SSP434                                   0.24  \n",
       "SSP585                                   0.23  "
      ]
     },
     "execution_count": 164,
     "metadata": {},
     "output_type": "execute_result"
    }
   ],
   "source": [
    "#Save to file:\n",
    "df_per_flux_ch4.to_csv(outputpath + 'table_per_flux_ch4.csv')\n",
    "\n",
    "#Rename the columns:\n",
    "columns_names={'deltaCH4':'Flux CH4 [Tg/yr]',\n",
    "               'surf_ch4_per_ch4_flux':'Surf. conc. CH4 per flux [ppb yr/Tg]',\n",
    "               'h2_flux_per_ch4_flux':'Flux H2/Flux CH4 [Tg H2/Tg CH4]',\n",
    "               'trop_du_ozone_per_ch4_flux':'Trop. ozone per flux [10$^{-3}$ DU yr/Tg]',\n",
    "               'strat_du_ozone_per_ch4_flux':'Strat. ozone per flux [10$^{-3}$ DU yr/Tg]',\n",
    "               'ozone_rf_per_ch4_flux':'ozone RF per flux [mW m-2 yr/ Tg]',\n",
    "               'h2o_rf_per_ch4_flux':'Strat H2O RF per flux [mW m-2 yr/ Tg]',\n",
    "               'aerosol_rf_per_ch4_flux':'Aerosol RF per flux [mW m-2 yr/ Tg]'}\n",
    "               \n",
    "#Rename column names:\n",
    "\n",
    "df_per_flux_ch4.rename(columns=dict(columns_names),inplace=True)\n",
    "df_per_flux_ch4 = df_per_flux_ch4.drop('CNTR')\n",
    "\n",
    "sorted_list = ['antro1', \n",
    "               'H2_avi',\n",
    "               'SSP119', \n",
    "               'SSP434', \n",
    "               'SSP585'] \n",
    "senslist = sorted_list\n",
    "senslist = [sub.replace('antro', 'anthro') for sub in senslist]\n",
    "df_per_flux_ch4 = df_per_flux_ch4.reindex(sorted_list)\n",
    "df_per_flux_ch4.index = [sub.replace('antro', 'anthro') for sub in df_per_flux_ch4.index]\n",
    "df_per_flux_ch4.to_csv(outputpath + 'table_per_flux_ch4_to_manuscript.csv')\n",
    "df_per_flux_ch4"
   ]
  },
  {
   "cell_type": "markdown",
   "metadata": {},
   "source": [
    "## Table per flux H2 (including changes in methane)"
   ]
  },
  {
   "cell_type": "code",
   "execution_count": 165,
   "metadata": {},
   "outputs": [
    {
     "data": {
      "text/html": [
       "<div>\n",
       "<style scoped>\n",
       "    .dataframe tbody tr th:only-of-type {\n",
       "        vertical-align: middle;\n",
       "    }\n",
       "\n",
       "    .dataframe tbody tr th {\n",
       "        vertical-align: top;\n",
       "    }\n",
       "\n",
       "    .dataframe thead th {\n",
       "        text-align: right;\n",
       "    }\n",
       "</style>\n",
       "<table border=\"1\" class=\"dataframe\">\n",
       "  <thead>\n",
       "    <tr style=\"text-align: right;\">\n",
       "      <th></th>\n",
       "      <th>deltaH2</th>\n",
       "      <th>surf_h2_per_h2_flux</th>\n",
       "      <th>surf_ch4_per_h2_flux</th>\n",
       "      <th>ch4_flux_per_h2_flux</th>\n",
       "      <th>ch4_rf_per_h2_flux</th>\n",
       "      <th>ozone_rf_per_h2_flux</th>\n",
       "      <th>h2o_rf_per_h2_flux</th>\n",
       "    </tr>\n",
       "  </thead>\n",
       "  <tbody>\n",
       "    <tr>\n",
       "      <th>CNTR</th>\n",
       "      <td>0.00</td>\n",
       "      <td>NaN</td>\n",
       "      <td>NaN</td>\n",
       "      <td>NaN</td>\n",
       "      <td>NaN</td>\n",
       "      <td>NaN</td>\n",
       "      <td>NaN</td>\n",
       "    </tr>\n",
       "    <tr>\n",
       "      <th>H2_avi</th>\n",
       "      <td>0.71</td>\n",
       "      <td>6.38</td>\n",
       "      <td>1.18</td>\n",
       "      <td>0.32</td>\n",
       "      <td>0.46</td>\n",
       "      <td>0.22</td>\n",
       "      <td>NaN</td>\n",
       "    </tr>\n",
       "    <tr>\n",
       "      <th>SSP119</th>\n",
       "      <td>9.90</td>\n",
       "      <td>6.36</td>\n",
       "      <td>1.12</td>\n",
       "      <td>0.30</td>\n",
       "      <td>0.43</td>\n",
       "      <td>0.22</td>\n",
       "      <td>0.17</td>\n",
       "    </tr>\n",
       "    <tr>\n",
       "      <th>SSP434</th>\n",
       "      <td>9.90</td>\n",
       "      <td>6.53</td>\n",
       "      <td>1.26</td>\n",
       "      <td>0.30</td>\n",
       "      <td>0.49</td>\n",
       "      <td>0.18</td>\n",
       "      <td>0.18</td>\n",
       "    </tr>\n",
       "    <tr>\n",
       "      <th>SSP585</th>\n",
       "      <td>9.89</td>\n",
       "      <td>6.42</td>\n",
       "      <td>1.33</td>\n",
       "      <td>0.32</td>\n",
       "      <td>0.51</td>\n",
       "      <td>0.18</td>\n",
       "      <td>0.17</td>\n",
       "    </tr>\n",
       "    <tr>\n",
       "      <th>antro1</th>\n",
       "      <td>0.95</td>\n",
       "      <td>6.26</td>\n",
       "      <td>1.12</td>\n",
       "      <td>0.31</td>\n",
       "      <td>0.43</td>\n",
       "      <td>0.22</td>\n",
       "      <td>NaN</td>\n",
       "    </tr>\n",
       "  </tbody>\n",
       "</table>\n",
       "</div>"
      ],
      "text/plain": [
       "        deltaH2  surf_h2_per_h2_flux  surf_ch4_per_h2_flux  \\\n",
       "CNTR       0.00                  NaN                   NaN   \n",
       "H2_avi     0.71                 6.38                  1.18   \n",
       "SSP119     9.90                 6.36                  1.12   \n",
       "SSP434     9.90                 6.53                  1.26   \n",
       "SSP585     9.89                 6.42                  1.33   \n",
       "antro1     0.95                 6.26                  1.12   \n",
       "\n",
       "        ch4_flux_per_h2_flux  ch4_rf_per_h2_flux  ozone_rf_per_h2_flux  \\\n",
       "CNTR                     NaN                 NaN                   NaN   \n",
       "H2_avi                  0.32                0.46                  0.22   \n",
       "SSP119                  0.30                0.43                  0.22   \n",
       "SSP434                  0.30                0.49                  0.18   \n",
       "SSP585                  0.32                0.51                  0.18   \n",
       "antro1                  0.31                0.43                  0.22   \n",
       "\n",
       "        h2o_rf_per_h2_flux  \n",
       "CNTR                   NaN  \n",
       "H2_avi                 NaN  \n",
       "SSP119                0.17  \n",
       "SSP434                0.18  \n",
       "SSP585                0.17  \n",
       "antro1                 NaN  "
      ]
     },
     "execution_count": 165,
     "metadata": {},
     "output_type": "execute_result"
    }
   ],
   "source": [
    "#Reread - to get the other heading.\n",
    "df_per_flux_h2_combined = pd.read_csv(outputpath + 'table_per_flux_h2.csv',index_col=0)\n",
    "df_per_flux_h2_combined"
   ]
  },
  {
   "cell_type": "code",
   "execution_count": 166,
   "metadata": {},
   "outputs": [
    {
     "data": {
      "text/html": [
       "<div>\n",
       "<style scoped>\n",
       "    .dataframe tbody tr th:only-of-type {\n",
       "        vertical-align: middle;\n",
       "    }\n",
       "\n",
       "    .dataframe tbody tr th {\n",
       "        vertical-align: top;\n",
       "    }\n",
       "\n",
       "    .dataframe thead th {\n",
       "        text-align: right;\n",
       "    }\n",
       "</style>\n",
       "<table border=\"1\" class=\"dataframe\">\n",
       "  <thead>\n",
       "    <tr style=\"text-align: right;\">\n",
       "      <th></th>\n",
       "      <th>deltaCH4</th>\n",
       "      <th>surf_ch4_per_ch4_flux</th>\n",
       "      <th>h2_flux_per_ch4_flux</th>\n",
       "      <th>ozone_rf_per_ch4_flux</th>\n",
       "      <th>h2o_rf_per_ch4_flux</th>\n",
       "    </tr>\n",
       "  </thead>\n",
       "  <tbody>\n",
       "    <tr>\n",
       "      <th>CNTR</th>\n",
       "      <td>49.7</td>\n",
       "      <td>3.65</td>\n",
       "      <td>0.02</td>\n",
       "      <td>0.82</td>\n",
       "      <td>0.19</td>\n",
       "    </tr>\n",
       "    <tr>\n",
       "      <th>antro1</th>\n",
       "      <td>49.7</td>\n",
       "      <td>3.65</td>\n",
       "      <td>0.02</td>\n",
       "      <td>0.82</td>\n",
       "      <td>0.19</td>\n",
       "    </tr>\n",
       "    <tr>\n",
       "      <th>H2_avi</th>\n",
       "      <td>49.7</td>\n",
       "      <td>3.65</td>\n",
       "      <td>0.02</td>\n",
       "      <td>0.82</td>\n",
       "      <td>0.19</td>\n",
       "    </tr>\n",
       "    <tr>\n",
       "      <th>SSP119</th>\n",
       "      <td>37.8</td>\n",
       "      <td>3.78</td>\n",
       "      <td>0.06</td>\n",
       "      <td>0.89</td>\n",
       "      <td>0.22</td>\n",
       "    </tr>\n",
       "    <tr>\n",
       "      <th>SSP434</th>\n",
       "      <td>52.1</td>\n",
       "      <td>4.27</td>\n",
       "      <td>0.06</td>\n",
       "      <td>0.84</td>\n",
       "      <td>0.24</td>\n",
       "    </tr>\n",
       "    <tr>\n",
       "      <th>SSP585</th>\n",
       "      <td>58.6</td>\n",
       "      <td>4.17</td>\n",
       "      <td>0.06</td>\n",
       "      <td>0.85</td>\n",
       "      <td>0.23</td>\n",
       "    </tr>\n",
       "  </tbody>\n",
       "</table>\n",
       "</div>"
      ],
      "text/plain": [
       "        deltaCH4  surf_ch4_per_ch4_flux  h2_flux_per_ch4_flux  \\\n",
       "CNTR        49.7                   3.65                  0.02   \n",
       "antro1      49.7                   3.65                  0.02   \n",
       "H2_avi      49.7                   3.65                  0.02   \n",
       "SSP119      37.8                   3.78                  0.06   \n",
       "SSP434      52.1                   4.27                  0.06   \n",
       "SSP585      58.6                   4.17                  0.06   \n",
       "\n",
       "        ozone_rf_per_ch4_flux  h2o_rf_per_ch4_flux  \n",
       "CNTR                     0.82                 0.19  \n",
       "antro1                   0.82                 0.19  \n",
       "H2_avi                   0.82                 0.19  \n",
       "SSP119                   0.89                 0.22  \n",
       "SSP434                   0.84                 0.24  \n",
       "SSP585                   0.85                 0.23  "
      ]
     },
     "execution_count": 166,
     "metadata": {},
     "output_type": "execute_result"
    }
   ],
   "source": [
    "df_per_flux_ch4_add  = pd.read_csv(outputpath + 'table_per_flux_ch4.csv',index_col=0)\n",
    "df_per_flux_ch4_add"
   ]
  },
  {
   "cell_type": "code",
   "execution_count": 167,
   "metadata": {},
   "outputs": [
    {
     "data": {
      "text/plain": [
       "CNTR      NaN\n",
       "H2_avi   0.32\n",
       "SSP119   0.30\n",
       "SSP434   0.30\n",
       "SSP585   0.32\n",
       "antro1   0.31\n",
       "Name: ch4_flux_per_h2_flux, dtype: float64"
      ]
     },
     "execution_count": 167,
     "metadata": {},
     "output_type": "execute_result"
    }
   ],
   "source": [
    "frac = df_per_flux_h2_combined['ch4_flux_per_h2_flux'] #Tg CH4/Tg H2 /Tg CH4 = 1/Tg H2\n",
    "frac"
   ]
  },
  {
   "cell_type": "code",
   "execution_count": 168,
   "metadata": {},
   "outputs": [],
   "source": [
    "df_per_flux_ch4_add\n",
    "#Keep the following:\n",
    "#deltaH2\n",
    "#surf_h2_per_h2_flux keep as h2_flux_per_ch4_flux small\n",
    "#surf_ch4_per_h2_flux\n",
    "#ch4_flux_per_h2_flux\n",
    "#ch4_rf_per_h2_flux\n",
    "\n",
    "#add:\n",
    "#trop_du_ozone_per_h2_flux\n",
    "#strat_du_ozone_per_h2_flux\n",
    "#ozone_rf_per_h2_flux\n",
    "#h2o_rf_per_h2_flux\n",
    "#aerosol_rf_per_h2_flux\n",
    "\n",
    "\n",
    "df_per_flux_h2_combined['ozone_rf_per_h2_flux'] = df_per_flux_h2_combined['ozone_rf_per_h2_flux'] + df_per_flux_ch4_add['ozone_rf_per_ch4_flux']*frac\n",
    "df_per_flux_h2_combined['h2o_rf_per_h2_flux'] = df_per_flux_h2_combined['h2o_rf_per_h2_flux'] + df_per_flux_ch4_add['h2o_rf_per_ch4_flux']*frac\n",
    "\n",
    "\n",
    "\n",
    "#Save to file:\n",
    "df_per_flux_h2_combined.to_csv(outputpath + 'table_per_flux_h2_combined.csv')\n"
   ]
  },
  {
   "cell_type": "code",
   "execution_count": 169,
   "metadata": {},
   "outputs": [
    {
     "data": {
      "text/html": [
       "<div>\n",
       "<style scoped>\n",
       "    .dataframe tbody tr th:only-of-type {\n",
       "        vertical-align: middle;\n",
       "    }\n",
       "\n",
       "    .dataframe tbody tr th {\n",
       "        vertical-align: top;\n",
       "    }\n",
       "\n",
       "    .dataframe thead th {\n",
       "        text-align: right;\n",
       "    }\n",
       "</style>\n",
       "<table border=\"1\" class=\"dataframe\">\n",
       "  <thead>\n",
       "    <tr style=\"text-align: right;\">\n",
       "      <th></th>\n",
       "      <th>Flux H2 [Tg/yr]</th>\n",
       "      <th>Surf. conc. H2 per flux [ppb yr/Tg]</th>\n",
       "      <th>Surf. conc. CH4 per flux [ppb yr/Tg]</th>\n",
       "      <th>Flux CH4/Flux H2 [Tg CH4/Tg H2]</th>\n",
       "      <th>CH4 RF per flux [mW m-2 yr/ Tg]</th>\n",
       "      <th>ozone RF per flux [mW m-2 yr/ Tg]</th>\n",
       "      <th>Strat. H2O RF per flux [mW m-2 yr/ Tg]</th>\n",
       "    </tr>\n",
       "  </thead>\n",
       "  <tbody>\n",
       "    <tr>\n",
       "      <th>antro1</th>\n",
       "      <td>0.95</td>\n",
       "      <td>6.26</td>\n",
       "      <td>1.12</td>\n",
       "      <td>0.31</td>\n",
       "      <td>0.43</td>\n",
       "      <td>0.47</td>\n",
       "      <td>NaN</td>\n",
       "    </tr>\n",
       "    <tr>\n",
       "      <th>H2_avi</th>\n",
       "      <td>0.71</td>\n",
       "      <td>6.38</td>\n",
       "      <td>1.18</td>\n",
       "      <td>0.32</td>\n",
       "      <td>0.46</td>\n",
       "      <td>0.49</td>\n",
       "      <td>NaN</td>\n",
       "    </tr>\n",
       "    <tr>\n",
       "      <th>SSP119</th>\n",
       "      <td>9.90</td>\n",
       "      <td>6.36</td>\n",
       "      <td>1.12</td>\n",
       "      <td>0.30</td>\n",
       "      <td>0.43</td>\n",
       "      <td>0.48</td>\n",
       "      <td>0.24</td>\n",
       "    </tr>\n",
       "    <tr>\n",
       "      <th>SSP434</th>\n",
       "      <td>9.90</td>\n",
       "      <td>6.53</td>\n",
       "      <td>1.26</td>\n",
       "      <td>0.30</td>\n",
       "      <td>0.49</td>\n",
       "      <td>0.43</td>\n",
       "      <td>0.25</td>\n",
       "    </tr>\n",
       "    <tr>\n",
       "      <th>SSP585</th>\n",
       "      <td>9.89</td>\n",
       "      <td>6.42</td>\n",
       "      <td>1.33</td>\n",
       "      <td>0.32</td>\n",
       "      <td>0.51</td>\n",
       "      <td>0.45</td>\n",
       "      <td>0.25</td>\n",
       "    </tr>\n",
       "  </tbody>\n",
       "</table>\n",
       "</div>"
      ],
      "text/plain": [
       "        Flux H2 [Tg/yr]  Surf. conc. H2 per flux [ppb yr/Tg]  \\\n",
       "antro1             0.95                                 6.26   \n",
       "H2_avi             0.71                                 6.38   \n",
       "SSP119             9.90                                 6.36   \n",
       "SSP434             9.90                                 6.53   \n",
       "SSP585             9.89                                 6.42   \n",
       "\n",
       "        Surf. conc. CH4 per flux [ppb yr/Tg]  Flux CH4/Flux H2 [Tg CH4/Tg H2]  \\\n",
       "antro1                                  1.12                             0.31   \n",
       "H2_avi                                  1.18                             0.32   \n",
       "SSP119                                  1.12                             0.30   \n",
       "SSP434                                  1.26                             0.30   \n",
       "SSP585                                  1.33                             0.32   \n",
       "\n",
       "        CH4 RF per flux [mW m-2 yr/ Tg]  ozone RF per flux [mW m-2 yr/ Tg]  \\\n",
       "antro1                             0.43                               0.47   \n",
       "H2_avi                             0.46                               0.49   \n",
       "SSP119                             0.43                               0.48   \n",
       "SSP434                             0.49                               0.43   \n",
       "SSP585                             0.51                               0.45   \n",
       "\n",
       "        Strat. H2O RF per flux [mW m-2 yr/ Tg]  \n",
       "antro1                                     NaN  \n",
       "H2_avi                                     NaN  \n",
       "SSP119                                    0.24  \n",
       "SSP434                                    0.25  \n",
       "SSP585                                    0.25  "
      ]
     },
     "execution_count": 169,
     "metadata": {},
     "output_type": "execute_result"
    }
   ],
   "source": [
    "#Rename the columns:\n",
    "columns_names={'deltaH2':'Flux H2 [Tg/yr]',\n",
    "               'surf_h2_per_h2_flux': 'Surf. conc. H2 per flux [ppb yr/Tg]',\n",
    "               'surf_ch4_per_h2_flux':'Surf. conc. CH4 per flux [ppb yr/Tg]',\n",
    "               'ch4_flux_per_h2_flux':'Flux CH4/Flux H2 [Tg CH4/Tg H2]',\n",
    "               'ch4_rf_per_h2_flux':'CH4 RF per flux [mW m-2 yr/ Tg]',\n",
    "               'trop_du_ozone_per_h2_flux':'Trop. ozone per flux [10$^{-3}$ DU yr/Tg]',\n",
    "               'strat_du_ozone_per_h2_flux':'Strat. ozone per flux [10$^{-3}$ DU yr/Tg]',\n",
    "               'ozone_rf_per_h2_flux':'ozone RF per flux [mW m-2 yr/ Tg]',\n",
    "               'h2o_rf_per_h2_flux':'Strat. H2O RF per flux [mW m-2 yr/ Tg]',\n",
    "               'aerosol_rf_per_h2_flux':'Aerosol RF per flux [mW m-2 yr/ Tg]'}\n",
    "#Rename column names:\n",
    "df_per_flux_h2_combined.rename(columns=dict(columns_names),inplace=True) #[df_per_flux_h2.columns])\n",
    "\n",
    "\n",
    "df_per_flux_h2_combined = df_per_flux_h2_combined.drop('CNTR')\n",
    "\n",
    "sorted_list = ['antro1', \n",
    "               'H2_avi',\n",
    "               'SSP119', \n",
    "               'SSP434', \n",
    "               'SSP585'] \n",
    "senslist = sorted_list\n",
    "senslist = [sub.replace('antro', 'anthro') for sub in senslist]\n",
    "df_per_flux_h2_combined = df_per_flux_h2_combined.reindex(sorted_list)\n",
    "\n",
    "\n",
    "df_per_flux_h2_combined.to_csv(outputpath + 'table_per_flux_h2_combined_to_manuscript.csv')\n",
    "df_per_flux_h2_combined"
   ]
  },
  {
   "cell_type": "markdown",
   "metadata": {},
   "source": [
    "## H2 budget table"
   ]
  },
  {
   "cell_type": "code",
   "execution_count": 170,
   "metadata": {},
   "outputs": [
    {
     "data": {
      "text/html": [
       "<div>\n",
       "<style scoped>\n",
       "    .dataframe tbody tr th:only-of-type {\n",
       "        vertical-align: middle;\n",
       "    }\n",
       "\n",
       "    .dataframe tbody tr th {\n",
       "        vertical-align: top;\n",
       "    }\n",
       "\n",
       "    .dataframe thead th {\n",
       "        text-align: right;\n",
       "    }\n",
       "</style>\n",
       "<table border=\"1\" class=\"dataframe\">\n",
       "  <thead>\n",
       "    <tr style=\"text-align: right;\">\n",
       "      <th></th>\n",
       "      <th>CNTR</th>\n",
       "      <th>antro1</th>\n",
       "      <th>H2_avi</th>\n",
       "    </tr>\n",
       "    <tr>\n",
       "      <th>Scenario</th>\n",
       "      <th></th>\n",
       "      <th></th>\n",
       "      <th></th>\n",
       "    </tr>\n",
       "  </thead>\n",
       "  <tbody>\n",
       "    <tr>\n",
       "      <th>YR4</th>\n",
       "      <td>205</td>\n",
       "      <td>207</td>\n",
       "      <td>206</td>\n",
       "    </tr>\n",
       "    <tr>\n",
       "      <th>deltaH2</th>\n",
       "      <td>0.00</td>\n",
       "      <td>2.02</td>\n",
       "      <td>1.61</td>\n",
       "    </tr>\n",
       "  </tbody>\n",
       "</table>\n",
       "</div>"
      ],
      "text/plain": [
       "          CNTR  antro1  H2_avi\n",
       "Scenario                      \n",
       "YR4        205     207     206\n",
       "deltaH2   0.00    2.02    1.61"
      ]
     },
     "execution_count": 170,
     "metadata": {},
     "output_type": "execute_result"
    }
   ],
   "source": [
    "df_h2_burden"
   ]
  },
  {
   "cell_type": "code",
   "execution_count": 171,
   "metadata": {},
   "outputs": [
    {
     "data": {
      "text/html": [
       "<div>\n",
       "<style scoped>\n",
       "    .dataframe tbody tr th:only-of-type {\n",
       "        vertical-align: middle;\n",
       "    }\n",
       "\n",
       "    .dataframe tbody tr th {\n",
       "        vertical-align: top;\n",
       "    }\n",
       "\n",
       "    .dataframe thead th {\n",
       "        text-align: right;\n",
       "    }\n",
       "</style>\n",
       "<table border=\"1\" class=\"dataframe\">\n",
       "  <thead>\n",
       "    <tr style=\"text-align: right;\">\n",
       "      <th></th>\n",
       "      <th>CNTR</th>\n",
       "      <th>antro1</th>\n",
       "      <th>H2_avi</th>\n",
       "    </tr>\n",
       "  </thead>\n",
       "  <tbody>\n",
       "    <tr>\n",
       "      <th>YR4</th>\n",
       "      <td>559</td>\n",
       "      <td>565</td>\n",
       "      <td>564</td>\n",
       "    </tr>\n",
       "    <tr>\n",
       "      <th>delta</th>\n",
       "      <td>0.00</td>\n",
       "      <td>5.92</td>\n",
       "      <td>4.56</td>\n",
       "    </tr>\n",
       "  </tbody>\n",
       "</table>\n",
       "</div>"
      ],
      "text/plain": [
       "       CNTR  antro1  H2_avi\n",
       "YR4     559     565     564\n",
       "delta  0.00    5.92    4.56"
      ]
     },
     "execution_count": 171,
     "metadata": {},
     "output_type": "execute_result"
    }
   ],
   "source": [
    "df_h2_surfconc"
   ]
  },
  {
   "cell_type": "code",
   "execution_count": 172,
   "metadata": {},
   "outputs": [
    {
     "data": {
      "text/html": [
       "<div>\n",
       "<style scoped>\n",
       "    .dataframe tbody tr th:only-of-type {\n",
       "        vertical-align: middle;\n",
       "    }\n",
       "\n",
       "    .dataframe tbody tr th {\n",
       "        vertical-align: top;\n",
       "    }\n",
       "\n",
       "    .dataframe thead th {\n",
       "        text-align: right;\n",
       "    }\n",
       "</style>\n",
       "<table border=\"1\" class=\"dataframe\">\n",
       "  <thead>\n",
       "    <tr style=\"text-align: right;\">\n",
       "      <th></th>\n",
       "      <th>H2 burden [Tg]</th>\n",
       "      <th>H2 surf. conc [ppbv]</th>\n",
       "      <th>H2 atm loss [Tg/yr]</th>\n",
       "      <th>H2 atm prod [Tg/yr]</th>\n",
       "      <th>H2 soil sink [Tg/yr]</th>\n",
       "      <th>H2 estimated emissions [Tg/yr]</th>\n",
       "      <th>H2 atm lifetime [yrs]</th>\n",
       "      <th>H2 soil sink lifetime [yrs]</th>\n",
       "      <th>H2 total lifetime [yrs]</th>\n",
       "    </tr>\n",
       "  </thead>\n",
       "  <tbody>\n",
       "    <tr>\n",
       "      <th>CNTR</th>\n",
       "      <td>205</td>\n",
       "      <td>559</td>\n",
       "      <td>29.2</td>\n",
       "      <td>55.8</td>\n",
       "      <td>58.0</td>\n",
       "      <td>31.4</td>\n",
       "      <td>7.02</td>\n",
       "      <td>3.53</td>\n",
       "      <td>2.35</td>\n",
       "    </tr>\n",
       "    <tr>\n",
       "      <th>H2_avi</th>\n",
       "      <td>206</td>\n",
       "      <td>564</td>\n",
       "      <td>29.4</td>\n",
       "      <td>55.6</td>\n",
       "      <td>58.5</td>\n",
       "      <td>32.3</td>\n",
       "      <td>7.02</td>\n",
       "      <td>3.52</td>\n",
       "      <td>2.35</td>\n",
       "    </tr>\n",
       "    <tr>\n",
       "      <th>antro1</th>\n",
       "      <td>207</td>\n",
       "      <td>565</td>\n",
       "      <td>29.4</td>\n",
       "      <td>55.8</td>\n",
       "      <td>58.7</td>\n",
       "      <td>32.3</td>\n",
       "      <td>7.02</td>\n",
       "      <td>3.52</td>\n",
       "      <td>2.34</td>\n",
       "    </tr>\n",
       "  </tbody>\n",
       "</table>\n",
       "</div>"
      ],
      "text/plain": [
       "        H2 burden [Tg]  H2 surf. conc [ppbv]  H2 atm loss [Tg/yr]  \\\n",
       "CNTR               205                   559                 29.2   \n",
       "H2_avi             206                   564                 29.4   \n",
       "antro1             207                   565                 29.4   \n",
       "\n",
       "        H2 atm prod [Tg/yr]  H2 soil sink [Tg/yr]  \\\n",
       "CNTR                   55.8                  58.0   \n",
       "H2_avi                 55.6                  58.5   \n",
       "antro1                 55.8                  58.7   \n",
       "\n",
       "        H2 estimated emissions [Tg/yr]  H2 atm lifetime [yrs]  \\\n",
       "CNTR                              31.4                   7.02   \n",
       "H2_avi                            32.3                   7.02   \n",
       "antro1                            32.3                   7.02   \n",
       "\n",
       "        H2 soil sink lifetime [yrs]  H2 total lifetime [yrs]  \n",
       "CNTR                           3.53                     2.35  \n",
       "H2_avi                         3.52                     2.35  \n",
       "antro1                         3.52                     2.34  "
      ]
     },
     "execution_count": 172,
     "metadata": {},
     "output_type": "execute_result"
    }
   ],
   "source": [
    "df_budget_h2 = pd.concat([df_h2_burden.iloc[0],\n",
    "                          df_h2_surfconc.iloc[0],\n",
    "                          df_h2_atmloss,\n",
    "                          df_h2_atmprod,\n",
    "                          df_h2_drydep,\n",
    "                          df_h2_estemis, \n",
    "                          df_h2_atm_lifetime,\n",
    "                          df_h2_soil_sink_lifetime,\n",
    "                          df_h2_lifetime\n",
    "                         ],axis=1)\n",
    "\n",
    "df_budget_h2.columns = ['H2 burden [Tg]',\n",
    "                        'H2 surf. conc [ppbv]',\n",
    "                        'H2 atm loss [Tg/yr]',\n",
    "                        'H2 atm prod [Tg/yr]',\n",
    "                        'H2 soil sink [Tg/yr]',\n",
    "                        'H2 estimated emissions [Tg/yr]',\n",
    "                        'H2 atm lifetime [yrs]',\n",
    "                        'H2 soil sink lifetime [yrs]',\n",
    "                        'H2 total lifetime [yrs]',]\n",
    "df_budget_h2 = df_budget_h2.sort_index()\n",
    "\n",
    "df_budget_h2\n",
    "\n"
   ]
  },
  {
   "cell_type": "code",
   "execution_count": 173,
   "metadata": {},
   "outputs": [
    {
     "data": {
      "text/html": [
       "<div>\n",
       "<style scoped>\n",
       "    .dataframe tbody tr th:only-of-type {\n",
       "        vertical-align: middle;\n",
       "    }\n",
       "\n",
       "    .dataframe tbody tr th {\n",
       "        vertical-align: top;\n",
       "    }\n",
       "\n",
       "    .dataframe thead th {\n",
       "        text-align: right;\n",
       "    }\n",
       "</style>\n",
       "<table border=\"1\" class=\"dataframe\">\n",
       "  <thead>\n",
       "    <tr style=\"text-align: right;\">\n",
       "      <th></th>\n",
       "      <th>H2 burden [Tg]</th>\n",
       "      <th>H2 surf. conc [ppbv]</th>\n",
       "      <th>H2 atm loss [Tg/yr]</th>\n",
       "      <th>H2 atm prod [Tg/yr]</th>\n",
       "      <th>H2 soil sink [Tg/yr]</th>\n",
       "      <th>H2 estimated emissions [Tg/yr]</th>\n",
       "      <th>H2 atm lifetime [yrs]</th>\n",
       "      <th>H2 soil sink lifetime [yrs]</th>\n",
       "      <th>H2 total lifetime [yrs]</th>\n",
       "    </tr>\n",
       "  </thead>\n",
       "  <tbody>\n",
       "    <tr>\n",
       "      <th>10CH4_SSP119</th>\n",
       "      <td>188</td>\n",
       "      <td>514</td>\n",
       "      <td>25.2</td>\n",
       "      <td>47.2</td>\n",
       "      <td>53.4</td>\n",
       "      <td>31.4</td>\n",
       "      <td>7.48</td>\n",
       "      <td>3.52</td>\n",
       "      <td>2.39</td>\n",
       "    </tr>\n",
       "    <tr>\n",
       "      <th>10CH4_SSP434</th>\n",
       "      <td>235</td>\n",
       "      <td>640</td>\n",
       "      <td>28.6</td>\n",
       "      <td>63.4</td>\n",
       "      <td>66.1</td>\n",
       "      <td>31.3</td>\n",
       "      <td>8.21</td>\n",
       "      <td>3.55</td>\n",
       "      <td>2.48</td>\n",
       "    </tr>\n",
       "    <tr>\n",
       "      <th>10CH4_SSP585</th>\n",
       "      <td>245</td>\n",
       "      <td>668</td>\n",
       "      <td>31.4</td>\n",
       "      <td>69.0</td>\n",
       "      <td>68.9</td>\n",
       "      <td>31.3</td>\n",
       "      <td>7.81</td>\n",
       "      <td>3.56</td>\n",
       "      <td>2.44</td>\n",
       "    </tr>\n",
       "    <tr>\n",
       "      <th>CNTR_SSP119</th>\n",
       "      <td>181</td>\n",
       "      <td>495</td>\n",
       "      <td>24.9</td>\n",
       "      <td>45.0</td>\n",
       "      <td>51.5</td>\n",
       "      <td>31.4</td>\n",
       "      <td>7.26</td>\n",
       "      <td>3.51</td>\n",
       "      <td>2.37</td>\n",
       "    </tr>\n",
       "    <tr>\n",
       "      <th>CNTR_SSP434</th>\n",
       "      <td>225</td>\n",
       "      <td>613</td>\n",
       "      <td>28.3</td>\n",
       "      <td>60.4</td>\n",
       "      <td>63.5</td>\n",
       "      <td>31.3</td>\n",
       "      <td>7.95</td>\n",
       "      <td>3.54</td>\n",
       "      <td>2.45</td>\n",
       "    </tr>\n",
       "    <tr>\n",
       "      <th>CNTR_SSP585</th>\n",
       "      <td>234</td>\n",
       "      <td>638</td>\n",
       "      <td>31.0</td>\n",
       "      <td>65.6</td>\n",
       "      <td>66.0</td>\n",
       "      <td>31.3</td>\n",
       "      <td>7.55</td>\n",
       "      <td>3.55</td>\n",
       "      <td>2.41</td>\n",
       "    </tr>\n",
       "    <tr>\n",
       "      <th>antro10_SSP119</th>\n",
       "      <td>203</td>\n",
       "      <td>558</td>\n",
       "      <td>27.8</td>\n",
       "      <td>44.9</td>\n",
       "      <td>58.5</td>\n",
       "      <td>41.4</td>\n",
       "      <td>7.29</td>\n",
       "      <td>3.46</td>\n",
       "      <td>2.35</td>\n",
       "    </tr>\n",
       "    <tr>\n",
       "      <th>antro10_SSP434</th>\n",
       "      <td>247</td>\n",
       "      <td>678</td>\n",
       "      <td>31.0</td>\n",
       "      <td>60.3</td>\n",
       "      <td>70.7</td>\n",
       "      <td>41.3</td>\n",
       "      <td>7.98</td>\n",
       "      <td>3.50</td>\n",
       "      <td>2.43</td>\n",
       "    </tr>\n",
       "    <tr>\n",
       "      <th>antro10_SSP585</th>\n",
       "      <td>256</td>\n",
       "      <td>702</td>\n",
       "      <td>33.8</td>\n",
       "      <td>65.5</td>\n",
       "      <td>73.0</td>\n",
       "      <td>41.3</td>\n",
       "      <td>7.57</td>\n",
       "      <td>3.51</td>\n",
       "      <td>2.40</td>\n",
       "    </tr>\n",
       "  </tbody>\n",
       "</table>\n",
       "</div>"
      ],
      "text/plain": [
       "                H2 burden [Tg]  H2 surf. conc [ppbv]  H2 atm loss [Tg/yr]  \\\n",
       "10CH4_SSP119               188                   514                 25.2   \n",
       "10CH4_SSP434               235                   640                 28.6   \n",
       "10CH4_SSP585               245                   668                 31.4   \n",
       "CNTR_SSP119                181                   495                 24.9   \n",
       "CNTR_SSP434                225                   613                 28.3   \n",
       "CNTR_SSP585                234                   638                 31.0   \n",
       "antro10_SSP119             203                   558                 27.8   \n",
       "antro10_SSP434             247                   678                 31.0   \n",
       "antro10_SSP585             256                   702                 33.8   \n",
       "\n",
       "                H2 atm prod [Tg/yr]  H2 soil sink [Tg/yr]  \\\n",
       "10CH4_SSP119                   47.2                  53.4   \n",
       "10CH4_SSP434                   63.4                  66.1   \n",
       "10CH4_SSP585                   69.0                  68.9   \n",
       "CNTR_SSP119                    45.0                  51.5   \n",
       "CNTR_SSP434                    60.4                  63.5   \n",
       "CNTR_SSP585                    65.6                  66.0   \n",
       "antro10_SSP119                 44.9                  58.5   \n",
       "antro10_SSP434                 60.3                  70.7   \n",
       "antro10_SSP585                 65.5                  73.0   \n",
       "\n",
       "                H2 estimated emissions [Tg/yr]  H2 atm lifetime [yrs]  \\\n",
       "10CH4_SSP119                              31.4                   7.48   \n",
       "10CH4_SSP434                              31.3                   8.21   \n",
       "10CH4_SSP585                              31.3                   7.81   \n",
       "CNTR_SSP119                               31.4                   7.26   \n",
       "CNTR_SSP434                               31.3                   7.95   \n",
       "CNTR_SSP585                               31.3                   7.55   \n",
       "antro10_SSP119                            41.4                   7.29   \n",
       "antro10_SSP434                            41.3                   7.98   \n",
       "antro10_SSP585                            41.3                   7.57   \n",
       "\n",
       "                H2 soil sink lifetime [yrs]  H2 total lifetime [yrs]  \n",
       "10CH4_SSP119                           3.52                     2.39  \n",
       "10CH4_SSP434                           3.55                     2.48  \n",
       "10CH4_SSP585                           3.56                     2.44  \n",
       "CNTR_SSP119                            3.51                     2.37  \n",
       "CNTR_SSP434                            3.54                     2.45  \n",
       "CNTR_SSP585                            3.55                     2.41  \n",
       "antro10_SSP119                         3.46                     2.35  \n",
       "antro10_SSP434                         3.50                     2.43  \n",
       "antro10_SSP585                         3.51                     2.40  "
      ]
     },
     "execution_count": 173,
     "metadata": {},
     "output_type": "execute_result"
    }
   ],
   "source": [
    "df_budget_h2_ssp = pd.concat([df_h2_burden_ssp.iloc[0],\n",
    "                              df_h2_surfconc_ssp.iloc[0],\n",
    "                              df_h2_atmloss_ssp,\n",
    "                              df_h2_atmprod_ssp,\n",
    "                              df_h2_drydep_ssp,\n",
    "                              df_h2_estemis_ssp, \n",
    "                              df_h2_atm_lifetime_ssp,\n",
    "                              df_h2_soil_sink_lifetime_ssp,\n",
    "                              df_h2_lifetime_ssp\n",
    "                             ],axis=1)\n",
    "\n",
    "df_budget_h2_ssp.columns = ['H2 burden [Tg]',\n",
    "                            'H2 surf. conc [ppbv]',\n",
    "                        'H2 atm loss [Tg/yr]',\n",
    "                        'H2 atm prod [Tg/yr]',\n",
    "                        'H2 soil sink [Tg/yr]',\n",
    "                        'H2 estimated emissions [Tg/yr]',\n",
    "                        'H2 atm lifetime [yrs]',\n",
    "                        'H2 soil sink lifetime [yrs]',\n",
    "                        'H2 total lifetime [yrs]',]\n",
    "df_budget_h2_ssp = df_budget_h2_ssp.sort_index()\n",
    "df_budget_h2_ssp"
   ]
  },
  {
   "cell_type": "code",
   "execution_count": 174,
   "metadata": {},
   "outputs": [
    {
     "data": {
      "text/html": [
       "<div>\n",
       "<style scoped>\n",
       "    .dataframe tbody tr th:only-of-type {\n",
       "        vertical-align: middle;\n",
       "    }\n",
       "\n",
       "    .dataframe tbody tr th {\n",
       "        vertical-align: top;\n",
       "    }\n",
       "\n",
       "    .dataframe thead th {\n",
       "        text-align: right;\n",
       "    }\n",
       "</style>\n",
       "<table border=\"1\" class=\"dataframe\">\n",
       "  <thead>\n",
       "    <tr style=\"text-align: right;\">\n",
       "      <th></th>\n",
       "      <th>H2 burden [Tg]</th>\n",
       "      <th>H2 surf. conc [ppbv]</th>\n",
       "      <th>H2 atm loss [Tg/yr]</th>\n",
       "      <th>H2 atm prod [Tg/yr]</th>\n",
       "      <th>H2 soil sink [Tg/yr]</th>\n",
       "      <th>H2 estimated emissions [Tg/yr]</th>\n",
       "      <th>H2 atm lifetime [yrs]</th>\n",
       "      <th>H2 soil sink lifetime [yrs]</th>\n",
       "      <th>H2 total lifetime [yrs]</th>\n",
       "    </tr>\n",
       "  </thead>\n",
       "  <tbody>\n",
       "    <tr>\n",
       "      <th>CNTR</th>\n",
       "      <td>205</td>\n",
       "      <td>559</td>\n",
       "      <td>29.2</td>\n",
       "      <td>55.8</td>\n",
       "      <td>58.0</td>\n",
       "      <td>31.4</td>\n",
       "      <td>7.02</td>\n",
       "      <td>3.53</td>\n",
       "      <td>2.35</td>\n",
       "    </tr>\n",
       "    <tr>\n",
       "      <th>H2_avi</th>\n",
       "      <td>206</td>\n",
       "      <td>564</td>\n",
       "      <td>29.4</td>\n",
       "      <td>55.6</td>\n",
       "      <td>58.5</td>\n",
       "      <td>32.3</td>\n",
       "      <td>7.02</td>\n",
       "      <td>3.52</td>\n",
       "      <td>2.35</td>\n",
       "    </tr>\n",
       "    <tr>\n",
       "      <th>antro1</th>\n",
       "      <td>207</td>\n",
       "      <td>565</td>\n",
       "      <td>29.4</td>\n",
       "      <td>55.8</td>\n",
       "      <td>58.7</td>\n",
       "      <td>32.3</td>\n",
       "      <td>7.02</td>\n",
       "      <td>3.52</td>\n",
       "      <td>2.34</td>\n",
       "    </tr>\n",
       "    <tr>\n",
       "      <th>10CH4_SSP119</th>\n",
       "      <td>188</td>\n",
       "      <td>514</td>\n",
       "      <td>25.2</td>\n",
       "      <td>47.2</td>\n",
       "      <td>53.4</td>\n",
       "      <td>31.4</td>\n",
       "      <td>7.48</td>\n",
       "      <td>3.52</td>\n",
       "      <td>2.39</td>\n",
       "    </tr>\n",
       "    <tr>\n",
       "      <th>10CH4_SSP434</th>\n",
       "      <td>235</td>\n",
       "      <td>640</td>\n",
       "      <td>28.6</td>\n",
       "      <td>63.4</td>\n",
       "      <td>66.1</td>\n",
       "      <td>31.3</td>\n",
       "      <td>8.21</td>\n",
       "      <td>3.55</td>\n",
       "      <td>2.48</td>\n",
       "    </tr>\n",
       "    <tr>\n",
       "      <th>10CH4_SSP585</th>\n",
       "      <td>245</td>\n",
       "      <td>668</td>\n",
       "      <td>31.4</td>\n",
       "      <td>69.0</td>\n",
       "      <td>68.9</td>\n",
       "      <td>31.3</td>\n",
       "      <td>7.81</td>\n",
       "      <td>3.56</td>\n",
       "      <td>2.44</td>\n",
       "    </tr>\n",
       "    <tr>\n",
       "      <th>CNTR_SSP119</th>\n",
       "      <td>181</td>\n",
       "      <td>495</td>\n",
       "      <td>24.9</td>\n",
       "      <td>45.0</td>\n",
       "      <td>51.5</td>\n",
       "      <td>31.4</td>\n",
       "      <td>7.26</td>\n",
       "      <td>3.51</td>\n",
       "      <td>2.37</td>\n",
       "    </tr>\n",
       "    <tr>\n",
       "      <th>CNTR_SSP434</th>\n",
       "      <td>225</td>\n",
       "      <td>613</td>\n",
       "      <td>28.3</td>\n",
       "      <td>60.4</td>\n",
       "      <td>63.5</td>\n",
       "      <td>31.3</td>\n",
       "      <td>7.95</td>\n",
       "      <td>3.54</td>\n",
       "      <td>2.45</td>\n",
       "    </tr>\n",
       "    <tr>\n",
       "      <th>CNTR_SSP585</th>\n",
       "      <td>234</td>\n",
       "      <td>638</td>\n",
       "      <td>31.0</td>\n",
       "      <td>65.6</td>\n",
       "      <td>66.0</td>\n",
       "      <td>31.3</td>\n",
       "      <td>7.55</td>\n",
       "      <td>3.55</td>\n",
       "      <td>2.41</td>\n",
       "    </tr>\n",
       "    <tr>\n",
       "      <th>antro10_SSP119</th>\n",
       "      <td>203</td>\n",
       "      <td>558</td>\n",
       "      <td>27.8</td>\n",
       "      <td>44.9</td>\n",
       "      <td>58.5</td>\n",
       "      <td>41.4</td>\n",
       "      <td>7.29</td>\n",
       "      <td>3.46</td>\n",
       "      <td>2.35</td>\n",
       "    </tr>\n",
       "    <tr>\n",
       "      <th>antro10_SSP434</th>\n",
       "      <td>247</td>\n",
       "      <td>678</td>\n",
       "      <td>31.0</td>\n",
       "      <td>60.3</td>\n",
       "      <td>70.7</td>\n",
       "      <td>41.3</td>\n",
       "      <td>7.98</td>\n",
       "      <td>3.50</td>\n",
       "      <td>2.43</td>\n",
       "    </tr>\n",
       "    <tr>\n",
       "      <th>antro10_SSP585</th>\n",
       "      <td>256</td>\n",
       "      <td>702</td>\n",
       "      <td>33.8</td>\n",
       "      <td>65.5</td>\n",
       "      <td>73.0</td>\n",
       "      <td>41.3</td>\n",
       "      <td>7.57</td>\n",
       "      <td>3.51</td>\n",
       "      <td>2.40</td>\n",
       "    </tr>\n",
       "  </tbody>\n",
       "</table>\n",
       "</div>"
      ],
      "text/plain": [
       "                H2 burden [Tg]  H2 surf. conc [ppbv]  H2 atm loss [Tg/yr]  \\\n",
       "CNTR                       205                   559                 29.2   \n",
       "H2_avi                     206                   564                 29.4   \n",
       "antro1                     207                   565                 29.4   \n",
       "10CH4_SSP119               188                   514                 25.2   \n",
       "10CH4_SSP434               235                   640                 28.6   \n",
       "10CH4_SSP585               245                   668                 31.4   \n",
       "CNTR_SSP119                181                   495                 24.9   \n",
       "CNTR_SSP434                225                   613                 28.3   \n",
       "CNTR_SSP585                234                   638                 31.0   \n",
       "antro10_SSP119             203                   558                 27.8   \n",
       "antro10_SSP434             247                   678                 31.0   \n",
       "antro10_SSP585             256                   702                 33.8   \n",
       "\n",
       "                H2 atm prod [Tg/yr]  H2 soil sink [Tg/yr]  \\\n",
       "CNTR                           55.8                  58.0   \n",
       "H2_avi                         55.6                  58.5   \n",
       "antro1                         55.8                  58.7   \n",
       "10CH4_SSP119                   47.2                  53.4   \n",
       "10CH4_SSP434                   63.4                  66.1   \n",
       "10CH4_SSP585                   69.0                  68.9   \n",
       "CNTR_SSP119                    45.0                  51.5   \n",
       "CNTR_SSP434                    60.4                  63.5   \n",
       "CNTR_SSP585                    65.6                  66.0   \n",
       "antro10_SSP119                 44.9                  58.5   \n",
       "antro10_SSP434                 60.3                  70.7   \n",
       "antro10_SSP585                 65.5                  73.0   \n",
       "\n",
       "                H2 estimated emissions [Tg/yr]  H2 atm lifetime [yrs]  \\\n",
       "CNTR                                      31.4                   7.02   \n",
       "H2_avi                                    32.3                   7.02   \n",
       "antro1                                    32.3                   7.02   \n",
       "10CH4_SSP119                              31.4                   7.48   \n",
       "10CH4_SSP434                              31.3                   8.21   \n",
       "10CH4_SSP585                              31.3                   7.81   \n",
       "CNTR_SSP119                               31.4                   7.26   \n",
       "CNTR_SSP434                               31.3                   7.95   \n",
       "CNTR_SSP585                               31.3                   7.55   \n",
       "antro10_SSP119                            41.4                   7.29   \n",
       "antro10_SSP434                            41.3                   7.98   \n",
       "antro10_SSP585                            41.3                   7.57   \n",
       "\n",
       "                H2 soil sink lifetime [yrs]  H2 total lifetime [yrs]  \n",
       "CNTR                                   3.53                     2.35  \n",
       "H2_avi                                 3.52                     2.35  \n",
       "antro1                                 3.52                     2.34  \n",
       "10CH4_SSP119                           3.52                     2.39  \n",
       "10CH4_SSP434                           3.55                     2.48  \n",
       "10CH4_SSP585                           3.56                     2.44  \n",
       "CNTR_SSP119                            3.51                     2.37  \n",
       "CNTR_SSP434                            3.54                     2.45  \n",
       "CNTR_SSP585                            3.55                     2.41  \n",
       "antro10_SSP119                         3.46                     2.35  \n",
       "antro10_SSP434                         3.50                     2.43  \n",
       "antro10_SSP585                         3.51                     2.40  "
      ]
     },
     "execution_count": 174,
     "metadata": {},
     "output_type": "execute_result"
    }
   ],
   "source": [
    "df_budget_h2 = pd.concat([df_budget_h2,df_budget_h2_ssp],sort=False)\n",
    "df_budget_h2"
   ]
  },
  {
   "cell_type": "code",
   "execution_count": 175,
   "metadata": {},
   "outputs": [
    {
     "data": {
      "text/html": [
       "<div>\n",
       "<style scoped>\n",
       "    .dataframe tbody tr th:only-of-type {\n",
       "        vertical-align: middle;\n",
       "    }\n",
       "\n",
       "    .dataframe tbody tr th {\n",
       "        vertical-align: top;\n",
       "    }\n",
       "\n",
       "    .dataframe thead th {\n",
       "        text-align: right;\n",
       "    }\n",
       "</style>\n",
       "<table border=\"1\" class=\"dataframe\">\n",
       "  <thead>\n",
       "    <tr style=\"text-align: right;\">\n",
       "      <th></th>\n",
       "      <th>H2 burden [Tg]</th>\n",
       "      <th>H2 surf. conc [ppbv]</th>\n",
       "      <th>H2 atm loss [Tg/yr]</th>\n",
       "      <th>H2 atm prod [Tg/yr]</th>\n",
       "      <th>H2 soil sink [Tg/yr]</th>\n",
       "      <th>H2 estimated emissions [Tg/yr]</th>\n",
       "      <th>H2 atm lifetime [yrs]</th>\n",
       "      <th>H2 soil sink lifetime [yrs]</th>\n",
       "      <th>H2 total lifetime [yrs]</th>\n",
       "    </tr>\n",
       "  </thead>\n",
       "  <tbody>\n",
       "    <tr>\n",
       "      <th>CNTR</th>\n",
       "      <td>205</td>\n",
       "      <td>559</td>\n",
       "      <td>29.2</td>\n",
       "      <td>55.8</td>\n",
       "      <td>58.0</td>\n",
       "      <td>31.4</td>\n",
       "      <td>7.02</td>\n",
       "      <td>3.53</td>\n",
       "      <td>2.35</td>\n",
       "    </tr>\n",
       "    <tr>\n",
       "      <th>CNTR_SSP119</th>\n",
       "      <td>181</td>\n",
       "      <td>495</td>\n",
       "      <td>24.9</td>\n",
       "      <td>45.0</td>\n",
       "      <td>51.5</td>\n",
       "      <td>31.4</td>\n",
       "      <td>7.26</td>\n",
       "      <td>3.51</td>\n",
       "      <td>2.37</td>\n",
       "    </tr>\n",
       "    <tr>\n",
       "      <th>CNTR_SSP434</th>\n",
       "      <td>225</td>\n",
       "      <td>613</td>\n",
       "      <td>28.3</td>\n",
       "      <td>60.4</td>\n",
       "      <td>63.5</td>\n",
       "      <td>31.3</td>\n",
       "      <td>7.95</td>\n",
       "      <td>3.54</td>\n",
       "      <td>2.45</td>\n",
       "    </tr>\n",
       "    <tr>\n",
       "      <th>CNTR_SSP585</th>\n",
       "      <td>234</td>\n",
       "      <td>638</td>\n",
       "      <td>31.0</td>\n",
       "      <td>65.6</td>\n",
       "      <td>66.0</td>\n",
       "      <td>31.3</td>\n",
       "      <td>7.55</td>\n",
       "      <td>3.55</td>\n",
       "      <td>2.41</td>\n",
       "    </tr>\n",
       "  </tbody>\n",
       "</table>\n",
       "</div>"
      ],
      "text/plain": [
       "             H2 burden [Tg]  H2 surf. conc [ppbv]  H2 atm loss [Tg/yr]  \\\n",
       "CNTR                    205                   559                 29.2   \n",
       "CNTR_SSP119             181                   495                 24.9   \n",
       "CNTR_SSP434             225                   613                 28.3   \n",
       "CNTR_SSP585             234                   638                 31.0   \n",
       "\n",
       "             H2 atm prod [Tg/yr]  H2 soil sink [Tg/yr]  \\\n",
       "CNTR                        55.8                  58.0   \n",
       "CNTR_SSP119                 45.0                  51.5   \n",
       "CNTR_SSP434                 60.4                  63.5   \n",
       "CNTR_SSP585                 65.6                  66.0   \n",
       "\n",
       "             H2 estimated emissions [Tg/yr]  H2 atm lifetime [yrs]  \\\n",
       "CNTR                                   31.4                   7.02   \n",
       "CNTR_SSP119                            31.4                   7.26   \n",
       "CNTR_SSP434                            31.3                   7.95   \n",
       "CNTR_SSP585                            31.3                   7.55   \n",
       "\n",
       "             H2 soil sink lifetime [yrs]  H2 total lifetime [yrs]  \n",
       "CNTR                                3.53                     2.35  \n",
       "CNTR_SSP119                         3.51                     2.37  \n",
       "CNTR_SSP434                         3.54                     2.45  \n",
       "CNTR_SSP585                         3.55                     2.41  "
      ]
     },
     "execution_count": 175,
     "metadata": {},
     "output_type": "execute_result"
    }
   ],
   "source": [
    "df_budget_h2.loc[['CNTR','CNTR_SSP119','CNTR_SSP434','CNTR_SSP585']]"
   ]
  },
  {
   "cell_type": "code",
   "execution_count": 176,
   "metadata": {},
   "outputs": [],
   "source": [
    "df_budget_h2.to_csv(outputpath + 'table_budget_h2.csv')"
   ]
  },
  {
   "cell_type": "markdown",
   "metadata": {},
   "source": [
    "## CH4 budget table"
   ]
  },
  {
   "cell_type": "code",
   "execution_count": 177,
   "metadata": {},
   "outputs": [
    {
     "data": {
      "text/plain": [
       "np.float64(20.72921738808889)"
      ]
     },
     "execution_count": 177,
     "metadata": {},
     "output_type": "execute_result"
    }
   ],
   "source": [
    "df_ch4_loss_other_strat_conc.loc['CTRL']"
   ]
  },
  {
   "cell_type": "code",
   "execution_count": 178,
   "metadata": {},
   "outputs": [],
   "source": [
    "budget_ch4 = np.array([df_ch4_burden_conc.loc['CTRL'],\n",
    "                           df_ch4_surfconc_conc.loc['CTRL'],\n",
    "                           df_ch4_loss_conc.loc['CTRL'],\n",
    "                           df_ch4_loss_other_strat_conc.loc['CTRL'],\n",
    "                           df_ch4_loss_soil_conc.loc['CTRL'],\n",
    "                           df_ch4_loss_conc.loc['CTRL']+df_ch4_loss_other_strat_conc.loc['CTRL']+df_ch4_loss_soil_conc.loc['CTRL'],\n",
    "                           df_ch4_lifetime_conc.loc['CTRL'],\n",
    "                           df_ch4_tot_lifetime_conc.loc['CTRL']\n",
    "                           ])\n",
    "\n",
    "budget_ch4_columns = ['CH4 burden [Tg]','CH4 surface conc. [ppbv]',\n",
    "                         'CH4 chem loss OH [Tg/yr]', 'CH4 chem loss other strat [Tg/yr]','CH4 loss soil [Tg/yr]',\n",
    "                         'CH4 total loss [Tg/yr]',\n",
    "                         'CH4 lifetime due to OH (whole atmosphere) [yrs]','Total CH4 lifetime [yrs]'] \n",
    "\n",
    "df_budget_ch4 = pd.DataFrame(data=budget_ch4,index=budget_ch4_columns,columns=['CTRL'])\n"
   ]
  },
  {
   "cell_type": "code",
   "execution_count": 179,
   "metadata": {},
   "outputs": [
    {
     "data": {
      "text/plain": [
       "CNTR_SSP119   552\n",
       "CNTR_SSP434   787\n",
       "CNTR_SSP585   910\n",
       "Name: YR13, dtype: float64"
      ]
     },
     "execution_count": 179,
     "metadata": {},
     "output_type": "execute_result"
    }
   ],
   "source": [
    "temp =df_ch4_loss_ssp.loc[['CNTR_SSP119','CNTR_SSP434','CNTR_SSP585']]+df_ch4_loss_other_strat_ssp[['CNTR_SSP119','CNTR_SSP434','CNTR_SSP585']]+df_ch4_loss_soil_ssp[['CNTR_SSP119','CNTR_SSP434','CNTR_SSP585']]\n",
    "temp.iloc[0]"
   ]
  },
  {
   "cell_type": "code",
   "execution_count": 180,
   "metadata": {},
   "outputs": [
    {
     "data": {
      "text/html": [
       "<div>\n",
       "<style scoped>\n",
       "    .dataframe tbody tr th:only-of-type {\n",
       "        vertical-align: middle;\n",
       "    }\n",
       "\n",
       "    .dataframe tbody tr th {\n",
       "        vertical-align: top;\n",
       "    }\n",
       "\n",
       "    .dataframe thead th {\n",
       "        text-align: right;\n",
       "    }\n",
       "</style>\n",
       "<table border=\"1\" class=\"dataframe\">\n",
       "  <thead>\n",
       "    <tr style=\"text-align: right;\">\n",
       "      <th></th>\n",
       "      <th>CNTR_SSP119</th>\n",
       "      <th>CNTR_SSP434</th>\n",
       "      <th>CNTR_SSP585</th>\n",
       "    </tr>\n",
       "    <tr>\n",
       "      <th>Scenario</th>\n",
       "      <th></th>\n",
       "      <th></th>\n",
       "      <th></th>\n",
       "    </tr>\n",
       "  </thead>\n",
       "  <tbody>\n",
       "    <tr>\n",
       "      <th>YR13</th>\n",
       "      <td>3,916</td>\n",
       "      <td>6,104</td>\n",
       "      <td>6,713</td>\n",
       "    </tr>\n",
       "    <tr>\n",
       "      <th>deltaCH4</th>\n",
       "      <td>0.00</td>\n",
       "      <td>0.00</td>\n",
       "      <td>0.00</td>\n",
       "    </tr>\n",
       "  </tbody>\n",
       "</table>\n",
       "</div>"
      ],
      "text/plain": [
       "          CNTR_SSP119  CNTR_SSP434  CNTR_SSP585\n",
       "Scenario                                       \n",
       "YR13            3,916        6,104        6,713\n",
       "deltaCH4         0.00         0.00         0.00"
      ]
     },
     "execution_count": 180,
     "metadata": {},
     "output_type": "execute_result"
    }
   ],
   "source": [
    "df_ch4_burden_ssp[['CNTR_SSP119','CNTR_SSP434','CNTR_SSP585']]"
   ]
  },
  {
   "cell_type": "code",
   "execution_count": 181,
   "metadata": {},
   "outputs": [
    {
     "data": {
      "text/html": [
       "<div>\n",
       "<style scoped>\n",
       "    .dataframe tbody tr th:only-of-type {\n",
       "        vertical-align: middle;\n",
       "    }\n",
       "\n",
       "    .dataframe tbody tr th {\n",
       "        vertical-align: top;\n",
       "    }\n",
       "\n",
       "    .dataframe thead th {\n",
       "        text-align: right;\n",
       "    }\n",
       "</style>\n",
       "<table border=\"1\" class=\"dataframe\">\n",
       "  <thead>\n",
       "    <tr style=\"text-align: right;\">\n",
       "      <th></th>\n",
       "      <th>CH4 burden [Tg]</th>\n",
       "      <th>CH4 surface conc. [ppbv]</th>\n",
       "      <th>CH4 chem loss OH [Tg/yr]</th>\n",
       "      <th>CH4 chem loss other strat [Tg/yr]</th>\n",
       "      <th>CH4 loss soil [Tg/yr]</th>\n",
       "      <th>CH4 total loss [Tg/yr]</th>\n",
       "      <th>CH4 lifetime due to OH (whole atmosphere) [yrs]</th>\n",
       "      <th>Total CH4 lifetime [yrs]</th>\n",
       "    </tr>\n",
       "  </thead>\n",
       "  <tbody>\n",
       "    <tr>\n",
       "      <th>CNTR_SSP119</th>\n",
       "      <td>3,916</td>\n",
       "      <td>1,427</td>\n",
       "      <td>511</td>\n",
       "      <td>16.3</td>\n",
       "      <td>24.5</td>\n",
       "      <td>552</td>\n",
       "      <td>7.67</td>\n",
       "      <td>7.10</td>\n",
       "    </tr>\n",
       "    <tr>\n",
       "      <th>CNTR_SSP434</th>\n",
       "      <td>6,104</td>\n",
       "      <td>2,223</td>\n",
       "      <td>724</td>\n",
       "      <td>25.4</td>\n",
       "      <td>38.2</td>\n",
       "      <td>787</td>\n",
       "      <td>8.43</td>\n",
       "      <td>7.75</td>\n",
       "    </tr>\n",
       "    <tr>\n",
       "      <th>CNTR_SSP585</th>\n",
       "      <td>6,713</td>\n",
       "      <td>2,446</td>\n",
       "      <td>841</td>\n",
       "      <td>28.0</td>\n",
       "      <td>42.0</td>\n",
       "      <td>910</td>\n",
       "      <td>7.99</td>\n",
       "      <td>7.37</td>\n",
       "    </tr>\n",
       "  </tbody>\n",
       "</table>\n",
       "</div>"
      ],
      "text/plain": [
       "             CH4 burden [Tg]  CH4 surface conc. [ppbv]  \\\n",
       "CNTR_SSP119            3,916                     1,427   \n",
       "CNTR_SSP434            6,104                     2,223   \n",
       "CNTR_SSP585            6,713                     2,446   \n",
       "\n",
       "             CH4 chem loss OH [Tg/yr]  CH4 chem loss other strat [Tg/yr]  \\\n",
       "CNTR_SSP119                       511                               16.3   \n",
       "CNTR_SSP434                       724                               25.4   \n",
       "CNTR_SSP585                       841                               28.0   \n",
       "\n",
       "             CH4 loss soil [Tg/yr]  CH4 total loss [Tg/yr]  \\\n",
       "CNTR_SSP119                   24.5                     552   \n",
       "CNTR_SSP434                   38.2                     787   \n",
       "CNTR_SSP585                   42.0                     910   \n",
       "\n",
       "             CH4 lifetime due to OH (whole atmosphere) [yrs]  \\\n",
       "CNTR_SSP119                                             7.67   \n",
       "CNTR_SSP434                                             8.43   \n",
       "CNTR_SSP585                                             7.99   \n",
       "\n",
       "             Total CH4 lifetime [yrs]  \n",
       "CNTR_SSP119                      7.10  \n",
       "CNTR_SSP434                      7.75  \n",
       "CNTR_SSP585                      7.37  "
      ]
     },
     "execution_count": 181,
     "metadata": {},
     "output_type": "execute_result"
    }
   ],
   "source": [
    "budget_ch4_ssp = np.array([df_ch4_burden_ssp[['CNTR_SSP119','CNTR_SSP434','CNTR_SSP585']].iloc[0].values,\n",
    "                           df_ch4_surfconc_ssp[['CNTR_SSP119','CNTR_SSP434','CNTR_SSP585']].iloc[0].values,\n",
    "                           df_ch4_loss_ssp.loc[['CNTR_SSP119','CNTR_SSP434','CNTR_SSP585']].values,\n",
    "                           df_ch4_loss_other_strat_ssp[['CNTR_SSP119','CNTR_SSP434','CNTR_SSP585']].iloc[0].values,\n",
    "                           df_ch4_loss_soil_ssp[['CNTR_SSP119','CNTR_SSP434','CNTR_SSP585']].iloc[0].values,\n",
    "                           temp.iloc[0].values,\n",
    "                           df_ch4_lifetime_ssp[['CNTR_SSP119','CNTR_SSP434','CNTR_SSP585']].iloc[0].values,\n",
    "                           df_ch4_tot_lifetime_ssp[['CNTR_SSP119','CNTR_SSP434','CNTR_SSP585']].iloc[0].values\n",
    "                           ])\n",
    "\n",
    "budget_ch4_columns = ['CH4 burden [Tg]','CH4 surface conc. [ppbv]',\n",
    "                        'CH4 chem loss OH [Tg/yr]', 'CH4 chem loss other strat [Tg/yr]','CH4 loss soil [Tg/yr]',\n",
    "                         'CH4 total loss [Tg/yr]',\n",
    "                         'CH4 lifetime due to OH (whole atmosphere) [yrs]','Total CH4 lifetime [yrs]'] \n",
    "\n",
    "df_budget_ch4_ssp = pd.DataFrame(data=budget_ch4_ssp,index=budget_ch4_columns,columns=['CNTR_SSP119','CNTR_SSP434','CNTR_SSP585'])\n",
    "df_budget_ch4_ssp.T"
   ]
  },
  {
   "cell_type": "code",
   "execution_count": 182,
   "metadata": {},
   "outputs": [
    {
     "data": {
      "text/html": [
       "<div>\n",
       "<style scoped>\n",
       "    .dataframe tbody tr th:only-of-type {\n",
       "        vertical-align: middle;\n",
       "    }\n",
       "\n",
       "    .dataframe tbody tr th {\n",
       "        vertical-align: top;\n",
       "    }\n",
       "\n",
       "    .dataframe thead th {\n",
       "        text-align: right;\n",
       "    }\n",
       "</style>\n",
       "<table border=\"1\" class=\"dataframe\">\n",
       "  <thead>\n",
       "    <tr style=\"text-align: right;\">\n",
       "      <th></th>\n",
       "      <th>CH4 burden [Tg]</th>\n",
       "      <th>CH4 surface conc. [ppbv]</th>\n",
       "      <th>CH4 chem loss OH [Tg/yr]</th>\n",
       "      <th>CH4 chem loss other strat [Tg/yr]</th>\n",
       "      <th>CH4 loss soil [Tg/yr]</th>\n",
       "      <th>CH4 total loss [Tg/yr]</th>\n",
       "      <th>CH4 lifetime due to OH (whole atmosphere) [yrs]</th>\n",
       "      <th>Total CH4 lifetime [yrs]</th>\n",
       "    </tr>\n",
       "  </thead>\n",
       "  <tbody>\n",
       "    <tr>\n",
       "      <th>CTRL</th>\n",
       "      <td>4,975</td>\n",
       "      <td>1,813</td>\n",
       "      <td>674</td>\n",
       "      <td>20.7</td>\n",
       "      <td>31.1</td>\n",
       "      <td>726</td>\n",
       "      <td>7.38</td>\n",
       "      <td>6.85</td>\n",
       "    </tr>\n",
       "    <tr>\n",
       "      <th>CNTR_SSP119</th>\n",
       "      <td>3,916</td>\n",
       "      <td>1,427</td>\n",
       "      <td>511</td>\n",
       "      <td>16.3</td>\n",
       "      <td>24.5</td>\n",
       "      <td>552</td>\n",
       "      <td>7.67</td>\n",
       "      <td>7.10</td>\n",
       "    </tr>\n",
       "    <tr>\n",
       "      <th>CNTR_SSP434</th>\n",
       "      <td>6,104</td>\n",
       "      <td>2,223</td>\n",
       "      <td>724</td>\n",
       "      <td>25.4</td>\n",
       "      <td>38.2</td>\n",
       "      <td>787</td>\n",
       "      <td>8.43</td>\n",
       "      <td>7.75</td>\n",
       "    </tr>\n",
       "    <tr>\n",
       "      <th>CNTR_SSP585</th>\n",
       "      <td>6,713</td>\n",
       "      <td>2,446</td>\n",
       "      <td>841</td>\n",
       "      <td>28.0</td>\n",
       "      <td>42.0</td>\n",
       "      <td>910</td>\n",
       "      <td>7.99</td>\n",
       "      <td>7.37</td>\n",
       "    </tr>\n",
       "  </tbody>\n",
       "</table>\n",
       "</div>"
      ],
      "text/plain": [
       "             CH4 burden [Tg]  CH4 surface conc. [ppbv]  \\\n",
       "CTRL                   4,975                     1,813   \n",
       "CNTR_SSP119            3,916                     1,427   \n",
       "CNTR_SSP434            6,104                     2,223   \n",
       "CNTR_SSP585            6,713                     2,446   \n",
       "\n",
       "             CH4 chem loss OH [Tg/yr]  CH4 chem loss other strat [Tg/yr]  \\\n",
       "CTRL                              674                               20.7   \n",
       "CNTR_SSP119                       511                               16.3   \n",
       "CNTR_SSP434                       724                               25.4   \n",
       "CNTR_SSP585                       841                               28.0   \n",
       "\n",
       "             CH4 loss soil [Tg/yr]  CH4 total loss [Tg/yr]  \\\n",
       "CTRL                          31.1                     726   \n",
       "CNTR_SSP119                   24.5                     552   \n",
       "CNTR_SSP434                   38.2                     787   \n",
       "CNTR_SSP585                   42.0                     910   \n",
       "\n",
       "             CH4 lifetime due to OH (whole atmosphere) [yrs]  \\\n",
       "CTRL                                                    7.38   \n",
       "CNTR_SSP119                                             7.67   \n",
       "CNTR_SSP434                                             8.43   \n",
       "CNTR_SSP585                                             7.99   \n",
       "\n",
       "             Total CH4 lifetime [yrs]  \n",
       "CTRL                             6.85  \n",
       "CNTR_SSP119                      7.10  \n",
       "CNTR_SSP434                      7.75  \n",
       "CNTR_SSP585                      7.37  "
      ]
     },
     "execution_count": 182,
     "metadata": {},
     "output_type": "execute_result"
    }
   ],
   "source": [
    "df_budget_ch4 = pd.concat([df_budget_ch4,df_budget_ch4_ssp],axis=1,sort=False)\n",
    "df_budget_ch4.T.to_csv(outputpath + 'table_budget_ch4.csv')\n",
    "\n",
    "df_budget_ch4.T"
   ]
  },
  {
   "cell_type": "code",
   "execution_count": 183,
   "metadata": {},
   "outputs": [
    {
     "data": {
      "text/html": [
       "<div>\n",
       "<style scoped>\n",
       "    .dataframe tbody tr th:only-of-type {\n",
       "        vertical-align: middle;\n",
       "    }\n",
       "\n",
       "    .dataframe tbody tr th {\n",
       "        vertical-align: top;\n",
       "    }\n",
       "\n",
       "    .dataframe thead th {\n",
       "        text-align: right;\n",
       "    }\n",
       "</style>\n",
       "<table border=\"1\" class=\"dataframe\">\n",
       "  <thead>\n",
       "    <tr style=\"text-align: right;\">\n",
       "      <th></th>\n",
       "      <th>h2_agwp_ch4</th>\n",
       "      <th>h2_agwp_o3</th>\n",
       "      <th>0</th>\n",
       "      <th>h2_agwp_ch4ind_o3</th>\n",
       "      <th>h2_agwp_ch4ind_h2o</th>\n",
       "    </tr>\n",
       "  </thead>\n",
       "  <tbody>\n",
       "    <tr>\n",
       "      <th>CNTR</th>\n",
       "      <td>NaN</td>\n",
       "      <td>NaN</td>\n",
       "      <td>NaN</td>\n",
       "      <td>NaN</td>\n",
       "      <td>NaN</td>\n",
       "    </tr>\n",
       "    <tr>\n",
       "      <th>antro1</th>\n",
       "      <td>0.43</td>\n",
       "      <td>0.22</td>\n",
       "      <td>NaN</td>\n",
       "      <td>0.25</td>\n",
       "      <td>0.06</td>\n",
       "    </tr>\n",
       "    <tr>\n",
       "      <th>H2_avi</th>\n",
       "      <td>0.46</td>\n",
       "      <td>0.22</td>\n",
       "      <td>NaN</td>\n",
       "      <td>0.27</td>\n",
       "      <td>0.06</td>\n",
       "    </tr>\n",
       "  </tbody>\n",
       "</table>\n",
       "</div>"
      ],
      "text/plain": [
       "        h2_agwp_ch4  h2_agwp_o3   0  h2_agwp_ch4ind_o3 h2_agwp_ch4ind_h2o\n",
       "CNTR            NaN         NaN NaN                NaN                NaN\n",
       "antro1         0.43        0.22 NaN               0.25               0.06\n",
       "H2_avi         0.46        0.22 NaN               0.27               0.06"
      ]
     },
     "execution_count": 183,
     "metadata": {},
     "output_type": "execute_result"
    }
   ],
   "source": [
    "#Write AGWP values to file\n",
    "df_h2_agwp  = pd.concat([df_h2_agwp_ch4,\n",
    "                         df_h2_agwp_o3,\n",
    "                         df_h2_agwp_h2o,\n",
    "                         df_h2_agwp_ch4ind_o3,\n",
    "                         df_h2_agwp_ch4ind_h2o],axis=1,sort=False)\n",
    "\n",
    "df_h2_agwp.to_csv(outputpath + 'table_h2_agwp.csv') \n",
    "df_h2_agwp"
   ]
  },
  {
   "cell_type": "markdown",
   "metadata": {},
   "source": [
    "# Appendix:"
   ]
  },
  {
   "cell_type": "markdown",
   "metadata": {},
   "source": [
    "## Methane feedback factor:"
   ]
  },
  {
   "cell_type": "markdown",
   "metadata": {},
   "source": [
    "### Atmospheric mass conversion CH4  [Tg/ppb] (from perturbations)"
   ]
  },
  {
   "cell_type": "code",
   "execution_count": 184,
   "metadata": {},
   "outputs": [
    {
     "data": {
      "text/plain": [
       "np.float64(2.7494761488687973)"
      ]
     },
     "execution_count": 184,
     "metadata": {},
     "output_type": "execute_result"
    }
   ],
   "source": [
    "df_ch4_burden_per_conc  = df_ch4_burden_conc.loc['deltaCH4']/df_ch4_surfconc_conc.loc['deltaCH4']\n",
    "df_ch4_burden_per_conc"
   ]
  },
  {
   "cell_type": "code",
   "execution_count": 185,
   "metadata": {},
   "outputs": [
    {
     "data": {
      "text/html": [
       "<div>\n",
       "<style scoped>\n",
       "    .dataframe tbody tr th:only-of-type {\n",
       "        vertical-align: middle;\n",
       "    }\n",
       "\n",
       "    .dataframe tbody tr th {\n",
       "        vertical-align: top;\n",
       "    }\n",
       "\n",
       "    .dataframe thead th {\n",
       "        text-align: right;\n",
       "    }\n",
       "</style>\n",
       "<table border=\"1\" class=\"dataframe\">\n",
       "  <thead>\n",
       "    <tr style=\"text-align: right;\">\n",
       "      <th></th>\n",
       "      <th>10CH4_SSP119</th>\n",
       "      <th>10CH4_SSP434</th>\n",
       "      <th>10CH4_SSP585</th>\n",
       "      <th>CNTR_SSP119</th>\n",
       "      <th>CNTR_SSP434</th>\n",
       "      <th>CNTR_SSP585</th>\n",
       "      <th>antro10_SSP119</th>\n",
       "      <th>antro10_SSP434</th>\n",
       "      <th>antro10_SSP585</th>\n",
       "    </tr>\n",
       "  </thead>\n",
       "  <tbody>\n",
       "    <tr>\n",
       "      <th>YR13</th>\n",
       "      <td>1,570</td>\n",
       "      <td>2,445</td>\n",
       "      <td>2,690</td>\n",
       "      <td>1,427</td>\n",
       "      <td>2,223</td>\n",
       "      <td>2,446</td>\n",
       "      <td>1,427</td>\n",
       "      <td>2,223</td>\n",
       "      <td>2,446</td>\n",
       "    </tr>\n",
       "    <tr>\n",
       "      <th>delta</th>\n",
       "      <td>143</td>\n",
       "      <td>222</td>\n",
       "      <td>245</td>\n",
       "      <td>0.00</td>\n",
       "      <td>0.00</td>\n",
       "      <td>0.00</td>\n",
       "      <td>0.00</td>\n",
       "      <td>0.00</td>\n",
       "      <td>0.00</td>\n",
       "    </tr>\n",
       "  </tbody>\n",
       "</table>\n",
       "</div>"
      ],
      "text/plain": [
       "       10CH4_SSP119  10CH4_SSP434  10CH4_SSP585  CNTR_SSP119  CNTR_SSP434  \\\n",
       "YR13          1,570         2,445         2,690        1,427        2,223   \n",
       "delta           143           222           245         0.00         0.00   \n",
       "\n",
       "       CNTR_SSP585  antro10_SSP119  antro10_SSP434  antro10_SSP585  \n",
       "YR13         2,446           1,427           2,223           2,446  \n",
       "delta         0.00            0.00            0.00            0.00  "
      ]
     },
     "execution_count": 185,
     "metadata": {},
     "output_type": "execute_result"
    }
   ],
   "source": [
    "df_ch4_surfconc_ssp"
   ]
  },
  {
   "cell_type": "code",
   "execution_count": 186,
   "metadata": {},
   "outputs": [
    {
     "data": {
      "text/plain": [
       "10CH4_SSP119        2.75\n",
       "10CH4_SSP434        2.75\n",
       "10CH4_SSP585        2.75\n",
       "CNTR_SSP119          NaN\n",
       "CNTR_SSP434          NaN\n",
       "CNTR_SSP585          NaN\n",
       "antro10_SSP119   189,221\n",
       "antro10_SSP434    33,766\n",
       "antro10_SSP585    34,326\n",
       "dtype: float64"
      ]
     },
     "execution_count": 186,
     "metadata": {},
     "output_type": "execute_result"
    }
   ],
   "source": [
    "df_ch4_burden_per_conc_ssp  = df_ch4_burden_ssp.loc['deltaCH4']/df_ch4_surfconc_ssp.loc['delta']\n",
    "df_ch4_burden_per_conc_ssp"
   ]
  },
  {
   "cell_type": "markdown",
   "metadata": {},
   "source": [
    "### Increase per unit flux w/o feedback = integrated decay [ppb yr/Tg]"
   ]
  },
  {
   "cell_type": "code",
   "execution_count": 187,
   "metadata": {},
   "outputs": [
    {
     "data": {
      "text/plain": [
       "np.float64(2.492397459152925)"
      ]
     },
     "execution_count": 187,
     "metadata": {},
     "output_type": "execute_result"
    }
   ],
   "source": [
    "df_w_o_feedback =df_ch4_tot_lifetime_conc.loc['CTRL']/df_ch4_burden_per_conc #Lifetime [yr] / [Tg/ppb] \n",
    "df_w_o_feedback_to_file = pd.DataFrame(data=[df_w_o_feedback],index=['OSLOCTM3'])\n",
    "df_w_o_feedback_to_file.to_csv(outputpath + 'increase_w_o_feedback.csv')\n",
    "df_w_o_feedback"
   ]
  },
  {
   "cell_type": "code",
   "execution_count": 188,
   "metadata": {},
   "outputs": [
    {
     "data": {
      "text/html": [
       "<div>\n",
       "<style scoped>\n",
       "    .dataframe tbody tr th:only-of-type {\n",
       "        vertical-align: middle;\n",
       "    }\n",
       "\n",
       "    .dataframe tbody tr th {\n",
       "        vertical-align: top;\n",
       "    }\n",
       "\n",
       "    .dataframe thead th {\n",
       "        text-align: right;\n",
       "    }\n",
       "</style>\n",
       "<table border=\"1\" class=\"dataframe\">\n",
       "  <thead>\n",
       "    <tr style=\"text-align: right;\">\n",
       "      <th></th>\n",
       "      <th>SSP119</th>\n",
       "      <th>SSP434</th>\n",
       "      <th>SSP585</th>\n",
       "    </tr>\n",
       "    <tr>\n",
       "      <th>Scenario</th>\n",
       "      <th></th>\n",
       "      <th></th>\n",
       "      <th></th>\n",
       "    </tr>\n",
       "  </thead>\n",
       "  <tbody>\n",
       "    <tr>\n",
       "      <th>YR13</th>\n",
       "      <td>2.66</td>\n",
       "      <td>2.91</td>\n",
       "      <td>2.77</td>\n",
       "    </tr>\n",
       "  </tbody>\n",
       "</table>\n",
       "</div>"
      ],
      "text/plain": [
       "          SSP119  SSP434  SSP585\n",
       "Scenario                        \n",
       "YR13        2.66    2.91    2.77"
      ]
     },
     "execution_count": 188,
     "metadata": {},
     "output_type": "execute_result"
    }
   ],
   "source": [
    "df_w_o_feedback_ssp =df_ch4_tot_lifetime_ssp/df_ch4_burden_per_conc_ssp #Lifetime [yr] / [Tg/ppb] \n",
    "df_w_o_feedback_ssp[['10CH4_SSP119','10CH4_SSP434','10CH4_SSP585']]\n",
    "\n",
    "df_w_o_feedback_to_file_ssp = pd.DataFrame(data=[df_w_o_feedback_ssp.iloc[0][['10CH4_SSP119','10CH4_SSP434','10CH4_SSP585']]],index=['OSLOCTM3'])\n",
    "df_w_o_feedback_to_file_ssp\n",
    "\n",
    "df_w_o_feedback_ssp = df_w_o_feedback_ssp[['10CH4_SSP119','10CH4_SSP434','10CH4_SSP585']]\n",
    "df_w_o_feedback_ssp.columns = ['SSP119','SSP434','SSP585']\n",
    "df_w_o_feedback_to_file_ssp.to_csv(outputpath + 'increase_w_o_feedback_ssp.csv')\n",
    "df_w_o_feedback_ssp"
   ]
  },
  {
   "cell_type": "markdown",
   "metadata": {},
   "source": [
    "### Feedback factor: increase CH4 with feedback/ increase CH4 without feedback"
   ]
  },
  {
   "cell_type": "code",
   "execution_count": 189,
   "metadata": {},
   "outputs": [
    {
     "data": {
      "text/plain": [
       "np.float64(1.4645748747885994)"
      ]
     },
     "execution_count": 189,
     "metadata": {},
     "output_type": "execute_result"
    }
   ],
   "source": [
    "df_feedback_factor_ch4 = df_surf_ch4_per_ch4_flux_conc/df_w_o_feedback\n",
    "\n",
    "df_feedback_to_file = pd.DataFrame(data=[df_feedback_factor_ch4],index=['CTRL'])\n",
    "\n",
    "df_feedback_factor_ch4"
   ]
  },
  {
   "cell_type": "code",
   "execution_count": 190,
   "metadata": {},
   "outputs": [
    {
     "data": {
      "text/plain": [
       "SSP119   1.52\n",
       "SSP434   1.71\n",
       "SSP585   1.67\n",
       "Name: surf_ch4_per_ch4_flux, dtype: object"
      ]
     },
     "execution_count": 190,
     "metadata": {},
     "output_type": "execute_result"
    }
   ],
   "source": [
    "df_feedback_factor_ch4_ssp = df_surf_ch4_per_ch4_flux_ssp/df_w_o_feedback\n",
    "df_feedback_to_file_ssp = pd.DataFrame(data=[df_feedback_factor_ch4_ssp],index=['CTRL'])\n",
    "df_feedback_factor_ch4_ssp\n"
   ]
  },
  {
   "cell_type": "code",
   "execution_count": 191,
   "metadata": {},
   "outputs": [
    {
     "data": {
      "text/plain": [
       "Index(['SSP119', 'SSP434', 'SSP585'], dtype='object')"
      ]
     },
     "execution_count": 191,
     "metadata": {},
     "output_type": "execute_result"
    }
   ],
   "source": [
    "df_feedback_factor_ch4_ssp.index"
   ]
  },
  {
   "cell_type": "code",
   "execution_count": 192,
   "metadata": {},
   "outputs": [
    {
     "data": {
      "text/html": [
       "<div>\n",
       "<style scoped>\n",
       "    .dataframe tbody tr th:only-of-type {\n",
       "        vertical-align: middle;\n",
       "    }\n",
       "\n",
       "    .dataframe tbody tr th {\n",
       "        vertical-align: top;\n",
       "    }\n",
       "\n",
       "    .dataframe thead th {\n",
       "        text-align: right;\n",
       "    }\n",
       "</style>\n",
       "<table border=\"1\" class=\"dataframe\">\n",
       "  <thead>\n",
       "    <tr style=\"text-align: right;\">\n",
       "      <th></th>\n",
       "      <th>antro1</th>\n",
       "      <th>H2_avi</th>\n",
       "      <th>SSP119</th>\n",
       "      <th>SSP434</th>\n",
       "      <th>SSP585</th>\n",
       "    </tr>\n",
       "  </thead>\n",
       "  <tbody>\n",
       "    <tr>\n",
       "      <th>OSLOCTM</th>\n",
       "      <td>1.46</td>\n",
       "      <td>1.46</td>\n",
       "      <td>1.52</td>\n",
       "      <td>1.71</td>\n",
       "      <td>1.67</td>\n",
       "    </tr>\n",
       "  </tbody>\n",
       "</table>\n",
       "</div>"
      ],
      "text/plain": [
       "         antro1  H2_avi  SSP119  SSP434  SSP585\n",
       "OSLOCTM    1.46    1.46    1.52    1.71    1.67"
      ]
     },
     "execution_count": 192,
     "metadata": {},
     "output_type": "execute_result"
    }
   ],
   "source": [
    "df_feedback_factor_ch4_comb =  pd.DataFrame(data=[],index=['OSLOCTM'],columns=df_h2_gwp.columns)\n",
    "df_feedback_factor_ch4_comb[['antro1','H2_avi']]=df_feedback_factor_ch4\n",
    "\n",
    "scen_list = ['SSP119', 'SSP434', 'SSP585']\n",
    "for scen in scen_list:\n",
    "    df_feedback_factor_ch4_comb[scen]=df_feedback_factor_ch4_ssp[scen]\n",
    "\n",
    "df_feedback_factor_ch4_comb.to_csv(outputpath + 'feedback_factor_ch4.csv')\n",
    "df_feedback_factor_ch4_comb"
   ]
  },
  {
   "cell_type": "markdown",
   "metadata": {},
   "source": [
    "Split the CH4 GWP into direct and indirect based on the feedback factor."
   ]
  },
  {
   "cell_type": "code",
   "execution_count": 193,
   "metadata": {},
   "outputs": [
    {
     "data": {
      "text/html": [
       "<div>\n",
       "<style scoped>\n",
       "    .dataframe tbody tr th:only-of-type {\n",
       "        vertical-align: middle;\n",
       "    }\n",
       "\n",
       "    .dataframe tbody tr th {\n",
       "        vertical-align: top;\n",
       "    }\n",
       "\n",
       "    .dataframe thead th {\n",
       "        text-align: right;\n",
       "    }\n",
       "</style>\n",
       "<table border=\"1\" class=\"dataframe\">\n",
       "  <thead>\n",
       "    <tr style=\"text-align: right;\">\n",
       "      <th></th>\n",
       "      <th>antro1</th>\n",
       "      <th>H2_avi</th>\n",
       "      <th>SSP119</th>\n",
       "      <th>SSP434</th>\n",
       "      <th>SSP585</th>\n",
       "    </tr>\n",
       "  </thead>\n",
       "  <tbody>\n",
       "    <tr>\n",
       "      <th>OSLOCTM</th>\n",
       "      <td>0.32</td>\n",
       "      <td>0.32</td>\n",
       "      <td>0.34</td>\n",
       "      <td>0.42</td>\n",
       "      <td>0.40</td>\n",
       "    </tr>\n",
       "  </tbody>\n",
       "</table>\n",
       "</div>"
      ],
      "text/plain": [
       "         antro1  H2_avi  SSP119  SSP434  SSP585\n",
       "OSLOCTM    0.32    0.32    0.34    0.42    0.40"
      ]
     },
     "execution_count": 193,
     "metadata": {},
     "output_type": "execute_result"
    }
   ],
   "source": [
    "df_feedback_frac = 1.0 - (1.0/df_feedback_factor_ch4_comb)\n",
    "df_feedback_frac"
   ]
  },
  {
   "cell_type": "code",
   "execution_count": 194,
   "metadata": {},
   "outputs": [
    {
     "data": {
      "text/html": [
       "<div>\n",
       "<style scoped>\n",
       "    .dataframe tbody tr th:only-of-type {\n",
       "        vertical-align: middle;\n",
       "    }\n",
       "\n",
       "    .dataframe tbody tr th {\n",
       "        vertical-align: top;\n",
       "    }\n",
       "\n",
       "    .dataframe thead th {\n",
       "        text-align: right;\n",
       "    }\n",
       "</style>\n",
       "<table border=\"1\" class=\"dataframe\">\n",
       "  <thead>\n",
       "    <tr style=\"text-align: right;\">\n",
       "      <th></th>\n",
       "      <th>antro1</th>\n",
       "      <th>H2_avi</th>\n",
       "      <th>SSP119</th>\n",
       "      <th>SSP434</th>\n",
       "      <th>SSP585</th>\n",
       "    </tr>\n",
       "  </thead>\n",
       "  <tbody>\n",
       "    <tr>\n",
       "      <th>O3</th>\n",
       "      <td>2.41</td>\n",
       "      <td>2.51</td>\n",
       "      <td>2.48</td>\n",
       "      <td>2.05</td>\n",
       "      <td>2.01</td>\n",
       "    </tr>\n",
       "    <tr>\n",
       "      <th>strat H2O</th>\n",
       "      <td>NaN</td>\n",
       "      <td>NaN</td>\n",
       "      <td>1.95</td>\n",
       "      <td>1.96</td>\n",
       "      <td>1.92</td>\n",
       "    </tr>\n",
       "    <tr>\n",
       "      <th>O3 CH4ind</th>\n",
       "      <td>2.82</td>\n",
       "      <td>2.98</td>\n",
       "      <td>2.94</td>\n",
       "      <td>2.79</td>\n",
       "      <td>3.03</td>\n",
       "    </tr>\n",
       "    <tr>\n",
       "      <th>strat H2O CH4ind</th>\n",
       "      <td>0.66</td>\n",
       "      <td>0.70</td>\n",
       "      <td>0.73</td>\n",
       "      <td>0.79</td>\n",
       "      <td>0.83</td>\n",
       "    </tr>\n",
       "    <tr>\n",
       "      <th>CH4dir</th>\n",
       "      <td>3.30</td>\n",
       "      <td>3.48</td>\n",
       "      <td>3.18</td>\n",
       "      <td>3.18</td>\n",
       "      <td>3.43</td>\n",
       "    </tr>\n",
       "    <tr>\n",
       "      <th>CH4indir</th>\n",
       "      <td>1.53</td>\n",
       "      <td>1.62</td>\n",
       "      <td>1.64</td>\n",
       "      <td>2.26</td>\n",
       "      <td>2.31</td>\n",
       "    </tr>\n",
       "  </tbody>\n",
       "</table>\n",
       "</div>"
      ],
      "text/plain": [
       "                  antro1  H2_avi  SSP119  SSP434  SSP585\n",
       "O3                  2.41    2.51    2.48    2.05    2.01\n",
       "strat H2O            NaN     NaN    1.95    1.96    1.92\n",
       "O3 CH4ind           2.82    2.98    2.94    2.79    3.03\n",
       "strat H2O CH4ind    0.66    0.70    0.73    0.79    0.83\n",
       "CH4dir              3.30    3.48    3.18    3.18    3.43\n",
       "CH4indir            1.53    1.62    1.64    2.26    2.31"
      ]
     },
     "execution_count": 194,
     "metadata": {},
     "output_type": "execute_result"
    }
   ],
   "source": [
    "#Save to file:\n",
    "df_h2_gwp.loc['CH4dir'] = df_h2_gwp.loc['CH4']*(1.0-df_feedback_frac.loc['OSLOCTM'])\n",
    "df_h2_gwp.loc['CH4indir'] = df_h2_gwp.loc['CH4']*df_feedback_frac.loc['OSLOCTM']\n",
    "\n",
    "df_h2_gwp = df_h2_gwp.drop(['total','CH4'])\n",
    "df_h2_gwp.to_csv(outputpath + 'table_h2_gwp.csv')\n",
    "\n",
    "df_h2_gwp"
   ]
  },
  {
   "cell_type": "code",
   "execution_count": 195,
   "metadata": {},
   "outputs": [
    {
     "data": {
      "text/plain": [
       "antro1   0.32\n",
       "H2_avi   0.32\n",
       "SSP119   0.34\n",
       "SSP434   0.42\n",
       "SSP585   0.40\n",
       "dtype: float64"
      ]
     },
     "execution_count": 195,
     "metadata": {},
     "output_type": "execute_result"
    }
   ],
   "source": [
    "df_h2_gwp.loc['CH4indir']/(df_h2_gwp.loc['CH4dir']+df_h2_gwp.loc['CH4indir'])"
   ]
  },
  {
   "cell_type": "code",
   "execution_count": 196,
   "metadata": {},
   "outputs": [
    {
     "data": {
      "text/plain": [
       "np.float64(1.4645748747885994)"
      ]
     },
     "execution_count": 196,
     "metadata": {},
     "output_type": "execute_result"
    }
   ],
   "source": [
    "df_feedback_factor_ch4"
   ]
  },
  {
   "cell_type": "code",
   "execution_count": 197,
   "metadata": {},
   "outputs": [
    {
     "data": {
      "text/plain": [
       "SSP119   1.52\n",
       "SSP434   1.71\n",
       "SSP585   1.67\n",
       "Name: surf_ch4_per_ch4_flux, dtype: object"
      ]
     },
     "execution_count": 197,
     "metadata": {},
     "output_type": "execute_result"
    }
   ],
   "source": [
    "df_feedback_factor_ch4_ssp"
   ]
  },
  {
   "cell_type": "markdown",
   "metadata": {},
   "source": [
    "## Hydrogen feedback factor:"
   ]
  },
  {
   "cell_type": "markdown",
   "metadata": {},
   "source": [
    "### Atmospheric mass conversion H2  [Tg/ppb] (from perturbations)"
   ]
  },
  {
   "cell_type": "code",
   "execution_count": 198,
   "metadata": {},
   "outputs": [
    {
     "data": {
      "text/plain": [
       "CNTR      NaN\n",
       "antro1   0.34\n",
       "H2_avi   0.35\n",
       "Name: h2_burden_per_conc, dtype: float64"
      ]
     },
     "execution_count": 198,
     "metadata": {},
     "output_type": "execute_result"
    }
   ],
   "source": [
    "df_h2_burden_per_conc  = df_h2_burden.loc['deltaH2']/df_h2_surfconc.loc['delta']\n",
    "df_h2_burden_per_conc.name = 'h2_burden_per_conc'\n",
    "df_h2_burden_per_conc"
   ]
  },
  {
   "cell_type": "code",
   "execution_count": 199,
   "metadata": {},
   "outputs": [
    {
     "data": {
      "text/plain": [
       "10CH4_SSP119     0.37\n",
       "10CH4_SSP434     0.38\n",
       "10CH4_SSP585     0.38\n",
       "CNTR_SSP119       NaN\n",
       "CNTR_SSP434       NaN\n",
       "CNTR_SSP585       NaN\n",
       "antro10_SSP119   0.35\n",
       "antro10_SSP434   0.35\n",
       "antro10_SSP585   0.35\n",
       "Name: h2_burden_per_conc, dtype: float64"
      ]
     },
     "execution_count": 199,
     "metadata": {},
     "output_type": "execute_result"
    }
   ],
   "source": [
    "df_h2_burden_per_conc_ssp  = df_h2_burden_ssp.loc['deltaH2']/df_h2_surfconc_ssp.loc['delta']\n",
    "df_h2_burden_per_conc_ssp.name = 'h2_burden_per_conc'\n",
    "df_h2_burden_per_conc_ssp"
   ]
  },
  {
   "cell_type": "markdown",
   "metadata": {},
   "source": [
    "### Increase per unit flux w/o feedback = integrated decay [ppb yr/Tg]"
   ]
  },
  {
   "cell_type": "code",
   "execution_count": 200,
   "metadata": {},
   "outputs": [
    {
     "data": {
      "text/plain": [
       "CNTR      NaN\n",
       "antro1   6.87\n",
       "H2_avi   6.66\n",
       "Name: h2_burden_per_conc, dtype: float64"
      ]
     },
     "execution_count": 200,
     "metadata": {},
     "output_type": "execute_result"
    }
   ],
   "source": [
    "df_w_o_feedback_h2 =df_h2_lifetime.loc['CNTR']/df_h2_burden_per_conc #Lifetime [yr] / [Tg/ppb] \n",
    "df_w_o_feedback_h2"
   ]
  },
  {
   "cell_type": "code",
   "execution_count": null,
   "metadata": {},
   "outputs": [],
   "source": [
    "\n"
   ]
  },
  {
   "cell_type": "code",
   "execution_count": 201,
   "metadata": {},
   "outputs": [
    {
     "data": {
      "text/plain": [
       "SSP119   6.78\n",
       "SSP434   7.02\n",
       "SSP585   6.92\n",
       "dtype: float64"
      ]
     },
     "execution_count": 201,
     "metadata": {},
     "output_type": "execute_result"
    }
   ],
   "source": [
    "df_w_o_feedback_h2_ssp =df_h2_lifetime_ssp/df_h2_burden_per_conc_ssp #Lifetime [yr] / [Tg/ppb] \n",
    "\n",
    "scen_dict = {'antro10_SSP119':'SSP119',\n",
    "             'antro10_SSP434':'SSP434',\n",
    "             'antro10_SSP585':'SSP585'}\n",
    "\n",
    "df_w_o_feedback_h2_ssp =df_w_o_feedback_h2_ssp[['antro10_SSP119','antro10_SSP434','antro10_SSP585']]\n",
    "\n",
    "df_w_o_feedback_h2_ssp.index = ['SSP119','SSP434','SSP585']\n",
    "\n",
    "\n",
    "df_w_o_feedback_h2_ssp"
   ]
  },
  {
   "cell_type": "markdown",
   "metadata": {},
   "source": [
    "### Feedback factor: increase H2 with feedback/ increase H2 without feedback"
   ]
  },
  {
   "cell_type": "markdown",
   "metadata": {},
   "source": [
    "If you take the control lifetime from the budget terms and divide it into the lifetime of the perturbation (the added burden from the 10% increase divided by the change in chemical flux from that perturbation.) You should get the feed back factor."
   ]
  },
  {
   "cell_type": "code",
   "execution_count": 202,
   "metadata": {},
   "outputs": [
    {
     "data": {
      "text/plain": [
       "CNTR      NaN\n",
       "antro1   0.91\n",
       "H2_avi   0.96\n",
       "Name: feedback_factor_h2, dtype: float64"
      ]
     },
     "execution_count": 202,
     "metadata": {},
     "output_type": "execute_result"
    }
   ],
   "source": [
    "df_feedback_factor_h2 = df_surf_h2_per_h2_flux/df_w_o_feedback_h2\n",
    "df_feedback_factor_h2.name = 'feedback_factor_h2'\n",
    "df_feedback_factor_h2"
   ]
  },
  {
   "cell_type": "code",
   "execution_count": 203,
   "metadata": {},
   "outputs": [
    {
     "data": {
      "text/plain": [
       "SSP119   6.36\n",
       "SSP434   6.53\n",
       "SSP585   6.42\n",
       "Name: surf_h2_per_h2_flux, dtype: float64"
      ]
     },
     "execution_count": 203,
     "metadata": {},
     "output_type": "execute_result"
    }
   ],
   "source": [
    "df_surf_h2_per_h2_flux_ssp_v2 = df_surf_h2_per_h2_flux_ssp[['antro10_SSP119','antro10_SSP434','antro10_SSP585']]\n",
    "df_surf_h2_per_h2_flux_ssp_v2.index = ['SSP119','SSP434','SSP585']\n",
    "df_surf_h2_per_h2_flux_ssp_v2"
   ]
  },
  {
   "cell_type": "code",
   "execution_count": 204,
   "metadata": {},
   "outputs": [
    {
     "data": {
      "text/plain": [
       "SSP119   0.94\n",
       "SSP434   0.93\n",
       "SSP585   0.93\n",
       "dtype: float64"
      ]
     },
     "execution_count": 204,
     "metadata": {},
     "output_type": "execute_result"
    }
   ],
   "source": [
    "df_feedback_factor_h2_ssp = df_surf_h2_per_h2_flux_ssp_v2/df_w_o_feedback_h2_ssp\n",
    "\n",
    "df_feedback_factor_h2_ssp"
   ]
  },
  {
   "cell_type": "code",
   "execution_count": 205,
   "metadata": {},
   "outputs": [
    {
     "data": {
      "text/html": [
       "<div>\n",
       "<style scoped>\n",
       "    .dataframe tbody tr th:only-of-type {\n",
       "        vertical-align: middle;\n",
       "    }\n",
       "\n",
       "    .dataframe tbody tr th {\n",
       "        vertical-align: top;\n",
       "    }\n",
       "\n",
       "    .dataframe thead th {\n",
       "        text-align: right;\n",
       "    }\n",
       "</style>\n",
       "<table border=\"1\" class=\"dataframe\">\n",
       "  <thead>\n",
       "    <tr style=\"text-align: right;\">\n",
       "      <th></th>\n",
       "      <th>antro1</th>\n",
       "      <th>H2_avi</th>\n",
       "      <th>SSP119</th>\n",
       "      <th>SSP434</th>\n",
       "      <th>SSP585</th>\n",
       "    </tr>\n",
       "  </thead>\n",
       "  <tbody>\n",
       "    <tr>\n",
       "      <th>OSLOCTM</th>\n",
       "      <td>0.91</td>\n",
       "      <td>0.96</td>\n",
       "      <td>NaN</td>\n",
       "      <td>NaN</td>\n",
       "      <td>NaN</td>\n",
       "    </tr>\n",
       "  </tbody>\n",
       "</table>\n",
       "</div>"
      ],
      "text/plain": [
       "         antro1  H2_avi SSP119 SSP434 SSP585\n",
       "OSLOCTM    0.91    0.96    NaN    NaN    NaN"
      ]
     },
     "execution_count": 205,
     "metadata": {},
     "output_type": "execute_result"
    }
   ],
   "source": [
    "df_feedback_factor_h2_comb =  pd.DataFrame(data=[],index=['OSLOCTM'],columns=df_h2_gwp.columns)\n",
    "for scen in df_feedback_factor_h2.drop('CNTR').index:\n",
    "    df_feedback_factor_h2_comb[scen] = df_feedback_factor_h2[scen]\n",
    "df_feedback_factor_h2_comb"
   ]
  },
  {
   "cell_type": "code",
   "execution_count": 206,
   "metadata": {},
   "outputs": [
    {
     "data": {
      "text/html": [
       "<div>\n",
       "<style scoped>\n",
       "    .dataframe tbody tr th:only-of-type {\n",
       "        vertical-align: middle;\n",
       "    }\n",
       "\n",
       "    .dataframe tbody tr th {\n",
       "        vertical-align: top;\n",
       "    }\n",
       "\n",
       "    .dataframe thead th {\n",
       "        text-align: right;\n",
       "    }\n",
       "</style>\n",
       "<table border=\"1\" class=\"dataframe\">\n",
       "  <thead>\n",
       "    <tr style=\"text-align: right;\">\n",
       "      <th></th>\n",
       "      <th>antro1</th>\n",
       "      <th>H2_avi</th>\n",
       "      <th>SSP119</th>\n",
       "      <th>SSP434</th>\n",
       "      <th>SSP585</th>\n",
       "    </tr>\n",
       "  </thead>\n",
       "  <tbody>\n",
       "    <tr>\n",
       "      <th>OSLOCTM</th>\n",
       "      <td>0.91</td>\n",
       "      <td>0.96</td>\n",
       "      <td>0.94</td>\n",
       "      <td>0.93</td>\n",
       "      <td>0.93</td>\n",
       "    </tr>\n",
       "  </tbody>\n",
       "</table>\n",
       "</div>"
      ],
      "text/plain": [
       "         antro1  H2_avi  SSP119  SSP434  SSP585\n",
       "OSLOCTM    0.91    0.96    0.94    0.93    0.93"
      ]
     },
     "execution_count": 206,
     "metadata": {},
     "output_type": "execute_result"
    }
   ],
   "source": [
    "scen_list = ['SSP119', 'SSP434', 'SSP585']\n",
    "for scen in scen_list:\n",
    "    df_feedback_factor_h2_comb[scen]=df_feedback_factor_h2_ssp[scen]\n",
    "\n",
    "df_feedback_factor_h2_comb.to_csv(outputpath + 'feedback_factor_h2.csv')\n",
    "df_feedback_factor_h2_comb"
   ]
  },
  {
   "cell_type": "markdown",
   "metadata": {},
   "source": [
    "### Change in lifetime per flux"
   ]
  },
  {
   "cell_type": "code",
   "execution_count": 207,
   "metadata": {},
   "outputs": [
    {
     "data": {
      "text/html": [
       "<div>\n",
       "<style scoped>\n",
       "    .dataframe tbody tr th:only-of-type {\n",
       "        vertical-align: middle;\n",
       "    }\n",
       "\n",
       "    .dataframe tbody tr th {\n",
       "        vertical-align: top;\n",
       "    }\n",
       "\n",
       "    .dataframe thead th {\n",
       "        text-align: right;\n",
       "    }\n",
       "</style>\n",
       "<table border=\"1\" class=\"dataframe\">\n",
       "  <thead>\n",
       "    <tr style=\"text-align: right;\">\n",
       "      <th></th>\n",
       "      <th>CNTR</th>\n",
       "      <th>antro1</th>\n",
       "      <th>H2_avi</th>\n",
       "    </tr>\n",
       "    <tr>\n",
       "      <th>Scenario</th>\n",
       "      <th></th>\n",
       "      <th></th>\n",
       "      <th></th>\n",
       "    </tr>\n",
       "  </thead>\n",
       "  <tbody>\n",
       "    <tr>\n",
       "      <th>YR4</th>\n",
       "      <td>7.39</td>\n",
       "      <td>7.40</td>\n",
       "      <td>7.40</td>\n",
       "    </tr>\n",
       "    <tr>\n",
       "      <th>deltaH2</th>\n",
       "      <td>0.00</td>\n",
       "      <td>0.00</td>\n",
       "      <td>0.00</td>\n",
       "    </tr>\n",
       "    <tr>\n",
       "      <th>deltaCH4</th>\n",
       "      <td>0.24</td>\n",
       "      <td>0.24</td>\n",
       "      <td>0.24</td>\n",
       "    </tr>\n",
       "  </tbody>\n",
       "</table>\n",
       "</div>"
      ],
      "text/plain": [
       "          CNTR  antro1  H2_avi\n",
       "Scenario                      \n",
       "YR4       7.39    7.40    7.40\n",
       "deltaH2   0.00    0.00    0.00\n",
       "deltaCH4  0.24    0.24    0.24"
      ]
     },
     "execution_count": 207,
     "metadata": {},
     "output_type": "execute_result"
    }
   ],
   "source": [
    "df_ch4_lifetime.loc['deltaH2'] = df_ch4_lifetime.iloc[0]-df_ch4_lifetime['CNTR'].iloc[0]\n",
    "df_ch4_lifetime.loc['deltaCH4'] = df_ch4_lifetime_conc.loc['10CH4']-df_ch4_lifetime_conc.loc['CTRL']\n",
    "df_ch4_lifetime"
   ]
  },
  {
   "cell_type": "code",
   "execution_count": 208,
   "metadata": {},
   "outputs": [
    {
     "data": {
      "text/plain": [
       "CNTR      NaN\n",
       "antro1   1.24\n",
       "H2_avi   1.31\n",
       "Name: deltaH2, dtype: float64"
      ]
     },
     "execution_count": 208,
     "metadata": {},
     "output_type": "execute_result"
    }
   ],
   "source": [
    "#Direct (changes in methane lifetime per h2 flux [days per Tg H2])\n",
    "df_ch4_lifetime_per_h2_flux =  df_ch4_lifetime.loc['deltaH2']/df_h2_flux['deltaH2']\n",
    "df_ch4_lifetime_per_h2_flux*365.0 #Days"
   ]
  },
  {
   "cell_type": "code",
   "execution_count": 209,
   "metadata": {},
   "outputs": [
    {
     "data": {
      "text/plain": [
       "CNTR      NaN\n",
       "antro1   0.54\n",
       "H2_avi   0.57\n",
       "dtype: float64"
      ]
     },
     "execution_count": 209,
     "metadata": {},
     "output_type": "execute_result"
    }
   ],
   "source": [
    "#Indirect (changes in methane lifetime per h2 flux [days per Tg H2] due to changes in methane):\n",
    "df_ch4_lifetime_per_ch4_flux =  df_ch4_lifetime.loc['deltaCH4']/df_ch4_flux.loc['deltaCH4']\n",
    "df_ch4_lifetime_per_ch4_flux*365.0*df_ch4_flux_per_h2_flux\n"
   ]
  },
  {
   "cell_type": "markdown",
   "metadata": {},
   "source": [
    "### Check that delta flux equal delta burden divided by lifetime including the feedback effect"
   ]
  },
  {
   "cell_type": "code",
   "execution_count": 210,
   "metadata": {},
   "outputs": [
    {
     "data": {
      "text/plain": [
       "CNTR      NaN\n",
       "antro1   0.91\n",
       "H2_avi   0.96\n",
       "Name: feedback_factor_h2, dtype: float64"
      ]
     },
     "execution_count": 210,
     "metadata": {},
     "output_type": "execute_result"
    }
   ],
   "source": [
    "df_feedback_factor_h2"
   ]
  },
  {
   "cell_type": "code",
   "execution_count": 211,
   "metadata": {},
   "outputs": [
    {
     "data": {
      "text/html": [
       "<div>\n",
       "<style scoped>\n",
       "    .dataframe tbody tr th:only-of-type {\n",
       "        vertical-align: middle;\n",
       "    }\n",
       "\n",
       "    .dataframe tbody tr th {\n",
       "        vertical-align: top;\n",
       "    }\n",
       "\n",
       "    .dataframe thead th {\n",
       "        text-align: right;\n",
       "    }\n",
       "</style>\n",
       "<table border=\"1\" class=\"dataframe\">\n",
       "  <thead>\n",
       "    <tr style=\"text-align: right;\">\n",
       "      <th></th>\n",
       "      <th>CNTR</th>\n",
       "      <th>antro1</th>\n",
       "      <th>H2_avi</th>\n",
       "    </tr>\n",
       "    <tr>\n",
       "      <th>Scenario</th>\n",
       "      <th></th>\n",
       "      <th></th>\n",
       "      <th></th>\n",
       "    </tr>\n",
       "  </thead>\n",
       "  <tbody>\n",
       "    <tr>\n",
       "      <th>YR4</th>\n",
       "      <td>205</td>\n",
       "      <td>207</td>\n",
       "      <td>206</td>\n",
       "    </tr>\n",
       "    <tr>\n",
       "      <th>deltaH2</th>\n",
       "      <td>0.00</td>\n",
       "      <td>2.02</td>\n",
       "      <td>1.61</td>\n",
       "    </tr>\n",
       "  </tbody>\n",
       "</table>\n",
       "</div>"
      ],
      "text/plain": [
       "          CNTR  antro1  H2_avi\n",
       "Scenario                      \n",
       "YR4        205     207     206\n",
       "deltaH2   0.00    2.02    1.61"
      ]
     },
     "execution_count": 211,
     "metadata": {},
     "output_type": "execute_result"
    }
   ],
   "source": [
    "df_h2_burden"
   ]
  },
  {
   "cell_type": "code",
   "execution_count": 212,
   "metadata": {
    "scrolled": true
   },
   "outputs": [
    {
     "data": {
      "text/plain": [
       "CNTR      NaN\n",
       "antro1   0.00\n",
       "H2_avi   0.00\n",
       "dtype: float64"
      ]
     },
     "execution_count": 212,
     "metadata": {},
     "output_type": "execute_result"
    }
   ],
   "source": [
    "#Delta burden divided by tau*ff\n",
    "test = df_h2_burden.loc['deltaH2']/(df_h2_lifetime.loc['CNTR']*df_feedback_factor_h2)\n",
    "#print(test)\n",
    "#print(df_h2_flux['deltaH2'])\n",
    "test - df_h2_flux['deltaH2']"
   ]
  },
  {
   "cell_type": "markdown",
   "metadata": {},
   "source": [
    "## Feedback factor summary"
   ]
  },
  {
   "cell_type": "markdown",
   "metadata": {},
   "source": [
    "The feedback factor calculation employed above is equivalent with a division between the perturbation lifetime and the total lifetime, where the perturbation lifetime is defined as the burden change diveded by the flux change in the perturbed simulation relative to the control simulation"
   ]
  },
  {
   "cell_type": "code",
   "execution_count": 213,
   "metadata": {},
   "outputs": [
    {
     "name": "stdout",
     "output_type": "stream",
     "text": [
      "1.4645748747885994\n"
     ]
    },
    {
     "data": {
      "text/plain": [
       "np.float64(1.4645748747885996)"
      ]
     },
     "execution_count": 213,
     "metadata": {},
     "output_type": "execute_result"
    }
   ],
   "source": [
    "print(df_feedback_factor_ch4)\n",
    "test_ff =  (df_ch4_burden_conc.loc['deltaCH4']/df_ch4_flux_conc.loc['deltaCH4'])/df_ch4_tot_lifetime_conc.loc['CTRL']\n",
    "\n",
    "test_ff"
   ]
  },
  {
   "cell_type": "code",
   "execution_count": 214,
   "metadata": {},
   "outputs": [
    {
     "data": {
      "text/plain": [
       "CNTR       NaN\n",
       "antro1   -0.00\n",
       "H2_avi    0.00\n",
       "dtype: float64"
      ]
     },
     "execution_count": 214,
     "metadata": {},
     "output_type": "execute_result"
    }
   ],
   "source": [
    "#print(df_feedback_factor_h2)\n",
    "test_ff =  (df_h2_burden.loc['deltaH2']/df_h2_flux['deltaH2'])/df_h2_lifetime.loc['CNTR']\n",
    "\n",
    "test_ff - df_feedback_factor_h2\n",
    "\n"
   ]
  },
  {
   "cell_type": "markdown",
   "metadata": {},
   "source": [
    "## Calculating values to be used for adding composition changes from the methan run"
   ]
  },
  {
   "cell_type": "markdown",
   "metadata": {},
   "source": [
    "How to combine composition changes in the methane run and the hydrogen run. Fraction calculated based on the 10 Tg yr-1 increase in anthropogenic H2 emissions"
   ]
  },
  {
   "cell_type": "code",
   "execution_count": 215,
   "metadata": {},
   "outputs": [
    {
     "data": {
      "text/plain": [
       "Flux H2 [Tg/yr]                          0.95\n",
       "Surf. conc. H2 per flux [ppb yr/Tg]      6.26\n",
       "Surf. conc. CH4 per flux [ppb yr/Tg]     1.12\n",
       "Flux CH4/Flux H2 [Tg CH4/Tg H2]          0.31\n",
       "CH4 RF per flux [mW m-2 yr/ Tg]          0.43\n",
       "ozone RF per flux [mW m-2 yr/ Tg]        0.22\n",
       "Strat. H2O RF per flux [mW m-2 yr/ Tg]    NaN\n",
       "Name: anthro1, dtype: float64"
      ]
     },
     "execution_count": 215,
     "metadata": {},
     "output_type": "execute_result"
    }
   ],
   "source": [
    "df_per_flux_h2.loc['anthro1']"
   ]
  },
  {
   "cell_type": "code",
   "execution_count": 216,
   "metadata": {},
   "outputs": [
    {
     "data": {
      "text/plain": [
       "Flux CH4 [Tg/yr]                        49.7\n",
       "Surf. conc. CH4 per flux [ppb yr/Tg]    3.65\n",
       "Flux H2/Flux CH4 [Tg H2/Tg CH4]         0.02\n",
       "ozone RF per flux [mW m-2 yr/ Tg]       0.82\n",
       "Strat H2O RF per flux [mW m-2 yr/ Tg]   0.19\n",
       "Name: anthro1, dtype: object"
      ]
     },
     "execution_count": 216,
     "metadata": {},
     "output_type": "execute_result"
    }
   ],
   "source": [
    "df_per_flux_ch4.loc['anthro1']"
   ]
  },
  {
   "cell_type": "markdown",
   "metadata": {},
   "source": [
    "This is based on the 10% increase in surface methane concentration"
   ]
  },
  {
   "cell_type": "markdown",
   "metadata": {},
   "source": [
    "Fraction of changes in atmospheric composition to be added to the changes in the pure hydrogen perturbation. To include methane induced changes."
   ]
  },
  {
   "cell_type": "markdown",
   "metadata": {},
   "source": [
    "  [Tg CH4/Tg H2]*[Tg H2/yr]/[Tg CH4/yr]"
   ]
  },
  {
   "cell_type": "code",
   "execution_count": 218,
   "metadata": {},
   "outputs": [
    {
     "data": {
      "text/plain": [
       "np.float64(0.005854534316334419)"
      ]
     },
     "execution_count": 218,
     "metadata": {},
     "output_type": "execute_result"
    }
   ],
   "source": [
    "frac = df_per_flux_h2['Flux CH4/Flux H2 [Tg CH4/Tg H2]'].loc['anthro1']*df_per_flux_h2['Flux H2 [Tg/yr]'].loc['anthro1']/df_per_flux_ch4['Flux CH4 [Tg/yr]'].loc['anthro1']\n",
    "frac"
   ]
  },
  {
   "cell_type": "code",
   "execution_count": null,
   "metadata": {},
   "outputs": [],
   "source": []
  },
  {
   "cell_type": "code",
   "execution_count": null,
   "metadata": {},
   "outputs": [],
   "source": []
  },
  {
   "cell_type": "code",
   "execution_count": null,
   "metadata": {},
   "outputs": [],
   "source": []
  }
 ],
 "metadata": {
  "kernelspec": {
   "display_name": "Python 3 (ipykernel)",
   "language": "python",
   "name": "python3"
  },
  "language_info": {
   "codemirror_mode": {
    "name": "ipython",
    "version": 3
   },
   "file_extension": ".py",
   "mimetype": "text/x-python",
   "name": "python",
   "nbconvert_exporter": "python",
   "pygments_lexer": "ipython3",
   "version": "3.12.3"
  }
 },
 "nbformat": 4,
 "nbformat_minor": 4
}
